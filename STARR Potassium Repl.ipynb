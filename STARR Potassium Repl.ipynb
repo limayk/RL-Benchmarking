{
 "cells": [
  {
   "cell_type": "code",
   "execution_count": 7,
   "id": "08963117-9d12-4a3d-bde1-787409986a32",
   "metadata": {},
   "outputs": [],
   "source": [
    "import pandas as pd\n",
    "from google.cloud import bigquery\n",
    "import os "
   ]
  },
  {
   "cell_type": "markdown",
   "id": "ec9361f8-7bde-4ba5-bccf-8d880826dadb",
   "metadata": {},
   "source": [
    "Authentication"
   ]
  },
  {
   "cell_type": "code",
   "execution_count": 8,
   "id": "b2220aa1-9a32-4863-9813-be30bb986d8c",
   "metadata": {},
   "outputs": [],
   "source": [
    "user_id = 'limayk'\n",
    "training_gcp_project = 'soe-nero-phi-barbarae-llmc' #Your own Nero GCP project where you have access\n",
    "source_project_id = 'som-rit-phi-starr-prod' #The project where the data is stored\n",
    "dataset_id = 'starr_omop_cdm5_confidential_1pcent_latest' #The dataset in the source project"
   ]
  },
  {
   "cell_type": "code",
   "execution_count": 9,
   "id": "f9c142d8-368e-4fea-baa9-340eac7f6948",
   "metadata": {},
   "outputs": [
    {
     "name": "stdout",
     "output_type": "stream",
     "text": [
      "Authenticated Project: soe-nero-phi-barbarae-llmc\n"
     ]
    }
   ],
   "source": [
    "#set credentials\n",
    "os.environ['GOOGLE_APPLICATION_CREDENTIALS'] = f'/Users/kalyanilimaye/.config/gcloud/application_default_credentials.json' \n",
    "\n",
    "#set project\n",
    "os.environ['GCLOUD_PROJECT'] = training_gcp_project #Set the active project (your own Nero project)\n",
    "\n",
    "#set client\n",
    "client = bigquery.Client(project=training_gcp_project) #Initialize BigQuery Client (in your own Nero project)\n",
    "\n",
    "#verify\n",
    "print(\"Authenticated Project:\", client.project) #Verify authentication"
   ]
  },
  {
   "cell_type": "code",
   "execution_count": 10,
   "id": "a05996b0-a73c-49bb-84cc-2af9281d669c",
   "metadata": {},
   "outputs": [],
   "source": [
    "import random\n",
    "import torch\n",
    "import numpy as np\n",
    "\n",
    "def set_seed(seed=42):\n",
    "    random.seed(seed)\n",
    "    np.random.seed(seed)\n",
    "    torch.manual_seed(seed)\n",
    "    if torch.cuda.is_available():\n",
    "        torch.cuda.manual_seed(seed)\n",
    "        torch.cuda.manual_seed_all(seed)\n",
    "    torch.backends.cudnn.deterministic = True\n",
    "    torch.backends.cudnn.benchmark = False\n",
    "\n",
    "set_seed(42)  # Call before training"
   ]
  },
  {
   "cell_type": "markdown",
   "id": "00815201-99ba-48a1-8217-ecfe2a8ad104",
   "metadata": {},
   "source": [
    "## Meds"
   ]
  },
  {
   "cell_type": "code",
   "execution_count": 11,
   "id": "859fc44e-d40f-47ed-a638-9e45030e5aec",
   "metadata": {},
   "outputs": [
    {
     "data": {
      "text/html": [
       "<div>\n",
       "<style scoped>\n",
       "    .dataframe tbody tr th:only-of-type {\n",
       "        vertical-align: middle;\n",
       "    }\n",
       "\n",
       "    .dataframe tbody tr th {\n",
       "        vertical-align: top;\n",
       "    }\n",
       "\n",
       "    .dataframe thead th {\n",
       "        text-align: right;\n",
       "    }\n",
       "</style>\n",
       "<table border=\"1\" class=\"dataframe\">\n",
       "  <thead>\n",
       "    <tr style=\"text-align: right;\">\n",
       "      <th></th>\n",
       "      <th>concept_id</th>\n",
       "      <th>concept_name</th>\n",
       "    </tr>\n",
       "  </thead>\n",
       "  <tbody>\n",
       "    <tr>\n",
       "      <th>0</th>\n",
       "      <td>1718735</td>\n",
       "      <td>100 ML potassium chloride 0.2 MEQ/ML Injection</td>\n",
       "    </tr>\n",
       "    <tr>\n",
       "      <th>1</th>\n",
       "      <td>1718737</td>\n",
       "      <td>50 ML potassium chloride 0.2 MEQ/ML Injection</td>\n",
       "    </tr>\n",
       "    <tr>\n",
       "      <th>2</th>\n",
       "      <td>1718750</td>\n",
       "      <td>100 ML potassium chloride 0.4 MEQ/ML Injection</td>\n",
       "    </tr>\n",
       "    <tr>\n",
       "      <th>3</th>\n",
       "      <td>1718752</td>\n",
       "      <td>50 ML potassium chloride 0.4 MEQ/ML Injection</td>\n",
       "    </tr>\n",
       "    <tr>\n",
       "      <th>4</th>\n",
       "      <td>19079322</td>\n",
       "      <td>100 ML potassium chloride 0.1 MEQ/ML Injection</td>\n",
       "    </tr>\n",
       "  </tbody>\n",
       "</table>\n",
       "</div>"
      ],
      "text/plain": [
       "   concept_id                                    concept_name\n",
       "0     1718735  100 ML potassium chloride 0.2 MEQ/ML Injection\n",
       "1     1718737   50 ML potassium chloride 0.2 MEQ/ML Injection\n",
       "2     1718750  100 ML potassium chloride 0.4 MEQ/ML Injection\n",
       "3     1718752   50 ML potassium chloride 0.4 MEQ/ML Injection\n",
       "4    19079322  100 ML potassium chloride 0.1 MEQ/ML Injection"
      ]
     },
     "metadata": {},
     "output_type": "display_data"
    }
   ],
   "source": [
    "meds_omop = [1718735, 1718737, 1718750, 1718752, 19079322] \n",
    "\n",
    "mapping_query = f\"\"\"\n",
    "SELECT\n",
    "  concept_id,\n",
    "  concept_name\n",
    "FROM\n",
    "  `som-rit-phi-starr-prod.starr_omop_cdm5_confidential_1pcent_latest.concept`\n",
    "WHERE\n",
    "  concept_id IN ({','.join(map(str, meds_omop))})\n",
    "ORDER BY\n",
    "  concept_id\n",
    "\"\"\"\n",
    "df_mapping = client.query(mapping_query).to_dataframe()\n",
    "display(df_mapping)"
   ]
  },
  {
   "cell_type": "code",
   "execution_count": 12,
   "id": "76f56892-c469-43d6-bc10-4b743205e4bb",
   "metadata": {},
   "outputs": [
    {
     "name": "stdout",
     "output_type": "stream",
     "text": [
      "Number of subjects with potassium meds: 758\n"
     ]
    },
    {
     "data": {
      "text/html": [
       "<div>\n",
       "<style scoped>\n",
       "    .dataframe tbody tr th:only-of-type {\n",
       "        vertical-align: middle;\n",
       "    }\n",
       "\n",
       "    .dataframe tbody tr th {\n",
       "        vertical-align: top;\n",
       "    }\n",
       "\n",
       "    .dataframe thead th {\n",
       "        text-align: right;\n",
       "    }\n",
       "</style>\n",
       "<table border=\"1\" class=\"dataframe\">\n",
       "  <thead>\n",
       "    <tr style=\"text-align: right;\">\n",
       "      <th></th>\n",
       "      <th>drug_exposure_id</th>\n",
       "      <th>person_id</th>\n",
       "      <th>drug_concept_id</th>\n",
       "      <th>drug_exposure_start_DATE</th>\n",
       "      <th>drug_exposure_start_DATETIME</th>\n",
       "      <th>drug_exposure_end_DATE</th>\n",
       "      <th>drug_exposure_end_DATETIME</th>\n",
       "      <th>verbatim_end_DATE</th>\n",
       "      <th>drug_type_concept_id</th>\n",
       "      <th>stop_reason</th>\n",
       "      <th>...</th>\n",
       "      <th>provider_id</th>\n",
       "      <th>visit_occurrence_id</th>\n",
       "      <th>visit_detail_id</th>\n",
       "      <th>drug_source_value</th>\n",
       "      <th>drug_source_concept_id</th>\n",
       "      <th>route_source_value</th>\n",
       "      <th>dose_unit_source_value</th>\n",
       "      <th>trace_id</th>\n",
       "      <th>unit_id</th>\n",
       "      <th>load_table_id</th>\n",
       "    </tr>\n",
       "  </thead>\n",
       "  <tbody>\n",
       "    <tr>\n",
       "      <th>0</th>\n",
       "      <td>30827288</td>\n",
       "      <td>43707146</td>\n",
       "      <td>19079322</td>\n",
       "      <td>2020-07-28</td>\n",
       "      <td>2020-07-28 06:43:00</td>\n",
       "      <td>2020-07-28</td>\n",
       "      <td>2020-07-28 06:43:00</td>\n",
       "      <td>2020-07-28</td>\n",
       "      <td>32818</td>\n",
       "      <td>None</td>\n",
       "      <td>...</td>\n",
       "      <td>1103708</td>\n",
       "      <td>223835139</td>\n",
       "      <td>&lt;NA&gt;</td>\n",
       "      <td>312507</td>\n",
       "      <td>19079322</td>\n",
       "      <td>IV</td>\n",
       "      <td>mEq</td>\n",
       "      <td>None</td>\n",
       "      <td>drug.rule.1.lpch_mar_admin_info_non_IV</td>\n",
       "      <td>lpch_mar_admin_info</td>\n",
       "    </tr>\n",
       "    <tr>\n",
       "      <th>1</th>\n",
       "      <td>21156453</td>\n",
       "      <td>120075364</td>\n",
       "      <td>1718752</td>\n",
       "      <td>2024-03-30</td>\n",
       "      <td>2024-03-30 01:30:00</td>\n",
       "      <td>2024-03-30</td>\n",
       "      <td>2024-03-30 01:34:00</td>\n",
       "      <td>2024-03-30</td>\n",
       "      <td>32818</td>\n",
       "      <td>Patient Discharge</td>\n",
       "      <td>...</td>\n",
       "      <td>1022911</td>\n",
       "      <td>239344995</td>\n",
       "      <td>&lt;NA&gt;</td>\n",
       "      <td>1860466</td>\n",
       "      <td>1718752</td>\n",
       "      <td>Intravenous</td>\n",
       "      <td>mL</td>\n",
       "      <td>None</td>\n",
       "      <td>drug.rule.1.shc_mar_admin_info_IV</td>\n",
       "      <td>shc_mar_admin_info</td>\n",
       "    </tr>\n",
       "  </tbody>\n",
       "</table>\n",
       "<p>2 rows × 26 columns</p>\n",
       "</div>"
      ],
      "text/plain": [
       "   drug_exposure_id  person_id  drug_concept_id drug_exposure_start_DATE  \\\n",
       "0          30827288   43707146         19079322               2020-07-28   \n",
       "1          21156453  120075364          1718752               2024-03-30   \n",
       "\n",
       "  drug_exposure_start_DATETIME drug_exposure_end_DATE  \\\n",
       "0          2020-07-28 06:43:00             2020-07-28   \n",
       "1          2024-03-30 01:30:00             2024-03-30   \n",
       "\n",
       "  drug_exposure_end_DATETIME verbatim_end_DATE  drug_type_concept_id  \\\n",
       "0        2020-07-28 06:43:00        2020-07-28                 32818   \n",
       "1        2024-03-30 01:34:00        2024-03-30                 32818   \n",
       "\n",
       "         stop_reason  ...  provider_id  visit_occurrence_id  visit_detail_id  \\\n",
       "0               None  ...      1103708            223835139             <NA>   \n",
       "1  Patient Discharge  ...      1022911            239344995             <NA>   \n",
       "\n",
       "  drug_source_value  drug_source_concept_id route_source_value  \\\n",
       "0            312507                19079322                 IV   \n",
       "1           1860466                 1718752        Intravenous   \n",
       "\n",
       "   dose_unit_source_value  trace_id                                 unit_id  \\\n",
       "0                     mEq      None  drug.rule.1.lpch_mar_admin_info_non_IV   \n",
       "1                      mL      None       drug.rule.1.shc_mar_admin_info_IV   \n",
       "\n",
       "         load_table_id  \n",
       "0  lpch_mar_admin_info  \n",
       "1   shc_mar_admin_info  \n",
       "\n",
       "[2 rows x 26 columns]"
      ]
     },
     "metadata": {},
     "output_type": "display_data"
    }
   ],
   "source": [
    "query_meds = f\"\"\"\n",
    "SELECT *\n",
    "FROM\n",
    "  `som-rit-phi-starr-prod.starr_omop_cdm5_confidential_1pcent_latest.drug_exposure`\n",
    "WHERE\n",
    "  drug_concept_id IN ({','.join(map(str, meds_omop))})\n",
    "\"\"\"\n",
    "df_meds = client.query(query_meds).to_dataframe()\n",
    "subject_ids = df_meds['person_id'].unique().tolist()\n",
    "print(f\"Number of subjects with potassium meds: {len(subject_ids)}\")\n",
    "display(df_meds.head(2))"
   ]
  },
  {
   "cell_type": "code",
   "execution_count": 13,
   "id": "d26a627f-332f-499c-b6cd-5c67f0caca17",
   "metadata": {},
   "outputs": [],
   "source": [
    "#Hardcode mapping of concept_id to dose_bucket (mEq per full container)\n",
    "dose_mapping = {\n",
    "    1718735: 20,   # 100 mL × 0.2 mEq/mL = 20 mEq\n",
    "    1718737: 10,   # 50 mL × 0.2 mEq/mL = 10 mEq\n",
    "    1718750: 40,   # 100 mL × 0.4 mEq/mL = 40 mEq\n",
    "    1718752: 20,   # 50 mL × 0.4 mEq/mL = 20 mEq\n",
    "    19079322: 10   # 100 mL × 0.1 mEq/mL = 10 mEq\n",
    "}\n",
    "\n",
    "meds_admin = df_meds.copy()\n",
    "#Add the dose_bucket column -> similar to MIMIC\n",
    "meds_admin['dose_bucket'] = df_meds['drug_concept_id'].map(dose_mapping)\n"
   ]
  },
  {
   "cell_type": "code",
   "execution_count": 14,
   "id": "fabaeeeb-c201-4ce0-a51e-a502dfb49c26",
   "metadata": {},
   "outputs": [
    {
     "data": {
      "text/html": [
       "<div>\n",
       "<style scoped>\n",
       "    .dataframe tbody tr th:only-of-type {\n",
       "        vertical-align: middle;\n",
       "    }\n",
       "\n",
       "    .dataframe tbody tr th {\n",
       "        vertical-align: top;\n",
       "    }\n",
       "\n",
       "    .dataframe thead th {\n",
       "        text-align: right;\n",
       "    }\n",
       "</style>\n",
       "<table border=\"1\" class=\"dataframe\">\n",
       "  <thead>\n",
       "    <tr style=\"text-align: right;\">\n",
       "      <th></th>\n",
       "      <th>drug_exposure_id</th>\n",
       "      <th>person_id</th>\n",
       "      <th>drug_concept_id</th>\n",
       "      <th>drug_exposure_start_DATE</th>\n",
       "      <th>drug_exposure_start_DATETIME</th>\n",
       "      <th>drug_exposure_end_DATE</th>\n",
       "      <th>drug_exposure_end_DATETIME</th>\n",
       "      <th>verbatim_end_DATE</th>\n",
       "      <th>drug_type_concept_id</th>\n",
       "      <th>stop_reason</th>\n",
       "      <th>...</th>\n",
       "      <th>visit_occurrence_id</th>\n",
       "      <th>visit_detail_id</th>\n",
       "      <th>drug_source_value</th>\n",
       "      <th>drug_source_concept_id</th>\n",
       "      <th>route_source_value</th>\n",
       "      <th>dose_unit_source_value</th>\n",
       "      <th>trace_id</th>\n",
       "      <th>unit_id</th>\n",
       "      <th>load_table_id</th>\n",
       "      <th>dose_bucket</th>\n",
       "    </tr>\n",
       "  </thead>\n",
       "  <tbody>\n",
       "    <tr>\n",
       "      <th>0</th>\n",
       "      <td>30827288</td>\n",
       "      <td>43707146</td>\n",
       "      <td>19079322</td>\n",
       "      <td>2020-07-28</td>\n",
       "      <td>2020-07-28 06:43:00</td>\n",
       "      <td>2020-07-28</td>\n",
       "      <td>2020-07-28 06:43:00</td>\n",
       "      <td>2020-07-28</td>\n",
       "      <td>32818</td>\n",
       "      <td>None</td>\n",
       "      <td>...</td>\n",
       "      <td>223835139</td>\n",
       "      <td>&lt;NA&gt;</td>\n",
       "      <td>312507</td>\n",
       "      <td>19079322</td>\n",
       "      <td>IV</td>\n",
       "      <td>mEq</td>\n",
       "      <td>None</td>\n",
       "      <td>drug.rule.1.lpch_mar_admin_info_non_IV</td>\n",
       "      <td>lpch_mar_admin_info</td>\n",
       "      <td>10</td>\n",
       "    </tr>\n",
       "    <tr>\n",
       "      <th>1</th>\n",
       "      <td>21156453</td>\n",
       "      <td>120075364</td>\n",
       "      <td>1718752</td>\n",
       "      <td>2024-03-30</td>\n",
       "      <td>2024-03-30 01:30:00</td>\n",
       "      <td>2024-03-30</td>\n",
       "      <td>2024-03-30 01:34:00</td>\n",
       "      <td>2024-03-30</td>\n",
       "      <td>32818</td>\n",
       "      <td>Patient Discharge</td>\n",
       "      <td>...</td>\n",
       "      <td>239344995</td>\n",
       "      <td>&lt;NA&gt;</td>\n",
       "      <td>1860466</td>\n",
       "      <td>1718752</td>\n",
       "      <td>Intravenous</td>\n",
       "      <td>mL</td>\n",
       "      <td>None</td>\n",
       "      <td>drug.rule.1.shc_mar_admin_info_IV</td>\n",
       "      <td>shc_mar_admin_info</td>\n",
       "      <td>20</td>\n",
       "    </tr>\n",
       "  </tbody>\n",
       "</table>\n",
       "<p>2 rows × 27 columns</p>\n",
       "</div>"
      ],
      "text/plain": [
       "   drug_exposure_id  person_id  drug_concept_id drug_exposure_start_DATE  \\\n",
       "0          30827288   43707146         19079322               2020-07-28   \n",
       "1          21156453  120075364          1718752               2024-03-30   \n",
       "\n",
       "  drug_exposure_start_DATETIME drug_exposure_end_DATE  \\\n",
       "0          2020-07-28 06:43:00             2020-07-28   \n",
       "1          2024-03-30 01:30:00             2024-03-30   \n",
       "\n",
       "  drug_exposure_end_DATETIME verbatim_end_DATE  drug_type_concept_id  \\\n",
       "0        2020-07-28 06:43:00        2020-07-28                 32818   \n",
       "1        2024-03-30 01:34:00        2024-03-30                 32818   \n",
       "\n",
       "         stop_reason  ...  visit_occurrence_id  visit_detail_id  \\\n",
       "0               None  ...            223835139             <NA>   \n",
       "1  Patient Discharge  ...            239344995             <NA>   \n",
       "\n",
       "   drug_source_value drug_source_concept_id  route_source_value  \\\n",
       "0             312507               19079322                  IV   \n",
       "1            1860466                1718752         Intravenous   \n",
       "\n",
       "  dose_unit_source_value  trace_id                                 unit_id  \\\n",
       "0                    mEq      None  drug.rule.1.lpch_mar_admin_info_non_IV   \n",
       "1                     mL      None       drug.rule.1.shc_mar_admin_info_IV   \n",
       "\n",
       "         load_table_id dose_bucket  \n",
       "0  lpch_mar_admin_info          10  \n",
       "1   shc_mar_admin_info          20  \n",
       "\n",
       "[2 rows x 27 columns]"
      ]
     },
     "execution_count": 14,
     "metadata": {},
     "output_type": "execute_result"
    }
   ],
   "source": [
    "meds_admin.head(2)"
   ]
  },
  {
   "cell_type": "markdown",
   "id": "5eb8ace2-b36a-46f4-9906-965b649ee2e1",
   "metadata": {},
   "source": [
    "## Labs\n",
    "Final list here is subjects who received a potassium-related medication AND have a atleast one potassium lab measurement"
   ]
  },
  {
   "cell_type": "code",
   "execution_count": 15,
   "id": "51a00948-783c-4e16-b56f-857931ebe389",
   "metadata": {},
   "outputs": [],
   "source": [
    "labs_omop = [3023103, 3005456] #mmol -> consistent measurement"
   ]
  },
  {
   "cell_type": "markdown",
   "id": "a2c5d97b-ed9d-4577-9b5a-272188ee88e6",
   "metadata": {},
   "source": [
    "every measurement (lab) for those patients receiving KCl and have atleast one of the labs above"
   ]
  },
  {
   "cell_type": "code",
   "execution_count": 16,
   "id": "c5ef1c88-e220-429d-b1bf-6fbd775303ae",
   "metadata": {},
   "outputs": [
    {
     "name": "stdout",
     "output_type": "stream",
     "text": [
      "Retrieved 9927194 measurement records for subjects meeting both criteria.\n"
     ]
    }
   ],
   "source": [
    "#we do all this directly in BQ bc its way quicker\n",
    "query_labs = f\"\"\"\n",
    "WITH meds AS (\n",
    "  SELECT DISTINCT person_id\n",
    "  FROM `som-rit-phi-starr-prod.starr_omop_cdm5_confidential_1pcent_latest.drug_exposure`\n",
    "  WHERE person_id IN ({','.join(map(str, subject_ids))})\n",
    "),\n",
    "labs AS (\n",
    "  SELECT DISTINCT person_id\n",
    "  FROM `som-rit-phi-starr-prod.starr_omop_cdm5_confidential_1pcent_latest.measurement`\n",
    "  WHERE measurement_concept_id IN ({','.join(map(str, labs_omop))})\n",
    "),\n",
    "subjects AS (\n",
    "  SELECT person_id FROM meds\n",
    "  INTERSECT DISTINCT\n",
    "  SELECT person_id FROM labs\n",
    ")\n",
    "SELECT *\n",
    "FROM\n",
    "  `som-rit-phi-starr-prod.starr_omop_cdm5_confidential_1pcent_latest.measurement`\n",
    "WHERE\n",
    "  person_id IN (SELECT person_id FROM subjects)\n",
    "\"\"\"\n",
    "all_labs = client.query(query_labs).to_dataframe()\n",
    "print(\"Retrieved\", len(all_labs), \"measurement records for subjects meeting both criteria.\")\n"
   ]
  },
  {
   "cell_type": "markdown",
   "id": "96007f58-6694-4e3c-8d8e-1d8a6255d9fb",
   "metadata": {},
   "source": [
    "only KCl labs for those subjects"
   ]
  },
  {
   "cell_type": "code",
   "execution_count": 17,
   "id": "f678abf1-8c11-4cc1-a14c-c288d496fcf9",
   "metadata": {},
   "outputs": [
    {
     "data": {
      "text/plain": [
       "55845"
      ]
     },
     "execution_count": 17,
     "metadata": {},
     "output_type": "execute_result"
    }
   ],
   "source": [
    "df_potassium_lab = all_labs[\n",
    "    all_labs['measurement_concept_id'].isin(labs_omop)\n",
    "]\n",
    "len(df_potassium_lab)"
   ]
  },
  {
   "cell_type": "markdown",
   "id": "c7c0fee0-89cc-4b2e-adc0-0345ee9995a1",
   "metadata": {},
   "source": [
    "Some notes:\n",
    "- 99th percentile is 7.5, so remove everything above that to filter outliers\n",
    "- some rows are in mmol/L and some are in meq/L but since Potassium is a monovalent ion (valence = +1), 1 mmol of K⁺ carries exactly 1 mEq of charge so they're equivalent"
   ]
  },
  {
   "cell_type": "code",
   "execution_count": 18,
   "id": "c71089e5-1940-4e96-8c57-14582f18296d",
   "metadata": {},
   "outputs": [],
   "source": [
    "labs_taken = df_potassium_lab[df_potassium_lab['value_as_number'] <= 7.5]"
   ]
  },
  {
   "cell_type": "code",
   "execution_count": 19,
   "id": "8975ecf2-8790-42b2-b37f-68150f1e4be7",
   "metadata": {},
   "outputs": [
    {
     "name": "stdout",
     "output_type": "stream",
     "text": [
      "Number of subjects with at least one potassium lab measurement: 758\n"
     ]
    }
   ],
   "source": [
    "subject_ids = labs_taken['person_id'].unique().tolist()\n",
    "print(\"Number of subjects with at least one potassium lab measurement:\", len(subject_ids))"
   ]
  },
  {
   "cell_type": "code",
   "execution_count": 20,
   "id": "75739d34-2f43-47cc-96f3-ece77dda18c7",
   "metadata": {},
   "outputs": [
    {
     "data": {
      "image/png": "[encoded data removed]",
      "text/plain": [
       "<Figure size 600x400 with 1 Axes>"
      ]
     },
     "metadata": {},
     "output_type": "display_data"
    },
    {
     "data": {
      "image/png": "[encoded data removed]",
      "text/plain": [
       "<Figure size 600x400 with 1 Axes>"
      ]
     },
     "metadata": {},
     "output_type": "display_data"
    },
    {
     "data": {
      "image/png": "[encoded data removed]",
      "text/plain": [
       "<Figure size 600x400 with 1 Axes>"
      ]
     },
     "metadata": {},
     "output_type": "display_data"
    }
   ],
   "source": [
    "import matplotlib.pyplot as plt\n",
    "\n",
    "# 1) Medication dose buckets histogram\n",
    "counts = meds_admin['dose_bucket'].dropna().value_counts().sort_index()\n",
    "plt.figure(figsize=(6,4))\n",
    "plt.bar(counts.index.astype(str), counts.values, width=0.6)\n",
    "plt.xlabel(\"Dose bucket (mEq)\")\n",
    "plt.ylabel(\"Number of administrations\")\n",
    "plt.title(\"Counts per Potassium Dose Bucket\")\n",
    "plt.tight_layout()\n",
    "plt.show()\n",
    "\n",
    "# 2) Potassium lab value histograms by concept\n",
    "for mcid in labs_taken['measurement_concept_id'].unique():\n",
    "    subset = labs_taken.loc[\n",
    "        labs_taken['measurement_concept_id'] == mcid, \n",
    "        'value_as_number'\n",
    "    ].dropna()\n",
    "    plt.figure(figsize=(6,4))\n",
    "    subset.hist(bins=50)\n",
    "    plt.title(f'Lab values – measurement_concept_id {mcid}')\n",
    "    plt.xlabel('Potassium concentration (mmol/L or mEq/L)')\n",
    "    plt.ylabel('Number of administrations')\n",
    "    plt.tight_layout()\n",
    "    plt.show()"
   ]
  },
  {
   "cell_type": "code",
   "execution_count": 21,
   "id": "2c6883a4-2558-44fe-aa67-822378e4098a",
   "metadata": {},
   "outputs": [
    {
     "data": {
      "text/plain": [
       "dose_bucket\n",
       "20    7415\n",
       "10    6910\n",
       "40       5\n",
       "Name: count, dtype: int64"
      ]
     },
     "execution_count": 21,
     "metadata": {},
     "output_type": "execute_result"
    }
   ],
   "source": [
    "check_counts = meds_admin['dose_bucket'].dropna().value_counts()\n",
    "check_counts"
   ]
  },
  {
   "cell_type": "markdown",
   "id": "86363425-8f04-445f-90a8-128fb7816f0e",
   "metadata": {},
   "source": [
    "## Visits"
   ]
  },
  {
   "cell_type": "code",
   "execution_count": 22,
   "id": "f7bbf5c3-8719-4c69-98a6-758e27d3a7c2",
   "metadata": {},
   "outputs": [],
   "source": [
    "#Load visit_occurrence for those subjects\n",
    "query_vo = f\"\"\"\n",
    "SELECT\n",
    "  visit_occurrence_id,\n",
    "  person_id,\n",
    "  visit_concept_id,\n",
    "  visit_start_datetime,\n",
    "  visit_end_datetime\n",
    "FROM\n",
    "  `som-rit-phi-starr-prod.starr_omop_cdm5_confidential_1pcent_latest.visit_occurrence`\n",
    "WHERE\n",
    "  person_id IN ({','.join(map(str, subject_ids))})\n",
    "\"\"\"\n",
    "visit_occurrence_df = client.query(query_vo).to_dataframe()\n",
    "\n",
    "# 3) Filter to only inpatient visits (visit_concept_id = 9201)\n",
    "# inpatient_subjects = (\n",
    "#     visit_occurrence_df[visit_occurrence_df['visit_concept_id'] == 9201]\n",
    "#     ['person_id']\n",
    "#     .unique()\n",
    "#     .tolist()\n",
    "# )\n",
    "\n",
    "# print(f\"{len(inpatient_subjects)} subjects had at least one inpatient visit\")\n",
    "# subject_ids = inpatient_subjects"
   ]
  },
  {
   "cell_type": "markdown",
   "id": "0d8a824c-7ff3-4ee5-9f2e-42018e08ebe9",
   "metadata": {},
   "source": [
    "#### Only keep >24h visits "
   ]
  },
  {
   "cell_type": "code",
   "execution_count": 23,
   "id": "59e99a75-441b-4661-b96c-1b315b62e1a4",
   "metadata": {},
   "outputs": [
    {
     "name": "stdout",
     "output_type": "stream",
     "text": [
      "730 subjects have visits > 24h\n"
     ]
    }
   ],
   "source": [
    "# Compute length of stay as a timedelta\n",
    "visit_occurrence_df['los'] = visit_occurrence_df['visit_end_datetime'] - visit_occurrence_df['visit_start_datetime']\n",
    "visit_occurrence_df = visit_occurrence_df[visit_occurrence_df['los'] > pd.Timedelta(hours=24)].copy()\n",
    "\n",
    "subject_ids = visit_occurrence_df[\"person_id\"].unique().tolist()\n",
    "print(f\"{len(subject_ids)} subjects have visits > 24h\")"
   ]
  },
  {
   "cell_type": "code",
   "execution_count": 24,
   "id": "b36b6ada-a0aa-4658-98fa-f14c5d48648a",
   "metadata": {},
   "outputs": [
    {
     "data": {
      "text/html": [
       "<div>\n",
       "<style scoped>\n",
       "    .dataframe tbody tr th:only-of-type {\n",
       "        vertical-align: middle;\n",
       "    }\n",
       "\n",
       "    .dataframe tbody tr th {\n",
       "        vertical-align: top;\n",
       "    }\n",
       "\n",
       "    .dataframe thead th {\n",
       "        text-align: right;\n",
       "    }\n",
       "</style>\n",
       "<table border=\"1\" class=\"dataframe\">\n",
       "  <thead>\n",
       "    <tr style=\"text-align: right;\">\n",
       "      <th></th>\n",
       "      <th>person_id</th>\n",
       "      <th>gender_concept_id</th>\n",
       "      <th>year_of_birth</th>\n",
       "      <th>month_of_birth</th>\n",
       "      <th>day_of_birth</th>\n",
       "      <th>birth_DATETIME</th>\n",
       "      <th>race_concept_id</th>\n",
       "      <th>ethnicity_concept_id</th>\n",
       "      <th>location_id</th>\n",
       "      <th>provider_id</th>\n",
       "      <th>...</th>\n",
       "      <th>person_source_value</th>\n",
       "      <th>gender_source_value</th>\n",
       "      <th>gender_source_concept_id</th>\n",
       "      <th>race_source_value</th>\n",
       "      <th>race_source_concept_id</th>\n",
       "      <th>ethnicity_source_value</th>\n",
       "      <th>ethnicity_source_concept_id</th>\n",
       "      <th>trace_id</th>\n",
       "      <th>unit_id</th>\n",
       "      <th>load_table_id</th>\n",
       "    </tr>\n",
       "  </thead>\n",
       "  <tbody>\n",
       "    <tr>\n",
       "      <th>0</th>\n",
       "      <td>30114757</td>\n",
       "      <td>8532</td>\n",
       "      <td>1951</td>\n",
       "      <td>9</td>\n",
       "      <td>27</td>\n",
       "      <td>1951-09-27</td>\n",
       "      <td>8527</td>\n",
       "      <td>38003564</td>\n",
       "      <td>1528481</td>\n",
       "      <td>938779</td>\n",
       "      <td>...</td>\n",
       "      <td>SAA1cb83c5</td>\n",
       "      <td>1 |</td>\n",
       "      <td>8532</td>\n",
       "      <td>White |</td>\n",
       "      <td>0</td>\n",
       "      <td>Non-Hispanic/Non-Latino |</td>\n",
       "      <td>38003564</td>\n",
       "      <td>None</td>\n",
       "      <td>shc_</td>\n",
       "      <td>shc_patient</td>\n",
       "    </tr>\n",
       "  </tbody>\n",
       "</table>\n",
       "<p>1 rows × 21 columns</p>\n",
       "</div>"
      ],
      "text/plain": [
       "   person_id  gender_concept_id  year_of_birth  month_of_birth  day_of_birth  \\\n",
       "0   30114757               8532           1951               9            27   \n",
       "\n",
       "  birth_DATETIME  race_concept_id  ethnicity_concept_id  location_id  \\\n",
       "0     1951-09-27             8527              38003564      1528481   \n",
       "\n",
       "   provider_id  ...  person_source_value gender_source_value  \\\n",
       "0       938779  ...           SAA1cb83c5                 1 |   \n",
       "\n",
       "  gender_source_concept_id  race_source_value race_source_concept_id  \\\n",
       "0                     8532            White |                      0   \n",
       "\n",
       "      ethnicity_source_value ethnicity_source_concept_id  trace_id unit_id  \\\n",
       "0  Non-Hispanic/Non-Latino |                    38003564      None    shc_   \n",
       "\n",
       "  load_table_id  \n",
       "0   shc_patient  \n",
       "\n",
       "[1 rows x 21 columns]"
      ]
     },
     "execution_count": 24,
     "metadata": {},
     "output_type": "execute_result"
    }
   ],
   "source": [
    "query_person = f\"\"\"\n",
    "SELECT *\n",
    "FROM\n",
    "  `som-rit-phi-starr-prod.starr_omop_cdm5_confidential_1pcent_latest.person`\n",
    "WHERE\n",
    "  person_id IN ({','.join(map(str, subject_ids))})\n",
    "\"\"\"\n",
    "\n",
    "patients_df = client.query(query_person).to_dataframe()\n",
    "patients_df.head(1)"
   ]
  },
  {
   "cell_type": "code",
   "execution_count": 25,
   "id": "bb73941e-f756-45e9-9b85-e3c2bd7df36d",
   "metadata": {},
   "outputs": [
    {
     "data": {
      "text/html": [
       "<div>\n",
       "<style scoped>\n",
       "    .dataframe tbody tr th:only-of-type {\n",
       "        vertical-align: middle;\n",
       "    }\n",
       "\n",
       "    .dataframe tbody tr th {\n",
       "        vertical-align: top;\n",
       "    }\n",
       "\n",
       "    .dataframe thead th {\n",
       "        text-align: right;\n",
       "    }\n",
       "</style>\n",
       "<table border=\"1\" class=\"dataframe\">\n",
       "  <thead>\n",
       "    <tr style=\"text-align: right;\">\n",
       "      <th></th>\n",
       "      <th>visit_detail_id</th>\n",
       "      <th>person_id</th>\n",
       "      <th>visit_detail_concept_id</th>\n",
       "      <th>visit_detail_start_DATE</th>\n",
       "      <th>visit_detail_start_DATETIME</th>\n",
       "      <th>visit_detail_end_DATE</th>\n",
       "      <th>visit_detail_end_DATETIME</th>\n",
       "      <th>visit_detail_type_concept_id</th>\n",
       "      <th>provider_id</th>\n",
       "      <th>care_site_id</th>\n",
       "      <th>...</th>\n",
       "      <th>preceding_visit_detail_id</th>\n",
       "      <th>visit_detail_source_value</th>\n",
       "      <th>visit_detail_source_concept_id</th>\n",
       "      <th>admitting_source_value</th>\n",
       "      <th>discharge_to_source_value</th>\n",
       "      <th>visit_detail_parent_id</th>\n",
       "      <th>visit_occurrence_id</th>\n",
       "      <th>trace_id</th>\n",
       "      <th>unit_id</th>\n",
       "      <th>load_table_id</th>\n",
       "    </tr>\n",
       "  </thead>\n",
       "  <tbody>\n",
       "    <tr>\n",
       "      <th>0</th>\n",
       "      <td>9550134</td>\n",
       "      <td>31383130</td>\n",
       "      <td>0</td>\n",
       "      <td>2022-04-20</td>\n",
       "      <td>2022-04-20 19:53:00</td>\n",
       "      <td>2022-04-21</td>\n",
       "      <td>2022-04-21 16:20:00</td>\n",
       "      <td>32035</td>\n",
       "      <td>&lt;NA&gt;</td>\n",
       "      <td>7928728</td>\n",
       "      <td>...</td>\n",
       "      <td>22511921</td>\n",
       "      <td>1 WEST PLEASANTON|TVP1W|Stanford Health Care T...</td>\n",
       "      <td>0</td>\n",
       "      <td>PACU RECOVERY ROOM PLEASANTON|TVPPRR|Stanford ...</td>\n",
       "      <td>None</td>\n",
       "      <td>&lt;NA&gt;</td>\n",
       "      <td>208243586</td>\n",
       "      <td>None</td>\n",
       "      <td>visit_detail.shc.clarity_adt</td>\n",
       "      <td>shc_clarity_adt</td>\n",
       "    </tr>\n",
       "    <tr>\n",
       "      <th>1</th>\n",
       "      <td>20701456</td>\n",
       "      <td>99942140</td>\n",
       "      <td>0</td>\n",
       "      <td>2024-07-16</td>\n",
       "      <td>2024-07-16 14:41:00</td>\n",
       "      <td>2024-07-19</td>\n",
       "      <td>2024-07-19 10:10:00</td>\n",
       "      <td>32035</td>\n",
       "      <td>&lt;NA&gt;</td>\n",
       "      <td>7928728</td>\n",
       "      <td>...</td>\n",
       "      <td>11686851</td>\n",
       "      <td>1 WEST PLEASANTON|TVP1W|Stanford Health Care T...</td>\n",
       "      <td>0</td>\n",
       "      <td>CCU 1 PLEASANTON|TVPC1|Stanford Health Care Tr...</td>\n",
       "      <td>None</td>\n",
       "      <td>&lt;NA&gt;</td>\n",
       "      <td>62847489</td>\n",
       "      <td>None</td>\n",
       "      <td>visit_detail.shc.clarity_adt</td>\n",
       "      <td>shc_clarity_adt</td>\n",
       "    </tr>\n",
       "  </tbody>\n",
       "</table>\n",
       "<p>2 rows × 22 columns</p>\n",
       "</div>"
      ],
      "text/plain": [
       "   visit_detail_id  person_id  visit_detail_concept_id  \\\n",
       "0          9550134   31383130                        0   \n",
       "1         20701456   99942140                        0   \n",
       "\n",
       "  visit_detail_start_DATE visit_detail_start_DATETIME visit_detail_end_DATE  \\\n",
       "0              2022-04-20         2022-04-20 19:53:00            2022-04-21   \n",
       "1              2024-07-16         2024-07-16 14:41:00            2024-07-19   \n",
       "\n",
       "  visit_detail_end_DATETIME  visit_detail_type_concept_id  provider_id  \\\n",
       "0       2022-04-21 16:20:00                         32035         <NA>   \n",
       "1       2024-07-19 10:10:00                         32035         <NA>   \n",
       "\n",
       "   care_site_id  ...  preceding_visit_detail_id  \\\n",
       "0       7928728  ...                   22511921   \n",
       "1       7928728  ...                   11686851   \n",
       "\n",
       "                           visit_detail_source_value  \\\n",
       "0  1 WEST PLEASANTON|TVP1W|Stanford Health Care T...   \n",
       "1  1 WEST PLEASANTON|TVP1W|Stanford Health Care T...   \n",
       "\n",
       "   visit_detail_source_concept_id  \\\n",
       "0                               0   \n",
       "1                               0   \n",
       "\n",
       "                              admitting_source_value  \\\n",
       "0  PACU RECOVERY ROOM PLEASANTON|TVPPRR|Stanford ...   \n",
       "1  CCU 1 PLEASANTON|TVPC1|Stanford Health Care Tr...   \n",
       "\n",
       "   discharge_to_source_value visit_detail_parent_id visit_occurrence_id  \\\n",
       "0                       None                   <NA>           208243586   \n",
       "1                       None                   <NA>            62847489   \n",
       "\n",
       "   trace_id                       unit_id    load_table_id  \n",
       "0      None  visit_detail.shc.clarity_adt  shc_clarity_adt  \n",
       "1      None  visit_detail.shc.clarity_adt  shc_clarity_adt  \n",
       "\n",
       "[2 rows x 22 columns]"
      ]
     },
     "execution_count": 25,
     "metadata": {},
     "output_type": "execute_result"
    }
   ],
   "source": [
    "query_visits = f\"\"\"\n",
    "SELECT *\n",
    "FROM `som-rit-phi-starr-prod.starr_omop_cdm5_confidential_1pcent_latest.visit_detail`\n",
    "WHERE person_id IN ({','.join(map(str, subject_ids))})\n",
    "\"\"\"\n",
    "visits_df = client.query(query_visits).to_dataframe()\n",
    "visits_df.head(2)"
   ]
  },
  {
   "cell_type": "markdown",
   "id": "628dbdc4-d8e9-4079-b774-4e742799d431",
   "metadata": {},
   "source": [
    "## testing vitals and comorbs"
   ]
  },
  {
   "cell_type": "code",
   "execution_count": 26,
   "id": "65076268-25ee-4c79-976d-38158c7784ce",
   "metadata": {},
   "outputs": [
    {
     "data": {
      "text/html": [
       "<div>\n",
       "<style scoped>\n",
       "    .dataframe tbody tr th:only-of-type {\n",
       "        vertical-align: middle;\n",
       "    }\n",
       "\n",
       "    .dataframe tbody tr th {\n",
       "        vertical-align: top;\n",
       "    }\n",
       "\n",
       "    .dataframe thead th {\n",
       "        text-align: right;\n",
       "    }\n",
       "</style>\n",
       "<table border=\"1\" class=\"dataframe\">\n",
       "  <thead>\n",
       "    <tr style=\"text-align: right;\">\n",
       "      <th></th>\n",
       "      <th>measurement_concept_id</th>\n",
       "      <th>feature_name</th>\n",
       "      <th>mean_value</th>\n",
       "      <th>n_rows</th>\n",
       "    </tr>\n",
       "  </thead>\n",
       "  <tbody>\n",
       "    <tr>\n",
       "      <th>5</th>\n",
       "      <td>3045716</td>\n",
       "      <td>anion_gap_serum</td>\n",
       "      <td>9.879479</td>\n",
       "      <td>43428</td>\n",
       "    </tr>\n",
       "    <tr>\n",
       "      <th>2</th>\n",
       "      <td>3016723</td>\n",
       "      <td>creatinine_serum</td>\n",
       "      <td>1.407921</td>\n",
       "      <td>46178</td>\n",
       "    </tr>\n",
       "    <tr>\n",
       "      <th>1</th>\n",
       "      <td>3012888</td>\n",
       "      <td>diastolic_bp</td>\n",
       "      <td>66.709762</td>\n",
       "      <td>410997</td>\n",
       "    </tr>\n",
       "    <tr>\n",
       "      <th>4</th>\n",
       "      <td>3027018</td>\n",
       "      <td>heart_rate</td>\n",
       "      <td>84.139174</td>\n",
       "      <td>817874</td>\n",
       "    </tr>\n",
       "    <tr>\n",
       "      <th>3</th>\n",
       "      <td>3024171</td>\n",
       "      <td>resp_rate</td>\n",
       "      <td>17.307000</td>\n",
       "      <td>558606</td>\n",
       "    </tr>\n",
       "    <tr>\n",
       "      <th>0</th>\n",
       "      <td>3004249</td>\n",
       "      <td>systolic_bp</td>\n",
       "      <td>115.887114</td>\n",
       "      <td>504793</td>\n",
       "    </tr>\n",
       "  </tbody>\n",
       "</table>\n",
       "</div>"
      ],
      "text/plain": [
       "   measurement_concept_id      feature_name  mean_value  n_rows\n",
       "5                 3045716   anion_gap_serum    9.879479   43428\n",
       "2                 3016723  creatinine_serum    1.407921   46178\n",
       "1                 3012888      diastolic_bp   66.709762  410997\n",
       "4                 3027018        heart_rate   84.139174  817874\n",
       "3                 3024171         resp_rate   17.307000  558606\n",
       "0                 3004249       systolic_bp  115.887114  504793"
      ]
     },
     "execution_count": 26,
     "metadata": {},
     "output_type": "execute_result"
    }
   ],
   "source": [
    "# concept_id → canonical feature name  (STARR-OMOP)\n",
    "CONCEPT_IDS = {\n",
    "    3027018: \"heart_rate\",\n",
    "    3024171: \"resp_rate\",\n",
    "    3004249: \"systolic_bp\",\n",
    "    3012888: \"diastolic_bp\",\n",
    "    3016723: \"creatinine_serum\",\n",
    "    3045716: \"anion_gap_serum\",\n",
    "}\n",
    "\n",
    "# all_labs (STARR) columns: person_id, visit_occurrence_id, measurement_concept_id,\n",
    "#                           measurement_DATETIME, value_as_number, unit_source_value …\n",
    "\n",
    "stats = (\n",
    "    all_labs[all_labs[\"measurement_concept_id\"].isin(CONCEPT_IDS.keys())]\n",
    "      .dropna(subset=[\"value_as_number\"])\n",
    "      .groupby(\"measurement_concept_id\")[\"value_as_number\"]\n",
    "      .agg(mean_value=\"mean\", n_rows=\"size\")\n",
    "      .reset_index()\n",
    ")\n",
    "\n",
    "stats[\"feature_name\"] = stats[\"measurement_concept_id\"].map(CONCEPT_IDS)\n",
    "stats = stats[[\"measurement_concept_id\", \"feature_name\", \"mean_value\", \"n_rows\"]].sort_values(\"feature_name\")\n",
    "stats\n"
   ]
  },
  {
   "cell_type": "code",
   "execution_count": 27,
   "id": "2e77354e-b9c5-412f-b89f-59cc56e10b96",
   "metadata": {},
   "outputs": [],
   "source": [
    "FEATURE_CIDS = {\n",
    "    3004249: \"systolic_bp\",\n",
    "    3012888: \"diastolic_bp\",\n",
    "    3027018: \"heart_rate\",\n",
    "    3024171: \"resp_rate\",\n",
    "    #3004501: \"glucose_serum\", #check in mimic first\n",
    "    #3015632: \"co2_total_serum\",\n",
    "    #3019550: \"sodium_serum\",\n",
    "    3016723: \"creatinine_serum\",    \n",
    "    3045716: \"anion_gap_serum\",\n",
    "    3025315: \"weight_body\"\n",
    "}\n",
    "\n",
    "def get_extra_measurements(meas_df, start, end, cid_map=FEATURE_CIDS, dt_hours=4,):\n",
    "    \"\"\"\n",
    "    Returns {feature_name: value | np.nan} in cid_map order.\n",
    "    \"\"\"\n",
    "    from datetime import timedelta\n",
    "    import numpy as np\n",
    "\n",
    "    def window_mean(cid, st, en):\n",
    "        vals = meas_df[\n",
    "            (meas_df['measurement_concept_id'] == cid) &\n",
    "            (meas_df['measurement_DATETIME'] >= st) &\n",
    "            (meas_df['measurement_DATETIME'] <  en)\n",
    "        ]['value_as_number'].dropna()\n",
    "        return float(vals.mean()) if not vals.empty else None\n",
    "\n",
    "    offsets = [-1, 1, -2, 2, -3, 3]\n",
    "    out = {}\n",
    "    for cid, name in cid_map.items():\n",
    "        val = window_mean(cid, start, end) #checks 0 first \n",
    "        if val is None:\n",
    "            for off in offsets:\n",
    "                st = start + timedelta(hours=off*dt_hours)\n",
    "                en = end   + timedelta(hours=off*dt_hours)\n",
    "                val = window_mean(cid, st, en)\n",
    "                if val is not None:\n",
    "                    break\n",
    "\n",
    "        if cid == 3025315 and val is not None:            # Body-weight row\n",
    "            unit = meas_df.loc[\n",
    "                meas_df['measurement_concept_id'] == cid,\n",
    "                'unit_source_value'\n",
    "            ].dropna().iat[0].lower()                    # e.g. 'kg', 'lbs', 'oz'\n",
    "\n",
    "            if 'ounces' in unit:      val *= 0.0283495       # ounces → kg\n",
    "            elif 'lb' in unit:    val *= 0.453592        # pounds  → kg\n",
    "\n",
    "            #print(\"Weight unit detected:\", unit, \"→ stored as\", round(val,2), \"kg\")\n",
    "        \n",
    "        out[name] = val if val is not None else 0.0\n",
    "    #print(out)\n",
    "    return out\n"
   ]
  },
  {
   "cell_type": "code",
   "execution_count": 28,
   "id": "7d5d4c4f-7374-4663-934f-b1db3f4f7719",
   "metadata": {},
   "outputs": [
    {
     "name": "stdout",
     "output_type": "stream",
     "text": [
      "STARR units: {np.int64(3004249): '—', np.int64(3012888): '—', np.int64(3016723): 'mg/dL', np.int64(3019550): 'mmol/L', np.int64(3024171): 'bpm', np.int64(3025315): 'ounces', np.int64(3027018): 'bpm', np.int64(3045716): 'mmol/L'}\n"
     ]
    }
   ],
   "source": [
    "STARR_CIDS = [\n",
    "    3004249, 3012888, 3027018, 3024171,\n",
    "    3016723, 3019550, 3045716, 3025315\n",
    "]  # adjust if you dropped any\n",
    "\n",
    "starr_units = (\n",
    "    all_labs[all_labs['measurement_concept_id'].isin(STARR_CIDS)]\n",
    "      .groupby('measurement_concept_id')['unit_source_value']\n",
    "      .agg(lambda x: x.dropna().mode().iat[0] if not x.dropna().empty else '—')\n",
    "      .to_dict()\n",
    ")\n",
    "print(\"STARR units:\", starr_units)"
   ]
  },
  {
   "cell_type": "markdown",
   "id": "a3fed9ca-550c-4c2d-8a19-ee0742e85530",
   "metadata": {},
   "source": [
    "## Trajectory functions"
   ]
  },
  {
   "cell_type": "code",
   "execution_count": 29,
   "id": "218b762a-05e2-4b33-9dd5-38c7285106cb",
   "metadata": {},
   "outputs": [],
   "source": [
    "def get_patient_info(subject_id, visit_id):\n",
    "    \"\"\"\n",
    "    Returns demographics and weight (in kg) for a given patient-visit:\n",
    "      - age: computed at admit (visit start) using birthdate\n",
    "      - gender: 1 if female, 0 if male/other\n",
    "      - weight_kg: first 'Body weight' (concept_id 3025315) in visit window, converted to kg\n",
    "    \n",
    "    Uses global DataFrames:\n",
    "      patients_df          with ['person_id','year_of_birth','month_of_birth','day_of_birth',\n",
    "                                 'gender_source_value','gender_concept_id']\n",
    "      visit_occurrence_df  with ['visit_occurrence_id','person_id','visit_start_datetime',\n",
    "                                 'visit_end_datetime']\n",
    "      all_labs             with ['person_id','measurement_concept_id',\n",
    "                                 'measurement_datetime','value_as_number',\n",
    "                                 'unit_name' or 'unit_source_value']\n",
    "    \"\"\"\n",
    "    # 1) Patient demographics\n",
    "    pat = patients_df.loc[patients_df['person_id'] == subject_id].iloc[0]\n",
    "    yob = int(pat['year_of_birth'])\n",
    "    mob = int(pat.get('month_of_birth', 1) or 1)\n",
    "    dob = int(pat.get('day_of_birth', 1)   or 1)\n",
    "    \n",
    "    # 2) Visit admit and discharge\n",
    "    visit = visit_occurrence_df.loc[visit_occurrence_df['visit_occurrence_id'] == visit_id].iloc[0]\n",
    "    admit = pd.to_datetime(visit['visit_start_datetime'])\n",
    "    discharge = pd.to_datetime(visit['visit_end_datetime'])\n",
    "    \n",
    "    # 3) Age at admit\n",
    "    birth = datetime(yob, mob, dob)\n",
    "    age = (admit - birth).days // 365\n",
    "    \n",
    "    # 4) Gender flag\n",
    "    gsrc = str(pat.get('gender_source_value', '')).upper()\n",
    "    gender = 1 if gsrc == 'F' else 0\n",
    "    \n",
    "    return {'age': age, 'gender': gender, 'admit':admit, 'discharge':discharge}"
   ]
  },
  {
   "cell_type": "code",
   "execution_count": 30,
   "id": "62474dd6-b66a-44c9-87f0-aaf0ea644a5b",
   "metadata": {},
   "outputs": [],
   "source": [
    "from datetime import datetime, timedelta\n",
    "import numpy as np\n",
    "\n",
    "\n",
    "def interpolate_K_lab(patient_labs, start_time, end_time, lab_concept_ids, time_delta_hours):\n",
    "    \"\"\"\n",
    "    Return one potassium value for [start_time, end_time) in a STARR-OMOP DataFrame:\n",
    "      1. If any serum (lab_concept_ids[0]) in window → its mean. (this is most commonly used)\n",
    "      2. Else if any whole‐blood (lab_concept_ids[1]) → its mean.\n",
    "      3. Else search offsets +1, -1, +2, -2, +3, -3 windows in that order,\n",
    "         each time preferring serum then whole‐blood.\n",
    "      4. If still nothing → np.nan.\n",
    "    \n",
    "    patient_labs: DataFrame with columns\n",
    "      - measurement_datetime (datetime-like)\n",
    "      - measurement_concept_id\n",
    "      - value_as_number\n",
    "    start_time, end_time: datetime objects\n",
    "    lab_concept_ids: [serum_concept_id, whole_blood_concept_id]\n",
    "    time_delta_hours: int or float\n",
    "    \"\"\"\n",
    "    def window_mean(concept_id, st, en):\n",
    "        vals = patient_labs[\n",
    "            (patient_labs['measurement_DATETIME'] >= st) &\n",
    "            (patient_labs['measurement_DATETIME'] < en) &\n",
    "            (patient_labs['measurement_concept_id'] == concept_id)\n",
    "        ]['value_as_number']\n",
    "        return float(vals.mean()) if not vals.empty else None\n",
    "\n",
    "    serum_cid, wb_cid = lab_concept_ids\n",
    "\n",
    "    # 1) current window\n",
    "    serum = window_mean(serum_cid, start_time, end_time)\n",
    "    if serum is not None:\n",
    "        return serum\n",
    "    wb = window_mean(wb_cid, start_time, end_time)\n",
    "    if wb is not None:\n",
    "        return wb\n",
    "\n",
    "    # 2) neighbor offsets\n",
    "    for offset in (1, -1, 2, -2, 3, -3):\n",
    "        st = start_time + timedelta(hours=offset * time_delta_hours)\n",
    "        en = end_time   + timedelta(hours=offset * time_delta_hours)\n",
    "        serum = window_mean(serum_cid, st, en)\n",
    "        if serum is not None:\n",
    "            return serum\n",
    "        wb = window_mean(wb_cid, st, en)\n",
    "        if wb is not None:\n",
    "            return wb\n",
    "\n",
    "    # 3) fallback\n",
    "    return 0.0\n"
   ]
  },
  {
   "cell_type": "code",
   "execution_count": 31,
   "id": "1137eeab-f47f-49c2-9e4e-fa99d0ee4882",
   "metadata": {},
   "outputs": [],
   "source": [
    "import numpy as np\n",
    "\n",
    "def potassium_reward(k, mu=4.25, sigma=0.5, clip=True):\n",
    "    \"\"\"\n",
    "    Gaussian‐shaped reward on potassium level k.\n",
    "      - k can be a scalar or a numpy array of floats.\n",
    "      - mu=4.25 is the “ideal” K⁺ (mmol/L), sigma=0.5 the standard deviation.\n",
    "      - clip=True: replace any NaN→0 and clip numeric underflow to [0,1].\n",
    "    Returns a float or array of floats in [0,1].\n",
    "    \"\"\"\n",
    "    k_arr = np.array(k, dtype=np.float32)\n",
    "    ex = -0.5 * ((k_arr - mu) / sigma) ** 2\n",
    "    r = np.exp(ex)\n",
    "\n",
    "    if clip:\n",
    "        r = np.where(np.isnan(r), 0.0, r)\n",
    "        r = np.clip(r, 0.0, 1.0)\n",
    "    return r\n"
   ]
  },
  {
   "cell_type": "code",
   "execution_count": 32,
   "id": "ddd0b769-1639-4443-b655-fca8a8ddd999",
   "metadata": {},
   "outputs": [],
   "source": [
    "import numpy as np\n",
    "from datetime import timedelta\n",
    "\n",
    "def interpolate_offset(labs, anchor_time, time_delta_hours, direction='after'):\n",
    "    \"\"\"\n",
    "    Search ±1, ±2, or ±3 bins from anchor_time for a lab value.\n",
    "    direction='after' looks at [anchor + Δ, anchor + 2Δ], etc.\n",
    "    direction='before' looks at [anchor - Δ, anchor), [anchor - 2Δ, anchor - Δ], etc.\n",
    "    Returns (mean_value, offset_steps) or (np.nan, None) if none found.\n",
    "    \n",
    "    Parameters:\n",
    "      labs             : DataFrame with columns ['measurement_datetime','value_as_number']\n",
    "      anchor_time      : datetime; the reference timestamp\n",
    "      time_delta_hours : int/float; size of each search window in hours\n",
    "      direction        : 'after' or 'before'\n",
    "    \"\"\"\n",
    "    step = 0\n",
    "    for step in (1, 2, 3):\n",
    "        if direction == 'after':\n",
    "            st = anchor_time + timedelta(hours=step * time_delta_hours)\n",
    "            en = st + timedelta(hours=time_delta_hours)\n",
    "        else:  # 'before'\n",
    "            en = anchor_time - timedelta(hours=(step - 1) * time_delta_hours)\n",
    "            st = en - timedelta(hours=time_delta_hours)\n",
    "        window = labs[\n",
    "            (labs['measurement_DATETIME'] >= st) &\n",
    "            (labs['measurement_DATETIME'] <  en)\n",
    "        ]['value_as_number']\n",
    "        if not window.empty:\n",
    "            return float(window.mean()), step\n",
    "    return 0.0, 0\n"
   ]
  },
  {
   "cell_type": "code",
   "execution_count": 33,
   "id": "66ed7d6d-38f7-4345-b40e-e93a0aa1bb60",
   "metadata": {},
   "outputs": [],
   "source": [
    "def get_before_after(labs, start_time, end_time, med_time, time_delta_hours):\n",
    "    \"\"\"\n",
    "    Return three values for a medication window [start_time, end_time):\n",
    "      1) lab_before  = the last lab value < med_time (within [start_time, end_time)), \n",
    "                       or if none, the most recent lab in earlier offsets.\n",
    "      2) lab_after   = the first lab value >= (med_time + 30 min), \n",
    "                       or if none, the earliest lab in later offsets.\n",
    "      3) offset_steps: 0 if found inside the window; otherwise the number of steps \n",
    "                       forward (+) or backward (–) needed via interpolate_offset_starr.\n",
    "    \n",
    "    Parameters:\n",
    "      labs              : DataFrame with ['measurement_datetime','value_as_number']\n",
    "      start_time        : datetime; start of the medication window\n",
    "      end_time          : datetime; end of the medication window\n",
    "      med_time          : datetime; when the medication was given\n",
    "      time_delta_hours  : int/float; size of each offset window in hours\n",
    "    \"\"\"\n",
    "    offset_steps = 0\n",
    "    \n",
    "    # 1) All labs in [start_time, end_time)\n",
    "    window_df = labs[\n",
    "        (labs['measurement_DATETIME'] >= start_time) &\n",
    "        (labs['measurement_DATETIME'] <  end_time)\n",
    "    ]\n",
    "    \n",
    "    # 2) Find lab_before inside window (latest lab < med_time)\n",
    "    before_df = window_df[window_df['measurement_DATETIME'] < med_time]\n",
    "    if not before_df.empty:\n",
    "        lab_before = float(before_df.sort_values('measurement_DATETIME')['value_as_number'].iloc[-1])\n",
    "    else:\n",
    "        lab_before, _ = interpolate_offset(labs, start_time, time_delta_hours, direction='before')\n",
    "    \n",
    "    # 3) Find lab_after inside window (first lab ≥ med_time + 30 min)\n",
    "    after_cutoff = med_time + timedelta(minutes=30)\n",
    "    after_df = window_df[window_df['measurement_DATETIME'] >= after_cutoff]\n",
    "    if not after_df.empty:\n",
    "        lab_after = float(after_df.sort_values('measurement_DATETIME')['value_as_number'].iloc[0])\n",
    "        offset_steps = 0\n",
    "    else:\n",
    "        lab_after, offset_steps = interpolate_offset(labs, end_time, time_delta_hours, direction='after')\n",
    "    \n",
    "    return lab_before, lab_after, offset_steps"
   ]
  },
  {
   "cell_type": "code",
   "execution_count": 34,
   "id": "1a036061-74e1-4db3-957c-e4d6407f7835",
   "metadata": {},
   "outputs": [],
   "source": [
    "def is_sparse(stay_states,\n",
    "              stay_actions,\n",
    "              min_steps=6,\n",
    "              min_lab_ratio=0.6,    # ≥60 % bins have lab_before > 0\n",
    "              min_act_ratio=1/12):  # ≥1/12 bins have action > 0\n",
    "    \"\"\"\n",
    "    Returns True  ⇐  stay should be DROPPED.\n",
    "    Criteria (all must fail → drop):\n",
    "\n",
    "      1) T = len(stay_states)  must be ≥ min_steps\n",
    "      2) (lab_before > 0) fraction ≥ min_lab_ratio\n",
    "      3) (action  > 0)   fraction ≥ min_act_ratio\n",
    "    \"\"\"\n",
    "    T = len(stay_states)\n",
    "    if T < min_steps:\n",
    "        return True\n",
    "\n",
    "    arr = np.asarray(stay_states, dtype=float)\n",
    "    lab_before = arr[:, 2]                         # column 3\n",
    "    lab_ratio  = (lab_before > 0.0).mean()\n",
    "\n",
    "    actions = np.asarray(stay_actions, dtype=float)\n",
    "    act_ratio = (actions > 0.0).mean()             # non-zero doses\n",
    "\n",
    "    return (lab_ratio < min_lab_ratio) or (act_ratio < min_act_ratio)\n"
   ]
  },
  {
   "cell_type": "code",
   "execution_count": 35,
   "id": "a0a8ed05-4eae-4cba-a83a-fb0a58540805",
   "metadata": {},
   "outputs": [],
   "source": [
    "import numpy as np\n",
    "import pandas as pd\n",
    "from datetime import datetime, timedelta\n",
    "\n",
    "gamma = 0.99   # discount for delayed lab rewards\n",
    "time_delta = 4 # hours\n",
    "\n",
    "# lab_concept_ids correspond to serum vs whole‐blood K in STARR\n",
    "lab_concept_ids = [3023103, 3005456]  \n",
    "\n",
    "# You already have these functions defined elsewhere:\n",
    "#   def get_patient_info(subject_id): ...\n",
    "#   def interpolate_offset(labs, anchor_time, time_delta, direction): ...\n",
    "#   def get_before_after(labs, start_time, end_time, med_time, time_delta): ...\n",
    "#   def potassium_reward(k, mu=4.25, sigma=0.5, clip=True): ...\n",
    "\n",
    "def construct_trajectory(subject_id):\n",
    "    \"\"\"\n",
    "    Build a trajectory of (state, action, reward) exactly as in MIMIC,\n",
    "    but using STARR‐OMOP conventions (labs_taken, meds_admin, visit_occurrence_df).\n",
    "    \n",
    "    Assumes the following DataFrames are already in memory:\n",
    "      - labs_taken: must contain ['person_id','visit_occurrence_id',\n",
    "                     'measurement_concept_id','measurement_DATETIME','value_as_number']\n",
    "      - meds_admin: must contain ['person_id','visit_occurrence_id',\n",
    "                     'drug_exposure_start_DATETIME','dose_bucket']\n",
    "      - visit_occurrence_df: must contain ['visit_occurrence_id','person_id',\n",
    "                     'visit_concept_id','visit_start_datetime','visit_end_datetime']\n",
    "      - patients_df: for get_patient_info(subject_id)\n",
    "    \"\"\"\n",
    "\n",
    "    # 2) Subset all labs and meds for this patient\n",
    "    patient_labs_all = labs_taken[labs_taken['person_id'] == subject_id].copy()\n",
    "    patient_meds_all = meds_admin[meds_admin['person_id'] == subject_id].copy()\n",
    "\n",
    "    # 3) Ensure DATETIME columns are real Timestamps\n",
    "    if not patient_labs_all.empty and isinstance(patient_labs_all['measurement_DATETIME'].iloc[0], str):\n",
    "        patient_labs_all['measurement_DATETIME'] = pd.to_datetime(patient_labs_all['measurement_DATETIME'])\n",
    "    if not patient_meds_all.empty and isinstance(patient_meds_all['drug_exposure_start_DATETIME'].iloc[0], str):\n",
    "        patient_meds_all['drug_exposure_start_DATETIME'] = pd.to_datetime(patient_meds_all['drug_exposure_start_DATETIME'])\n",
    "\n",
    "    # 4) Prepare accumulators\n",
    "    patient_states  = []\n",
    "    patient_actions = []\n",
    "    patient_rewards = []\n",
    "\n",
    "    # 5) Loop over each “stay” defined by visit_occurrence_id present in labs\n",
    "    vo = visit_occurrence_df[visit_occurrence_df['person_id'] == subject_id].copy()\n",
    "    stays = patient_labs_all['visit_occurrence_id'].unique()\n",
    "    print(f\"Subject {subject_id} has {len(stays)} stays with atleast one lab\")\n",
    "    skipped_stays = 0\n",
    "    for visit_id in stays:\n",
    "        stay_states = []\n",
    "        stay_actions = []\n",
    "        stay_rewards = []\n",
    "        # 5a) Extract labs/meds for this stay\n",
    "        labs = patient_labs_all[patient_labs_all['visit_occurrence_id'] == visit_id].copy()\n",
    "        meds = patient_meds_all[patient_meds_all['visit_occurrence_id'] == visit_id].copy()\n",
    "\n",
    "        extra_covariates = all_labs[\n",
    "            (all_labs['person_id'] == subject_id) &\n",
    "            (all_labs['visit_occurrence_id'] == visit_id)\n",
    "        ].copy()\n",
    "\n",
    "        # 5b) Get admit/discharge from visit_occurrence_df\n",
    "        vo_sub = vo[vo['visit_occurrence_id'] == visit_id]\n",
    "        if vo_sub.empty:\n",
    "            # see if it appears in visit_detail instead\n",
    "            vd_sub = visits_df[visits_df['visit_occurrence_id'] == visit_id]\n",
    "            if not vd_sub.empty:\n",
    "                admit     = pd.to_datetime(vd_sub['visit_detail_start_DATETIME']).min()\n",
    "                discharge = pd.to_datetime(vd_sub['visit_detail_end_DATETIME']).max()\n",
    "            else:\n",
    "                # truly not found—skip or log\n",
    "                #print(f\"Orphaned visit_id {visit_id} in labs → skipping\")\n",
    "                skipped_stays+=1\n",
    "                continue\n",
    "        else:\n",
    "            vo_row = vo_sub.iloc[0]\n",
    "            admit     = pd.to_datetime(vo_row['visit_start_datetime'])\n",
    "            discharge = pd.to_datetime(vo_row['visit_end_datetime'])\n",
    "\n",
    "\n",
    "        # 5c) Restrict labs/meds to the stay window [admit, discharge]\n",
    "        labs = labs[\n",
    "            (labs['measurement_DATETIME'] >= admit) &\n",
    "            (labs['measurement_DATETIME'] <= discharge)\n",
    "        ].copy()\n",
    "        meds = meds[\n",
    "            (meds['drug_exposure_start_DATETIME'] >= admit) &\n",
    "            (meds['drug_exposure_start_DATETIME'] <= discharge)\n",
    "        ].copy()\n",
    "\n",
    "        # 5d) Skip stay if no labs or no meds\n",
    "        if labs.empty:\n",
    "            #print(f\"Stay {visit_id}: no labs → skipping\")\n",
    "            skipped_stays+=1\n",
    "            continue\n",
    "        if meds.empty:\n",
    "            #print(f\"Stay {visit_id}: no meds → skipping\")\n",
    "            skipped_stays+=1\n",
    "            continue\n",
    "        \n",
    "        # 1) Get static patient info once (age, gender, weight)\n",
    "        patient_info = get_patient_info(subject_id, visit_id)\n",
    "        \n",
    "        # 5e) Determine effective end time for binning\n",
    "        last_lab_time = labs['measurement_DATETIME'].max()\n",
    "        effective_end_time = min(last_lab_time, discharge)\n",
    "\n",
    "        # 5f) Compute number of full 4‐hour intervals in [admit, effective_end_time)\n",
    "        total_hours = int((effective_end_time - admit).total_seconds() // 3600)\n",
    "        n_intervals = total_hours // time_delta\n",
    "        if n_intervals <= 0:\n",
    "            skipped_stays+=1\n",
    "            continue\n",
    "\n",
    "        total_intervals = 0\n",
    "        skipped_intervals = 0\n",
    "\n",
    "        # 5g) Loop over each 4‐hour bin\n",
    "        for i in range(n_intervals):\n",
    "            total_intervals += 1\n",
    "            start = admit + timedelta(hours=i * time_delta)\n",
    "            end   = start + timedelta(hours=time_delta)\n",
    "\n",
    "            # 1) Determine action (dose_bucket) and med_time in current bin\n",
    "            window_meds = meds[\n",
    "                (meds['drug_exposure_start_DATETIME'] >= start) &\n",
    "                (meds['drug_exposure_start_DATETIME'] < end)\n",
    "            ]\n",
    "            if not window_meds.empty:\n",
    "                action = int(window_meds['dose_bucket'].max())\n",
    "                med_time = window_meds['drug_exposure_start_DATETIME'].iloc[0]\n",
    "            else:\n",
    "                action = 0\n",
    "                med_time = end\n",
    "\n",
    "            # 2) Check if any labs in current bin\n",
    "            window_labs = labs[\n",
    "                (labs['measurement_DATETIME'] >= start) &\n",
    "                (labs['measurement_DATETIME'] < end)\n",
    "            ]\n",
    "            if window_labs.empty:\n",
    "                # Mimic logic: we could interpolate here, but we don’t skip just yet\n",
    "                _ = interpolate_offset(labs, start, time_delta, direction='after')\n",
    "\n",
    "            # 3) Get lab_before / lab_after (with fallback)\n",
    "            lab_before, lab_after, offset = get_before_after(\n",
    "                labs, start, end, med_time, time_delta\n",
    "            )\n",
    "            # If either is NaN, skip this interval\n",
    "            if np.isnan(lab_before):\n",
    "                skipped_intervals += 1\n",
    "                continue\n",
    "            if np.isnan(lab_after):\n",
    "                skipped_intervals += 1\n",
    "                continue\n",
    "\n",
    "            # 4) Build state/action/reward\n",
    "            extra = get_extra_measurements(extra_covariates, start, end, dt_hours=time_delta)\n",
    "            state = [\n",
    "                patient_info['age'],\n",
    "                patient_info['gender'],\n",
    "                lab_before,\n",
    "                *extra.values()\n",
    "            ]\n",
    "            reward = potassium_reward(lab_after, mu=4.25, sigma=0.5, clip=True)\n",
    "            reward *= 100  # as in your original code\n",
    "            if offset:\n",
    "                reward *= (gamma ** offset)\n",
    "\n",
    "            stay_states.append(state)\n",
    "            stay_actions.append(action)\n",
    "            stay_rewards.append(reward)\n",
    "            \n",
    "\n",
    "        print(f\"Stay {visit_id}: skipped {skipped_intervals}/{total_intervals} intervals\")\n",
    "        if stay_states:\n",
    "            if is_sparse(stay_states, stay_actions):                  \n",
    "                print(f\"Stay {visit_id}: sparse → dropped\")\n",
    "                continue \n",
    "            patient_states.append(stay_states)\n",
    "            patient_actions.append(stay_actions)\n",
    "            patient_rewards.append(stay_rewards)\n",
    "\n",
    "    print(f\"Patient {subject_id}: skipped {skipped_stays}/{len(stays)} stays\")\n",
    "    return patient_states, patient_actions, patient_rewards\n"
   ]
  },
  {
   "cell_type": "markdown",
   "id": "fd24333b-72e0-42dd-ac9c-048b19b25900",
   "metadata": {},
   "source": [
    "## Testing"
   ]
  },
  {
   "cell_type": "code",
   "execution_count": 36,
   "id": "4997785c-ccca-4b93-8ad8-ebd9f847ce6d",
   "metadata": {},
   "outputs": [
    {
     "data": {
      "text/html": [
       "<div>\n",
       "<style scoped>\n",
       "    .dataframe tbody tr th:only-of-type {\n",
       "        vertical-align: middle;\n",
       "    }\n",
       "\n",
       "    .dataframe tbody tr th {\n",
       "        vertical-align: top;\n",
       "    }\n",
       "\n",
       "    .dataframe thead th {\n",
       "        text-align: right;\n",
       "    }\n",
       "</style>\n",
       "<table border=\"1\" class=\"dataframe\">\n",
       "  <thead>\n",
       "    <tr style=\"text-align: right;\">\n",
       "      <th></th>\n",
       "      <th>measurement_id</th>\n",
       "      <th>person_id</th>\n",
       "      <th>measurement_concept_id</th>\n",
       "      <th>measurement_DATE</th>\n",
       "      <th>measurement_DATETIME</th>\n",
       "      <th>measurement_time</th>\n",
       "      <th>measurement_type_concept_id</th>\n",
       "      <th>operator_concept_id</th>\n",
       "      <th>value_as_number</th>\n",
       "      <th>value_as_concept_id</th>\n",
       "      <th>...</th>\n",
       "      <th>visit_detail_id</th>\n",
       "      <th>measurement_source_value</th>\n",
       "      <th>measurement_source_concept_id</th>\n",
       "      <th>unit_source_value</th>\n",
       "      <th>value_source_value</th>\n",
       "      <th>modifier_of_event_id</th>\n",
       "      <th>modifier_of_field_concept_id</th>\n",
       "      <th>trace_id</th>\n",
       "      <th>unit_id</th>\n",
       "      <th>load_table_id</th>\n",
       "    </tr>\n",
       "  </thead>\n",
       "  <tbody>\n",
       "    <tr>\n",
       "      <th>23</th>\n",
       "      <td>549347411</td>\n",
       "      <td>30889452</td>\n",
       "      <td>3005456</td>\n",
       "      <td>2015-12-11</td>\n",
       "      <td>2015-12-11 18:38:00</td>\n",
       "      <td>None</td>\n",
       "      <td>32856</td>\n",
       "      <td>&lt;NA&gt;</td>\n",
       "      <td>3.6</td>\n",
       "      <td>&lt;NA&gt;</td>\n",
       "      <td>...</td>\n",
       "      <td>&lt;NA&gt;</td>\n",
       "      <td>6298-4|K|POC:POTASSIUM, ISTAT</td>\n",
       "      <td>3005456</td>\n",
       "      <td>mmol/L</td>\n",
       "      <td>3.6</td>\n",
       "      <td>&lt;NA&gt;</td>\n",
       "      <td>&lt;NA&gt;</td>\n",
       "      <td>None</td>\n",
       "      <td>measurement.meas.rule.2.shc_order_results</td>\n",
       "      <td>shc_order_results</td>\n",
       "    </tr>\n",
       "    <tr>\n",
       "      <th>24</th>\n",
       "      <td>2462060879</td>\n",
       "      <td>30684081</td>\n",
       "      <td>3005456</td>\n",
       "      <td>2024-03-14</td>\n",
       "      <td>2024-03-14 06:37:00</td>\n",
       "      <td>None</td>\n",
       "      <td>32856</td>\n",
       "      <td>&lt;NA&gt;</td>\n",
       "      <td>3.8</td>\n",
       "      <td>&lt;NA&gt;</td>\n",
       "      <td>...</td>\n",
       "      <td>&lt;NA&gt;</td>\n",
       "      <td>6298-4|K|POC:POTASSIUM, ISTAT</td>\n",
       "      <td>3005456</td>\n",
       "      <td>mmol/L</td>\n",
       "      <td>3.8</td>\n",
       "      <td>&lt;NA&gt;</td>\n",
       "      <td>&lt;NA&gt;</td>\n",
       "      <td>None</td>\n",
       "      <td>measurement.meas.rule.2.shc_order_results</td>\n",
       "      <td>shc_order_results</td>\n",
       "    </tr>\n",
       "  </tbody>\n",
       "</table>\n",
       "<p>2 rows × 25 columns</p>\n",
       "</div>"
      ],
      "text/plain": [
       "    measurement_id  person_id  measurement_concept_id measurement_DATE  \\\n",
       "23       549347411   30889452                 3005456       2015-12-11   \n",
       "24      2462060879   30684081                 3005456       2024-03-14   \n",
       "\n",
       "   measurement_DATETIME measurement_time  measurement_type_concept_id  \\\n",
       "23  2015-12-11 18:38:00             None                        32856   \n",
       "24  2024-03-14 06:37:00             None                        32856   \n",
       "\n",
       "    operator_concept_id  value_as_number  value_as_concept_id  ...  \\\n",
       "23                 <NA>              3.6                 <NA>  ...   \n",
       "24                 <NA>              3.8                 <NA>  ...   \n",
       "\n",
       "    visit_detail_id       measurement_source_value  \\\n",
       "23             <NA>  6298-4|K|POC:POTASSIUM, ISTAT   \n",
       "24             <NA>  6298-4|K|POC:POTASSIUM, ISTAT   \n",
       "\n",
       "    measurement_source_concept_id  unit_source_value  value_source_value  \\\n",
       "23                        3005456             mmol/L                 3.6   \n",
       "24                        3005456             mmol/L                 3.8   \n",
       "\n",
       "    modifier_of_event_id modifier_of_field_concept_id  trace_id  \\\n",
       "23                  <NA>                         <NA>      None   \n",
       "24                  <NA>                         <NA>      None   \n",
       "\n",
       "                                      unit_id      load_table_id  \n",
       "23  measurement.meas.rule.2.shc_order_results  shc_order_results  \n",
       "24  measurement.meas.rule.2.shc_order_results  shc_order_results  \n",
       "\n",
       "[2 rows x 25 columns]"
      ]
     },
     "execution_count": 36,
     "metadata": {},
     "output_type": "execute_result"
    }
   ],
   "source": [
    "labs_taken.head(2)"
   ]
  },
  {
   "cell_type": "code",
   "execution_count": 37,
   "id": "825d063f-fa3f-452f-8d4d-96d4993991a5",
   "metadata": {},
   "outputs": [
    {
     "data": {
      "text/html": [
       "<div>\n",
       "<style scoped>\n",
       "    .dataframe tbody tr th:only-of-type {\n",
       "        vertical-align: middle;\n",
       "    }\n",
       "\n",
       "    .dataframe tbody tr th {\n",
       "        vertical-align: top;\n",
       "    }\n",
       "\n",
       "    .dataframe thead th {\n",
       "        text-align: right;\n",
       "    }\n",
       "</style>\n",
       "<table border=\"1\" class=\"dataframe\">\n",
       "  <thead>\n",
       "    <tr style=\"text-align: right;\">\n",
       "      <th></th>\n",
       "      <th>visit_occurrence_id</th>\n",
       "      <th>person_id</th>\n",
       "      <th>visit_concept_id</th>\n",
       "      <th>visit_start_datetime</th>\n",
       "      <th>visit_end_datetime</th>\n",
       "      <th>los</th>\n",
       "    </tr>\n",
       "  </thead>\n",
       "  <tbody>\n",
       "    <tr>\n",
       "      <th>3</th>\n",
       "      <td>255585235</td>\n",
       "      <td>30586090</td>\n",
       "      <td>0</td>\n",
       "      <td>2007-06-06 08:53:00</td>\n",
       "      <td>2007-06-13 09:47:00</td>\n",
       "      <td>7 days 00:54:00</td>\n",
       "    </tr>\n",
       "    <tr>\n",
       "      <th>476</th>\n",
       "      <td>46727662</td>\n",
       "      <td>30799371</td>\n",
       "      <td>0</td>\n",
       "      <td>2019-12-29 05:27:00</td>\n",
       "      <td>2019-12-30 14:45:00</td>\n",
       "      <td>1 days 09:18:00</td>\n",
       "    </tr>\n",
       "    <tr>\n",
       "      <th>6984</th>\n",
       "      <td>130686596</td>\n",
       "      <td>31054795</td>\n",
       "      <td>0</td>\n",
       "      <td>2022-09-08 02:43:00</td>\n",
       "      <td>2022-09-09 13:49:00</td>\n",
       "      <td>1 days 11:06:00</td>\n",
       "    </tr>\n",
       "  </tbody>\n",
       "</table>\n",
       "</div>"
      ],
      "text/plain": [
       "      visit_occurrence_id  person_id  visit_concept_id visit_start_datetime  \\\n",
       "3               255585235   30586090                 0  2007-06-06 08:53:00   \n",
       "476              46727662   30799371                 0  2019-12-29 05:27:00   \n",
       "6984            130686596   31054795                 0  2022-09-08 02:43:00   \n",
       "\n",
       "      visit_end_datetime             los  \n",
       "3    2007-06-13 09:47:00 7 days 00:54:00  \n",
       "476  2019-12-30 14:45:00 1 days 09:18:00  \n",
       "6984 2022-09-09 13:49:00 1 days 11:06:00  "
      ]
     },
     "execution_count": 37,
     "metadata": {},
     "output_type": "execute_result"
    }
   ],
   "source": [
    "visit_occurrence_df.head(3)"
   ]
  },
  {
   "cell_type": "code",
   "execution_count": 38,
   "id": "7d49832b-238e-4cc2-afa5-a6740a09213d",
   "metadata": {},
   "outputs": [],
   "source": [
    "test_subj=30647459\n",
    "test_visit_occ_id=79377108 #112123180\n",
    "test_labs = labs_taken[(labs_taken['person_id']==test_subj)&(labs_taken['visit_occurrence_id']==test_visit_occ_id)]"
   ]
  },
  {
   "cell_type": "code",
   "execution_count": 39,
   "id": "17cf2670-2498-4331-ae47-55bc9e88c9c7",
   "metadata": {},
   "outputs": [
    {
     "data": {
      "text/html": [
       "<div>\n",
       "<style scoped>\n",
       "    .dataframe tbody tr th:only-of-type {\n",
       "        vertical-align: middle;\n",
       "    }\n",
       "\n",
       "    .dataframe tbody tr th {\n",
       "        vertical-align: top;\n",
       "    }\n",
       "\n",
       "    .dataframe thead th {\n",
       "        text-align: right;\n",
       "    }\n",
       "</style>\n",
       "<table border=\"1\" class=\"dataframe\">\n",
       "  <thead>\n",
       "    <tr style=\"text-align: right;\">\n",
       "      <th></th>\n",
       "      <th>measurement_id</th>\n",
       "      <th>person_id</th>\n",
       "      <th>measurement_concept_id</th>\n",
       "      <th>measurement_DATE</th>\n",
       "      <th>measurement_DATETIME</th>\n",
       "      <th>measurement_time</th>\n",
       "      <th>measurement_type_concept_id</th>\n",
       "      <th>operator_concept_id</th>\n",
       "      <th>value_as_number</th>\n",
       "      <th>value_as_concept_id</th>\n",
       "      <th>...</th>\n",
       "      <th>visit_detail_id</th>\n",
       "      <th>measurement_source_value</th>\n",
       "      <th>measurement_source_concept_id</th>\n",
       "      <th>unit_source_value</th>\n",
       "      <th>value_source_value</th>\n",
       "      <th>modifier_of_event_id</th>\n",
       "      <th>modifier_of_field_concept_id</th>\n",
       "      <th>trace_id</th>\n",
       "      <th>unit_id</th>\n",
       "      <th>load_table_id</th>\n",
       "    </tr>\n",
       "  </thead>\n",
       "  <tbody>\n",
       "  </tbody>\n",
       "</table>\n",
       "<p>0 rows × 25 columns</p>\n",
       "</div>"
      ],
      "text/plain": [
       "Empty DataFrame\n",
       "Columns: [measurement_id, person_id, measurement_concept_id, measurement_DATE, measurement_DATETIME, measurement_time, measurement_type_concept_id, operator_concept_id, value_as_number, value_as_concept_id, unit_concept_id, range_low, range_high, provider_id, visit_occurrence_id, visit_detail_id, measurement_source_value, measurement_source_concept_id, unit_source_value, value_source_value, modifier_of_event_id, modifier_of_field_concept_id, trace_id, unit_id, load_table_id]\n",
       "Index: []\n",
       "\n",
       "[0 rows x 25 columns]"
      ]
     },
     "execution_count": 39,
     "metadata": {},
     "output_type": "execute_result"
    }
   ],
   "source": [
    "test_labs"
   ]
  },
  {
   "cell_type": "code",
   "execution_count": 40,
   "id": "b3e182fb-32a0-4f1f-934e-705e182e3ab9",
   "metadata": {},
   "outputs": [],
   "source": [
    "info = get_patient_info(test_subj,test_visit_occ_id)\n",
    "admit =info['admit']\n",
    "dis =info['discharge']"
   ]
  },
  {
   "cell_type": "code",
   "execution_count": 41,
   "id": "6baa8a9f-2b10-44d9-89bd-7a70002cfbb7",
   "metadata": {},
   "outputs": [
    {
     "data": {
      "text/plain": [
       "Timestamp('2007-08-31 15:55:00')"
      ]
     },
     "execution_count": 41,
     "metadata": {},
     "output_type": "execute_result"
    }
   ],
   "source": [
    "admit"
   ]
  },
  {
   "cell_type": "code",
   "execution_count": 42,
   "id": "3fccc0a4-74fb-4c1b-b257-b556e7396e9e",
   "metadata": {},
   "outputs": [
    {
     "data": {
      "text/plain": [
       "Timestamp('2008-03-16 00:00:00')"
      ]
     },
     "execution_count": 42,
     "metadata": {},
     "output_type": "execute_result"
    }
   ],
   "source": [
    "dis"
   ]
  },
  {
   "cell_type": "code",
   "execution_count": 43,
   "id": "11b6fcf0-b86e-417d-92ad-fca94cb71880",
   "metadata": {},
   "outputs": [],
   "source": [
    "val = interpolate_K_lab(test_labs,\n",
    "                         admit, dis,\n",
    "                         labs_omop, 4)"
   ]
  },
  {
   "cell_type": "code",
   "execution_count": 44,
   "id": "bb3957e2-5431-4a70-8165-dfe1f022279b",
   "metadata": {},
   "outputs": [
    {
     "data": {
      "text/plain": [
       "0.0"
      ]
     },
     "execution_count": 44,
     "metadata": {},
     "output_type": "execute_result"
    }
   ],
   "source": [
    "val"
   ]
  },
  {
   "cell_type": "markdown",
   "id": "9c1348cd-ac91-4c19-bf0a-db59cafc1e03",
   "metadata": {},
   "source": [
    "for each patient - do all visits have lab/ drug admin? -> filter to only relevant visits\n"
   ]
  },
  {
   "cell_type": "code",
   "execution_count": 45,
   "id": "84634fb3-4bac-4f7f-92a0-c3f94ae9ad08",
   "metadata": {},
   "outputs": [
    {
     "data": {
      "text/html": [
       "<div>\n",
       "<style scoped>\n",
       "    .dataframe tbody tr th:only-of-type {\n",
       "        vertical-align: middle;\n",
       "    }\n",
       "\n",
       "    .dataframe tbody tr th {\n",
       "        vertical-align: top;\n",
       "    }\n",
       "\n",
       "    .dataframe thead th {\n",
       "        text-align: right;\n",
       "    }\n",
       "</style>\n",
       "<table border=\"1\" class=\"dataframe\">\n",
       "  <thead>\n",
       "    <tr style=\"text-align: right;\">\n",
       "      <th></th>\n",
       "      <th>drug_exposure_id</th>\n",
       "      <th>person_id</th>\n",
       "      <th>drug_concept_id</th>\n",
       "      <th>drug_exposure_start_DATE</th>\n",
       "      <th>drug_exposure_start_DATETIME</th>\n",
       "      <th>drug_exposure_end_DATE</th>\n",
       "      <th>drug_exposure_end_DATETIME</th>\n",
       "      <th>verbatim_end_DATE</th>\n",
       "      <th>drug_type_concept_id</th>\n",
       "      <th>stop_reason</th>\n",
       "      <th>...</th>\n",
       "      <th>visit_occurrence_id</th>\n",
       "      <th>visit_detail_id</th>\n",
       "      <th>drug_source_value</th>\n",
       "      <th>drug_source_concept_id</th>\n",
       "      <th>route_source_value</th>\n",
       "      <th>dose_unit_source_value</th>\n",
       "      <th>trace_id</th>\n",
       "      <th>unit_id</th>\n",
       "      <th>load_table_id</th>\n",
       "      <th>dose_bucket</th>\n",
       "    </tr>\n",
       "  </thead>\n",
       "  <tbody>\n",
       "  </tbody>\n",
       "</table>\n",
       "<p>0 rows × 27 columns</p>\n",
       "</div>"
      ],
      "text/plain": [
       "Empty DataFrame\n",
       "Columns: [drug_exposure_id, person_id, drug_concept_id, drug_exposure_start_DATE, drug_exposure_start_DATETIME, drug_exposure_end_DATE, drug_exposure_end_DATETIME, verbatim_end_DATE, drug_type_concept_id, stop_reason, refills, quantity, days_supply, sig, route_concept_id, lot_number, provider_id, visit_occurrence_id, visit_detail_id, drug_source_value, drug_source_concept_id, route_source_value, dose_unit_source_value, trace_id, unit_id, load_table_id, dose_bucket]\n",
       "Index: []\n",
       "\n",
       "[0 rows x 27 columns]"
      ]
     },
     "execution_count": 45,
     "metadata": {},
     "output_type": "execute_result"
    }
   ],
   "source": [
    "test_meds = meds_admin[\n",
    "    (meds_admin['person_id'] == test_subj) &\n",
    "    (meds_admin['drug_exposure_start_DATETIME'] >= admit) &\n",
    "    (meds_admin['drug_exposure_start_DATETIME'] <= dis)\n",
    "].copy()\n",
    "test_meds.head(5)"
   ]
  },
  {
   "cell_type": "code",
   "execution_count": 46,
   "id": "e4b75233-c686-4b4e-9e0f-2512e5150e7c",
   "metadata": {},
   "outputs": [
    {
     "data": {
      "text/plain": [
       "NaT"
      ]
     },
     "execution_count": 46,
     "metadata": {},
     "output_type": "execute_result"
    }
   ],
   "source": [
    "med_time = test_meds['drug_exposure_start_DATETIME'].min()\n",
    "med_time"
   ]
  },
  {
   "cell_type": "code",
   "execution_count": 47,
   "id": "cb1e2531-bf25-4b4c-afb2-970a6486d4e5",
   "metadata": {},
   "outputs": [
    {
     "name": "stdout",
     "output_type": "stream",
     "text": [
      "lab_before: 0.0 lab_after: 0.0 offset: 0\n"
     ]
    }
   ],
   "source": [
    "lab_bef, lab_aft, offset = get_before_after(\n",
    "    test_labs,\n",
    "    admit,\n",
    "    dis,\n",
    "    med_time,\n",
    "    time_delta_hours=4\n",
    ")\n",
    "print(\"lab_before:\", lab_bef, \"lab_after:\", lab_aft, \"offset:\", offset)"
   ]
  },
  {
   "cell_type": "code",
   "execution_count": 48,
   "id": "26355a40-e94f-4a74-a376-d2283524718a",
   "metadata": {},
   "outputs": [
    {
     "name": "stdout",
     "output_type": "stream",
     "text": [
      "Subject 30647459 has 25 stays with atleast one lab\n",
      "Stay 71015255: skipped 0/12 intervals\n",
      "Stay 71015255: sparse → dropped\n",
      "Patient 30647459: skipped 24/25 stays\n"
     ]
    }
   ],
   "source": [
    "states, actions, rewards = construct_trajectory(test_subj)"
   ]
  },
  {
   "cell_type": "code",
   "execution_count": 49,
   "id": "9f08ccee-4301-42c8-a5fd-b848f0c5b7ad",
   "metadata": {},
   "outputs": [
    {
     "data": {
      "text/plain": [
       "0"
      ]
     },
     "execution_count": 49,
     "metadata": {},
     "output_type": "execute_result"
    }
   ],
   "source": [
    "len(states)"
   ]
  },
  {
   "cell_type": "code",
   "execution_count": 50,
   "id": "0c70ea6a-8506-4ea6-9119-8035ddac16d3",
   "metadata": {},
   "outputs": [
    {
     "ename": "IndexError",
     "evalue": "list index out of range",
     "output_type": "error",
     "traceback": [
      "\u001b[0;31m---------------------------------------------------------------------------\u001b[0m",
      "\u001b[0;31mIndexError\u001b[0m                                Traceback (most recent call last)",
      "Cell \u001b[0;32mIn[50], line 1\u001b[0m\n\u001b[0;32m----> 1\u001b[0m \u001b[43mstates\u001b[49m\u001b[43m[\u001b[49m\u001b[38;5;241;43m0\u001b[39;49m\u001b[43m]\u001b[49m[\u001b[38;5;241m0\u001b[39m]\n",
      "\u001b[0;31mIndexError\u001b[0m: list index out of range"
     ]
    }
   ],
   "source": [
    "states[0][0]"
   ]
  },
  {
   "cell_type": "code",
   "execution_count": 51,
   "id": "9f97030e-98eb-41ac-9ff6-f5382be9eba1",
   "metadata": {},
   "outputs": [],
   "source": [
    "train_subject_ids = subject_ids[100:300]"
   ]
  },
  {
   "cell_type": "code",
   "execution_count": 52,
   "id": "29017c78-7204-4d8c-b385-2a6ee4a5e45d",
   "metadata": {},
   "outputs": [],
   "source": [
    "import tqdm\n",
    "def build_expert_trajectories(subject_ids):\n",
    "    \"\"\"\n",
    "    Collect every *stay* as an individual trajectory.\n",
    "    \"\"\"\n",
    "    trajectory_states = []\n",
    "    trajectory_actions = []\n",
    "    trajectory_rewards = []\n",
    "    trajectory_sum_rewards = []\n",
    "\n",
    "    for subject_id in tqdm.tqdm(subject_ids):\n",
    "        try:\n",
    "            # each is now  [stay1, stay2, …]\n",
    "            states_list, actions_list, rewards_list = construct_trajectory(subject_id)\n",
    "\n",
    "            # ── NEW: push every stay separately ───────────────────────────\n",
    "            for s, a, r in zip(states_list, actions_list, rewards_list):\n",
    "                if s and a and r:\n",
    "                    trajectory_states.append(s)\n",
    "                    trajectory_actions.append(a)\n",
    "                    trajectory_rewards.append(r)\n",
    "                    trajectory_sum_rewards.append(sum(r))\n",
    "            # ──────────────────────────────────────────────────────────────\n",
    "\n",
    "        except Exception as e:\n",
    "            print(f\"Error processing subject {subject_id}: {str(e)}\")\n",
    "            continue\n",
    "\n",
    "    return {\n",
    "        'states'      : trajectory_states,\n",
    "        'actions'     : trajectory_actions,\n",
    "        'rewards'     : trajectory_rewards,\n",
    "        'reward_sum'  : trajectory_sum_rewards\n",
    "    }\n"
   ]
  },
  {
   "cell_type": "code",
   "execution_count": 53,
   "id": "e2336113-a598-4cec-8d4a-8ff23c9a5f87",
   "metadata": {},
   "outputs": [
    {
     "name": "stderr",
     "output_type": "stream",
     "text": [
      "  0%|                                                   | 0/200 [00:00<?, ?it/s]"
     ]
    },
    {
     "name": "stdout",
     "output_type": "stream",
     "text": [
      "Subject 30338437 has 39 stays with atleast one lab\n",
      "Stay 105624291: skipped 0/28 intervals\n",
      "Stay 69582538: skipped 0/35 intervals\n",
      "Stay 69582538: sparse → dropped\n"
     ]
    },
    {
     "name": "stderr",
     "output_type": "stream",
     "text": [
      "  0%|▏                                          | 1/200 [00:02<06:41,  2.02s/it]"
     ]
    },
    {
     "name": "stdout",
     "output_type": "stream",
     "text": [
      "Patient 30338437: skipped 37/39 stays\n",
      "Subject 93436398 has 41 stays with atleast one lab\n",
      "Stay 163821123: skipped 0/172 intervals\n",
      "Stay 163821123: sparse → dropped\n",
      "Stay 106073578: skipped 0/60 intervals\n",
      "Stay 106073578: sparse → dropped\n"
     ]
    },
    {
     "name": "stderr",
     "output_type": "stream",
     "text": [
      "  1%|▍                                          | 2/200 [00:05<10:00,  3.03s/it]"
     ]
    },
    {
     "name": "stdout",
     "output_type": "stream",
     "text": [
      "Patient 93436398: skipped 39/41 stays\n",
      "Subject 30357446 has 1 stays with atleast one lab\n"
     ]
    },
    {
     "name": "stderr",
     "output_type": "stream",
     "text": [
      "  2%|▋                                          | 3/200 [00:06<06:22,  1.94s/it]"
     ]
    },
    {
     "name": "stdout",
     "output_type": "stream",
     "text": [
      "Stay 64759580: skipped 0/51 intervals\n",
      "Stay 64759580: sparse → dropped\n",
      "Patient 30357446: skipped 0/1 stays\n",
      "Subject 97074435 has 3 stays with atleast one lab\n"
     ]
    },
    {
     "name": "stderr",
     "output_type": "stream",
     "text": [
      "  2%|▊                                          | 4/200 [00:07<05:23,  1.65s/it]"
     ]
    },
    {
     "name": "stdout",
     "output_type": "stream",
     "text": [
      "Stay 201376513: skipped 0/97 intervals\n",
      "Patient 97074435: skipped 2/3 stays\n",
      "Subject 30224695 has 73 stays with atleast one lab\n",
      "Stay 106451381: skipped 0/34 intervals\n"
     ]
    },
    {
     "name": "stderr",
     "output_type": "stream",
     "text": [
      "  2%|█                                          | 5/200 [00:09<06:04,  1.87s/it]"
     ]
    },
    {
     "name": "stdout",
     "output_type": "stream",
     "text": [
      "Patient 30224695: skipped 72/73 stays\n",
      "Subject 30917199 has 13 stays with atleast one lab\n",
      "Stay 174237962: skipped 0/10 intervals\n",
      "Stay 174237962: sparse → dropped\n"
     ]
    },
    {
     "name": "stderr",
     "output_type": "stream",
     "text": [
      "  3%|█▎                                         | 6/200 [00:10<04:42,  1.46s/it]"
     ]
    },
    {
     "name": "stdout",
     "output_type": "stream",
     "text": [
      "Stay 182466689: skipped 0/22 intervals\n",
      "Patient 30917199: skipped 11/13 stays\n",
      "Subject 31672108 has 53 stays with atleast one lab\n",
      "Stay 105536570: skipped 0/19 intervals\n",
      "Stay 74004673: skipped 0/4 intervals\n",
      "Stay 74004673: sparse → dropped\n",
      "Stay 44730753: skipped 0/20 intervals\n",
      "Stay 44730753: sparse → dropped\n"
     ]
    },
    {
     "name": "stderr",
     "output_type": "stream",
     "text": [
      "  4%|█▌                                         | 7/200 [00:12<04:56,  1.53s/it]"
     ]
    },
    {
     "name": "stdout",
     "output_type": "stream",
     "text": [
      "Patient 31672108: skipped 50/53 stays\n",
      "Subject 32117368 has 24 stays with atleast one lab\n",
      "Stay 27846184: skipped 0/67 intervals\n",
      "Stay 27846184: sparse → dropped\n"
     ]
    },
    {
     "name": "stderr",
     "output_type": "stream",
     "text": [
      "  4%|█▋                                         | 8/200 [00:13<04:40,  1.46s/it]"
     ]
    },
    {
     "name": "stdout",
     "output_type": "stream",
     "text": [
      "Patient 32117368: skipped 23/24 stays\n",
      "Subject 30817977 has 14 stays with atleast one lab\n",
      "Stay 234207950: skipped 0/132 intervals\n"
     ]
    },
    {
     "name": "stderr",
     "output_type": "stream",
     "text": [
      "  4%|█▉                                         | 9/200 [00:15<04:44,  1.49s/it]"
     ]
    },
    {
     "name": "stdout",
     "output_type": "stream",
     "text": [
      "Patient 30817977: skipped 13/14 stays\n",
      "Subject 30250334 has 17 stays with atleast one lab\n",
      "Stay 80929750: skipped 0/8 intervals\n",
      "Stay 28093235: skipped 0/14 intervals\n",
      "Stay 251914418: skipped 0/44 intervals\n",
      "Stay 23185715: skipped 0/17 intervals\n",
      "Stay 23185715: sparse → dropped\n",
      "Stay 170650866: skipped 0/15 intervals\n",
      "Stay 25390718: skipped 0/16 intervals\n"
     ]
    },
    {
     "name": "stderr",
     "output_type": "stream",
     "text": [
      "  5%|██                                        | 10/200 [00:16<04:53,  1.55s/it]"
     ]
    },
    {
     "name": "stdout",
     "output_type": "stream",
     "text": [
      "Patient 30250334: skipped 11/17 stays\n",
      "Subject 44759689 has 97 stays with atleast one lab\n",
      "Stay 222895293: skipped 0/21 intervals\n"
     ]
    },
    {
     "name": "stderr",
     "output_type": "stream",
     "text": [
      "  6%|██▎                                       | 11/200 [00:19<05:57,  1.89s/it]"
     ]
    },
    {
     "name": "stdout",
     "output_type": "stream",
     "text": [
      "Patient 44759689: skipped 96/97 stays\n",
      "Subject 30745450 has 51 stays with atleast one lab\n",
      "Stay 244940180: skipped 0/32 intervals\n",
      "Stay 22120685: skipped 0/270 intervals\n",
      "Stay 22120685: sparse → dropped\n",
      "Stay 252025106: skipped 0/139 intervals\n"
     ]
    },
    {
     "name": "stderr",
     "output_type": "stream",
     "text": [
      "  6%|██▌                                       | 12/200 [00:25<09:41,  3.09s/it]"
     ]
    },
    {
     "name": "stdout",
     "output_type": "stream",
     "text": [
      "Patient 30745450: skipped 48/51 stays\n",
      "Subject 72251080 has 5 stays with atleast one lab\n",
      "Stay 254418269: skipped 0/129 intervals\n",
      "Stay 254418269: sparse → dropped\n"
     ]
    },
    {
     "name": "stderr",
     "output_type": "stream",
     "text": [
      "  6%|██▋                                       | 13/200 [00:26<08:14,  2.64s/it]"
     ]
    },
    {
     "name": "stdout",
     "output_type": "stream",
     "text": [
      "Patient 72251080: skipped 4/5 stays\n",
      "Subject 30790246 has 31 stays with atleast one lab\n",
      "Stay 219713824: skipped 0/44 intervals\n",
      "Stay 219713824: sparse → dropped\n"
     ]
    },
    {
     "name": "stderr",
     "output_type": "stream",
     "text": [
      "  7%|██▉                                       | 14/200 [00:28<06:49,  2.20s/it]"
     ]
    },
    {
     "name": "stdout",
     "output_type": "stream",
     "text": [
      "Patient 30790246: skipped 30/31 stays\n",
      "Subject 96956556 has 1 stays with atleast one lab\n"
     ]
    },
    {
     "name": "stderr",
     "output_type": "stream",
     "text": [
      "  8%|███▏                                      | 15/200 [00:28<05:02,  1.64s/it]"
     ]
    },
    {
     "name": "stdout",
     "output_type": "stream",
     "text": [
      "Stay 226834186: skipped 0/30 intervals\n",
      "Patient 96956556: skipped 0/1 stays\n",
      "Subject 31359351 has 19 stays with atleast one lab\n",
      "Stay 231538024: skipped 0/58 intervals\n",
      "Stay 231538024: sparse → dropped\n"
     ]
    },
    {
     "name": "stderr",
     "output_type": "stream",
     "text": [
      "  8%|███▎                                      | 16/200 [00:29<04:45,  1.55s/it]"
     ]
    },
    {
     "name": "stdout",
     "output_type": "stream",
     "text": [
      "Patient 31359351: skipped 18/19 stays\n",
      "Subject 32359569 has 10 stays with atleast one lab\n",
      "Stay 99009736: skipped 0/63 intervals\n",
      "Stay 159481781: skipped 0/4 intervals\n",
      "Stay 159481781: sparse → dropped\n"
     ]
    },
    {
     "name": "stderr",
     "output_type": "stream",
     "text": [
      "  8%|███▌                                      | 17/200 [00:30<04:14,  1.39s/it]"
     ]
    },
    {
     "name": "stdout",
     "output_type": "stream",
     "text": [
      "Patient 32359569: skipped 8/10 stays\n",
      "Subject 32309190 has 7 stays with atleast one lab\n",
      "Stay 224916533: skipped 0/58 intervals\n",
      "Stay 224916533: sparse → dropped\n",
      "Stay 85806401: skipped 0/16 intervals\n"
     ]
    },
    {
     "name": "stderr",
     "output_type": "stream",
     "text": [
      "  9%|███▊                                      | 18/200 [00:31<03:54,  1.29s/it]"
     ]
    },
    {
     "name": "stdout",
     "output_type": "stream",
     "text": [
      "Patient 32309190: skipped 5/7 stays\n",
      "Subject 30911347 has 36 stays with atleast one lab\n",
      "Stay 86613251: skipped 0/10 intervals\n"
     ]
    },
    {
     "name": "stderr",
     "output_type": "stream",
     "text": [
      " 10%|███▉                                      | 19/200 [00:32<03:39,  1.21s/it]"
     ]
    },
    {
     "name": "stdout",
     "output_type": "stream",
     "text": [
      "Patient 30911347: skipped 35/36 stays\n",
      "Subject 31537387 has 130 stays with atleast one lab\n",
      "Stay 243333847: skipped 0/92 intervals\n"
     ]
    },
    {
     "name": "stderr",
     "output_type": "stream",
     "text": [
      " 10%|████▏                                     | 20/200 [00:36<06:07,  2.04s/it]"
     ]
    },
    {
     "name": "stdout",
     "output_type": "stream",
     "text": [
      "Patient 31537387: skipped 129/130 stays\n",
      "Subject 31487094 has 17 stays with atleast one lab\n",
      "Stay 137576752: skipped 0/51 intervals\n",
      "Stay 137576752: sparse → dropped\n",
      "Stay 159027216: skipped 0/2 intervals\n",
      "Stay 159027216: sparse → dropped\n"
     ]
    },
    {
     "name": "stderr",
     "output_type": "stream",
     "text": [
      " 10%|████▍                                     | 21/200 [00:37<05:14,  1.76s/it]"
     ]
    },
    {
     "name": "stdout",
     "output_type": "stream",
     "text": [
      "Patient 31487094: skipped 15/17 stays\n",
      "Subject 30858119 has 23 stays with atleast one lab\n",
      "Stay 144642935: skipped 0/88 intervals\n",
      "Stay 134129553: skipped 0/112 intervals\n",
      "Stay 134129553: sparse → dropped\n",
      "Stay 204859554: skipped 0/69 intervals\n",
      "Stay 204859554: sparse → dropped\n",
      "Stay 52788210: skipped 0/57 intervals\n",
      "Stay 52788210: sparse → dropped\n"
     ]
    },
    {
     "name": "stderr",
     "output_type": "stream",
     "text": [
      " 11%|████▌                                     | 22/200 [00:42<07:42,  2.60s/it]"
     ]
    },
    {
     "name": "stdout",
     "output_type": "stream",
     "text": [
      "Patient 30858119: skipped 19/23 stays\n",
      "Subject 72458585 has 3 stays with atleast one lab\n",
      "Stay 227397912: skipped 0/15 intervals\n"
     ]
    },
    {
     "name": "stderr",
     "output_type": "stream",
     "text": [
      " 12%|████▊                                     | 23/200 [00:42<05:32,  1.88s/it]"
     ]
    },
    {
     "name": "stdout",
     "output_type": "stream",
     "text": [
      "Patient 72458585: skipped 2/3 stays\n",
      "Subject 72405316 has 1 stays with atleast one lab\n"
     ]
    },
    {
     "name": "stderr",
     "output_type": "stream",
     "text": [
      " 12%|█████                                     | 24/200 [00:42<04:06,  1.40s/it]"
     ]
    },
    {
     "name": "stdout",
     "output_type": "stream",
     "text": [
      "Stay 34297930: skipped 0/22 intervals\n",
      "Patient 72405316: skipped 0/1 stays\n",
      "Subject 30854380 has 31 stays with atleast one lab\n",
      "Stay 72604299: skipped 0/2 intervals\n",
      "Stay 72604299: sparse → dropped\n"
     ]
    },
    {
     "name": "stderr",
     "output_type": "stream",
     "text": [
      " 12%|█████▎                                    | 25/200 [00:43<03:37,  1.24s/it]"
     ]
    },
    {
     "name": "stdout",
     "output_type": "stream",
     "text": [
      "Patient 30854380: skipped 30/31 stays\n",
      "Subject 30223756 has 70 stays with atleast one lab\n",
      "Stay 252097792: skipped 0/81 intervals\n",
      "Stay 252097792: sparse → dropped\n",
      "Stay 49032290: skipped 0/15 intervals\n",
      "Stay 43588618: skipped 0/10 intervals\n"
     ]
    },
    {
     "name": "stderr",
     "output_type": "stream",
     "text": [
      " 13%|█████▍                                    | 26/200 [00:47<05:27,  1.88s/it]"
     ]
    },
    {
     "name": "stdout",
     "output_type": "stream",
     "text": [
      "Patient 30223756: skipped 67/70 stays\n",
      "Subject 32414554 has 21 stays with atleast one lab\n"
     ]
    },
    {
     "name": "stderr",
     "output_type": "stream",
     "text": [
      " 14%|█████▋                                    | 27/200 [00:47<04:21,  1.51s/it]"
     ]
    },
    {
     "name": "stdout",
     "output_type": "stream",
     "text": [
      "Patient 32414554: skipped 21/21 stays\n",
      "Subject 30444621 has 2 stays with atleast one lab\n"
     ]
    },
    {
     "name": "stderr",
     "output_type": "stream",
     "text": [
      " 14%|█████▉                                    | 28/200 [00:48<03:44,  1.30s/it]"
     ]
    },
    {
     "name": "stdout",
     "output_type": "stream",
     "text": [
      "Stay 15004517: skipped 0/63 intervals\n",
      "Patient 30444621: skipped 1/2 stays\n",
      "Subject 30655880 has 4 stays with atleast one lab\n"
     ]
    },
    {
     "name": "stderr",
     "output_type": "stream",
     "text": [
      " 14%|██████                                    | 29/200 [00:49<03:40,  1.29s/it]"
     ]
    },
    {
     "name": "stdout",
     "output_type": "stream",
     "text": [
      "Stay 146060117: skipped 0/103 intervals\n",
      "Stay 146060117: sparse → dropped\n",
      "Patient 30655880: skipped 3/4 stays\n",
      "Subject 30490971 has 19 stays with atleast one lab\n",
      "Stay 199329570: skipped 0/99 intervals\n",
      "Stay 214878432: skipped 0/47 intervals\n",
      "Stay 214878432: sparse → dropped\n"
     ]
    },
    {
     "name": "stderr",
     "output_type": "stream",
     "text": [
      " 15%|██████▎                                   | 30/200 [00:52<04:24,  1.56s/it]"
     ]
    },
    {
     "name": "stdout",
     "output_type": "stream",
     "text": [
      "Patient 30490971: skipped 17/19 stays\n",
      "Subject 30926857 has 58 stays with atleast one lab\n",
      "Stay 183038513: skipped 0/17 intervals\n",
      "Stay 240434636: skipped 0/11 intervals\n",
      "Stay 168029315: skipped 0/46 intervals\n",
      "Stay 168029315: sparse → dropped\n",
      "Stay 120572539: skipped 0/10 intervals\n",
      "Stay 120572539: sparse → dropped\n"
     ]
    },
    {
     "name": "stderr",
     "output_type": "stream",
     "text": [
      " 16%|██████▌                                   | 31/200 [00:54<05:22,  1.91s/it]"
     ]
    },
    {
     "name": "stdout",
     "output_type": "stream",
     "text": [
      "Patient 30926857: skipped 54/58 stays\n",
      "Subject 32395806 has 14 stays with atleast one lab\n",
      "Stay 81909225: skipped 0/102 intervals\n"
     ]
    },
    {
     "name": "stderr",
     "output_type": "stream",
     "text": [
      " 16%|██████▋                                   | 32/200 [00:56<05:00,  1.79s/it]"
     ]
    },
    {
     "name": "stdout",
     "output_type": "stream",
     "text": [
      "Patient 32395806: skipped 13/14 stays\n",
      "Subject 30315745 has 13 stays with atleast one lab\n",
      "Stay 81274009: skipped 0/206 intervals\n",
      "Stay 85851694: skipped 0/19 intervals\n"
     ]
    },
    {
     "name": "stderr",
     "output_type": "stream",
     "text": [
      " 16%|██████▉                                   | 33/200 [00:59<06:09,  2.22s/it]"
     ]
    },
    {
     "name": "stdout",
     "output_type": "stream",
     "text": [
      "Patient 30315745: skipped 11/13 stays\n",
      "Subject 31942108 has 6 stays with atleast one lab\n"
     ]
    },
    {
     "name": "stderr",
     "output_type": "stream",
     "text": [
      " 17%|███████▏                                  | 34/200 [00:59<04:35,  1.66s/it]"
     ]
    },
    {
     "name": "stdout",
     "output_type": "stream",
     "text": [
      "Stay 133524054: skipped 0/16 intervals\n",
      "Patient 31942108: skipped 5/6 stays\n",
      "Subject 30050773 has 1 stays with atleast one lab\n"
     ]
    },
    {
     "name": "stderr",
     "output_type": "stream",
     "text": [
      " 18%|███████▌                                  | 36/200 [01:00<02:27,  1.11it/s]"
     ]
    },
    {
     "name": "stdout",
     "output_type": "stream",
     "text": [
      "Stay 9711361: skipped 0/22 intervals\n",
      "Patient 30050773: skipped 0/1 stays\n",
      "Subject 32184531 has 1 stays with atleast one lab\n",
      "Stay 197775212: skipped 0/7 intervals\n",
      "Stay 197775212: sparse → dropped\n",
      "Patient 32184531: skipped 0/1 stays\n",
      "Subject 30044898 has 38 stays with atleast one lab\n",
      "Stay 85822502: skipped 0/32 intervals\n",
      "Stay 247834990: skipped 0/31 intervals\n",
      "Stay 247834990: sparse → dropped\n",
      "Stay 116395645: skipped 0/245 intervals\n",
      "Stay 116395645: sparse → dropped\n",
      "Stay 188543913: skipped 0/57 intervals\n",
      "Stay 188543913: sparse → dropped\n"
     ]
    },
    {
     "name": "stderr",
     "output_type": "stream",
     "text": [
      " 18%|███████▊                                  | 37/200 [01:05<05:55,  2.18s/it]"
     ]
    },
    {
     "name": "stdout",
     "output_type": "stream",
     "text": [
      "Patient 30044898: skipped 34/38 stays\n",
      "Subject 32461303 has 25 stays with atleast one lab\n",
      "Stay 126418419: skipped 0/57 intervals\n",
      "Stay 94072325: skipped 0/33 intervals\n"
     ]
    },
    {
     "name": "stderr",
     "output_type": "stream",
     "text": [
      " 19%|███████▉                                  | 38/200 [01:07<05:53,  2.18s/it]"
     ]
    },
    {
     "name": "stdout",
     "output_type": "stream",
     "text": [
      "Patient 32461303: skipped 23/25 stays\n",
      "Subject 30759631 has 3 stays with atleast one lab\n"
     ]
    },
    {
     "name": "stderr",
     "output_type": "stream",
     "text": [
      " 20%|████████▏                                 | 39/200 [01:07<04:23,  1.64s/it]"
     ]
    },
    {
     "name": "stdout",
     "output_type": "stream",
     "text": [
      "Stay 190731264: skipped 0/28 intervals\n",
      "Stay 190731264: sparse → dropped\n",
      "Patient 30759631: skipped 2/3 stays\n",
      "Subject 69020968 has 2 stays with atleast one lab\n"
     ]
    },
    {
     "name": "stderr",
     "output_type": "stream",
     "text": [
      " 20%|████████▍                                 | 40/200 [01:08<03:27,  1.29s/it]"
     ]
    },
    {
     "name": "stdout",
     "output_type": "stream",
     "text": [
      "Stay 114854596: skipped 0/36 intervals\n",
      "Stay 114854596: sparse → dropped\n",
      "Patient 69020968: skipped 1/2 stays\n",
      "Subject 32297134 has 73 stays with atleast one lab\n",
      "Stay 141635055: skipped 0/57 intervals\n",
      "Stay 141635055: sparse → dropped\n"
     ]
    },
    {
     "name": "stderr",
     "output_type": "stream",
     "text": [
      " 20%|████████▌                                 | 41/200 [01:11<04:25,  1.67s/it]"
     ]
    },
    {
     "name": "stdout",
     "output_type": "stream",
     "text": [
      "Patient 32297134: skipped 72/73 stays\n",
      "Subject 46019658 has 33 stays with atleast one lab\n",
      "Stay 106274910: skipped 0/148 intervals\n",
      "Stay 106274910: sparse → dropped\n"
     ]
    },
    {
     "name": "stderr",
     "output_type": "stream",
     "text": [
      " 21%|████████▊                                 | 42/200 [01:13<05:01,  1.91s/it]"
     ]
    },
    {
     "name": "stdout",
     "output_type": "stream",
     "text": [
      "Patient 46019658: skipped 32/33 stays\n",
      "Subject 31374645 has 90 stays with atleast one lab\n",
      "Stay 174624678: skipped 0/189 intervals\n",
      "Stay 174624678: sparse → dropped\n"
     ]
    },
    {
     "name": "stderr",
     "output_type": "stream",
     "text": [
      " 22%|█████████                                 | 43/200 [01:17<07:01,  2.68s/it]"
     ]
    },
    {
     "name": "stdout",
     "output_type": "stream",
     "text": [
      "Patient 31374645: skipped 89/90 stays\n",
      "Subject 30955310 has 85 stays with atleast one lab\n",
      "Stay 128873820: skipped 0/39 intervals\n"
     ]
    },
    {
     "name": "stderr",
     "output_type": "stream",
     "text": [
      " 22%|█████████▏                                | 44/200 [01:21<07:17,  2.80s/it]"
     ]
    },
    {
     "name": "stdout",
     "output_type": "stream",
     "text": [
      "Patient 30955310: skipped 84/85 stays\n",
      "Subject 31369376 has 24 stays with atleast one lab\n",
      "Stay 230666816: skipped 0/160 intervals\n",
      "Stay 230666816: sparse → dropped\n",
      "Stay 81010112: skipped 0/67 intervals\n",
      "Stay 81010112: sparse → dropped\n"
     ]
    },
    {
     "name": "stderr",
     "output_type": "stream",
     "text": [
      " 22%|█████████▍                                | 45/200 [01:24<07:28,  2.89s/it]"
     ]
    },
    {
     "name": "stdout",
     "output_type": "stream",
     "text": [
      "Patient 31369376: skipped 22/24 stays\n",
      "Subject 30012270 has 81 stays with atleast one lab\n",
      "Stay 249490950: skipped 0/45 intervals\n",
      "Stay 68197208: skipped 0/128 intervals\n",
      "Stay 95910045: skipped 0/10 intervals\n",
      "Stay 95910045: sparse → dropped\n",
      "Stay 86964925: skipped 0/35 intervals\n"
     ]
    },
    {
     "name": "stderr",
     "output_type": "stream",
     "text": [
      " 23%|█████████▋                                | 46/200 [01:28<08:40,  3.38s/it]"
     ]
    },
    {
     "name": "stdout",
     "output_type": "stream",
     "text": [
      "Patient 30012270: skipped 77/81 stays\n",
      "Subject 30781908 has 55 stays with atleast one lab\n",
      "Stay 86133011: skipped 0/32 intervals\n",
      "Stay 86133011: sparse → dropped\n"
     ]
    },
    {
     "name": "stderr",
     "output_type": "stream",
     "text": [
      " 24%|█████████▊                                | 47/200 [01:30<07:27,  2.93s/it]"
     ]
    },
    {
     "name": "stdout",
     "output_type": "stream",
     "text": [
      "Patient 30781908: skipped 54/55 stays\n",
      "Subject 80557564 has 1 stays with atleast one lab\n"
     ]
    },
    {
     "name": "stderr",
     "output_type": "stream",
     "text": [
      " 24%|██████████                                | 48/200 [01:31<05:35,  2.21s/it]"
     ]
    },
    {
     "name": "stdout",
     "output_type": "stream",
     "text": [
      "Stay 50670058: skipped 0/40 intervals\n",
      "Stay 50670058: sparse → dropped\n",
      "Patient 80557564: skipped 0/1 stays\n",
      "Subject 32350112 has 47 stays with atleast one lab\n",
      "Stay 227416671: skipped 0/107 intervals\n",
      "Stay 227416671: sparse → dropped\n",
      "Stay 163810925: skipped 0/14 intervals\n",
      "Stay 163810925: sparse → dropped\n"
     ]
    },
    {
     "name": "stderr",
     "output_type": "stream",
     "text": [
      " 24%|██████████▎                               | 49/200 [01:34<06:08,  2.44s/it]"
     ]
    },
    {
     "name": "stdout",
     "output_type": "stream",
     "text": [
      "Patient 32350112: skipped 45/47 stays\n",
      "Subject 30106007 has 7 stays with atleast one lab\n"
     ]
    },
    {
     "name": "stderr",
     "output_type": "stream",
     "text": [
      " 25%|██████████▌                               | 50/200 [01:34<04:50,  1.93s/it]"
     ]
    },
    {
     "name": "stdout",
     "output_type": "stream",
     "text": [
      "Stay 163318730: skipped 0/46 intervals\n",
      "Patient 30106007: skipped 6/7 stays\n",
      "Subject 30404874 has 106 stays with atleast one lab\n",
      "Stay 250139340: skipped 0/887 intervals\n",
      "Stay 250139340: sparse → dropped\n"
     ]
    },
    {
     "name": "stderr",
     "output_type": "stream",
     "text": [
      " 26%|██████████▋                               | 51/200 [01:50<14:58,  6.03s/it]"
     ]
    },
    {
     "name": "stdout",
     "output_type": "stream",
     "text": [
      "Patient 30404874: skipped 105/106 stays\n",
      "Subject 31594221 has 54 stays with atleast one lab\n",
      "Stay 91643231: skipped 0/77 intervals\n",
      "Stay 91643231: sparse → dropped\n"
     ]
    },
    {
     "name": "stderr",
     "output_type": "stream",
     "text": [
      " 26%|██████████▉                               | 52/200 [01:51<11:25,  4.63s/it]"
     ]
    },
    {
     "name": "stdout",
     "output_type": "stream",
     "text": [
      "Error processing subject 31594221: single positional indexer is out-of-bounds\n",
      "Subject 31593778 has 4 stays with atleast one lab\n"
     ]
    },
    {
     "name": "stderr",
     "output_type": "stream",
     "text": [
      " 26%|███████████▏                              | 53/200 [01:52<08:33,  3.50s/it]"
     ]
    },
    {
     "name": "stdout",
     "output_type": "stream",
     "text": [
      "Stay 118622119: skipped 0/40 intervals\n",
      "Patient 31593778: skipped 3/4 stays\n",
      "Subject 43750887 has 3 stays with atleast one lab\n"
     ]
    },
    {
     "name": "stderr",
     "output_type": "stream",
     "text": [
      " 27%|███████████▎                              | 54/200 [01:52<06:12,  2.55s/it]"
     ]
    },
    {
     "name": "stdout",
     "output_type": "stream",
     "text": [
      "Stay 56711863: skipped 0/23 intervals\n",
      "Stay 56711863: sparse → dropped\n",
      "Patient 43750887: skipped 2/3 stays\n",
      "Subject 30047407 has 42 stays with atleast one lab\n",
      "Stay 22033368: skipped 0/20 intervals\n",
      "Stay 46890511: skipped 0/34 intervals\n",
      "Stay 123620877: skipped 0/35 intervals\n",
      "Stay 8806105: skipped 0/21 intervals\n",
      "Stay 8806105: sparse → dropped\n",
      "Stay 76277697: skipped 0/88 intervals\n",
      "Stay 76277697: sparse → dropped\n"
     ]
    },
    {
     "name": "stderr",
     "output_type": "stream",
     "text": [
      " 28%|███████████▌                              | 55/200 [01:56<06:40,  2.76s/it]"
     ]
    },
    {
     "name": "stdout",
     "output_type": "stream",
     "text": [
      "Patient 30047407: skipped 37/42 stays\n",
      "Subject 44537754 has 3 stays with atleast one lab\n",
      "Stay 105932445: skipped 0/13 intervals\n",
      "Stay 105932445: sparse → dropped\n"
     ]
    },
    {
     "name": "stderr",
     "output_type": "stream",
     "text": [
      " 28%|███████████▊                              | 56/200 [01:56<04:48,  2.00s/it]"
     ]
    },
    {
     "name": "stdout",
     "output_type": "stream",
     "text": [
      "Patient 44537754: skipped 2/3 stays\n",
      "Subject 31151194 has 51 stays with atleast one lab\n",
      "Stay 170788527: skipped 0/462 intervals\n",
      "Stay 170788527: sparse → dropped\n"
     ]
    },
    {
     "name": "stderr",
     "output_type": "stream",
     "text": [
      " 28%|███████████▉                              | 57/200 [02:02<07:32,  3.16s/it]"
     ]
    },
    {
     "name": "stdout",
     "output_type": "stream",
     "text": [
      "Patient 31151194: skipped 50/51 stays\n",
      "Subject 30017535 has 12 stays with atleast one lab\n",
      "Stay 53506129: skipped 0/30 intervals\n",
      "Stay 53506129: sparse → dropped\n"
     ]
    },
    {
     "name": "stderr",
     "output_type": "stream",
     "text": [
      " 29%|████████████▏                             | 58/200 [02:03<05:45,  2.44s/it]"
     ]
    },
    {
     "name": "stdout",
     "output_type": "stream",
     "text": [
      "Patient 30017535: skipped 11/12 stays\n",
      "Subject 31126264 has 5 stays with atleast one lab\n",
      "Stay 254119353: skipped 0/26 intervals\n",
      "Stay 130913302: skipped 0/137 intervals\n",
      "Stay 216354538: skipped 0/28 intervals\n"
     ]
    },
    {
     "name": "stderr",
     "output_type": "stream",
     "text": [
      " 30%|████████████▍                             | 59/200 [02:06<06:07,  2.61s/it]"
     ]
    },
    {
     "name": "stdout",
     "output_type": "stream",
     "text": [
      "Stay 253668159: skipped 0/62 intervals\n",
      "Patient 31126264: skipped 1/5 stays\n",
      "Subject 31452061 has 4 stays with atleast one lab\n"
     ]
    },
    {
     "name": "stderr",
     "output_type": "stream",
     "text": [
      " 30%|████████████▌                             | 60/200 [02:06<04:51,  2.08s/it]"
     ]
    },
    {
     "name": "stdout",
     "output_type": "stream",
     "text": [
      "Stay 162258829: skipped 0/57 intervals\n",
      "Patient 31452061: skipped 3/4 stays\n",
      "Subject 32156252 has 4 stays with atleast one lab\n",
      "Stay 88135449: skipped 0/34 intervals\n"
     ]
    },
    {
     "name": "stderr",
     "output_type": "stream",
     "text": [
      " 30%|████████████▊                             | 61/200 [02:08<04:32,  1.96s/it]"
     ]
    },
    {
     "name": "stdout",
     "output_type": "stream",
     "text": [
      "Stay 116942415: skipped 0/99 intervals\n",
      "Stay 116942415: sparse → dropped\n",
      "Patient 32156252: skipped 2/4 stays\n",
      "Subject 76433281 has 44 stays with atleast one lab\n",
      "Stay 229946962: skipped 0/398 intervals\n",
      "Stay 229946962: sparse → dropped\n",
      "Stay 24827150: skipped 0/142 intervals\n",
      "Stay 24827150: sparse → dropped\n"
     ]
    },
    {
     "name": "stderr",
     "output_type": "stream",
     "text": [
      " 31%|█████████████                             | 62/200 [02:15<07:42,  3.35s/it]"
     ]
    },
    {
     "name": "stdout",
     "output_type": "stream",
     "text": [
      "Patient 76433281: skipped 42/44 stays\n",
      "Subject 30949915 has 17 stays with atleast one lab\n",
      "Stay 30141352: skipped 0/55 intervals\n"
     ]
    },
    {
     "name": "stderr",
     "output_type": "stream",
     "text": [
      " 32%|█████████████▏                            | 63/200 [02:16<06:04,  2.66s/it]"
     ]
    },
    {
     "name": "stdout",
     "output_type": "stream",
     "text": [
      "Patient 30949915: skipped 16/17 stays\n",
      "Subject 30779436 has 47 stays with atleast one lab\n",
      "Stay 219157796: skipped 0/102 intervals\n",
      "Stay 219157796: sparse → dropped\n",
      "Stay 152269338: skipped 0/173 intervals\n",
      "Stay 152269338: sparse → dropped\n",
      "Stay 195437315: skipped 0/9 intervals\n",
      "Stay 195437315: sparse → dropped\n"
     ]
    },
    {
     "name": "stderr",
     "output_type": "stream",
     "text": [
      " 32%|█████████████▍                            | 64/200 [02:20<06:55,  3.05s/it]"
     ]
    },
    {
     "name": "stdout",
     "output_type": "stream",
     "text": [
      "Patient 30779436: skipped 44/47 stays\n",
      "Subject 30830797 has 17 stays with atleast one lab\n",
      "Stay 229223555: skipped 0/54 intervals\n",
      "Stay 229223555: sparse → dropped\n",
      "Stay 239449504: skipped 0/48 intervals\n",
      "Stay 239449504: sparse → dropped\n",
      "Stay 239015561: skipped 0/10 intervals\n",
      "Stay 239015561: sparse → dropped\n"
     ]
    },
    {
     "name": "stderr",
     "output_type": "stream",
     "text": [
      " 32%|█████████████▋                            | 65/200 [02:21<05:53,  2.62s/it]"
     ]
    },
    {
     "name": "stdout",
     "output_type": "stream",
     "text": [
      "Patient 30830797: skipped 14/17 stays\n",
      "Subject 30850274 has 182 stays with atleast one lab\n",
      "Stay 206377140: skipped 0/151 intervals\n",
      "Stay 117590262: skipped 0/26 intervals\n",
      "Stay 117590262: sparse → dropped\n"
     ]
    },
    {
     "name": "stderr",
     "output_type": "stream",
     "text": [
      " 33%|█████████████▊                            | 66/200 [02:28<08:19,  3.73s/it]"
     ]
    },
    {
     "name": "stdout",
     "output_type": "stream",
     "text": [
      "Patient 30850274: skipped 180/182 stays\n",
      "Subject 72242173 has 22 stays with atleast one lab\n",
      "Stay 130198246: skipped 0/75 intervals\n",
      "Stay 130198246: sparse → dropped\n"
     ]
    },
    {
     "name": "stderr",
     "output_type": "stream",
     "text": [
      " 34%|██████████████                            | 67/200 [02:29<06:51,  3.10s/it]"
     ]
    },
    {
     "name": "stdout",
     "output_type": "stream",
     "text": [
      "Patient 72242173: skipped 21/22 stays\n",
      "Subject 30061495 has 14 stays with atleast one lab\n",
      "Stay 183242563: skipped 0/7 intervals\n",
      "Stay 183242563: sparse → dropped\n"
     ]
    },
    {
     "name": "stderr",
     "output_type": "stream",
     "text": [
      " 34%|██████████████▎                           | 68/200 [02:30<05:04,  2.30s/it]"
     ]
    },
    {
     "name": "stdout",
     "output_type": "stream",
     "text": [
      "Patient 30061495: skipped 13/14 stays\n",
      "Subject 31364177 has 47 stays with atleast one lab\n",
      "Stay 140333014: skipped 0/19 intervals\n",
      "Stay 140333014: sparse → dropped\n"
     ]
    },
    {
     "name": "stderr",
     "output_type": "stream",
     "text": [
      " 34%|██████████████▍                           | 69/200 [02:31<04:22,  2.00s/it]"
     ]
    },
    {
     "name": "stdout",
     "output_type": "stream",
     "text": [
      "Patient 31364177: skipped 46/47 stays\n",
      "Subject 30112221 has 25 stays with atleast one lab\n",
      "Stay 245262449: skipped 0/48 intervals\n",
      "Stay 245262449: sparse → dropped\n",
      "Stay 202912623: skipped 0/10 intervals\n"
     ]
    },
    {
     "name": "stderr",
     "output_type": "stream",
     "text": [
      " 35%|██████████████▋                           | 70/200 [02:32<03:49,  1.76s/it]"
     ]
    },
    {
     "name": "stdout",
     "output_type": "stream",
     "text": [
      "Patient 30112221: skipped 23/25 stays\n",
      "Subject 32199412 has 13 stays with atleast one lab\n",
      "Stay 100199227: skipped 0/22 intervals\n",
      "Stay 100199227: sparse → dropped\n"
     ]
    },
    {
     "name": "stderr",
     "output_type": "stream",
     "text": [
      " 36%|██████████████▉                           | 71/200 [02:33<03:02,  1.41s/it]"
     ]
    },
    {
     "name": "stdout",
     "output_type": "stream",
     "text": [
      "Patient 32199412: skipped 12/13 stays\n",
      "Subject 69262681 has 25 stays with atleast one lab\n"
     ]
    },
    {
     "name": "stderr",
     "output_type": "stream",
     "text": [
      " 36%|███████████████                           | 72/200 [02:33<02:27,  1.16s/it]"
     ]
    },
    {
     "name": "stdout",
     "output_type": "stream",
     "text": [
      "Patient 69262681: skipped 25/25 stays\n",
      "Subject 31105090 has 6 stays with atleast one lab\n"
     ]
    },
    {
     "name": "stderr",
     "output_type": "stream",
     "text": [
      " 36%|███████████████▎                          | 73/200 [02:34<01:59,  1.06it/s]"
     ]
    },
    {
     "name": "stdout",
     "output_type": "stream",
     "text": [
      "Stay 100706205: skipped 0/23 intervals\n",
      "Patient 31105090: skipped 5/6 stays\n",
      "Subject 31949783 has 9 stays with atleast one lab\n",
      "Stay 207749959: skipped 0/135 intervals\n"
     ]
    },
    {
     "name": "stderr",
     "output_type": "stream",
     "text": [
      " 37%|███████████████▌                          | 74/200 [02:36<02:29,  1.19s/it]"
     ]
    },
    {
     "name": "stdout",
     "output_type": "stream",
     "text": [
      "Patient 31949783: skipped 8/9 stays\n",
      "Subject 32121257 has 2 stays with atleast one lab\n"
     ]
    },
    {
     "name": "stderr",
     "output_type": "stream",
     "text": [
      " 38%|███████████████▊                          | 75/200 [02:36<01:53,  1.10it/s]"
     ]
    },
    {
     "name": "stdout",
     "output_type": "stream",
     "text": [
      "Stay 19009628: skipped 0/21 intervals\n",
      "Patient 32121257: skipped 1/2 stays\n",
      "Subject 30144865 has 50 stays with atleast one lab\n",
      "Stay 10785748: skipped 0/143 intervals\n",
      "Stay 10785748: sparse → dropped\n",
      "Stay 22543122: skipped 0/75 intervals\n",
      "Stay 22543122: sparse → dropped\n",
      "Stay 154869089: skipped 0/33 intervals\n"
     ]
    },
    {
     "name": "stderr",
     "output_type": "stream",
     "text": [
      " 38%|███████████████▉                          | 76/200 [02:40<03:47,  1.84s/it]"
     ]
    },
    {
     "name": "stdout",
     "output_type": "stream",
     "text": [
      "Patient 30144865: skipped 47/50 stays\n",
      "Subject 30238967 has 3 stays with atleast one lab\n",
      "Stay 171591653: skipped 0/147 intervals\n",
      "Stay 171591653: sparse → dropped\n"
     ]
    },
    {
     "name": "stderr",
     "output_type": "stream",
     "text": [
      " 38%|████████████████▏                         | 77/200 [02:42<03:44,  1.82s/it]"
     ]
    },
    {
     "name": "stdout",
     "output_type": "stream",
     "text": [
      "Stay 123418500: skipped 0/33 intervals\n",
      "Stay 123418500: sparse → dropped\n",
      "Patient 30238967: skipped 1/3 stays\n",
      "Subject 30386965 has 55 stays with atleast one lab\n",
      "Stay 91025973: skipped 0/15 intervals\n",
      "Stay 91025973: sparse → dropped\n"
     ]
    },
    {
     "name": "stderr",
     "output_type": "stream",
     "text": [
      " 39%|████████████████▍                         | 78/200 [02:43<03:29,  1.72s/it]"
     ]
    },
    {
     "name": "stdout",
     "output_type": "stream",
     "text": [
      "Patient 30386965: skipped 54/55 stays\n",
      "Subject 30969157 has 11 stays with atleast one lab\n",
      "Stay 108599738: skipped 0/128 intervals\n",
      "Stay 108599738: sparse → dropped\n",
      "Stay 197465265: skipped 0/31 intervals\n"
     ]
    },
    {
     "name": "stderr",
     "output_type": "stream",
     "text": [
      " 40%|████████████████▌                         | 79/200 [02:46<03:53,  1.93s/it]"
     ]
    },
    {
     "name": "stdout",
     "output_type": "stream",
     "text": [
      "Patient 30969157: skipped 9/11 stays\n",
      "Subject 32098755 has 47 stays with atleast one lab\n",
      "Stay 143153910: skipped 0/270 intervals\n",
      "Stay 202083124: skipped 0/134 intervals\n",
      "Stay 202083124: sparse → dropped\n"
     ]
    },
    {
     "name": "stderr",
     "output_type": "stream",
     "text": [
      " 40%|████████████████▊                         | 80/200 [02:52<06:18,  3.15s/it]"
     ]
    },
    {
     "name": "stdout",
     "output_type": "stream",
     "text": [
      "Patient 32098755: skipped 45/47 stays\n",
      "Subject 30520649 has 25 stays with atleast one lab\n"
     ]
    },
    {
     "name": "stderr",
     "output_type": "stream",
     "text": [
      " 40%|█████████████████                         | 81/200 [02:52<04:46,  2.40s/it]"
     ]
    },
    {
     "name": "stdout",
     "output_type": "stream",
     "text": [
      "Patient 30520649: skipped 25/25 stays\n",
      "Subject 136845812 has 1 stays with atleast one lab\n"
     ]
    },
    {
     "name": "stderr",
     "output_type": "stream",
     "text": [
      " 41%|█████████████████▏                        | 82/200 [02:54<04:17,  2.18s/it]"
     ]
    },
    {
     "name": "stdout",
     "output_type": "stream",
     "text": [
      "Stay 204529061: skipped 0/167 intervals\n",
      "Stay 204529061: sparse → dropped\n",
      "Patient 136845812: skipped 0/1 stays\n",
      "Subject 31120901 has 7 stays with atleast one lab\n"
     ]
    },
    {
     "name": "stderr",
     "output_type": "stream",
     "text": [
      " 42%|█████████████████▍                        | 83/200 [02:55<03:36,  1.85s/it]"
     ]
    },
    {
     "name": "stdout",
     "output_type": "stream",
     "text": [
      "Stay 86494677: skipped 0/78 intervals\n",
      "Stay 86494677: sparse → dropped\n",
      "Patient 31120901: skipped 6/7 stays\n",
      "Subject 31504204 has 8 stays with atleast one lab\n",
      "Stay 20821848: skipped 0/39 intervals\n"
     ]
    },
    {
     "name": "stderr",
     "output_type": "stream",
     "text": [
      " 42%|█████████████████▋                        | 84/200 [02:56<02:58,  1.54s/it]"
     ]
    },
    {
     "name": "stdout",
     "output_type": "stream",
     "text": [
      "Patient 31504204: skipped 7/8 stays\n",
      "Subject 31860854 has 2 stays with atleast one lab\n",
      "Stay 214622475: skipped 0/15 intervals\n"
     ]
    },
    {
     "name": "stderr",
     "output_type": "stream",
     "text": [
      " 43%|██████████████████                        | 86/200 [02:56<01:35,  1.19it/s]"
     ]
    },
    {
     "name": "stdout",
     "output_type": "stream",
     "text": [
      "Patient 31860854: skipped 1/2 stays\n",
      "Subject 31308285 has 2 stays with atleast one lab\n",
      "Stay 197166892: skipped 0/6 intervals\n",
      "Stay 197166892: sparse → dropped\n",
      "Patient 31308285: skipped 1/2 stays\n",
      "Subject 31499373 has 19 stays with atleast one lab\n",
      "Stay 43107037: skipped 0/11 intervals\n",
      "Stay 43107037: sparse → dropped\n",
      "Stay 84524594: skipped 0/47 intervals\n",
      "Stay 84524594: sparse → dropped\n"
     ]
    },
    {
     "name": "stderr",
     "output_type": "stream",
     "text": [
      " 44%|██████████████████▎                       | 87/200 [02:57<01:44,  1.08it/s]"
     ]
    },
    {
     "name": "stdout",
     "output_type": "stream",
     "text": [
      "Patient 31499373: skipped 17/19 stays\n",
      "Subject 31140703 has 139 stays with atleast one lab\n"
     ]
    },
    {
     "name": "stderr",
     "output_type": "stream",
     "text": [
      " 44%|██████████████████▍                       | 88/200 [02:58<01:37,  1.15it/s]"
     ]
    },
    {
     "name": "stdout",
     "output_type": "stream",
     "text": [
      "Stay 208982868: skipped 0/20 intervals\n",
      "Stay 208982868: sparse → dropped\n",
      "Error processing subject 31140703: single positional indexer is out-of-bounds\n",
      "Subject 31299307 has 4 stays with atleast one lab\n",
      "Error processing subject 31299307: single positional indexer is out-of-bounds\n",
      "Subject 32483318 has 91 stays with atleast one lab\n",
      "Stay 176071996: skipped 0/226 intervals\n",
      "Stay 176071996: sparse → dropped\n"
     ]
    },
    {
     "name": "stderr",
     "output_type": "stream",
     "text": [
      " 45%|██████████████████▉                       | 90/200 [03:04<03:35,  1.96s/it]"
     ]
    },
    {
     "name": "stdout",
     "output_type": "stream",
     "text": [
      "Patient 32483318: skipped 90/91 stays\n",
      "Subject 43996366 has 110 stays with atleast one lab\n"
     ]
    },
    {
     "name": "stderr",
     "output_type": "stream",
     "text": [
      " 46%|███████████████████                       | 91/200 [03:08<04:07,  2.27s/it]"
     ]
    },
    {
     "name": "stdout",
     "output_type": "stream",
     "text": [
      "Patient 43996366: skipped 110/110 stays\n",
      "Subject 97548846 has 1 stays with atleast one lab\n"
     ]
    },
    {
     "name": "stderr",
     "output_type": "stream",
     "text": [
      " 46%|███████████████████▎                      | 92/200 [03:08<03:25,  1.90s/it]"
     ]
    },
    {
     "name": "stdout",
     "output_type": "stream",
     "text": [
      "Stay 48404964: skipped 0/63 intervals\n",
      "Stay 48404964: sparse → dropped\n",
      "Patient 97548846: skipped 0/1 stays\n",
      "Subject 30684081 has 56 stays with atleast one lab\n",
      "Stay 199873884: skipped 0/124 intervals\n",
      "Stay 199873884: sparse → dropped\n",
      "Stay 161539168: skipped 0/550 intervals\n",
      "Stay 161539168: sparse → dropped\n"
     ]
    },
    {
     "name": "stderr",
     "output_type": "stream",
     "text": [
      " 46%|███████████████████▌                      | 93/200 [03:19<07:19,  4.11s/it]"
     ]
    },
    {
     "name": "stdout",
     "output_type": "stream",
     "text": [
      "Patient 30684081: skipped 54/56 stays\n",
      "Subject 30856140 has 4 stays with atleast one lab\n"
     ]
    },
    {
     "name": "stderr",
     "output_type": "stream",
     "text": [
      " 47%|███████████████████▋                      | 94/200 [03:19<05:29,  3.11s/it]"
     ]
    },
    {
     "name": "stdout",
     "output_type": "stream",
     "text": [
      "Stay 21645216: skipped 0/37 intervals\n",
      "Stay 21645216: sparse → dropped\n",
      "Patient 30856140: skipped 3/4 stays\n",
      "Subject 80609085 has 48 stays with atleast one lab\n",
      "Stay 62679270: skipped 0/28 intervals\n",
      "Stay 62679270: sparse → dropped\n"
     ]
    },
    {
     "name": "stderr",
     "output_type": "stream",
     "text": [
      " 48%|███████████████████▉                      | 95/200 [03:21<04:39,  2.66s/it]"
     ]
    },
    {
     "name": "stdout",
     "output_type": "stream",
     "text": [
      "Patient 80609085: skipped 47/48 stays\n",
      "Subject 31408969 has 16 stays with atleast one lab\n",
      "Stay 119135829: skipped 0/87 intervals\n",
      "Stay 119135829: sparse → dropped\n"
     ]
    },
    {
     "name": "stderr",
     "output_type": "stream",
     "text": [
      " 48%|████████████████████▏                     | 96/200 [03:22<04:01,  2.32s/it]"
     ]
    },
    {
     "name": "stdout",
     "output_type": "stream",
     "text": [
      "Patient 31408969: skipped 15/16 stays\n",
      "Subject 30114757 has 35 stays with atleast one lab\n",
      "Stay 66505675: skipped 0/70 intervals\n",
      "Stay 166675178: skipped 0/68 intervals\n",
      "Stay 166675178: sparse → dropped\n"
     ]
    },
    {
     "name": "stderr",
     "output_type": "stream",
     "text": [
      " 48%|████████████████████▎                     | 97/200 [03:25<04:11,  2.44s/it]"
     ]
    },
    {
     "name": "stdout",
     "output_type": "stream",
     "text": [
      "Patient 30114757: skipped 33/35 stays\n",
      "Subject 30456567 has 2 stays with atleast one lab\n"
     ]
    },
    {
     "name": "stderr",
     "output_type": "stream",
     "text": [
      " 50%|████████████████████▊                     | 99/200 [03:25<02:11,  1.30s/it]"
     ]
    },
    {
     "name": "stdout",
     "output_type": "stream",
     "text": [
      "Stay 142622105: skipped 0/16 intervals\n",
      "Patient 30456567: skipped 1/2 stays\n",
      "Subject 31126773 has 19 stays with atleast one lab\n",
      "Error processing subject 31126773: single positional indexer is out-of-bounds\n",
      "Subject 32573186 has 142 stays with atleast one lab\n",
      "Stay 221408759: skipped 0/218 intervals\n"
     ]
    },
    {
     "name": "stderr",
     "output_type": "stream",
     "text": [
      " 50%|████████████████████▋                    | 101/200 [03:31<03:02,  1.84s/it]"
     ]
    },
    {
     "name": "stdout",
     "output_type": "stream",
     "text": [
      "Patient 32573186: skipped 141/142 stays\n",
      "Subject 32169907 has 1 stays with atleast one lab\n",
      "Stay 105780772: skipped 0/11 intervals\n",
      "Patient 32169907: skipped 0/1 stays\n",
      "Subject 31738630 has 10 stays with atleast one lab\n"
     ]
    },
    {
     "name": "stderr",
     "output_type": "stream",
     "text": [
      " 51%|████████████████████▉                    | 102/200 [03:31<02:20,  1.43s/it]"
     ]
    },
    {
     "name": "stdout",
     "output_type": "stream",
     "text": [
      "Stay 107126363: skipped 0/14 intervals\n",
      "Patient 31738630: skipped 9/10 stays\n",
      "Subject 30200928 has 78 stays with atleast one lab\n",
      "Stay 75177438: skipped 0/74 intervals\n",
      "Stay 75177438: sparse → dropped\n",
      "Stay 27067272: skipped 0/107 intervals\n"
     ]
    },
    {
     "name": "stderr",
     "output_type": "stream",
     "text": [
      " 52%|█████████████████████                    | 103/200 [03:35<03:35,  2.22s/it]"
     ]
    },
    {
     "name": "stdout",
     "output_type": "stream",
     "text": [
      "Patient 30200928: skipped 76/78 stays\n",
      "Subject 93446895 has 1 stays with atleast one lab\n"
     ]
    },
    {
     "name": "stderr",
     "output_type": "stream",
     "text": [
      " 52%|█████████████████████▎                   | 104/200 [03:36<02:53,  1.81s/it]"
     ]
    },
    {
     "name": "stdout",
     "output_type": "stream",
     "text": [
      "Stay 214332685: skipped 0/62 intervals\n",
      "Patient 93446895: skipped 0/1 stays\n",
      "Subject 30371750 has 6 stays with atleast one lab\n",
      "Stay 133254484: skipped 0/22 intervals\n",
      "Stay 133254484: sparse → dropped\n",
      "Stay 145571616: skipped 0/23 intervals\n",
      "Stay 171868157: skipped 0/16 intervals\n",
      "Stay 171868157: sparse → dropped\n"
     ]
    },
    {
     "name": "stderr",
     "output_type": "stream",
     "text": [
      " 52%|█████████████████████▌                   | 105/200 [03:37<02:25,  1.53s/it]"
     ]
    },
    {
     "name": "stdout",
     "output_type": "stream",
     "text": [
      "Patient 30371750: skipped 3/6 stays\n",
      "Subject 64824940 has 39 stays with atleast one lab\n",
      "Stay 70751622: skipped 0/2846 intervals\n"
     ]
    },
    {
     "name": "stderr",
     "output_type": "stream",
     "text": [
      " 53%|█████████████████████▋                   | 106/200 [04:26<24:47, 15.82s/it]"
     ]
    },
    {
     "name": "stdout",
     "output_type": "stream",
     "text": [
      "Patient 64824940: skipped 38/39 stays\n",
      "Subject 76395333 has 8 stays with atleast one lab\n"
     ]
    },
    {
     "name": "stderr",
     "output_type": "stream",
     "text": [
      " 54%|█████████████████████▉                   | 107/200 [04:27<17:35, 11.35s/it]"
     ]
    },
    {
     "name": "stdout",
     "output_type": "stream",
     "text": [
      "Stay 243650797: skipped 0/57 intervals\n",
      "Patient 76395333: skipped 7/8 stays\n",
      "Subject 111530957 has 1 stays with atleast one lab\n"
     ]
    },
    {
     "name": "stderr",
     "output_type": "stream",
     "text": [
      " 54%|██████████████████████▏                  | 108/200 [04:28<12:28,  8.14s/it]"
     ]
    },
    {
     "name": "stdout",
     "output_type": "stream",
     "text": [
      "Stay 122831962: skipped 0/54 intervals\n",
      "Patient 111530957: skipped 0/1 stays\n",
      "Subject 31098299 has 21 stays with atleast one lab\n",
      "Stay 219490327: skipped 0/105 intervals\n",
      "Stay 219490327: sparse → dropped\n"
     ]
    },
    {
     "name": "stderr",
     "output_type": "stream",
     "text": [
      " 55%|██████████████████████▎                  | 109/200 [04:30<09:27,  6.24s/it]"
     ]
    },
    {
     "name": "stdout",
     "output_type": "stream",
     "text": [
      "Patient 31098299: skipped 20/21 stays\n",
      "Subject 30503044 has 4 stays with atleast one lab\n",
      "Stay 223501405: skipped 0/38 intervals\n",
      "Stay 150908528: skipped 0/9 intervals\n",
      "Stay 150908528: sparse → dropped\n"
     ]
    },
    {
     "name": "stderr",
     "output_type": "stream",
     "text": [
      " 55%|██████████████████████▌                  | 110/200 [04:31<07:03,  4.71s/it]"
     ]
    },
    {
     "name": "stdout",
     "output_type": "stream",
     "text": [
      "Stay 45188814: skipped 0/47 intervals\n",
      "Patient 30503044: skipped 1/4 stays\n",
      "Subject 31761811 has 27 stays with atleast one lab\n",
      "Stay 50726667: skipped 0/5 intervals\n",
      "Stay 50726667: sparse → dropped\n"
     ]
    },
    {
     "name": "stderr",
     "output_type": "stream",
     "text": [
      " 56%|██████████████████████▊                  | 111/200 [04:32<05:12,  3.51s/it]"
     ]
    },
    {
     "name": "stdout",
     "output_type": "stream",
     "text": [
      "Patient 31761811: skipped 26/27 stays\n",
      "Subject 97610497 has 13 stays with atleast one lab\n",
      "Stay 24128058: skipped 0/73 intervals\n"
     ]
    },
    {
     "name": "stderr",
     "output_type": "stream",
     "text": [
      " 56%|██████████████████████▉                  | 112/200 [04:33<04:12,  2.87s/it]"
     ]
    },
    {
     "name": "stdout",
     "output_type": "stream",
     "text": [
      "Patient 97610497: skipped 12/13 stays\n",
      "Subject 32271456 has 13 stays with atleast one lab\n",
      "Stay 54618660: skipped 0/92 intervals\n",
      "Stay 54618660: sparse → dropped\n"
     ]
    },
    {
     "name": "stderr",
     "output_type": "stream",
     "text": [
      " 56%|███████████████████████▏                 | 113/200 [04:34<03:33,  2.45s/it]"
     ]
    },
    {
     "name": "stdout",
     "output_type": "stream",
     "text": [
      "Stay 116862951: skipped 0/15 intervals\n",
      "Stay 116862951: sparse → dropped\n",
      "Patient 32271456: skipped 11/13 stays\n",
      "Subject 32549420 has 4 stays with atleast one lab\n"
     ]
    },
    {
     "name": "stderr",
     "output_type": "stream",
     "text": [
      " 57%|███████████████████████▎                 | 114/200 [04:35<02:40,  1.87s/it]"
     ]
    },
    {
     "name": "stdout",
     "output_type": "stream",
     "text": [
      "Stay 84579526: skipped 0/43 intervals\n",
      "Stay 84579526: sparse → dropped\n",
      "Patient 32549420: skipped 3/4 stays\n",
      "Subject 31485827 has 18 stays with atleast one lab\n",
      "Stay 211643741: skipped 0/22 intervals\n",
      "Stay 157674430: skipped 0/270 intervals\n",
      "Stay 50943942: skipped 0/53 intervals\n",
      "Stay 206459572: skipped 0/46 intervals\n",
      "Stay 197427272: skipped 0/41 intervals\n",
      "Stay 224064468: skipped 0/24 intervals\n",
      "Stay 224064468: sparse → dropped\n",
      "Patient 31485827: skipped 12/18 stays\n"
     ]
    },
    {
     "name": "stderr",
     "output_type": "stream",
     "text": [
      " 57%|███████████████████████▌                 | 115/200 [04:41<04:29,  3.17s/it]"
     ]
    },
    {
     "name": "stdout",
     "output_type": "stream",
     "text": [
      "Subject 31880841 has 2 stays with atleast one lab\n",
      "Stay 95293046: skipped 0/44 intervals\n",
      "Stay 95293046: sparse → dropped\n"
     ]
    },
    {
     "name": "stderr",
     "output_type": "stream",
     "text": [
      " 58%|███████████████████████▊                 | 116/200 [04:42<03:32,  2.53s/it]"
     ]
    },
    {
     "name": "stdout",
     "output_type": "stream",
     "text": [
      "Stay 19575580: skipped 0/31 intervals\n",
      "Patient 31880841: skipped 0/2 stays\n",
      "Subject 30702491 has 9 stays with atleast one lab\n",
      "Stay 28992068: skipped 0/17 intervals\n",
      "Stay 28992068: sparse → dropped\n",
      "Stay 112412127: skipped 0/44 intervals\n"
     ]
    },
    {
     "name": "stderr",
     "output_type": "stream",
     "text": [
      " 58%|███████████████████████▉                 | 117/200 [04:43<02:53,  2.09s/it]"
     ]
    },
    {
     "name": "stdout",
     "output_type": "stream",
     "text": [
      "Patient 30702491: skipped 7/9 stays\n",
      "Subject 31949863 has 12 stays with atleast one lab\n",
      "Stay 102992271: skipped 0/18 intervals\n",
      "Stay 250634853: skipped 0/6 intervals\n",
      "Stay 250634853: sparse → dropped\n"
     ]
    },
    {
     "name": "stderr",
     "output_type": "stream",
     "text": [
      " 59%|████████████████████████▏                | 118/200 [04:44<02:14,  1.64s/it]"
     ]
    },
    {
     "name": "stdout",
     "output_type": "stream",
     "text": [
      "Patient 31949863: skipped 10/12 stays\n",
      "Subject 43755825 has 6 stays with atleast one lab\n",
      "Stay 147951841: skipped 0/24 intervals\n",
      "Stay 96271718: skipped 0/53 intervals\n"
     ]
    },
    {
     "name": "stderr",
     "output_type": "stream",
     "text": [
      " 60%|████████████████████████▍                | 119/200 [04:45<02:11,  1.63s/it]"
     ]
    },
    {
     "name": "stdout",
     "output_type": "stream",
     "text": [
      "Stay 244134243: skipped 0/22 intervals\n",
      "Patient 43755825: skipped 3/6 stays\n",
      "Subject 32392352 has 27 stays with atleast one lab\n",
      "Stay 63145990: skipped 0/13 intervals\n",
      "Stay 63145990: sparse → dropped\n"
     ]
    },
    {
     "name": "stderr",
     "output_type": "stream",
     "text": [
      " 60%|████████████████████████▌                | 120/200 [04:47<02:03,  1.54s/it]"
     ]
    },
    {
     "name": "stdout",
     "output_type": "stream",
     "text": [
      "Patient 32392352: skipped 26/27 stays\n",
      "Subject 90091312 has 2 stays with atleast one lab\n"
     ]
    },
    {
     "name": "stderr",
     "output_type": "stream",
     "text": [
      " 60%|████████████████████████▊                | 121/200 [04:48<01:52,  1.42s/it]"
     ]
    },
    {
     "name": "stdout",
     "output_type": "stream",
     "text": [
      "Stay 166816165: skipped 0/69 intervals\n",
      "Stay 166816165: sparse → dropped\n",
      "Error processing subject 90091312: single positional indexer is out-of-bounds\n",
      "Subject 30817970 has 37 stays with atleast one lab\n",
      "Stay 16307559: skipped 0/54 intervals\n",
      "Stay 16307559: sparse → dropped\n",
      "Stay 223318517: skipped 0/27 intervals\n",
      "Stay 223318517: sparse → dropped\n"
     ]
    },
    {
     "name": "stderr",
     "output_type": "stream",
     "text": [
      " 61%|█████████████████████████                | 122/200 [04:50<01:58,  1.51s/it]"
     ]
    },
    {
     "name": "stdout",
     "output_type": "stream",
     "text": [
      "Patient 30817970: skipped 35/37 stays\n",
      "Subject 31760993 has 101 stays with atleast one lab\n",
      "Stay 184453812: skipped 0/70 intervals\n",
      "Stay 184453812: sparse → dropped\n"
     ]
    },
    {
     "name": "stderr",
     "output_type": "stream",
     "text": [
      " 62%|█████████████████████████▏               | 123/200 [04:53<02:32,  1.97s/it]"
     ]
    },
    {
     "name": "stdout",
     "output_type": "stream",
     "text": [
      "Patient 31760993: skipped 100/101 stays\n",
      "Subject 29987323 has 171 stays with atleast one lab\n",
      "Stay 96857451: skipped 0/91 intervals\n",
      "Stay 96857451: sparse → dropped\n",
      "Stay 233517879: skipped 0/56 intervals\n",
      "Stay 233517879: sparse → dropped\n"
     ]
    },
    {
     "name": "stderr",
     "output_type": "stream",
     "text": [
      " 62%|█████████████████████████▍               | 124/200 [04:59<04:06,  3.25s/it]"
     ]
    },
    {
     "name": "stdout",
     "output_type": "stream",
     "text": [
      "Patient 29987323: skipped 169/171 stays\n",
      "Subject 31546554 has 18 stays with atleast one lab\n"
     ]
    },
    {
     "name": "stderr",
     "output_type": "stream",
     "text": [
      " 62%|█████████████████████████▋               | 125/200 [04:59<03:04,  2.46s/it]"
     ]
    },
    {
     "name": "stdout",
     "output_type": "stream",
     "text": [
      "Stay 172844758: skipped 0/7 intervals\n",
      "Patient 31546554: skipped 17/18 stays\n",
      "Subject 31629653 has 68 stays with atleast one lab\n",
      "Stay 81750581: skipped 0/71 intervals\n",
      "Stay 51350343: skipped 0/171 intervals\n",
      "Stay 51350343: sparse → dropped\n",
      "Stay 142794912: skipped 0/18 intervals\n",
      "Stay 142794912: sparse → dropped\n"
     ]
    },
    {
     "name": "stderr",
     "output_type": "stream",
     "text": [
      " 63%|█████████████████████████▊               | 126/200 [05:04<03:56,  3.19s/it]"
     ]
    },
    {
     "name": "stdout",
     "output_type": "stream",
     "text": [
      "Patient 31629653: skipped 65/68 stays\n",
      "Subject 49170522 has 6 stays with atleast one lab\n"
     ]
    },
    {
     "name": "stderr",
     "output_type": "stream",
     "text": [
      " 64%|██████████████████████████               | 127/200 [05:08<04:00,  3.30s/it]"
     ]
    },
    {
     "name": "stdout",
     "output_type": "stream",
     "text": [
      "Stay 25702199: skipped 0/300 intervals\n",
      "Patient 49170522: skipped 5/6 stays\n",
      "Subject 32030530 has 16 stays with atleast one lab\n",
      "Stay 19332458: skipped 0/36 intervals\n",
      "Stay 19332458: sparse → dropped\n"
     ]
    },
    {
     "name": "stderr",
     "output_type": "stream",
     "text": [
      " 64%|██████████████████████████▏              | 128/200 [05:09<03:07,  2.60s/it]"
     ]
    },
    {
     "name": "stdout",
     "output_type": "stream",
     "text": [
      "Patient 32030530: skipped 15/16 stays\n",
      "Subject 31754071 has 23 stays with atleast one lab\n",
      "Stay 127586936: skipped 0/221 intervals\n",
      "Stay 58370612: skipped 0/52 intervals\n",
      "Stay 58370612: sparse → dropped\n"
     ]
    },
    {
     "name": "stderr",
     "output_type": "stream",
     "text": [
      " 64%|██████████████████████████▍              | 129/200 [05:13<03:26,  2.90s/it]"
     ]
    },
    {
     "name": "stdout",
     "output_type": "stream",
     "text": [
      "Patient 31754071: skipped 21/23 stays\n",
      "Subject 45588766 has 4 stays with atleast one lab\n"
     ]
    },
    {
     "name": "stderr",
     "output_type": "stream",
     "text": [
      " 65%|██████████████████████████▋              | 130/200 [05:13<02:35,  2.22s/it]"
     ]
    },
    {
     "name": "stdout",
     "output_type": "stream",
     "text": [
      "Stay 213851471: skipped 0/28 intervals\n",
      "Patient 45588766: skipped 3/4 stays\n",
      "Subject 31451014 has 34 stays with atleast one lab\n",
      "Stay 19444647: skipped 0/34 intervals\n",
      "Stay 19444647: sparse → dropped\n"
     ]
    },
    {
     "name": "stderr",
     "output_type": "stream",
     "text": [
      " 66%|██████████████████████████▊              | 131/200 [05:14<02:12,  1.92s/it]"
     ]
    },
    {
     "name": "stdout",
     "output_type": "stream",
     "text": [
      "Patient 31451014: skipped 33/34 stays\n",
      "Subject 30786376 has 36 stays with atleast one lab\n",
      "Stay 10228206: skipped 0/219 intervals\n",
      "Stay 10228206: sparse → dropped\n"
     ]
    },
    {
     "name": "stderr",
     "output_type": "stream",
     "text": [
      " 66%|███████████████████████████              | 132/200 [05:18<02:37,  2.32s/it]"
     ]
    },
    {
     "name": "stdout",
     "output_type": "stream",
     "text": [
      "Patient 30786376: skipped 35/36 stays\n",
      "Subject 32391047 has 12 stays with atleast one lab\n"
     ]
    },
    {
     "name": "stderr",
     "output_type": "stream",
     "text": [
      " 66%|███████████████████████████▎             | 133/200 [05:18<01:57,  1.75s/it]"
     ]
    },
    {
     "name": "stdout",
     "output_type": "stream",
     "text": [
      "Stay 245925804: skipped 0/10 intervals\n",
      "Patient 32391047: skipped 11/12 stays\n",
      "Subject 30017391 has 7 stays with atleast one lab\n",
      "Stay 188132049: skipped 0/22 intervals\n",
      "Stay 188132049: sparse → dropped\n"
     ]
    },
    {
     "name": "stderr",
     "output_type": "stream",
     "text": [
      " 67%|███████████████████████████▍             | 134/200 [05:19<01:39,  1.51s/it]"
     ]
    },
    {
     "name": "stdout",
     "output_type": "stream",
     "text": [
      "Stay 13495920: skipped 0/36 intervals\n",
      "Stay 13495920: sparse → dropped\n",
      "Patient 30017391: skipped 5/7 stays\n",
      "Subject 31968185 has 8 stays with atleast one lab\n",
      "Stay 252395523: skipped 0/23 intervals\n"
     ]
    },
    {
     "name": "stderr",
     "output_type": "stream",
     "text": [
      " 68%|███████████████████████████▋             | 135/200 [05:20<01:25,  1.31s/it]"
     ]
    },
    {
     "name": "stdout",
     "output_type": "stream",
     "text": [
      "Stay 42559237: skipped 0/34 intervals\n",
      "Stay 42559237: sparse → dropped\n",
      "Patient 31968185: skipped 6/8 stays\n",
      "Subject 44721828 has 44 stays with atleast one lab\n",
      "Stay 23560185: skipped 0/176 intervals\n",
      "Stay 52757659: skipped 0/103 intervals\n",
      "Stay 52757659: sparse → dropped\n"
     ]
    },
    {
     "name": "stderr",
     "output_type": "stream",
     "text": [
      " 68%|███████████████████████████▉             | 136/200 [05:24<02:14,  2.10s/it]"
     ]
    },
    {
     "name": "stdout",
     "output_type": "stream",
     "text": [
      "Patient 44721828: skipped 42/44 stays\n",
      "Subject 90026577 has 6 stays with atleast one lab\n"
     ]
    },
    {
     "name": "stderr",
     "output_type": "stream",
     "text": [
      " 68%|████████████████████████████             | 137/200 [05:28<02:46,  2.64s/it]"
     ]
    },
    {
     "name": "stdout",
     "output_type": "stream",
     "text": [
      "Stay 85700427: skipped 0/328 intervals\n",
      "Stay 85700427: sparse → dropped\n",
      "Patient 90026577: skipped 5/6 stays\n",
      "Subject 31771189 has 8 stays with atleast one lab\n",
      "Stay 98417019: skipped 0/22 intervals\n"
     ]
    },
    {
     "name": "stderr",
     "output_type": "stream",
     "text": [
      " 69%|████████████████████████████▎            | 138/200 [05:28<02:03,  2.00s/it]"
     ]
    },
    {
     "name": "stdout",
     "output_type": "stream",
     "text": [
      "Patient 31771189: skipped 7/8 stays\n",
      "Subject 31539154 has 3 stays with atleast one lab\n",
      "Stay 244851750: skipped 0/13 intervals\n",
      "Stay 244851750: sparse → dropped\n"
     ]
    },
    {
     "name": "stderr",
     "output_type": "stream",
     "text": [
      " 70%|████████████████████████████▍            | 139/200 [05:28<01:30,  1.49s/it]"
     ]
    },
    {
     "name": "stdout",
     "output_type": "stream",
     "text": [
      "Patient 31539154: skipped 2/3 stays\n",
      "Subject 32509498 has 1 stays with atleast one lab\n"
     ]
    },
    {
     "name": "stderr",
     "output_type": "stream",
     "text": [
      " 70%|████████████████████████████▋            | 140/200 [05:29<01:07,  1.13s/it]"
     ]
    },
    {
     "name": "stdout",
     "output_type": "stream",
     "text": [
      "Stay 77333586: skipped 0/25 intervals\n",
      "Patient 32509498: skipped 0/1 stays\n",
      "Subject 31368515 has 2 stays with atleast one lab\n",
      "Stay 117178847: skipped 0/15 intervals\n",
      "Stay 117178847: sparse → dropped\n"
     ]
    },
    {
     "name": "stderr",
     "output_type": "stream",
     "text": [
      " 70%|████████████████████████████▉            | 141/200 [05:29<00:50,  1.16it/s]"
     ]
    },
    {
     "name": "stdout",
     "output_type": "stream",
     "text": [
      "Patient 31368515: skipped 1/2 stays\n",
      "Subject 32133645 has 45 stays with atleast one lab\n",
      "Stay 225883361: skipped 0/20 intervals\n",
      "Stay 225883361: sparse → dropped\n"
     ]
    },
    {
     "name": "stderr",
     "output_type": "stream",
     "text": [
      " 71%|█████████████████████████████            | 142/200 [05:30<00:57,  1.01it/s]"
     ]
    },
    {
     "name": "stdout",
     "output_type": "stream",
     "text": [
      "Patient 32133645: skipped 44/45 stays\n",
      "Subject 31089401 has 128 stays with atleast one lab\n",
      "Stay 41025367: skipped 0/230 intervals\n",
      "Stay 250570188: skipped 0/15 intervals\n",
      "Stay 170710540: skipped 0/74 intervals\n",
      "Stay 170710540: sparse → dropped\n",
      "Stay 169318745: skipped 0/27 intervals\n",
      "Stay 169318745: sparse → dropped\n"
     ]
    },
    {
     "name": "stderr",
     "output_type": "stream",
     "text": [
      " 72%|█████████████████████████████▎           | 143/200 [05:39<03:02,  3.21s/it]"
     ]
    },
    {
     "name": "stdout",
     "output_type": "stream",
     "text": [
      "Patient 31089401: skipped 124/128 stays\n",
      "Subject 30320584 has 7 stays with atleast one lab\n"
     ]
    },
    {
     "name": "stderr",
     "output_type": "stream",
     "text": [
      " 72%|█████████████████████████████▌           | 144/200 [05:39<02:12,  2.37s/it]"
     ]
    },
    {
     "name": "stdout",
     "output_type": "stream",
     "text": [
      "Stay 17094670: skipped 0/21 intervals\n",
      "Stay 17094670: sparse → dropped\n",
      "Patient 30320584: skipped 6/7 stays\n",
      "Subject 68463111 has 22 stays with atleast one lab\n",
      "Stay 204613540: skipped 0/13 intervals\n",
      "Stay 204613540: sparse → dropped\n",
      "Stay 135928708: skipped 0/43 intervals\n",
      "Stay 62139050: skipped 0/28 intervals\n",
      "Stay 62139050: sparse → dropped\n",
      "Stay 30079109: skipped 0/26 intervals\n"
     ]
    },
    {
     "name": "stderr",
     "output_type": "stream",
     "text": [
      " 72%|█████████████████████████████▋           | 145/200 [05:41<02:01,  2.21s/it]"
     ]
    },
    {
     "name": "stdout",
     "output_type": "stream",
     "text": [
      "Patient 68463111: skipped 18/22 stays\n",
      "Subject 72249187 has 5 stays with atleast one lab\n",
      "Stay 47626227: skipped 0/94 intervals\n",
      "Stay 47626227: sparse → dropped\n"
     ]
    },
    {
     "name": "stderr",
     "output_type": "stream",
     "text": [
      " 73%|█████████████████████████████▉           | 146/200 [05:42<01:48,  2.01s/it]"
     ]
    },
    {
     "name": "stdout",
     "output_type": "stream",
     "text": [
      "Patient 72249187: skipped 4/5 stays\n",
      "Subject 31259164 has 150 stays with atleast one lab\n",
      "Stay 89115216: skipped 0/158 intervals\n",
      "Stay 89115216: sparse → dropped\n",
      "Stay 37949606: skipped 0/40 intervals\n",
      "Stay 37949606: sparse → dropped\n",
      "Stay 251428769: skipped 0/60 intervals\n"
     ]
    },
    {
     "name": "stderr",
     "output_type": "stream",
     "text": [
      " 74%|██████████████████████████████▏          | 147/200 [05:49<03:06,  3.51s/it]"
     ]
    },
    {
     "name": "stdout",
     "output_type": "stream",
     "text": [
      "Patient 31259164: skipped 147/150 stays\n",
      "Subject 31849929 has 18 stays with atleast one lab\n",
      "Stay 201581229: skipped 0/5 intervals\n",
      "Stay 201581229: sparse → dropped\n",
      "Stay 88446825: skipped 0/10 intervals\n"
     ]
    },
    {
     "name": "stderr",
     "output_type": "stream",
     "text": [
      " 74%|██████████████████████████████▎          | 148/200 [05:51<02:26,  2.83s/it]"
     ]
    },
    {
     "name": "stdout",
     "output_type": "stream",
     "text": [
      "Stay 154854884: skipped 0/16 intervals\n",
      "Stay 154854884: sparse → dropped\n",
      "Patient 31849929: skipped 15/18 stays\n",
      "Subject 30554925 has 1 stays with atleast one lab\n"
     ]
    },
    {
     "name": "stderr",
     "output_type": "stream",
     "text": [
      " 74%|██████████████████████████████▌          | 149/200 [05:53<02:18,  2.72s/it]"
     ]
    },
    {
     "name": "stdout",
     "output_type": "stream",
     "text": [
      "Stay 132502661: skipped 0/191 intervals\n",
      "Stay 132502661: sparse → dropped\n",
      "Patient 30554925: skipped 0/1 stays\n",
      "Subject 31638434 has 3 stays with atleast one lab\n"
     ]
    },
    {
     "name": "stderr",
     "output_type": "stream",
     "text": [
      " 75%|██████████████████████████████▊          | 150/200 [05:55<02:04,  2.49s/it]"
     ]
    },
    {
     "name": "stdout",
     "output_type": "stream",
     "text": [
      "Stay 52255375: skipped 0/140 intervals\n",
      "Stay 52255375: sparse → dropped\n",
      "Patient 31638434: skipped 2/3 stays\n",
      "Subject 30114845 has 5 stays with atleast one lab\n",
      "Stay 47526438: skipped 0/70 intervals\n",
      "Stay 81422604: skipped 0/129 intervals\n"
     ]
    },
    {
     "name": "stderr",
     "output_type": "stream",
     "text": [
      " 76%|██████████████████████████████▉          | 151/200 [05:58<02:13,  2.73s/it]"
     ]
    },
    {
     "name": "stdout",
     "output_type": "stream",
     "text": [
      "Patient 30114845: skipped 3/5 stays\n",
      "Subject 29965952 has 14 stays with atleast one lab\n"
     ]
    },
    {
     "name": "stderr",
     "output_type": "stream",
     "text": [
      " 76%|███████████████████████████████▏         | 152/200 [05:59<01:37,  2.02s/it]"
     ]
    },
    {
     "name": "stdout",
     "output_type": "stream",
     "text": [
      "Stay 176262531: skipped 0/3 intervals\n",
      "Stay 176262531: sparse → dropped\n",
      "Patient 29965952: skipped 13/14 stays\n",
      "Subject 32494844 has 12 stays with atleast one lab\n",
      "Stay 36229845: skipped 0/55 intervals\n",
      "Stay 36229845: sparse → dropped\n"
     ]
    },
    {
     "name": "stderr",
     "output_type": "stream",
     "text": [
      " 76%|███████████████████████████████▎         | 153/200 [06:00<01:23,  1.78s/it]"
     ]
    },
    {
     "name": "stdout",
     "output_type": "stream",
     "text": [
      "Patient 32494844: skipped 11/12 stays\n",
      "Subject 30283419 has 42 stays with atleast one lab\n",
      "Stay 132699087: skipped 0/21 intervals\n",
      "Stay 53689618: skipped 0/27 intervals\n",
      "Stay 219640363: skipped 0/46 intervals\n",
      "Stay 84041919: skipped 0/31 intervals\n",
      "Stay 84041919: sparse → dropped\n"
     ]
    },
    {
     "name": "stderr",
     "output_type": "stream",
     "text": [
      " 77%|███████████████████████████████▌         | 154/200 [06:03<01:42,  2.23s/it]"
     ]
    },
    {
     "name": "stdout",
     "output_type": "stream",
     "text": [
      "Patient 30283419: skipped 38/42 stays\n",
      "Subject 30026296 has 6 stays with atleast one lab\n"
     ]
    },
    {
     "name": "stderr",
     "output_type": "stream",
     "text": [
      " 78%|███████████████████████████████▊         | 155/200 [06:04<01:17,  1.73s/it]"
     ]
    },
    {
     "name": "stdout",
     "output_type": "stream",
     "text": [
      "Stay 236341680: skipped 0/29 intervals\n",
      "Stay 236341680: sparse → dropped\n",
      "Patient 30026296: skipped 5/6 stays\n",
      "Subject 32601371 has 39 stays with atleast one lab\n",
      "Stay 118894416: skipped 0/302 intervals\n",
      "Stay 118894416: sparse → dropped\n",
      "Stay 182206740: skipped 0/8 intervals\n",
      "Stay 182206740: sparse → dropped\n"
     ]
    },
    {
     "name": "stderr",
     "output_type": "stream",
     "text": [
      " 78%|███████████████████████████████▉         | 156/200 [06:09<01:59,  2.72s/it]"
     ]
    },
    {
     "name": "stdout",
     "output_type": "stream",
     "text": [
      "Patient 32601371: skipped 37/39 stays\n",
      "Subject 31474569 has 5 stays with atleast one lab\n",
      "Stay 117700052: skipped 0/47 intervals\n",
      "Stay 117700052: sparse → dropped\n"
     ]
    },
    {
     "name": "stderr",
     "output_type": "stream",
     "text": [
      " 78%|████████████████████████████████▏        | 157/200 [06:10<01:38,  2.29s/it]"
     ]
    },
    {
     "name": "stdout",
     "output_type": "stream",
     "text": [
      "Stay 78449964: skipped 0/39 intervals\n",
      "Patient 31474569: skipped 3/5 stays\n",
      "Subject 32031984 has 6 stays with atleast one lab\n",
      "Stay 40766087: skipped 0/44 intervals\n"
     ]
    },
    {
     "name": "stderr",
     "output_type": "stream",
     "text": [
      " 79%|████████████████████████████████▍        | 158/200 [06:11<01:16,  1.82s/it]"
     ]
    },
    {
     "name": "stdout",
     "output_type": "stream",
     "text": [
      "Patient 32031984: skipped 5/6 stays\n",
      "Subject 30145131 has 12 stays with atleast one lab\n",
      "Stay 247993537: skipped 0/71 intervals\n"
     ]
    },
    {
     "name": "stderr",
     "output_type": "stream",
     "text": [
      " 80%|████████████████████████████████▌        | 159/200 [06:12<01:08,  1.68s/it]"
     ]
    },
    {
     "name": "stdout",
     "output_type": "stream",
     "text": [
      "Patient 30145131: skipped 11/12 stays\n",
      "Subject 31101603 has 16 stays with atleast one lab\n"
     ]
    },
    {
     "name": "stderr",
     "output_type": "stream",
     "text": [
      " 80%|████████████████████████████████▊        | 160/200 [06:13<00:56,  1.42s/it]"
     ]
    },
    {
     "name": "stdout",
     "output_type": "stream",
     "text": [
      "Stay 61767663: skipped 0/7 intervals\n",
      "Patient 31101603: skipped 15/16 stays\n",
      "Subject 31593807 has 34 stays with atleast one lab\n",
      "Stay 38924202: skipped 0/63 intervals\n",
      "Stay 38924202: sparse → dropped\n"
     ]
    },
    {
     "name": "stderr",
     "output_type": "stream",
     "text": [
      " 80%|█████████████████████████████████        | 161/200 [06:16<01:08,  1.75s/it]"
     ]
    },
    {
     "name": "stdout",
     "output_type": "stream",
     "text": [
      "Patient 31593807: skipped 33/34 stays\n",
      "Subject 31946403 has 24 stays with atleast one lab\n",
      "Stay 19361303: skipped 0/12 intervals\n"
     ]
    },
    {
     "name": "stderr",
     "output_type": "stream",
     "text": [
      " 81%|█████████████████████████████████▏       | 162/200 [06:17<00:57,  1.52s/it]"
     ]
    },
    {
     "name": "stdout",
     "output_type": "stream",
     "text": [
      "Patient 31946403: skipped 23/24 stays\n",
      "Subject 31189174 has 12 stays with atleast one lab\n",
      "Stay 264495851: skipped 0/14 intervals\n"
     ]
    },
    {
     "name": "stderr",
     "output_type": "stream",
     "text": [
      " 82%|█████████████████████████████████▍       | 163/200 [06:17<00:44,  1.20s/it]"
     ]
    },
    {
     "name": "stdout",
     "output_type": "stream",
     "text": [
      "Patient 31189174: skipped 11/12 stays\n",
      "Subject 43760648 has 3 stays with atleast one lab\n"
     ]
    },
    {
     "name": "stderr",
     "output_type": "stream",
     "text": [
      " 82%|█████████████████████████████████▌       | 164/200 [06:19<00:54,  1.53s/it]"
     ]
    },
    {
     "name": "stdout",
     "output_type": "stream",
     "text": [
      "Stay 206311484: skipped 0/189 intervals\n",
      "Stay 206311484: sparse → dropped\n",
      "Patient 43760648: skipped 2/3 stays\n",
      "Subject 31557514 has 1 stays with atleast one lab\n"
     ]
    },
    {
     "name": "stderr",
     "output_type": "stream",
     "text": [
      " 82%|█████████████████████████████████▊       | 165/200 [06:23<01:18,  2.24s/it]"
     ]
    },
    {
     "name": "stdout",
     "output_type": "stream",
     "text": [
      "Stay 23260619: skipped 0/320 intervals\n",
      "Patient 31557514: skipped 0/1 stays\n",
      "Subject 30155878 has 10 stays with atleast one lab\n"
     ]
    },
    {
     "name": "stderr",
     "output_type": "stream",
     "text": [
      " 83%|██████████████████████████████████       | 166/200 [06:24<01:00,  1.77s/it]"
     ]
    },
    {
     "name": "stdout",
     "output_type": "stream",
     "text": [
      "Stay 215321859: skipped 0/35 intervals\n",
      "Stay 215321859: sparse → dropped\n",
      "Patient 30155878: skipped 9/10 stays\n",
      "Subject 42111855 has 45 stays with atleast one lab\n",
      "Stay 229113914: skipped 0/690 intervals\n"
     ]
    },
    {
     "name": "stderr",
     "output_type": "stream",
     "text": [
      " 84%|██████████████████████████████████▏      | 167/200 [06:35<02:29,  4.55s/it]"
     ]
    },
    {
     "name": "stdout",
     "output_type": "stream",
     "text": [
      "Patient 42111855: skipped 44/45 stays\n",
      "Subject 31854186 has 1 stays with atleast one lab\n"
     ]
    },
    {
     "name": "stderr",
     "output_type": "stream",
     "text": [
      " 84%|██████████████████████████████████▍      | 168/200 [06:36<01:56,  3.63s/it]"
     ]
    },
    {
     "name": "stdout",
     "output_type": "stream",
     "text": [
      "Stay 62946974: skipped 0/132 intervals\n",
      "Stay 62946974: sparse → dropped\n",
      "Patient 31854186: skipped 0/1 stays\n",
      "Subject 31813971 has 4 stays with atleast one lab\n"
     ]
    },
    {
     "name": "stderr",
     "output_type": "stream",
     "text": [
      " 84%|██████████████████████████████████▋      | 169/200 [06:37<01:28,  2.85s/it]"
     ]
    },
    {
     "name": "stdout",
     "output_type": "stream",
     "text": [
      "Stay 48057109: skipped 0/66 intervals\n",
      "Patient 31813971: skipped 3/4 stays\n",
      "Subject 30784784 has 8 stays with atleast one lab\n",
      "Stay 192755332: skipped 0/48 intervals\n"
     ]
    },
    {
     "name": "stderr",
     "output_type": "stream",
     "text": [
      " 85%|██████████████████████████████████▊      | 170/200 [06:38<01:08,  2.30s/it]"
     ]
    },
    {
     "name": "stdout",
     "output_type": "stream",
     "text": [
      "Patient 30784784: skipped 7/8 stays\n",
      "Subject 30492599 has 2 stays with atleast one lab\n"
     ]
    },
    {
     "name": "stderr",
     "output_type": "stream",
     "text": [
      " 86%|███████████████████████████████████      | 171/200 [06:39<00:49,  1.71s/it]"
     ]
    },
    {
     "name": "stdout",
     "output_type": "stream",
     "text": [
      "Stay 131497674: skipped 0/23 intervals\n",
      "Patient 30492599: skipped 1/2 stays\n",
      "Subject 136854989 has 1 stays with atleast one lab\n"
     ]
    },
    {
     "name": "stderr",
     "output_type": "stream",
     "text": [
      " 86%|███████████████████████████████████▎     | 172/200 [06:39<00:39,  1.39s/it]"
     ]
    },
    {
     "name": "stdout",
     "output_type": "stream",
     "text": [
      "Stay 259969208: skipped 0/52 intervals\n",
      "Patient 136854989: skipped 0/1 stays\n",
      "Subject 80478026 has 64 stays with atleast one lab\n",
      "Stay 238086028: skipped 0/93 intervals\n",
      "Stay 238086028: sparse → dropped\n"
     ]
    },
    {
     "name": "stderr",
     "output_type": "stream",
     "text": [
      " 86%|███████████████████████████████████▍     | 173/200 [06:42<00:50,  1.87s/it]"
     ]
    },
    {
     "name": "stdout",
     "output_type": "stream",
     "text": [
      "Patient 80478026: skipped 63/64 stays\n",
      "Subject 31559792 has 121 stays with atleast one lab\n",
      "Stay 238442341: skipped 0/143 intervals\n",
      "Stay 238442341: sparse → dropped\n",
      "Stay 115021330: skipped 0/217 intervals\n",
      "Stay 127151810: skipped 0/43 intervals\n",
      "Stay 127151810: sparse → dropped\n"
     ]
    },
    {
     "name": "stderr",
     "output_type": "stream",
     "text": [
      " 87%|███████████████████████████████████▋     | 174/200 [06:50<01:35,  3.69s/it]"
     ]
    },
    {
     "name": "stdout",
     "output_type": "stream",
     "text": [
      "Patient 31559792: skipped 118/121 stays\n",
      "Subject 107324701 has 1 stays with atleast one lab\n"
     ]
    },
    {
     "name": "stderr",
     "output_type": "stream",
     "text": [
      " 88%|███████████████████████████████████▉     | 175/200 [06:53<01:20,  3.22s/it]"
     ]
    },
    {
     "name": "stdout",
     "output_type": "stream",
     "text": [
      "Stay 99284225: skipped 0/176 intervals\n",
      "Stay 99284225: sparse → dropped\n",
      "Patient 107324701: skipped 0/1 stays\n",
      "Subject 96821296 has 34 stays with atleast one lab\n",
      "Stay 201218536: skipped 0/95 intervals\n",
      "Stay 201218536: sparse → dropped\n"
     ]
    },
    {
     "name": "stderr",
     "output_type": "stream",
     "text": [
      " 88%|████████████████████████████████████     | 176/200 [06:55<01:14,  3.10s/it]"
     ]
    },
    {
     "name": "stdout",
     "output_type": "stream",
     "text": [
      "Patient 96821296: skipped 33/34 stays\n",
      "Subject 31583286 has 49 stays with atleast one lab\n"
     ]
    },
    {
     "name": "stderr",
     "output_type": "stream",
     "text": [
      " 88%|████████████████████████████████████▎    | 177/200 [06:57<01:01,  2.66s/it]"
     ]
    },
    {
     "name": "stdout",
     "output_type": "stream",
     "text": [
      "Patient 31583286: skipped 49/49 stays\n",
      "Subject 97612063 has 57 stays with atleast one lab\n",
      "Stay 62851270: skipped 0/284 intervals\n",
      "Stay 62851270: sparse → dropped\n",
      "Stay 20281163: skipped 0/471 intervals\n",
      "Stay 20281163: sparse → dropped\n"
     ]
    },
    {
     "name": "stderr",
     "output_type": "stream",
     "text": [
      " 89%|████████████████████████████████████▍    | 178/200 [07:07<01:49,  4.98s/it]"
     ]
    },
    {
     "name": "stdout",
     "output_type": "stream",
     "text": [
      "Patient 97612063: skipped 55/57 stays\n",
      "Subject 32402411 has 5 stays with atleast one lab\n"
     ]
    },
    {
     "name": "stderr",
     "output_type": "stream",
     "text": [
      " 90%|████████████████████████████████████▋    | 179/200 [07:08<01:15,  3.59s/it]"
     ]
    },
    {
     "name": "stdout",
     "output_type": "stream",
     "text": [
      "Stay 8080446: skipped 0/13 intervals\n",
      "Stay 8080446: sparse → dropped\n",
      "Patient 32402411: skipped 4/5 stays\n",
      "Subject 30927103 has 55 stays with atleast one lab\n"
     ]
    },
    {
     "name": "stderr",
     "output_type": "stream",
     "text": [
      " 90%|████████████████████████████████████▉    | 180/200 [07:09<01:00,  3.03s/it]"
     ]
    },
    {
     "name": "stdout",
     "output_type": "stream",
     "text": [
      "Patient 30927103: skipped 55/55 stays\n",
      "Subject 30603829 has 5 stays with atleast one lab\n"
     ]
    },
    {
     "name": "stderr",
     "output_type": "stream",
     "text": [
      " 90%|█████████████████████████████████████    | 181/200 [07:10<00:44,  2.36s/it]"
     ]
    },
    {
     "name": "stdout",
     "output_type": "stream",
     "text": [
      "Stay 228227664: skipped 0/47 intervals\n",
      "Patient 30603829: skipped 4/5 stays\n",
      "Subject 30088237 has 11 stays with atleast one lab\n",
      "Stay 28408401: skipped 0/88 intervals\n",
      "Stay 28408401: sparse → dropped\n",
      "Stay 32275531: skipped 0/172 intervals\n",
      "Stay 168235019: skipped 0/106 intervals\n",
      "Stay 168235019: sparse → dropped\n"
     ]
    },
    {
     "name": "stderr",
     "output_type": "stream",
     "text": [
      " 91%|█████████████████████████████████████▎   | 182/200 [07:15<00:57,  3.22s/it]"
     ]
    },
    {
     "name": "stdout",
     "output_type": "stream",
     "text": [
      "Patient 30088237: skipped 8/11 stays\n",
      "Subject 30889452 has 56 stays with atleast one lab\n"
     ]
    },
    {
     "name": "stderr",
     "output_type": "stream",
     "text": [
      " 92%|█████████████████████████████████████▌   | 183/200 [07:18<00:51,  3.03s/it]"
     ]
    },
    {
     "name": "stdout",
     "output_type": "stream",
     "text": [
      "Patient 30889452: skipped 56/56 stays\n",
      "Subject 44751625 has 1 stays with atleast one lab\n"
     ]
    },
    {
     "name": "stderr",
     "output_type": "stream",
     "text": [
      " 92%|█████████████████████████████████████▋   | 184/200 [07:20<00:42,  2.65s/it]"
     ]
    },
    {
     "name": "stdout",
     "output_type": "stream",
     "text": [
      "Stay 154840404: skipped 0/151 intervals\n",
      "Stay 154840404: sparse → dropped\n",
      "Patient 44751625: skipped 0/1 stays\n",
      "Subject 45929637 has 37 stays with atleast one lab\n",
      "Stay 28040549: skipped 0/76 intervals\n",
      "Stay 28040549: sparse → dropped\n"
     ]
    },
    {
     "name": "stderr",
     "output_type": "stream",
     "text": [
      " 92%|█████████████████████████████████████▉   | 185/200 [07:22<00:38,  2.55s/it]"
     ]
    },
    {
     "name": "stdout",
     "output_type": "stream",
     "text": [
      "Patient 45929637: skipped 36/37 stays\n",
      "Subject 31042193 has 107 stays with atleast one lab\n",
      "Stay 183123154: skipped 0/153 intervals\n",
      "Stay 183123154: sparse → dropped\n",
      "Stay 238637803: skipped 0/323 intervals\n",
      "Stay 238637803: sparse → dropped\n",
      "Stay 240701095: skipped 0/57 intervals\n",
      "Stay 240701095: sparse → dropped\n",
      "Stay 10961030: skipped 0/130 intervals\n"
     ]
    },
    {
     "name": "stderr",
     "output_type": "stream",
     "text": [
      " 93%|██████████████████████████████████████▏  | 186/200 [07:33<01:12,  5.20s/it]"
     ]
    },
    {
     "name": "stdout",
     "output_type": "stream",
     "text": [
      "Patient 31042193: skipped 103/107 stays\n",
      "Subject 80501212 has 1 stays with atleast one lab\n"
     ]
    },
    {
     "name": "stderr",
     "output_type": "stream",
     "text": [
      " 94%|██████████████████████████████████████▎  | 187/200 [07:34<00:50,  3.86s/it]"
     ]
    },
    {
     "name": "stdout",
     "output_type": "stream",
     "text": [
      "Stay 239337420: skipped 0/47 intervals\n",
      "Stay 239337420: sparse → dropped\n",
      "Patient 80501212: skipped 0/1 stays\n",
      "Subject 30837865 has 1 stays with atleast one lab\n"
     ]
    },
    {
     "name": "stderr",
     "output_type": "stream",
     "text": [
      " 94%|██████████████████████████████████████▌  | 188/200 [07:36<00:38,  3.22s/it]"
     ]
    },
    {
     "name": "stdout",
     "output_type": "stream",
     "text": [
      "Stay 26721074: skipped 0/134 intervals\n",
      "Stay 26721074: sparse → dropped\n",
      "Patient 30837865: skipped 0/1 stays\n",
      "Subject 32559184 has 53 stays with atleast one lab\n",
      "Stay 176580568: skipped 0/29 intervals\n",
      "Stay 176580568: sparse → dropped\n",
      "Stay 200134242: skipped 0/135 intervals\n",
      "Stay 200134242: sparse → dropped\n",
      "Stay 37239383: skipped 0/269 intervals\n",
      "Stay 167414705: skipped 0/62 intervals\n",
      "Stay 74767604: skipped 0/5 intervals\n",
      "Stay 74767604: sparse → dropped\n"
     ]
    },
    {
     "name": "stderr",
     "output_type": "stream",
     "text": [
      " 94%|██████████████████████████████████████▋  | 189/200 [07:43<00:47,  4.34s/it]"
     ]
    },
    {
     "name": "stdout",
     "output_type": "stream",
     "text": [
      "Patient 32559184: skipped 48/53 stays\n",
      "Subject 72990249 has 1 stays with atleast one lab\n"
     ]
    },
    {
     "name": "stderr",
     "output_type": "stream",
     "text": [
      " 95%|██████████████████████████████████████▉  | 190/200 [07:44<00:32,  3.23s/it]"
     ]
    },
    {
     "name": "stdout",
     "output_type": "stream",
     "text": [
      "Stay 111066411: skipped 0/55 intervals\n",
      "Patient 72990249: skipped 0/1 stays\n",
      "Subject 57292047 has 28 stays with atleast one lab\n",
      "Stay 54087483: skipped 0/40 intervals\n"
     ]
    },
    {
     "name": "stderr",
     "output_type": "stream",
     "text": [
      " 96%|███████████████████████████████████████▏ | 191/200 [07:45<00:24,  2.70s/it]"
     ]
    },
    {
     "name": "stdout",
     "output_type": "stream",
     "text": [
      "Patient 57292047: skipped 27/28 stays\n",
      "Subject 30820206 has 81 stays with atleast one lab\n",
      "Stay 118531321: skipped 0/96 intervals\n",
      "Stay 118531321: sparse → dropped\n"
     ]
    },
    {
     "name": "stderr",
     "output_type": "stream",
     "text": [
      " 96%|███████████████████████████████████████▎ | 192/200 [07:48<00:23,  2.91s/it]"
     ]
    },
    {
     "name": "stdout",
     "output_type": "stream",
     "text": [
      "Patient 30820206: skipped 80/81 stays\n",
      "Subject 46022180 has 7 stays with atleast one lab\n"
     ]
    },
    {
     "name": "stderr",
     "output_type": "stream",
     "text": [
      " 96%|███████████████████████████████████████▌ | 193/200 [07:49<00:15,  2.27s/it]"
     ]
    },
    {
     "name": "stdout",
     "output_type": "stream",
     "text": [
      "Stay 42422731: skipped 0/29 intervals\n",
      "Stay 42422731: sparse → dropped\n",
      "Patient 46022180: skipped 6/7 stays\n",
      "Subject 30176426 has 1 stays with atleast one lab\n"
     ]
    },
    {
     "name": "stderr",
     "output_type": "stream",
     "text": [
      " 97%|███████████████████████████████████████▊ | 194/200 [07:51<00:11,  1.99s/it]"
     ]
    },
    {
     "name": "stdout",
     "output_type": "stream",
     "text": [
      "Stay 174478835: skipped 0/121 intervals\n",
      "Stay 174478835: sparse → dropped\n",
      "Patient 30176426: skipped 0/1 stays\n",
      "Subject 32455669 has 4 stays with atleast one lab\n",
      "Stay 27733429: skipped 0/11 intervals\n"
     ]
    },
    {
     "name": "stderr",
     "output_type": "stream",
     "text": [
      " 98%|███████████████████████████████████████▉ | 195/200 [07:51<00:07,  1.47s/it]"
     ]
    },
    {
     "name": "stdout",
     "output_type": "stream",
     "text": [
      "Patient 32455669: skipped 3/4 stays\n",
      "Subject 32175197 has 18 stays with atleast one lab\n"
     ]
    },
    {
     "name": "stderr",
     "output_type": "stream",
     "text": [
      " 98%|████████████████████████████████████████▏| 196/200 [07:51<00:04,  1.19s/it]"
     ]
    },
    {
     "name": "stdout",
     "output_type": "stream",
     "text": [
      "Patient 32175197: skipped 18/18 stays\n",
      "Subject 30712915 has 9 stays with atleast one lab\n"
     ]
    },
    {
     "name": "stderr",
     "output_type": "stream",
     "text": [
      " 98%|████████████████████████████████████████▍| 197/200 [07:52<00:02,  1.04it/s]"
     ]
    },
    {
     "name": "stdout",
     "output_type": "stream",
     "text": [
      "Stay 193805006: skipped 0/14 intervals\n",
      "Stay 193805006: sparse → dropped\n",
      "Patient 30712915: skipped 8/9 stays\n",
      "Subject 32524622 has 106 stays with atleast one lab\n",
      "Stay 23280661: skipped 0/128 intervals\n",
      "Stay 23280661: sparse → dropped\n"
     ]
    },
    {
     "name": "stderr",
     "output_type": "stream",
     "text": [
      " 99%|████████████████████████████████████████▌| 198/200 [07:56<00:03,  1.92s/it]"
     ]
    },
    {
     "name": "stdout",
     "output_type": "stream",
     "text": [
      "Patient 32524622: skipped 105/106 stays\n",
      "Subject 32136077 has 26 stays with atleast one lab\n",
      "Stay 201295987: skipped 0/72 intervals\n",
      "Stay 201295987: sparse → dropped\n"
     ]
    },
    {
     "name": "stderr",
     "output_type": "stream",
     "text": [
      "100%|████████████████████████████████████████▊| 199/200 [07:58<00:01,  1.84s/it]"
     ]
    },
    {
     "name": "stdout",
     "output_type": "stream",
     "text": [
      "Patient 32136077: skipped 25/26 stays\n",
      "Subject 31897028 has 11 stays with atleast one lab\n",
      "Stay 114006378: skipped 0/62 intervals\n",
      "Patient 31897028: skipped 10/11 stays\n"
     ]
    },
    {
     "name": "stderr",
     "output_type": "stream",
     "text": [
      "100%|█████████████████████████████████████████| 200/200 [07:59<00:00,  2.40s/it]\n"
     ]
    }
   ],
   "source": [
    "train_expert_trajectories = build_expert_trajectories(train_subject_ids)"
   ]
  },
  {
   "cell_type": "code",
   "execution_count": 54,
   "id": "0367b45c-2b34-4b9b-bcc4-3f29d15041c8",
   "metadata": {},
   "outputs": [
    {
     "data": {
      "image/png": "[encoded data removed]",
      "text/plain": [
       "<Figure size 600x400 with 1 Axes>"
      ]
     },
     "metadata": {},
     "output_type": "display_data"
    }
   ],
   "source": [
    "import numpy as np\n",
    "import matplotlib.pyplot as plt\n",
    "\n",
    "# — STARR cohort —\n",
    "# flatten all actions\n",
    "starr_actions = np.concatenate([np.array(a, dtype=int)\n",
    "                                for a in train_expert_trajectories['actions']])\n",
    "\n",
    "# define every bucket (including 40)\n",
    "all_buckets = np.array([0, 10, 20, 30, 40])\n",
    "\n",
    "# compute proportions\n",
    "total_starr = len(starr_actions)\n",
    "starr_props = [np.sum(starr_actions == b) / total_starr for b in all_buckets]\n",
    "\n",
    "# plot\n",
    "plt.figure(figsize=(6, 4))\n",
    "plt.bar(all_buckets, starr_props, width=8, edgecolor='black')\n",
    "plt.xticks(all_buckets)\n",
    "plt.xlabel(\"Dose Bucket (mg)\")\n",
    "plt.ylabel(\"Proportion\")\n",
    "plt.title(\"Proportion of Observed Actions Across STARR Train Patients\")\n",
    "plt.tight_layout()\n",
    "plt.show()\n"
   ]
  },
  {
   "cell_type": "code",
   "execution_count": 58,
   "id": "c9a6febe-7a43-4771-a699-73bef688429c",
   "metadata": {},
   "outputs": [
    {
     "name": "stdout",
     "output_type": "stream",
     "text": [
      "Saved 14,983 rows to first_k_starr.pkl\n",
      "   visit_occurrence_id  K_initial\n",
      "0              7947327        4.5\n",
      "1              7952622        4.2\n",
      "2              7974346        4.0\n",
      "3              7976037        4.3\n",
      "4              8038184        4.6\n"
     ]
    }
   ],
   "source": [
    "import pandas as pd\n",
    "\n",
    "# ---------------------------------------------------------------------\n",
    "# 1.  Build first_k_starr  (adjust variable names if your notebook differs)\n",
    "# ---------------------------------------------------------------------\n",
    "K_CIDS = [3023103, 3005456]  # serum & whole-blood potassium concept_ids\n",
    "\n",
    "first_k_starr = (\n",
    "    all_labs\n",
    "      .loc[all_labs['measurement_concept_id'].isin(K_CIDS)]\n",
    "      .sort_values(['visit_occurrence_id', 'measurement_DATETIME'])\n",
    "      .groupby('visit_occurrence_id', as_index=False)\n",
    "      .first()[['visit_occurrence_id', 'value_as_number']]\n",
    "      .rename(columns={'value_as_number': 'K_initial'})\n",
    ")\n",
    "\n",
    "# ---------------------------------------------------------------------\n",
    "# 2.  Save to pickle (compact, preserves dtypes & index)\n",
    "# ---------------------------------------------------------------------\n",
    "first_k_starr.to_pickle('first_k_starr.pkl')\n",
    "\n",
    "print(f'Saved {len(first_k_starr):,} rows to first_k_starr.pkl')\n",
    "print(first_k_starr.head())\n"
   ]
  },
  {
   "cell_type": "code",
   "execution_count": 305,
   "id": "cf5d67a1-3786-421c-a2fc-b7ccfd488f4d",
   "metadata": {},
   "outputs": [
    {
     "data": {
      "image/png": "[encoded data removed]",
      "text/plain": [
       "<Figure size 600x600 with 1 Axes>"
      ]
     },
     "metadata": {},
     "output_type": "display_data"
    }
   ],
   "source": [
    "import numpy as np\n",
    "import matplotlib.pyplot as plt\n",
    "\n",
    "# Flatten states and actions across all patients/time steps\n",
    "labs = np.concatenate([np.array(traj_states)[:,-1] \n",
    "                       for traj_states in train_expert_trajectories['states']])\n",
    "actions = np.concatenate([np.array(traj_actions) \n",
    "                          for traj_actions in train_expert_trajectories['actions']])\n",
    "\n",
    "plt.figure(figsize=(6,6))\n",
    "plt.scatter(labs, actions, alpha=0.5)\n",
    "plt.xlabel(\"Potassium Lab Value (mmol/L)\")\n",
    "plt.ylabel(\"Dose Administered\")\n",
    "plt.title(\"Scatter of Lab Values vs. Doses\")\n",
    "plt.tight_layout()\n",
    "plt.show()\n"
   ]
  },
  {
   "cell_type": "markdown",
   "id": "f1d4d6c2-dd18-49cc-86ad-291d70cdd660",
   "metadata": {},
   "source": [
    "## FQI"
   ]
  },
  {
   "cell_type": "code",
   "execution_count": 306,
   "id": "7ba642d0-8223-4f29-a92d-4918cbf0aeb5",
   "metadata": {},
   "outputs": [],
   "source": [
    "# Define consistent dose-to-index mapping for both BC and FQI\n",
    "dose_to_idx = {0: 0, 10: 1, 20: 2, 40: 3}\n",
    "idx_to_dose = {0: 0, 1: 10, 2: 20, 3: 40}\n",
    "n_actions = 4"
   ]
  },
  {
   "cell_type": "code",
   "execution_count": 307,
   "id": "e6a8f37f-3bd0-4205-8956-69eb664eba8f",
   "metadata": {},
   "outputs": [],
   "source": [
    "import numpy as np\n",
    "import torch\n",
    "import torch.nn as nn\n",
    "import torch.optim as optim\n",
    "from tqdm import tqdm\n",
    "\n",
    "def build_transitions(expert_trajectories):\n",
    "    \"\"\"\n",
    "    Given expert_trajectories = {'states', 'actions', 'rewards'}, this\n",
    "    constructs a list `transitions` of (s, a, r, s2, a2, done) tuples exactly\n",
    "    as in your original block.\n",
    "    \n",
    "    Returns:\n",
    "        transitions: list of (s, a, r, s2, a2, done) tuples\n",
    "    \"\"\"\n",
    "    transitions = []\n",
    "    for states, actions, rewards in zip(\n",
    "            expert_trajectories['states'],\n",
    "            expert_trajectories['actions'],\n",
    "            expert_trajectories['rewards']):\n",
    "        T = len(states)\n",
    "        for t in range(T):\n",
    "            s  = np.array(states[t], dtype=np.float32)\n",
    "            a  = np.array([actions[t]], dtype=np.float32)\n",
    "            r  = np.array([rewards[t]], dtype=np.float32)\n",
    "            done = 1.0 if t == T-1 else 0.0\n",
    "\n",
    "            if t < T-1:\n",
    "                s2 = np.array(states[t+1], dtype=np.float32)\n",
    "                a2 = np.array([actions[t+1]], dtype=np.float32)\n",
    "            else:\n",
    "                # terminal next state/action dummy\n",
    "                s2 = s.copy()\n",
    "                a2 = np.array([0.0], dtype=np.float32)\n",
    "\n",
    "            transitions.append((s, a, r, s2, a2, done))\n",
    "\n",
    "    return transitions\n"
   ]
  },
  {
   "cell_type": "code",
   "execution_count": 308,
   "id": "f00f6e35-6fd4-489c-8e40-d3bfcb10e150",
   "metadata": {},
   "outputs": [],
   "source": [
    "class FQI_QNet(nn.Module):\n",
    "    \"\"\"Q-network for FQI policy\"\"\"\n",
    "    def __init__(self, state_dim, hidden=64):\n",
    "        super().__init__()\n",
    "        self.net = nn.Sequential(\n",
    "            nn.Linear(state_dim, hidden),\n",
    "            nn.ReLU(),\n",
    "            nn.Linear(hidden, hidden),\n",
    "            nn.ReLU(),\n",
    "            nn.Linear(hidden, n_actions)  # Q(s,a) for a ∈ {0,5,10,20,40}\n",
    "        )\n",
    "    def forward(self, s):\n",
    "        return self.net(s)  # Shape: [batch_size, n_actions]\n"
   ]
  },
  {
   "cell_type": "code",
   "execution_count": 309,
   "id": "0136333a-aba9-4cfb-b0b7-e58a346fb6c7",
   "metadata": {},
   "outputs": [],
   "source": [
    "def train_fqi(transitions, num_epochs=100, lr=1e-5, batch_size=512,\n",
    "              gamma=0.99, soft_tau=0.1):\n",
    "    \"\"\"\n",
    "    Trains your FQI Q-network exactly as in the original loop, but wrapped\n",
    "    so you can call it with any list of transitions.\n",
    "    \n",
    "    Returns:\n",
    "        fqi_q_net: the trained QNet\n",
    "        fqi_q_target: the final target network (after soft updates)\n",
    "    \"\"\"\n",
    "    device = torch.device(\"cuda\" if torch.cuda.is_available() else \"cpu\")\n",
    "    \n",
    "    # Infer state_dim from the first transition tuple: (s,a,r,s2,a2,done)\n",
    "    state_dim = transitions[0][0].shape[0]\n",
    "    \n",
    "    # Initialize FQI Q-networks\n",
    "    fqi_q_net = FQI_QNet(state_dim).to(device)\n",
    "    fqi_q_target = FQI_QNet(state_dim).to(device)\n",
    "    fqi_q_target.load_state_dict(fqi_q_net.state_dict())\n",
    "    fqi_optimizer = optim.Adam(fqi_q_net.parameters(), lr=lr)\n",
    "    fqi_loss_fn = nn.MSELoss(reduction='none')  # Changed to 'none' for per-sample weighting\n",
    "    \n",
    "    # Compute class imbalance weights\n",
    "    all_a_idx = np.array([\n",
    "        dose_to_idx[t[1][0] if isinstance(t[1], (list, np.ndarray)) else t[1]]\n",
    "        for t in transitions\n",
    "    ])\n",
    "    counts = np.bincount(all_a_idx, minlength=len(dose_to_idx))\n",
    "    alpha = 0.6\n",
    "    inv_freq = 1.0 / (counts.astype(np.float32) ** alpha)\n",
    "    inv_freq = torch.tensor(inv_freq, dtype=torch.float32, device=device)\n",
    "    \n",
    "    print(\"Training FQI Q-network...\")\n",
    "    for epoch in range(num_epochs):\n",
    "        np.random.shuffle(transitions)\n",
    "        epoch_loss = 0.0\n",
    "        n_batches = 0\n",
    "        for start in range(0, len(transitions), batch_size):\n",
    "            batch = transitions[start:start + batch_size]\n",
    "            s, a, r, s2, a2, done = zip(*batch)\n",
    "            # Convert actions to indices (0-3 or 0-4, depending on buckets)\n",
    "            a_idx = np.array([\n",
    "                dose_to_idx[a_elem[0] if isinstance(a_elem, (list, np.ndarray)) else a_elem]\n",
    "                for a_elem in a\n",
    "            ])\n",
    "            a2_idx = np.array([\n",
    "                dose_to_idx[a2_elem[0] if isinstance(a2_elem, (list, np.ndarray)) else a2_elem]\n",
    "                for a2_elem in a2\n",
    "            ])\n",
    "            # Convert to tensors\n",
    "            s = torch.tensor(np.array(s),    device=device, dtype=torch.float32)\n",
    "            a_idx = torch.tensor(a_idx,       device=device, dtype=torch.long)\n",
    "            r = torch.tensor(np.array(r),     device=device, dtype=torch.float32).squeeze(-1)\n",
    "            s2 = torch.tensor(np.array(s2),   device=device, dtype=torch.float32)\n",
    "            a2_idx = torch.tensor(a2_idx,     device=device, dtype=torch.long)\n",
    "            done = torch.tensor(np.array(done), device=device, dtype=torch.float32)\n",
    "            # Compute TD‐target: r + γ (1 − done) Q_target(s2, a2)\n",
    "            with torch.no_grad():\n",
    "                q2_all = fqi_q_target(s2)  # [batch_size, n_actions]\n",
    "                q2 = q2_all.gather(1, a2_idx.unsqueeze(-1)).squeeze(-1)\n",
    "                y = r + gamma * (1 - done) * q2\n",
    "            # Current Q(s,a)\n",
    "            q_all = fqi_q_net(s)  # [batch_size, n_actions]\n",
    "            q = q_all.gather(1, a_idx.unsqueeze(-1)).squeeze(-1)\n",
    "            \n",
    "            # Weighted MSE loss for class imbalance\n",
    "            loss_per_sample = fqi_loss_fn(q, y)\n",
    "            sample_weights = inv_freq[a_idx]\n",
    "            loss = (loss_per_sample * sample_weights).mean()\n",
    "            \n",
    "            fqi_optimizer.zero_grad()\n",
    "            loss.backward()\n",
    "            fqi_optimizer.step()\n",
    "            epoch_loss += loss.item()\n",
    "            n_batches += 1\n",
    "        # Soft update target network\n",
    "        for p, pt in zip(fqi_q_net.parameters(), fqi_q_target.parameters()):\n",
    "            pt.data.mul_(1 - soft_tau)\n",
    "            pt.data.add_(soft_tau * p.data)\n",
    "        if epoch % 10 == 0:\n",
    "            avg_loss = epoch_loss / (n_batches + 1e-8)\n",
    "            print(f\"[FQI] Epoch {epoch:3d}  Loss: {avg_loss:.4f}\")\n",
    "    return fqi_q_net, fqi_q_target"
   ]
  },
  {
   "cell_type": "code",
   "execution_count": 310,
   "id": "e5ec86ea-2ca8-44d4-bd38-55350037c341",
   "metadata": {},
   "outputs": [],
   "source": [
    "train_transitions = build_transitions(train_expert_trajectories)"
   ]
  },
  {
   "cell_type": "code",
   "execution_count": 311,
   "id": "357b2c5b-c73c-4183-b2e7-67f8feea4af4",
   "metadata": {},
   "outputs": [
    {
     "name": "stdout",
     "output_type": "stream",
     "text": [
      "transitions with NaNs: [0]\n"
     ]
    }
   ],
   "source": [
    "bad = sum( any(np.isnan(t[0])) or np.isnan(t[2])  # t = (s,a,r,s2,a2,done)\n",
    "           for t in train_transitions )\n",
    "print(\"transitions with NaNs:\", bad)\n"
   ]
  },
  {
   "cell_type": "code",
   "execution_count": 312,
   "id": "4f08831a-611a-467e-956c-dd0d2863bdb7",
   "metadata": {},
   "outputs": [
    {
     "data": {
      "text/plain": [
       "7192"
      ]
     },
     "execution_count": 312,
     "metadata": {},
     "output_type": "execute_result"
    }
   ],
   "source": [
    "len(train_transitions)"
   ]
  },
  {
   "cell_type": "code",
   "execution_count": 313,
   "id": "8486f883-aba6-457d-a7ec-d3da51bff4f8",
   "metadata": {},
   "outputs": [
    {
     "name": "stderr",
     "output_type": "stream",
     "text": [
      "/var/folders/67/rsds3lxj78x4092pycb6cnkh0000gn/T/ipykernel_78117/2533482905.py:30: RuntimeWarning: divide by zero encountered in divide\n",
      "  inv_freq = 1.0 / (counts.astype(np.float32) ** alpha)\n"
     ]
    },
    {
     "name": "stdout",
     "output_type": "stream",
     "text": [
      "Training FQI Q-network...\n",
      "[FQI] Epoch   0  Loss: 25.8853\n",
      "[FQI] Epoch  10  Loss: 24.9978\n",
      "[FQI] Epoch  20  Loss: 24.9925\n",
      "[FQI] Epoch  30  Loss: 25.1068\n",
      "[FQI] Epoch  40  Loss: 24.0535\n",
      "[FQI] Epoch  50  Loss: 24.6054\n",
      "[FQI] Epoch  60  Loss: 24.6651\n",
      "[FQI] Epoch  70  Loss: 25.1271\n",
      "[FQI] Epoch  80  Loss: 23.7922\n",
      "[FQI] Epoch  90  Loss: 23.7253\n"
     ]
    }
   ],
   "source": [
    "train_fqi_net, train_fqi_target = train_fqi(train_transitions)"
   ]
  },
  {
   "cell_type": "markdown",
   "id": "d7952cf6-d00d-4ba7-9372-63205a2c64dd",
   "metadata": {},
   "source": [
    "## BC"
   ]
  },
  {
   "cell_type": "code",
   "execution_count": 314,
   "id": "903d9702-785f-427c-b552-aadd88fcfcd7",
   "metadata": {},
   "outputs": [],
   "source": [
    "def prepare_bc_dataset(transitions, dose_to_idx):\n",
    "    \"\"\"\n",
    "    Given `transitions = [(s,a,r,s2,a2,done), ...]`, extract:\n",
    "      - bc_states: N×state_dim array of all s\n",
    "      - bc_actions_idx: length‐N vector of discretized action indices\n",
    "    \n",
    "    Args:\n",
    "        transitions: list of (s,a,r,s2,a2,done) tuples\n",
    "        dose_to_idx: dict mapping raw dose → discrete index (e.g. {0:0,10:1,20:2,40:3})\n",
    "    \n",
    "    Returns:\n",
    "        bc_states:    np.ndarray of shape [N, state_dim]\n",
    "        bc_actions_idx: np.ndarray of shape [N,] with integer indices\n",
    "    \"\"\"\n",
    "    # Stack all s_t into one (N × state_dim) array\n",
    "    bc_states = np.stack([t[0] for t in transitions], axis=0)  # shape: [N, state_dim]\n",
    "    \n",
    "    # Extract raw action (dose) from each transition, then map to index\n",
    "    raw_actions = np.stack([t[1] for t in transitions], axis=0)  # shape: [N, 1]\n",
    "    bc_actions_idx = np.array([\n",
    "        dose_to_idx[int(a_elem[0] if isinstance(a_elem, (list, np.ndarray)) else a_elem)]\n",
    "        for a_elem in raw_actions\n",
    "    ], dtype=np.int64)  # shape: [N,]\n",
    "    \n",
    "    # ── add dummy samples for missing action classes ─────────────────────────\n",
    "    existing_actions = set(bc_actions_idx)\n",
    "    all_actions = set(dose_to_idx.values())\n",
    "    missing_actions = all_actions - existing_actions\n",
    "    \n",
    "    if missing_actions:\n",
    "        print(f\"Adding dummy samples for missing actions: {missing_actions}\")\n",
    "        state_dim = bc_states.shape[1]\n",
    "        \n",
    "        for missing_action in missing_actions:\n",
    "            dummy_state = np.zeros((1, state_dim), dtype=np.float32)\n",
    "            dummy_action = np.array([missing_action], dtype=np.int64)\n",
    "            \n",
    "            bc_states = np.vstack([bc_states, dummy_state])\n",
    "            bc_actions_idx = np.concatenate([bc_actions_idx, dummy_action])\n",
    "    # ---------------------------------------------------------------------\n",
    "    \n",
    "    return bc_states, bc_actions_idx"
   ]
  },
  {
   "cell_type": "code",
   "execution_count": 315,
   "id": "6c32c3a2-ed5e-442c-b804-b9def5b5acff",
   "metadata": {},
   "outputs": [],
   "source": [
    "class BC_Policy(nn.Module):\n",
    "    \"\"\"Policy network for BC - outputs action probabilities\"\"\"\n",
    "    def __init__(self, state_dim, hidden=64):\n",
    "        super().__init__()\n",
    "        self.net = nn.Sequential(\n",
    "            nn.Linear(state_dim, hidden),\n",
    "            nn.ReLU(),\n",
    "            nn.Linear(hidden, hidden),\n",
    "            nn.ReLU(),\n",
    "            nn.Linear(hidden, n_actions)  # logits for each action\n",
    "        )\n",
    "    \n",
    "    def forward(self, x):\n",
    "        return self.net(x)  # Shape: [batch_size, n_actions]\n",
    "    \n",
    "    def get_action_probs(self, x):\n",
    "        \"\"\"Get action probabilities using softmax\"\"\"\n",
    "        logits = self.forward(x)\n",
    "        return torch.softmax(logits, dim=-1)\n",
    "    \n",
    "    def get_action(self, x, deterministic=False):\n",
    "        \"\"\"Sample action from policy\"\"\"\n",
    "        probs = self.get_action_probs(x)\n",
    "        if deterministic:\n",
    "            action_idx = torch.argmax(probs, dim=-1)\n",
    "        else:\n",
    "            action_idx = torch.multinomial(probs, 1).squeeze(-1)\n",
    "        return action_idx"
   ]
  },
  {
   "cell_type": "code",
   "execution_count": 316,
   "id": "38dd89cd-1769-4352-87cc-04e18c78a875",
   "metadata": {},
   "outputs": [],
   "source": [
    "def train_bc_policy(bc_states, bc_actions_idx, state_dim,\n",
    "                    batch_size=512, n_epochs=100, lr=1e-3, device=None):\n",
    "    \"\"\"\n",
    "    Train a classification BC policy to predict the discrete action index from state.\n",
    "    Uses exactly the same loop as your original code, but wrapped in a function.\n",
    "    \n",
    "    Args:\n",
    "        bc_states:       np.ndarray [N, state_dim]\n",
    "        bc_actions_idx:  np.ndarray [N,]  (integer indices in [0, num_classes-1])\n",
    "        state_dim:       int, dimensionality of state vector\n",
    "        batch_size:      int, mini‐batch size\n",
    "        n_epochs:        int, number of epochs\n",
    "        lr:              float, Adam learning rate\n",
    "        device:          torch.device (e.g. torch.device(\"cuda\") or \"cpu\")\n",
    "    \n",
    "    Returns:\n",
    "        bc_policy_net:   the trained BCPolicy network (nn.Module)\n",
    "    \"\"\"\n",
    "    # Determine device\n",
    "    if device is None:\n",
    "        device = torch.device(\"cuda\" if torch.cuda.is_available() else \"cpu\")\n",
    "    \n",
    "    # Infer number of distinct action‐indices (classes)\n",
    "    num_classes = int(bc_actions_idx.max()) + 1\n",
    "    \n",
    "    #compute inverse-frequency weights\n",
    "    counts   = np.bincount(bc_actions_idx, minlength=n_actions)   # [n0, n1, n2, n3]\n",
    "    alpha = 0.8\n",
    "    weights  = 1.0 / (counts**alpha)                                       # inverse freq\n",
    "    weights /= weights.mean()                                     # (optional) re-scale\n",
    "    # Add these debug prints\n",
    "    print(f\"Global n_actions: {n_actions}\")\n",
    "    print(f\"Computed num_classes: {num_classes}\")\n",
    "    print(f\"bc_actions_idx range: {bc_actions_idx.min()} to {bc_actions_idx.max()}\")\n",
    "    print(f\"counts: {counts}\")\n",
    "    print(f\"weights: {weights}\")\n",
    "    print(f\"Any inf/nan in weights: {np.any(np.isinf(weights)) or np.any(np.isnan(weights))}\")\n",
    "    \n",
    "    class_w = torch.tensor(weights, dtype=torch.float32, device=device)\n",
    "    print(f\"class_w: {class_w}\")\n",
    "    \n",
    "    \n",
    "    # Instantiate a BCPolicy that outputs `num_classes` logits\n",
    "    bc_policy_net = BC_Policy(state_dim, num_classes).to(device)\n",
    "    bc_optimizer = optim.Adam(bc_policy_net.parameters(), lr=lr)\n",
    "    bc_loss_fn = nn.CrossEntropyLoss(weight=class_w)\n",
    "    \n",
    "    # Convert to torch tensors once\n",
    "    bc_states_tensor  = torch.tensor(bc_states, dtype=torch.float32, device=device)\n",
    "    bc_actions_tensor = torch.tensor(bc_actions_idx, dtype=torch.long,  device=device)\n",
    "    \n",
    "    print(\"\\nTraining BC Policy...\")\n",
    "    for epoch in range(n_epochs):\n",
    "        # Shuffle indices each epoch\n",
    "        perm = torch.randperm(bc_states_tensor.size(0), device=device)\n",
    "        states_shuf  = bc_states_tensor[perm]\n",
    "        actions_shuf = bc_actions_tensor[perm]\n",
    "        \n",
    "        epoch_loss = 0.0\n",
    "        n_batches = 0\n",
    "        \n",
    "        for start in range(0, states_shuf.size(0), batch_size):\n",
    "            end = start + batch_size\n",
    "            s_batch = states_shuf[start:end]\n",
    "            a_batch = actions_shuf[start:end]\n",
    "            \n",
    "            # Forward pass: get logits over discrete classes\n",
    "            action_logits = bc_policy_net(s_batch)  # shape: [batch_size, num_classes]\n",
    "            \n",
    "            # Compute cross‐entropy loss\n",
    "            loss = bc_loss_fn(action_logits, a_batch)\n",
    "            \n",
    "            bc_optimizer.zero_grad()\n",
    "            loss.backward()\n",
    "            bc_optimizer.step()\n",
    "            \n",
    "            epoch_loss += loss.item()\n",
    "            n_batches += 1\n",
    "        \n",
    "        if epoch % 10 == 0:\n",
    "            with torch.no_grad():\n",
    "                all_logits = bc_policy_net(bc_states_tensor)\n",
    "                pred_actions = torch.argmax(all_logits, dim=-1)\n",
    "                accuracy = (pred_actions == bc_actions_tensor).float().mean()\n",
    "                print(f\"[BC] Epoch {epoch:3d}  Loss: {epoch_loss/n_batches:.4f}  \"\n",
    "                      f\"Accuracy: {accuracy:.4f}\")\n",
    "    \n",
    "    print(\"BC Training completed!\\n\")\n",
    "    return bc_policy_net"
   ]
  },
  {
   "cell_type": "code",
   "execution_count": 317,
   "id": "c450deae-ee47-4785-8d7d-6c732664288e",
   "metadata": {},
   "outputs": [
    {
     "name": "stdout",
     "output_type": "stream",
     "text": [
      "Adding dummy samples for missing actions: {3}\n",
      "Global n_actions: 4\n",
      "Computed num_classes: 4\n",
      "bc_actions_idx range: 0 to 3\n",
      "counts: [5816  499  877    1]\n",
      "weights: [3.84622798e-03 2.74317873e-02 1.74716880e-02 3.95125030e+00]\n",
      "Any inf/nan in weights: False\n",
      "class_w: tensor([3.8462e-03, 2.7432e-02, 1.7472e-02, 3.9513e+00])\n",
      "\n",
      "Training BC Policy...\n",
      "[BC] Epoch   0  Loss: 1.4769  Accuracy: 0.8086\n",
      "[BC] Epoch  10  Loss: 1.3394  Accuracy: 0.7919\n",
      "[BC] Epoch  20  Loss: 1.2068  Accuracy: 0.7553\n",
      "[BC] Epoch  30  Loss: 1.1299  Accuracy: 0.7518\n",
      "[BC] Epoch  40  Loss: 1.0979  Accuracy: 0.7557\n",
      "[BC] Epoch  50  Loss: 1.0798  Accuracy: 0.7428\n",
      "[BC] Epoch  60  Loss: 1.0684  Accuracy: 0.7478\n",
      "[BC] Epoch  70  Loss: 1.0540  Accuracy: 0.7409\n",
      "[BC] Epoch  80  Loss: 1.0427  Accuracy: 0.7336\n",
      "[BC] Epoch  90  Loss: 1.0573  Accuracy: 0.7605\n",
      "BC Training completed!\n",
      "\n"
     ]
    }
   ],
   "source": [
    "# 1) Extract (states, action‐indices) for BC training\n",
    "\n",
    "from sklearn.preprocessing import StandardScaler  # or MinMaxScaler, etc.\n",
    "scaler = StandardScaler()\n",
    "bc_states, bc_actions_idx = prepare_bc_dataset(train_transitions, dose_to_idx)\n",
    "bc_states = scaler.fit_transform(bc_states)\n",
    "\n",
    "state_dim = bc_states.shape[1]\n",
    "device = torch.device(\"cuda\" if torch.cuda.is_available() else \"cpu\")\n",
    "\n",
    "bc_policy_net = train_bc_policy(\n",
    "    bc_states,\n",
    "    bc_actions_idx,\n",
    "    state_dim,\n",
    "    batch_size=512,\n",
    "    n_epochs=100,\n",
    "    lr=1e-3,\n",
    "    device=device\n",
    ")"
   ]
  },
  {
   "cell_type": "code",
   "execution_count": 318,
   "id": "3d566c5f-b69c-4349-9bee-ae3416d57639",
   "metadata": {},
   "outputs": [
    {
     "data": {
      "text/plain": [
       "7193"
      ]
     },
     "execution_count": 318,
     "metadata": {},
     "output_type": "execute_result"
    }
   ],
   "source": [
    "len(bc_states)"
   ]
  },
  {
   "cell_type": "markdown",
   "id": "ff3db503-6f81-4d9d-846e-df68b21b98da",
   "metadata": {},
   "source": [
    "## CQL"
   ]
  },
  {
   "cell_type": "code",
   "execution_count": 319,
   "id": "ca5089bc-8459-48e6-9b4e-551b796f37fc",
   "metadata": {},
   "outputs": [],
   "source": [
    "import numpy as np\n",
    "from sklearn.preprocessing import StandardScaler\n",
    "from d3rlpy.algos import DiscreteCQLConfig\n",
    "from d3rlpy.dataset import MDPDataset\n",
    "from d3rlpy.metrics import TDErrorEvaluator\n",
    "import tqdm\n",
    "\n",
    "def prepare_dataset(expert_trajectories):\n",
    "    # Define dose to index mapping\n",
    "    dose_to_idx = {0:0, 10:1, 20:2, 40:3}\n",
    "    \n",
    "    all_states, all_actions, all_rewards, all_terminals = [], [], [], []\n",
    "    for states, actions, rewards in zip(\n",
    "        expert_trajectories['states'],\n",
    "        expert_trajectories['actions'],\n",
    "        expert_trajectories['rewards']\n",
    "    ):\n",
    "        L = min(len(states), len(actions), len(rewards))\n",
    "        if L == 0:\n",
    "            continue\n",
    "\n",
    "        s = np.array(states[:L], dtype=np.float32)\n",
    "        \n",
    "        # Handle both [a] and a formats\n",
    "        a = np.array([\n",
    "            [dose_to_idx[a[0] if isinstance(a, (list, np.ndarray)) else a]] \n",
    "            for a in actions[:L]\n",
    "        ], dtype=np.int32)\n",
    "        \n",
    "        r = np.array(rewards[:L], dtype=np.float32)\n",
    "        t = np.zeros(L, dtype=bool)\n",
    "        t[-1] = True  # mark end of episode\n",
    "\n",
    "        all_states.append(s)\n",
    "        all_actions.append(a)\n",
    "        all_rewards.append(r)\n",
    "        all_terminals.append(t)\n",
    "\n",
    "    states = np.concatenate(all_states, axis=0)\n",
    "    actions = np.concatenate(all_actions, axis=0)\n",
    "    rewards = np.concatenate(all_rewards, axis=0)\n",
    "    terminals = np.concatenate(all_terminals, axis=0)\n",
    "\n",
    "    # Normalize states\n",
    "    scaler = StandardScaler()\n",
    "    norm_states = scaler.fit_transform(states)\n",
    "    \n",
    "    # Create MDPDataset\n",
    "    dataset = MDPDataset(\n",
    "        observations=norm_states,\n",
    "        actions=actions,\n",
    "        rewards=rewards,\n",
    "        terminals=terminals\n",
    "    )\n",
    "    \n",
    "    return dataset, scaler"
   ]
  },
  {
   "cell_type": "code",
   "execution_count": 320,
   "id": "7f500baa-26a6-45c1-b134-2a07c33f86af",
   "metadata": {},
   "outputs": [],
   "source": [
    "def prepare_dataset(expert_trajectories):\n",
    "    dose_to_idx = {0: 0, 10: 1, 20: 2, 40: 3}\n",
    "\n",
    "    all_s, all_a, all_r, all_t = [], [], [], []\n",
    "    for s_seq, a_seq, r_seq in zip(\n",
    "            expert_trajectories['states'],\n",
    "            expert_trajectories['actions'],\n",
    "            expert_trajectories['rewards']):\n",
    "        L = min(len(s_seq), len(a_seq), len(r_seq))\n",
    "        if L == 0:\n",
    "            continue\n",
    "\n",
    "        s = np.array(s_seq[:L], dtype=np.float32)\n",
    "\n",
    "        a = np.array(\n",
    "            [dose_to_idx[a[0] if isinstance(a, (list, np.ndarray)) else a]\n",
    "             for a in a_seq[:L]],\n",
    "            dtype=np.int32\n",
    "        )\n",
    "\n",
    "        r = np.array(r_seq[:L], dtype=np.float32)\n",
    "        t = np.zeros(L, dtype=bool); t[-1] = True\n",
    "\n",
    "        all_s.append(s); all_a.append(a); all_r.append(r); all_t.append(t)\n",
    "\n",
    "    states    = np.concatenate(all_s, axis=0)\n",
    "    actions   = np.concatenate(all_a, axis=0)           # shape (N,)\n",
    "    rewards   = np.concatenate(all_r, axis=0)\n",
    "    terminals = np.concatenate(all_t, axis=0)\n",
    "\n",
    "    # ── add one dummy sample so index 3 shows up ─────────────────────────\n",
    "    dummy_obs      = np.zeros((1, states.shape[1]), dtype=np.float32)\n",
    "    dummy_action   = np.array([3], dtype=np.int32)       # idx for 40 mEq\n",
    "    dummy_reward   = np.array([0.0], dtype=np.float32)\n",
    "    dummy_terminal = np.array([True], dtype=bool)\n",
    "\n",
    "    states    = np.vstack([states, dummy_obs])\n",
    "    actions   = np.concatenate([actions, dummy_action])\n",
    "    rewards   = np.concatenate([rewards, dummy_reward])\n",
    "    terminals = np.concatenate([terminals, dummy_terminal])\n",
    "    # ---------------------------------------------------------------------\n",
    "\n",
    "    # normalise\n",
    "    scaler = StandardScaler()\n",
    "    norm_states = scaler.fit_transform(states)\n",
    "\n",
    "    dataset = MDPDataset(\n",
    "        observations=norm_states,\n",
    "        actions=actions,\n",
    "        rewards=rewards,\n",
    "        terminals=terminals\n",
    "    )\n",
    "\n",
    "    return dataset, scaler\n"
   ]
  },
  {
   "cell_type": "code",
   "execution_count": 321,
   "id": "0284e0b1-5d93-4b0b-a2f3-96210e685f06",
   "metadata": {},
   "outputs": [],
   "source": [
    "import numpy as np\n",
    "import torch\n",
    "\n",
    "# since we handwrote FQI_QNet it is already a torch.nn.Module, ie. has fns like forward() and params() so OPE code can consume it directly.\n",
    "# d3rlpy CQL isn’t a Module, it returns a scikit style python object\n",
    "#the wrapper turns predict_value(s,a) → torch Q-matrix and fakes .parameters().\n",
    "\n",
    "class CQLPolicyWrapper:\n",
    "    def __init__(self, cql_model, scaler):          # ← accept scaler\n",
    "        self.cql_model = cql_model\n",
    "        self.scaler    = scaler\n",
    "        cuda_ok = torch.cuda.is_available() and torch.backends.cuda.is_built()\n",
    "        self.device = torch.device(\"cuda\" if cuda_ok else \"cpu\")\n",
    "        self.n_actions = len(dose_to_idx)\n",
    "\n",
    "    def parameters(self):\n",
    "        yield torch.tensor(0.0, device=self.device)\n",
    "\n",
    "    def __call__(self, states_tensor: torch.Tensor) -> torch.Tensor:\n",
    "        states_np  = states_tensor.detach().cpu().numpy()\n",
    "        # --- NEW: match training preprocessing --------------------------\n",
    "        states_np  = self.scaler.transform(states_np)\n",
    "        # ----------------------------------------------------------------\n",
    "        batch_size = states_np.shape[0]\n",
    "\n",
    "        q_list = []\n",
    "        for action_idx in range(self.n_actions):\n",
    "            action_arr = np.full(batch_size, action_idx, dtype=np.int32)\n",
    "            q_vals = self.cql_model.predict_value(states_np, action_arr)\n",
    "            q_list.append(q_vals)\n",
    "\n",
    "        q_matrix = np.stack(q_list, axis=1)\n",
    "        return torch.tensor(q_matrix, device=self.device, dtype=torch.float32)\n"
   ]
  },
  {
   "cell_type": "code",
   "execution_count": 322,
   "id": "ec104e32-3f93-424a-ad7d-e466f98dd593",
   "metadata": {},
   "outputs": [],
   "source": [
    "from d3rlpy.models.encoders import DefaultEncoderFactory\n",
    "from d3rlpy.models.q_functions import MeanQFunctionFactory\n",
    "\n",
    "def run_discrete_cql(expert_trajectories, n_epochs=20, use_gpu=False):\n",
    "    # Prepare dataset\n",
    "    dataset, scaler = prepare_dataset(expert_trajectories)\n",
    "    \n",
    "    # Setup Discrete CQL with verified v2.x parameters\n",
    "    cql = DiscreteCQLConfig(\n",
    "        batch_size=512,\n",
    "        learning_rate=3e-4,\n",
    "        n_critics=2,                # Number of Q functions\n",
    "        target_update_interval=10000,\n",
    "        observation_scaler=None,     # We already scaled manually\n",
    "        alpha=1.0,                  # CQL regularization weight\n",
    "        q_func_factory=MeanQFunctionFactory(),  # Must be factory object\n",
    "        encoder_factory=DefaultEncoderFactory() # Must be factory object, not string\n",
    "    ).create(device=\"cuda\" if use_gpu else \"cpu\")\n",
    "    \n",
    "    # Calculate total steps\n",
    "    episodes = dataset.episodes\n",
    "    N = sum(len(ep.observations) for ep in episodes)\n",
    "    total_steps = n_epochs * N\n",
    "    \n",
    "    # Setup evaluator\n",
    "    td_error_evaluator = TDErrorEvaluator(episodes[:10])\n",
    "    \n",
    "    print(f\"Training Discrete CQL for ~{n_epochs} epochs ({total_steps} steps)...\")\n",
    "    cql.fit(\n",
    "        dataset,\n",
    "        n_steps=total_steps,\n",
    "        evaluators={\"td_error\": td_error_evaluator},\n",
    "        show_progress=True\n",
    "    )\n",
    "    \n",
    "    return cql, scaler"
   ]
  },
  {
   "cell_type": "code",
   "execution_count": 323,
   "id": "b25e8b3e-11f7-41d8-82c2-b444e2114471",
   "metadata": {},
   "outputs": [
    {
     "name": "stdout",
     "output_type": "stream",
     "text": [
      "\u001b[2m2025-06-09 12:41.47\u001b[0m [\u001b[32m\u001b[1minfo     \u001b[0m] \u001b[1mSignatures have been automatically determined.\u001b[0m \u001b[36maction_signature\u001b[0m=\u001b[35mSignature(dtype=[dtype('int32')], shape=[(1,)])\u001b[0m \u001b[36mobservation_signature\u001b[0m=\u001b[35mSignature(dtype=[dtype('float32')], shape=[(10,)])\u001b[0m \u001b[36mreward_signature\u001b[0m=\u001b[35mSignature(dtype=[dtype('float32')], shape=[(1,)])\u001b[0m\n",
      "\u001b[2m2025-06-09 12:41.47\u001b[0m [\u001b[32m\u001b[1minfo     \u001b[0m] \u001b[1mAction-space has been automatically determined.\u001b[0m \u001b[36maction_space\u001b[0m=\u001b[35m<ActionSpace.DISCRETE: 2>\u001b[0m\n",
      "\u001b[2m2025-06-09 12:41.47\u001b[0m [\u001b[32m\u001b[1minfo     \u001b[0m] \u001b[1mAction size has been automatically determined.\u001b[0m \u001b[36maction_size\u001b[0m=\u001b[35m4\u001b[0m\n",
      "Training Discrete CQL for ~10 epochs (71930 steps)...\n",
      "\u001b[2m2025-06-09 12:41.47\u001b[0m [\u001b[32m\u001b[1minfo     \u001b[0m] \u001b[1mdataset info                  \u001b[0m \u001b[36mdataset_info\u001b[0m=\u001b[35mDatasetInfo(observation_signature=Signature(dtype=[dtype('float32')], shape=[(10,)]), action_signature=Signature(dtype=[dtype('int32')], shape=[(1,)]), reward_signature=Signature(dtype=[dtype('float32')], shape=[(1,)]), action_space=<ActionSpace.DISCRETE: 2>, action_size=4)\u001b[0m\n",
      "\u001b[2m2025-06-09 12:41.47\u001b[0m [\u001b[32m\u001b[1mdebug    \u001b[0m] \u001b[1mBuilding models...            \u001b[0m\n",
      "\u001b[2m2025-06-09 12:41.47\u001b[0m [\u001b[32m\u001b[1mdebug    \u001b[0m] \u001b[1mModels have been built.       \u001b[0m\n",
      "\u001b[2m2025-06-09 12:41.47\u001b[0m [\u001b[32m\u001b[1minfo     \u001b[0m] \u001b[1mDirectory is created at d3rlpy_logs/DiscreteCQL_20250609124147\u001b[0m\n",
      "\u001b[2m2025-06-09 12:41.47\u001b[0m [\u001b[32m\u001b[1minfo     \u001b[0m] \u001b[1mParameters                    \u001b[0m \u001b[36mparams\u001b[0m=\u001b[35m{'observation_shape': [10], 'action_size': 4, 'config': {'type': 'discrete_cql', 'params': {'batch_size': 512, 'gamma': 0.99, 'observation_scaler': {'type': 'none', 'params': {}}, 'action_scaler': {'type': 'none', 'params': {}}, 'reward_scaler': {'type': 'none', 'params': {}}, 'compile_graph': False, 'learning_rate': 0.0003, 'optim_factory': {'type': 'adam', 'params': {'clip_grad_norm': None, 'lr_scheduler_factory': {'type': 'none', 'params': {}}, 'betas': [0.9, 0.999], 'eps': 1e-08, 'weight_decay': 0, 'amsgrad': False}}, 'encoder_factory': {'type': 'default', 'params': {'activation': 'relu', 'use_batch_norm': False, 'dropout_rate': None}}, 'q_func_factory': {'type': 'mean', 'params': {'share_encoder': False}}, 'n_critics': 2, 'target_update_interval': 10000, 'alpha': 1.0}}}\u001b[0m\n"
     ]
    },
    {
     "name": "stderr",
     "output_type": "stream",
     "text": [
      "Epoch 1/7: 100%|█| 10000/10000 [01:59<00:00, 83.43it/s, loss=55.7, td_loss=55.1,\n"
     ]
    },
    {
     "name": "stdout",
     "output_type": "stream",
     "text": [
      "\u001b[2m2025-06-09 12:43.47\u001b[0m [\u001b[32m\u001b[1minfo     \u001b[0m] \u001b[1mDiscreteCQL_20250609124147: epoch=1 step=10000\u001b[0m \u001b[36mepoch\u001b[0m=\u001b[35m1\u001b[0m \u001b[36mmetrics\u001b[0m=\u001b[35m{'time_sample_batch': 0.0039799513578414915, 'time_algorithm_update': 0.007807189726829529, 'loss': 55.68630433921814, 'td_loss': 55.06381105384827, 'conservative_loss': 0.6224932916939259, 'time_step': 0.011924936318397522, 'td_error': 3518.768163686282}\u001b[0m \u001b[36mstep\u001b[0m=\u001b[35m10000\u001b[0m\n",
      "\u001b[2m2025-06-09 12:43.47\u001b[0m [\u001b[32m\u001b[1minfo     \u001b[0m] \u001b[1mModel parameters are saved to d3rlpy_logs/DiscreteCQL_20250609124147/model_10000.d3\u001b[0m\n"
     ]
    },
    {
     "name": "stderr",
     "output_type": "stream",
     "text": [
      "Epoch 2/7: 100%|█| 10000/10000 [01:57<00:00, 84.80it/s, loss=51.2, td_loss=50.5,\n"
     ]
    },
    {
     "name": "stdout",
     "output_type": "stream",
     "text": [
      "\u001b[2m2025-06-09 12:45.45\u001b[0m [\u001b[32m\u001b[1minfo     \u001b[0m] \u001b[1mDiscreteCQL_20250609124147: epoch=2 step=20000\u001b[0m \u001b[36mepoch\u001b[0m=\u001b[35m2\u001b[0m \u001b[36mmetrics\u001b[0m=\u001b[35m{'time_sample_batch': 0.00438457465171814, 'time_algorithm_update': 0.007216559076309204, 'loss': 51.152131099319455, 'td_loss': 50.49156402282715, 'conservative_loss': 0.6605670826405287, 'time_step': 0.011732201290130615, 'td_error': 3690.310272834695}\u001b[0m \u001b[36mstep\u001b[0m=\u001b[35m20000\u001b[0m\n",
      "\u001b[2m2025-06-09 12:45.45\u001b[0m [\u001b[32m\u001b[1minfo     \u001b[0m] \u001b[1mModel parameters are saved to d3rlpy_logs/DiscreteCQL_20250609124147/model_20000.d3\u001b[0m\n"
     ]
    },
    {
     "name": "stderr",
     "output_type": "stream",
     "text": [
      "Epoch 3/7: 100%|█| 10000/10000 [02:01<00:00, 82.28it/s, loss=54.9, td_loss=54.2,"
     ]
    },
    {
     "name": "stdout",
     "output_type": "stream",
     "text": [
      "\u001b[2m2025-06-09 12:47.47\u001b[0m [\u001b[32m\u001b[1minfo     \u001b[0m] \u001b[1mDiscreteCQL_20250609124147: epoch=3 step=30000\u001b[0m \u001b[36mepoch\u001b[0m=\u001b[35m3\u001b[0m \u001b[36mmetrics\u001b[0m=\u001b[35m{'time_sample_batch': 0.004399608278274536, 'time_algorithm_update': 0.007546827173233032, 'loss': 54.85610343017578, 'td_loss': 54.147919425201415, 'conservative_loss': 0.7081840083718299, 'time_step': 0.012091004061698914, 'td_error': 4032.884689370001}\u001b[0m \u001b[36mstep\u001b[0m=\u001b[35m30000\u001b[0m\n",
      "\u001b[2m2025-06-09 12:47.47\u001b[0m [\u001b[32m\u001b[1minfo     \u001b[0m] \u001b[1mModel parameters are saved to d3rlpy_logs/DiscreteCQL_20250609124147/model_30000.d3\u001b[0m\n"
     ]
    },
    {
     "name": "stderr",
     "output_type": "stream",
     "text": [
      "\n",
      "Epoch 4/7: 100%|█| 10000/10000 [01:55<00:00, 86.25it/s, loss=58.8, td_loss=58, c"
     ]
    },
    {
     "name": "stdout",
     "output_type": "stream",
     "text": [
      "\u001b[2m2025-06-09 12:49.43\u001b[0m [\u001b[32m\u001b[1minfo     \u001b[0m] \u001b[1mDiscreteCQL_20250609124147: epoch=4 step=40000\u001b[0m \u001b[36mepoch\u001b[0m=\u001b[35m4\u001b[0m \u001b[36mmetrics\u001b[0m=\u001b[35m{'time_sample_batch': 0.0043908464431762695, 'time_algorithm_update': 0.007012959861755371, 'loss': 58.77915601615906, 'td_loss': 57.999324447631835, 'conservative_loss': 0.7798315740019083, 'time_step': 0.011535285663604736, 'td_error': 4415.594650175176}\u001b[0m \u001b[36mstep\u001b[0m=\u001b[35m40000\u001b[0m\n",
      "\u001b[2m2025-06-09 12:49.43\u001b[0m [\u001b[32m\u001b[1minfo     \u001b[0m] \u001b[1mModel parameters are saved to d3rlpy_logs/DiscreteCQL_20250609124147/model_40000.d3\u001b[0m\n"
     ]
    },
    {
     "name": "stderr",
     "output_type": "stream",
     "text": [
      "\n",
      "Epoch 5/7: 100%|█| 10000/10000 [01:58<00:00, 84.40it/s, loss=62.7, td_loss=61.8,"
     ]
    },
    {
     "name": "stdout",
     "output_type": "stream",
     "text": [
      "\u001b[2m2025-06-09 12:51.41\u001b[0m [\u001b[32m\u001b[1minfo     \u001b[0m] \u001b[1mDiscreteCQL_20250609124147: epoch=5 step=50000\u001b[0m \u001b[36mepoch\u001b[0m=\u001b[35m5\u001b[0m \u001b[36mmetrics\u001b[0m=\u001b[35m{'time_sample_batch': 0.004517614221572876, 'time_algorithm_update': 0.007131673216819763, 'loss': 62.67924638519287, 'td_loss': 61.842159238815306, 'conservative_loss': 0.8370871537029744, 'time_step': 0.011783483409881591, 'td_error': 4803.828394976296}\u001b[0m \u001b[36mstep\u001b[0m=\u001b[35m50000\u001b[0m\n",
      "\u001b[2m2025-06-09 12:51.41\u001b[0m [\u001b[32m\u001b[1minfo     \u001b[0m] \u001b[1mModel parameters are saved to d3rlpy_logs/DiscreteCQL_20250609124147/model_50000.d3\u001b[0m\n"
     ]
    },
    {
     "name": "stderr",
     "output_type": "stream",
     "text": [
      "\n",
      "Epoch 6/7: 100%|█| 10000/10000 [02:01<00:00, 82.24it/s, loss=65.5, td_loss=64.6,\n"
     ]
    },
    {
     "name": "stdout",
     "output_type": "stream",
     "text": [
      "\u001b[2m2025-06-09 12:53.43\u001b[0m [\u001b[32m\u001b[1minfo     \u001b[0m] \u001b[1mDiscreteCQL_20250609124147: epoch=6 step=60000\u001b[0m \u001b[36mepoch\u001b[0m=\u001b[35m6\u001b[0m \u001b[36mmetrics\u001b[0m=\u001b[35m{'time_sample_batch': 0.004545941519737244, 'time_algorithm_update': 0.007411949157714844, 'loss': 65.52705821113587, 'td_loss': 64.63057712440491, 'conservative_loss': 0.8964811037302017, 'time_step': 0.012094832491874695, 'td_error': 5265.685555208936}\u001b[0m \u001b[36mstep\u001b[0m=\u001b[35m60000\u001b[0m\n",
      "\u001b[2m2025-06-09 12:53.43\u001b[0m [\u001b[32m\u001b[1minfo     \u001b[0m] \u001b[1mModel parameters are saved to d3rlpy_logs/DiscreteCQL_20250609124147/model_60000.d3\u001b[0m\n"
     ]
    },
    {
     "name": "stderr",
     "output_type": "stream",
     "text": [
      "Epoch 7/7: 100%|█| 10000/10000 [02:08<00:00, 77.79it/s, loss=68.4, td_loss=67.4,"
     ]
    },
    {
     "name": "stdout",
     "output_type": "stream",
     "text": [
      "\u001b[2m2025-06-09 12:55.51\u001b[0m [\u001b[32m\u001b[1minfo     \u001b[0m] \u001b[1mDiscreteCQL_20250609124147: epoch=7 step=70000\u001b[0m \u001b[36mepoch\u001b[0m=\u001b[35m7\u001b[0m \u001b[36mmetrics\u001b[0m=\u001b[35m{'time_sample_batch': 0.0047200078248977664, 'time_algorithm_update': 0.007921659278869628, 'loss': 68.36086922607421, 'td_loss': 67.39877631912232, 'conservative_loss': 0.9620928686380387, 'time_step': 0.012784590482711793, 'td_error': 5721.381039071926}\u001b[0m \u001b[36mstep\u001b[0m=\u001b[35m70000\u001b[0m\n",
      "\u001b[2m2025-06-09 12:55.51\u001b[0m [\u001b[32m\u001b[1minfo     \u001b[0m] \u001b[1mModel parameters are saved to d3rlpy_logs/DiscreteCQL_20250609124147/model_70000.d3\u001b[0m\n"
     ]
    },
    {
     "name": "stderr",
     "output_type": "stream",
     "text": [
      "\n"
     ]
    }
   ],
   "source": [
    "cql_model, scaler = run_discrete_cql(train_expert_trajectories, n_epochs=10, use_gpu=False)"
   ]
  },
  {
   "cell_type": "code",
   "execution_count": 324,
   "id": "c71b0275-0db4-4ebf-a7e4-759c1c2c7ee9",
   "metadata": {},
   "outputs": [
    {
     "name": "stdout",
     "output_type": "stream",
     "text": [
      "Action space size: 4\n"
     ]
    }
   ],
   "source": [
    "#Create wrapper for OPE compatibility\n",
    "cql_wrapper = CQLPolicyWrapper(cql_model, scaler)\n",
    "# After running, check action space size is correct (should be 4)\n",
    "print(\"Action space size:\", cql_model.impl.action_size) "
   ]
  },
  {
   "cell_type": "markdown",
   "id": "ef847d49-0366-44fb-9d70-ee70018e9137",
   "metadata": {},
   "source": [
    "## OPE: Weighted Importance Sampling"
   ]
  },
  {
   "cell_type": "code",
   "execution_count": 325,
   "id": "f394e582-99d7-4e3c-b907-654fd55959f0",
   "metadata": {},
   "outputs": [],
   "source": [
    "import numpy as np\n",
    "import torch\n",
    "import torch.nn.functional as F\n",
    "\n",
    "def compute_policy_probabilities(policy_net, states, actions, policy_type='bc'):\n",
    "    \"\"\"\n",
    "    Compute π(a|s) for given states and actions\n",
    "    \n",
    "    Args:\n",
    "        policy_net: trained policy network (BC, FQI or CQL)\n",
    "        states: numpy array of states [N, state_dim]\n",
    "        actions: numpy array of actions [N, 1] \n",
    "        policy_type: 'bc', 'fqi' or 'cql'\n",
    "    \n",
    "    Returns:\n",
    "        probabilities: numpy array of π(a|s) values [N,]\n",
    "    \"\"\"\n",
    "    device = next(policy_net.parameters()).device\n",
    "    states_tensor = torch.tensor(states, dtype=torch.float32, device=device)\n",
    "    \n",
    "    with torch.no_grad():            \n",
    "        if policy_type == 'bc':\n",
    "            logits = policy_net(states_tensor)                 # [N, 4]\n",
    "            probs  = F.softmax(logits, dim=1)                  # [N, 4]\n",
    "            #print(probs.shape)\n",
    "            # map raw dose to its discrete index once\n",
    "            action_indices = torch.tensor(\n",
    "                [dose_to_idx[int(a[0])] for a in actions],\n",
    "                dtype=torch.long, device=device\n",
    "            )                                                  # [N,]\n",
    "            # probability assigned to the taken action\n",
    "            action_probs = probs.gather(1, action_indices.unsqueeze(1)).squeeze(1)\n",
    "            \n",
    "        elif policy_type == 'fqi':\n",
    "            # For FQI: use epsilon-greedy or softmax policy based on Q-values\n",
    "            q_values = policy_net(states_tensor)  # [N, 4]\n",
    "            #print(q_values.shape)\n",
    "            \n",
    "            # Softmax policy (more common for continuous evaluation)\n",
    "            temperature = 1.0  # adjust as needed\n",
    "            probs = F.softmax(q_values / temperature, dim=1)  # [N, 4]\n",
    "            \n",
    "            # Get probability for actual action taken\n",
    "            action_indices = torch.tensor([dose_to_idx[int(a[0])] for a in actions], \n",
    "                                        dtype=torch.long, device=device)\n",
    "            action_probs = probs.gather(1, action_indices.unsqueeze(1)).squeeze(1)\n",
    "        \n",
    "        elif policy_type == 'cql':\n",
    "            # Same logic as FQI – convert CQL Q-values to a softmax policy\n",
    "            q_values = policy_net(states_tensor)               # [N, 4]\n",
    "            temperature = 1.0\n",
    "            probs = F.softmax(q_values / temperature, dim=1)   # [N, 4]\n",
    "\n",
    "            action_indices = torch.tensor(\n",
    "                [dose_to_idx[int(a[0])] for a in actions],\n",
    "                dtype=torch.long, device=device\n",
    "            )\n",
    "            action_probs = probs.gather(1, action_indices.unsqueeze(1)).squeeze(1)\n",
    "    \n",
    "    return action_probs.cpu().numpy()\n",
    "\n",
    "def compute_importance_weights(bc_policy_net,\n",
    "                               target_q_net,                # was fqi_q_net\n",
    "                               expert_trajectories,\n",
    "                               target_type='fqi'):          # allows 'fqi' or 'cql'\n",
    "    \"\"\"\n",
    "    Importance-sampling weights for each trajectory.\n",
    "\n",
    "    Args\n",
    "    ----\n",
    "    bc_policy_net   : trained BC network (behaviour policy)\n",
    "    target_q_net    : trained Q-value network from FQI, CQL, etc. (target policy)\n",
    "    expert_trajectories : dict with keys 'states', 'actions', 'rewards'\n",
    "    target_type     : string passed to `compute_policy_probabilities`\n",
    "                      ('fqi' by default, set to 'cql' when evaluating CQL)\n",
    "\n",
    "    Returns\n",
    "    -------\n",
    "    weights          : list of raw importance weights  (one per trajectory)\n",
    "    clipped_weights  : same list after clipping\n",
    "    \"\"\"\n",
    "    trajectory_weights          = []\n",
    "    trajectory_weights_clipped  = []\n",
    "\n",
    "    for states, actions, rewards in zip(expert_trajectories['states'],\n",
    "                                        expert_trajectories['actions'],\n",
    "                                        expert_trajectories['rewards']):\n",
    "\n",
    "        if len(states) == 0:        # skip empty trajectories\n",
    "            continue\n",
    "\n",
    "        #convert to numpy arrays\n",
    "        states_np  = np.asarray(states,  dtype=np.float32)\n",
    "        actions_np = np.asarray([[a] for a in actions], dtype=np.float32)\n",
    "\n",
    "        # Compute policy probabilities\n",
    "        pi_b      = compute_policy_probabilities(bc_policy_net, states_np, actions_np, 'bc') #pi_b = behavior policy/ expert policy\n",
    "        pi_e  = compute_policy_probabilities(target_q_net, states_np, actions_np, target_type) #pi_e = evaluation policy/ target policy\n",
    "\n",
    "        # Avoid division by zero\n",
    "        pi_b     = np.maximum(pi_b, 1e-8)\n",
    "        pi_e = np.maximum(pi_e, 1e-8)\n",
    "\n",
    "        # Per-trajectory weight  ∏_t  π_t / π_b\n",
    "        weight            = np.prod(pi_e / pi_b)\n",
    "        weight_clipped    = np.clip(weight, 0.1, 10.0) # Clip weights to prevent extreme values (common in practice)\n",
    "\n",
    "        trajectory_weights.append(weight)\n",
    "        trajectory_weights_clipped.append(weight_clipped)\n",
    "\n",
    "    return trajectory_weights, trajectory_weights_clipped\n",
    "\n",
    "\n",
    "def importance_sampling_estimator(expert_trajectories, weights, use_clipped=True):\n",
    "    \"\"\"\n",
    "    Compute IS and WIS estimators of policy value\n",
    "    \n",
    "    Args:\n",
    "        expert_trajectories: dict with 'states', 'actions', 'rewards'\n",
    "        weights: list of importance weights for each trajectory\n",
    "        use_clipped: whether to use clipped weights\n",
    "    \n",
    "    Returns:\n",
    "        is_estimate: basic importance sampling estimate\n",
    "        wis_estimate: weighted importance sampling estimate\n",
    "    \"\"\"\n",
    "    trajectory_returns = []\n",
    "    valid_weights = []\n",
    "    \n",
    "    # Compute returns for each trajectory\n",
    "    for traj_idx, (states, actions, rewards) in enumerate(zip(\n",
    "        expert_trajectories['states'],\n",
    "        expert_trajectories['actions'],\n",
    "        expert_trajectories['rewards']\n",
    "    )):\n",
    "        if len(rewards) == 0:\n",
    "            continue\n",
    "            \n",
    "        # Compute discounted return\n",
    "        gamma = 0.99\n",
    "        discounted_return = 0.0\n",
    "        for t, reward in enumerate(rewards):\n",
    "            discounted_return += (gamma ** t) * reward\n",
    "        \n",
    "        trajectory_returns.append(discounted_return)\n",
    "        valid_weights.append(weights[traj_idx])\n",
    "    \n",
    "    trajectory_returns = np.array(trajectory_returns)\n",
    "    valid_weights = np.array(valid_weights)\n",
    "    \n",
    "    # Basic IS estimator: (1/N) * Σ(w_i * R_i)\n",
    "    is_estimate = np.mean(valid_weights * trajectory_returns)\n",
    "    \n",
    "    # Weighted IS estimator: Σ(w_i * R_i) / Σ(w_i)\n",
    "    wis_estimate = np.sum(valid_weights * trajectory_returns) / np.sum(valid_weights)\n",
    "    \n",
    "    return is_estimate, wis_estimate\n",
    "\n",
    "    \n",
    "def evaluate_policies_with_ope(bc_policy_net, target_q_net, expert_trajectories, target_type):\n",
    "    \"\"\"\n",
    "    Complete OPE evaluation pipeline\n",
    "    \"\"\"\n",
    "    print(\"Computing importance sampling weights...\")\n",
    "    weights, weights_clipped = compute_importance_weights(bc_policy_net, target_q_net, expert_trajectories, target_type)\n",
    "    \n",
    "    print(f\"Weight statistics:\")\n",
    "    print(f\"  Unclipped: mean={np.mean(weights):.4f}, std={np.std(weights):.4f}\")\n",
    "    print(f\"  Clipped:   mean={np.mean(weights_clipped):.4f}, std={np.std(weights_clipped):.4f}\")\n",
    "    \n",
    "    # Evaluate with unclipped weights\n",
    "    is_est, wis_est = importance_sampling_estimator(expert_trajectories, weights, use_clipped=False)\n",
    "    print(f\"\\nUnclipped weights:\")\n",
    "    print(f\"  IS estimate:  {is_est:.4f}\")\n",
    "    print(f\"  WIS estimate: {wis_est:.4f}\")\n",
    "    \n",
    "    # Evaluate with clipped weights  \n",
    "    is_est_clip, wis_est_clip = importance_sampling_estimator(expert_trajectories, weights_clipped, use_clipped=True)\n",
    "    print(f\"\\nClipped weights:\")\n",
    "    print(f\"  IS estimate:  {is_est_clip:.4f}\")\n",
    "    print(f\"  WIS estimate: {wis_est_clip:.4f}\")\n",
    "    \n",
    "    return {\n",
    "        'weights': weights,\n",
    "        'weights_clipped': weights_clipped,\n",
    "        'is_unclipped': is_est,\n",
    "        'wis_unclipped': wis_est,\n",
    "        'is_clipped': is_est_clip,\n",
    "        'wis_clipped': wis_est_clip\n",
    "    }\n"
   ]
  },
  {
   "cell_type": "code",
   "execution_count": 326,
   "id": "6e67e665-e08c-40e9-9306-3142abd916e9",
   "metadata": {},
   "outputs": [
    {
     "name": "stdout",
     "output_type": "stream",
     "text": [
      "Computing importance sampling weights...\n",
      "Weight statistics:\n",
      "  Unclipped: mean=inf, std=nan\n",
      "  Clipped:   mean=5.0241, std=4.9390\n",
      "\n",
      "Unclipped weights:\n",
      "  IS estimate:  inf\n",
      "  WIS estimate: nan\n",
      "\n",
      "Clipped weights:\n",
      "  IS estimate:  8523.4746\n",
      "  WIS estimate: 1696.5240\n"
     ]
    },
    {
     "name": "stderr",
     "output_type": "stream",
     "text": [
      "/opt/miniconda3/lib/python3.12/site-packages/numpy/_core/fromnumeric.py:86: RuntimeWarning: overflow encountered in reduce\n",
      "  return ufunc.reduce(obj, axis, dtype, out, **passkwargs)\n",
      "/opt/miniconda3/lib/python3.12/site-packages/numpy/_core/_methods.py:191: RuntimeWarning: invalid value encountered in subtract\n",
      "  x = asanyarray(arr - arrmean)\n",
      "/var/folders/67/rsds3lxj78x4092pycb6cnkh0000gn/T/ipykernel_78117/2446852946.py:152: RuntimeWarning: overflow encountered in multiply\n",
      "  is_estimate = np.mean(valid_weights * trajectory_returns)\n",
      "/var/folders/67/rsds3lxj78x4092pycb6cnkh0000gn/T/ipykernel_78117/2446852946.py:155: RuntimeWarning: overflow encountered in multiply\n",
      "  wis_estimate = np.sum(valid_weights * trajectory_returns) / np.sum(valid_weights)\n",
      "/var/folders/67/rsds3lxj78x4092pycb6cnkh0000gn/T/ipykernel_78117/2446852946.py:155: RuntimeWarning: invalid value encountered in scalar divide\n",
      "  wis_estimate = np.sum(valid_weights * trajectory_returns) / np.sum(valid_weights)\n"
     ]
    }
   ],
   "source": [
    "results = evaluate_policies_with_ope(bc_policy_net, train_fqi_net, train_expert_trajectories, 'fqi')"
   ]
  },
  {
   "cell_type": "code",
   "execution_count": 327,
   "id": "87714a19-8983-4ee1-b979-928d0208e565",
   "metadata": {},
   "outputs": [
    {
     "name": "stdout",
     "output_type": "stream",
     "text": [
      "Computing importance sampling weights...\n",
      "Weight statistics:\n",
      "  Unclipped: mean=inf, std=nan\n",
      "  Clipped:   mean=9.2702, std=2.5221\n",
      "\n",
      "Unclipped weights:\n",
      "  IS estimate:  inf\n",
      "  WIS estimate: nan\n",
      "\n",
      "Clipped weights:\n",
      "  IS estimate:  13659.7305\n",
      "  WIS estimate: 1473.5112\n"
     ]
    },
    {
     "name": "stderr",
     "output_type": "stream",
     "text": [
      "/opt/miniconda3/lib/python3.12/site-packages/numpy/_core/fromnumeric.py:86: RuntimeWarning: overflow encountered in reduce\n",
      "  return ufunc.reduce(obj, axis, dtype, out, **passkwargs)\n",
      "/opt/miniconda3/lib/python3.12/site-packages/numpy/_core/fromnumeric.py:86: RuntimeWarning: overflow encountered in reduce\n",
      "  return ufunc.reduce(obj, axis, dtype, out, **passkwargs)\n",
      "/opt/miniconda3/lib/python3.12/site-packages/numpy/_core/fromnumeric.py:86: RuntimeWarning: overflow encountered in reduce\n",
      "  return ufunc.reduce(obj, axis, dtype, out, **passkwargs)\n",
      "/opt/miniconda3/lib/python3.12/site-packages/numpy/_core/fromnumeric.py:86: RuntimeWarning: overflow encountered in reduce\n",
      "  return ufunc.reduce(obj, axis, dtype, out, **passkwargs)\n",
      "/opt/miniconda3/lib/python3.12/site-packages/numpy/_core/fromnumeric.py:86: RuntimeWarning: overflow encountered in reduce\n",
      "  return ufunc.reduce(obj, axis, dtype, out, **passkwargs)\n",
      "/opt/miniconda3/lib/python3.12/site-packages/numpy/_core/fromnumeric.py:86: RuntimeWarning: overflow encountered in reduce\n",
      "  return ufunc.reduce(obj, axis, dtype, out, **passkwargs)\n",
      "/opt/miniconda3/lib/python3.12/site-packages/numpy/_core/fromnumeric.py:86: RuntimeWarning: overflow encountered in reduce\n",
      "  return ufunc.reduce(obj, axis, dtype, out, **passkwargs)\n",
      "/opt/miniconda3/lib/python3.12/site-packages/numpy/_core/fromnumeric.py:86: RuntimeWarning: overflow encountered in reduce\n",
      "  return ufunc.reduce(obj, axis, dtype, out, **passkwargs)\n",
      "/opt/miniconda3/lib/python3.12/site-packages/numpy/_core/fromnumeric.py:86: RuntimeWarning: overflow encountered in reduce\n",
      "  return ufunc.reduce(obj, axis, dtype, out, **passkwargs)\n",
      "/opt/miniconda3/lib/python3.12/site-packages/numpy/_core/fromnumeric.py:86: RuntimeWarning: overflow encountered in reduce\n",
      "  return ufunc.reduce(obj, axis, dtype, out, **passkwargs)\n",
      "/opt/miniconda3/lib/python3.12/site-packages/numpy/_core/fromnumeric.py:86: RuntimeWarning: overflow encountered in reduce\n",
      "  return ufunc.reduce(obj, axis, dtype, out, **passkwargs)\n",
      "/opt/miniconda3/lib/python3.12/site-packages/numpy/_core/fromnumeric.py:86: RuntimeWarning: overflow encountered in reduce\n",
      "  return ufunc.reduce(obj, axis, dtype, out, **passkwargs)\n",
      "/opt/miniconda3/lib/python3.12/site-packages/numpy/_core/fromnumeric.py:86: RuntimeWarning: overflow encountered in reduce\n",
      "  return ufunc.reduce(obj, axis, dtype, out, **passkwargs)\n",
      "/opt/miniconda3/lib/python3.12/site-packages/numpy/_core/fromnumeric.py:86: RuntimeWarning: overflow encountered in reduce\n",
      "  return ufunc.reduce(obj, axis, dtype, out, **passkwargs)\n",
      "/opt/miniconda3/lib/python3.12/site-packages/numpy/_core/fromnumeric.py:86: RuntimeWarning: overflow encountered in reduce\n",
      "  return ufunc.reduce(obj, axis, dtype, out, **passkwargs)\n",
      "/opt/miniconda3/lib/python3.12/site-packages/numpy/_core/fromnumeric.py:86: RuntimeWarning: overflow encountered in reduce\n",
      "  return ufunc.reduce(obj, axis, dtype, out, **passkwargs)\n",
      "/opt/miniconda3/lib/python3.12/site-packages/numpy/_core/fromnumeric.py:86: RuntimeWarning: overflow encountered in reduce\n",
      "  return ufunc.reduce(obj, axis, dtype, out, **passkwargs)\n",
      "/opt/miniconda3/lib/python3.12/site-packages/numpy/_core/fromnumeric.py:86: RuntimeWarning: overflow encountered in reduce\n",
      "  return ufunc.reduce(obj, axis, dtype, out, **passkwargs)\n",
      "/opt/miniconda3/lib/python3.12/site-packages/numpy/_core/fromnumeric.py:86: RuntimeWarning: overflow encountered in reduce\n",
      "  return ufunc.reduce(obj, axis, dtype, out, **passkwargs)\n",
      "/opt/miniconda3/lib/python3.12/site-packages/numpy/_core/fromnumeric.py:86: RuntimeWarning: overflow encountered in reduce\n",
      "  return ufunc.reduce(obj, axis, dtype, out, **passkwargs)\n",
      "/opt/miniconda3/lib/python3.12/site-packages/numpy/_core/fromnumeric.py:86: RuntimeWarning: overflow encountered in reduce\n",
      "  return ufunc.reduce(obj, axis, dtype, out, **passkwargs)\n",
      "/opt/miniconda3/lib/python3.12/site-packages/numpy/_core/fromnumeric.py:86: RuntimeWarning: overflow encountered in reduce\n",
      "  return ufunc.reduce(obj, axis, dtype, out, **passkwargs)\n",
      "/opt/miniconda3/lib/python3.12/site-packages/numpy/_core/fromnumeric.py:86: RuntimeWarning: overflow encountered in reduce\n",
      "  return ufunc.reduce(obj, axis, dtype, out, **passkwargs)\n",
      "/opt/miniconda3/lib/python3.12/site-packages/numpy/_core/fromnumeric.py:86: RuntimeWarning: overflow encountered in reduce\n",
      "  return ufunc.reduce(obj, axis, dtype, out, **passkwargs)\n",
      "/opt/miniconda3/lib/python3.12/site-packages/numpy/_core/fromnumeric.py:86: RuntimeWarning: overflow encountered in reduce\n",
      "  return ufunc.reduce(obj, axis, dtype, out, **passkwargs)\n",
      "/opt/miniconda3/lib/python3.12/site-packages/numpy/_core/fromnumeric.py:86: RuntimeWarning: overflow encountered in reduce\n",
      "  return ufunc.reduce(obj, axis, dtype, out, **passkwargs)\n",
      "/opt/miniconda3/lib/python3.12/site-packages/numpy/_core/fromnumeric.py:86: RuntimeWarning: overflow encountered in reduce\n",
      "  return ufunc.reduce(obj, axis, dtype, out, **passkwargs)\n",
      "/opt/miniconda3/lib/python3.12/site-packages/numpy/_core/fromnumeric.py:86: RuntimeWarning: overflow encountered in reduce\n",
      "  return ufunc.reduce(obj, axis, dtype, out, **passkwargs)\n",
      "/opt/miniconda3/lib/python3.12/site-packages/numpy/_core/fromnumeric.py:86: RuntimeWarning: overflow encountered in reduce\n",
      "  return ufunc.reduce(obj, axis, dtype, out, **passkwargs)\n",
      "/opt/miniconda3/lib/python3.12/site-packages/numpy/_core/fromnumeric.py:86: RuntimeWarning: overflow encountered in reduce\n",
      "  return ufunc.reduce(obj, axis, dtype, out, **passkwargs)\n",
      "/opt/miniconda3/lib/python3.12/site-packages/numpy/_core/fromnumeric.py:86: RuntimeWarning: overflow encountered in reduce\n",
      "  return ufunc.reduce(obj, axis, dtype, out, **passkwargs)\n",
      "/opt/miniconda3/lib/python3.12/site-packages/numpy/_core/fromnumeric.py:86: RuntimeWarning: overflow encountered in reduce\n",
      "  return ufunc.reduce(obj, axis, dtype, out, **passkwargs)\n",
      "/opt/miniconda3/lib/python3.12/site-packages/numpy/_core/fromnumeric.py:86: RuntimeWarning: overflow encountered in reduce\n",
      "  return ufunc.reduce(obj, axis, dtype, out, **passkwargs)\n",
      "/opt/miniconda3/lib/python3.12/site-packages/numpy/_core/fromnumeric.py:86: RuntimeWarning: overflow encountered in reduce\n",
      "  return ufunc.reduce(obj, axis, dtype, out, **passkwargs)\n",
      "/opt/miniconda3/lib/python3.12/site-packages/numpy/_core/fromnumeric.py:86: RuntimeWarning: overflow encountered in reduce\n",
      "  return ufunc.reduce(obj, axis, dtype, out, **passkwargs)\n",
      "/opt/miniconda3/lib/python3.12/site-packages/numpy/_core/fromnumeric.py:86: RuntimeWarning: overflow encountered in reduce\n",
      "  return ufunc.reduce(obj, axis, dtype, out, **passkwargs)\n",
      "/opt/miniconda3/lib/python3.12/site-packages/numpy/_core/fromnumeric.py:86: RuntimeWarning: overflow encountered in reduce\n",
      "  return ufunc.reduce(obj, axis, dtype, out, **passkwargs)\n",
      "/opt/miniconda3/lib/python3.12/site-packages/numpy/_core/fromnumeric.py:86: RuntimeWarning: overflow encountered in reduce\n",
      "  return ufunc.reduce(obj, axis, dtype, out, **passkwargs)\n",
      "/opt/miniconda3/lib/python3.12/site-packages/numpy/_core/fromnumeric.py:86: RuntimeWarning: overflow encountered in reduce\n",
      "  return ufunc.reduce(obj, axis, dtype, out, **passkwargs)\n",
      "/opt/miniconda3/lib/python3.12/site-packages/numpy/_core/fromnumeric.py:86: RuntimeWarning: overflow encountered in reduce\n",
      "  return ufunc.reduce(obj, axis, dtype, out, **passkwargs)\n",
      "/opt/miniconda3/lib/python3.12/site-packages/numpy/_core/fromnumeric.py:86: RuntimeWarning: overflow encountered in reduce\n",
      "  return ufunc.reduce(obj, axis, dtype, out, **passkwargs)\n",
      "/opt/miniconda3/lib/python3.12/site-packages/numpy/_core/fromnumeric.py:86: RuntimeWarning: overflow encountered in reduce\n",
      "  return ufunc.reduce(obj, axis, dtype, out, **passkwargs)\n",
      "/opt/miniconda3/lib/python3.12/site-packages/numpy/_core/fromnumeric.py:86: RuntimeWarning: overflow encountered in reduce\n",
      "  return ufunc.reduce(obj, axis, dtype, out, **passkwargs)\n",
      "/opt/miniconda3/lib/python3.12/site-packages/numpy/_core/fromnumeric.py:86: RuntimeWarning: overflow encountered in reduce\n",
      "  return ufunc.reduce(obj, axis, dtype, out, **passkwargs)\n",
      "/opt/miniconda3/lib/python3.12/site-packages/numpy/_core/fromnumeric.py:86: RuntimeWarning: overflow encountered in reduce\n",
      "  return ufunc.reduce(obj, axis, dtype, out, **passkwargs)\n",
      "/opt/miniconda3/lib/python3.12/site-packages/numpy/_core/fromnumeric.py:86: RuntimeWarning: overflow encountered in reduce\n",
      "  return ufunc.reduce(obj, axis, dtype, out, **passkwargs)\n",
      "/opt/miniconda3/lib/python3.12/site-packages/numpy/_core/fromnumeric.py:86: RuntimeWarning: overflow encountered in reduce\n",
      "  return ufunc.reduce(obj, axis, dtype, out, **passkwargs)\n",
      "/opt/miniconda3/lib/python3.12/site-packages/numpy/_core/fromnumeric.py:86: RuntimeWarning: overflow encountered in reduce\n",
      "  return ufunc.reduce(obj, axis, dtype, out, **passkwargs)\n",
      "/opt/miniconda3/lib/python3.12/site-packages/numpy/_core/fromnumeric.py:86: RuntimeWarning: overflow encountered in reduce\n",
      "  return ufunc.reduce(obj, axis, dtype, out, **passkwargs)\n",
      "/opt/miniconda3/lib/python3.12/site-packages/numpy/_core/fromnumeric.py:86: RuntimeWarning: overflow encountered in reduce\n",
      "  return ufunc.reduce(obj, axis, dtype, out, **passkwargs)\n",
      "/opt/miniconda3/lib/python3.12/site-packages/numpy/_core/fromnumeric.py:86: RuntimeWarning: overflow encountered in reduce\n",
      "  return ufunc.reduce(obj, axis, dtype, out, **passkwargs)\n",
      "/opt/miniconda3/lib/python3.12/site-packages/numpy/_core/fromnumeric.py:86: RuntimeWarning: overflow encountered in reduce\n",
      "  return ufunc.reduce(obj, axis, dtype, out, **passkwargs)\n",
      "/opt/miniconda3/lib/python3.12/site-packages/numpy/_core/fromnumeric.py:86: RuntimeWarning: overflow encountered in reduce\n",
      "  return ufunc.reduce(obj, axis, dtype, out, **passkwargs)\n",
      "/opt/miniconda3/lib/python3.12/site-packages/numpy/_core/fromnumeric.py:86: RuntimeWarning: overflow encountered in reduce\n",
      "  return ufunc.reduce(obj, axis, dtype, out, **passkwargs)\n",
      "/opt/miniconda3/lib/python3.12/site-packages/numpy/_core/fromnumeric.py:86: RuntimeWarning: overflow encountered in reduce\n",
      "  return ufunc.reduce(obj, axis, dtype, out, **passkwargs)\n",
      "/opt/miniconda3/lib/python3.12/site-packages/numpy/_core/fromnumeric.py:86: RuntimeWarning: overflow encountered in reduce\n",
      "  return ufunc.reduce(obj, axis, dtype, out, **passkwargs)\n",
      "/opt/miniconda3/lib/python3.12/site-packages/numpy/_core/fromnumeric.py:86: RuntimeWarning: overflow encountered in reduce\n",
      "  return ufunc.reduce(obj, axis, dtype, out, **passkwargs)\n",
      "/opt/miniconda3/lib/python3.12/site-packages/numpy/_core/fromnumeric.py:86: RuntimeWarning: overflow encountered in reduce\n",
      "  return ufunc.reduce(obj, axis, dtype, out, **passkwargs)\n",
      "/opt/miniconda3/lib/python3.12/site-packages/numpy/_core/fromnumeric.py:86: RuntimeWarning: overflow encountered in reduce\n",
      "  return ufunc.reduce(obj, axis, dtype, out, **passkwargs)\n",
      "/opt/miniconda3/lib/python3.12/site-packages/numpy/_core/fromnumeric.py:86: RuntimeWarning: overflow encountered in reduce\n",
      "  return ufunc.reduce(obj, axis, dtype, out, **passkwargs)\n",
      "/opt/miniconda3/lib/python3.12/site-packages/numpy/_core/fromnumeric.py:86: RuntimeWarning: overflow encountered in reduce\n",
      "  return ufunc.reduce(obj, axis, dtype, out, **passkwargs)\n",
      "/opt/miniconda3/lib/python3.12/site-packages/numpy/_core/fromnumeric.py:86: RuntimeWarning: overflow encountered in reduce\n",
      "  return ufunc.reduce(obj, axis, dtype, out, **passkwargs)\n",
      "/opt/miniconda3/lib/python3.12/site-packages/numpy/_core/fromnumeric.py:86: RuntimeWarning: overflow encountered in reduce\n",
      "  return ufunc.reduce(obj, axis, dtype, out, **passkwargs)\n",
      "/opt/miniconda3/lib/python3.12/site-packages/numpy/_core/fromnumeric.py:86: RuntimeWarning: overflow encountered in reduce\n",
      "  return ufunc.reduce(obj, axis, dtype, out, **passkwargs)\n",
      "/opt/miniconda3/lib/python3.12/site-packages/numpy/_core/fromnumeric.py:86: RuntimeWarning: overflow encountered in reduce\n",
      "  return ufunc.reduce(obj, axis, dtype, out, **passkwargs)\n",
      "/opt/miniconda3/lib/python3.12/site-packages/numpy/_core/fromnumeric.py:86: RuntimeWarning: overflow encountered in reduce\n",
      "  return ufunc.reduce(obj, axis, dtype, out, **passkwargs)\n",
      "/opt/miniconda3/lib/python3.12/site-packages/numpy/_core/fromnumeric.py:86: RuntimeWarning: overflow encountered in reduce\n",
      "  return ufunc.reduce(obj, axis, dtype, out, **passkwargs)\n",
      "/opt/miniconda3/lib/python3.12/site-packages/numpy/_core/_methods.py:191: RuntimeWarning: invalid value encountered in subtract\n",
      "  x = asanyarray(arr - arrmean)\n",
      "/var/folders/67/rsds3lxj78x4092pycb6cnkh0000gn/T/ipykernel_78117/2446852946.py:152: RuntimeWarning: overflow encountered in multiply\n",
      "  is_estimate = np.mean(valid_weights * trajectory_returns)\n",
      "/var/folders/67/rsds3lxj78x4092pycb6cnkh0000gn/T/ipykernel_78117/2446852946.py:155: RuntimeWarning: overflow encountered in multiply\n",
      "  wis_estimate = np.sum(valid_weights * trajectory_returns) / np.sum(valid_weights)\n",
      "/var/folders/67/rsds3lxj78x4092pycb6cnkh0000gn/T/ipykernel_78117/2446852946.py:155: RuntimeWarning: invalid value encountered in scalar divide\n",
      "  wis_estimate = np.sum(valid_weights * trajectory_returns) / np.sum(valid_weights)\n"
     ]
    }
   ],
   "source": [
    "results = evaluate_policies_with_ope(bc_policy_net, cql_wrapper, train_expert_trajectories, 'cql')"
   ]
  },
  {
   "cell_type": "code",
   "execution_count": 328,
   "id": "1afed0bc-abfd-4fb9-8dae-0a308b58b921",
   "metadata": {},
   "outputs": [],
   "source": [
    "import matplotlib.pyplot as plt\n",
    "import seaborn as sns\n",
    "import numpy as np\n",
    "import torch\n",
    "\n",
    "\n",
    "def plot_action_distributions(expert_trajectories,\n",
    "                              fqi_model,\n",
    "                              bc_model,\n",
    "                              cql_wrapper,\n",
    "                              scaler):\n",
    "    \"\"\"\n",
    "    Draw 4 side-by-side histograms (2×2 grid) of dose selection:\n",
    "        ▸ Clinician  ▸ BC  ▸ FQI  ▸ CQL\n",
    "    Uses a common random subset of states so the distributions are\n",
    "    directly comparable.  Colour scheme:\n",
    "        blue = clinician, orange = BC, green = FQI, red = CQL\n",
    "    \"\"\"\n",
    "    dose_buckets = [0, 10, 20, 40]\n",
    "    bins = [-5, 5, 15, 30, 50]\n",
    "\n",
    "    # ── sample identical state set ──────────────────────────────────────\n",
    "    raw_states = np.concatenate(expert_trajectories[\"states\"])\n",
    "    raw_actions = np.concatenate(expert_trajectories[\"actions\"]).flatten()\n",
    "\n",
    "    perm = np.random.permutation(len(raw_states))\n",
    "    raw_states = raw_states[perm]\n",
    "    raw_actions = raw_actions[perm]\n",
    "\n",
    "    scaled_states = scaler.transform(raw_states)\n",
    "\n",
    "    # ── clinician actions ───────────────────────────────────────────────\n",
    "    clinician_doses = raw_actions\n",
    "\n",
    "    # BC predictions  ► use argmax over logits\n",
    "    with torch.no_grad():\n",
    "        logits = bc_model(torch.tensor(scaled_states, dtype=torch.float32)).cpu().numpy()\n",
    "    bc_doses = np.array([dose_buckets[idx] for idx in np.argmax(logits, axis=1)])\n",
    "\n",
    "\n",
    "    # ── FQI predictions (arg-max Q) ─────────────────────────────────────\n",
    "    with torch.no_grad():\n",
    "        q_vals = fqi_model(torch.tensor(raw_states,\n",
    "                                        dtype=torch.float32)).cpu().numpy()\n",
    "    fqi_doses = np.array([dose_buckets[np.argmax(q)] for q in q_vals])\n",
    "\n",
    "    # ── CQL predictions (wrapper Q-matrix) ──────────────────────────────\n",
    "    with torch.no_grad():\n",
    "        q_cql = cql_wrapper(torch.tensor(raw_states,\n",
    "                                         dtype=torch.float32)).cpu().numpy()\n",
    "    cql_doses = np.array([dose_buckets[i] for i in np.argmax(q_cql, axis=1)])\n",
    "\n",
    "    # ── plotting (4 quadrants) ──────────────────────────────────────────\n",
    "    fig, axes = plt.subplots(2, 2, figsize=(10, 7))\n",
    "    plots = [\n",
    "        (axes[0, 0], clinician_doses, \"Clinician\", \"tab:blue\"),\n",
    "        (axes[0, 1], bc_doses,        \"BC\",        \"tab:orange\"),\n",
    "        (axes[1, 0], fqi_doses,       \"FQI\",       \"tab:green\"),\n",
    "        (axes[1, 1], cql_doses,       \"CQL\",       \"tab:red\"),\n",
    "    ]\n",
    "\n",
    "    for ax, doses, label, color in plots:\n",
    "        sns.histplot(\n",
    "            doses,\n",
    "            bins=bins,\n",
    "            stat=\"probability\",\n",
    "            discrete=True,\n",
    "            shrink=0.8,\n",
    "            edgecolor=\"k\",\n",
    "            color=color,\n",
    "            alpha=0.5,\n",
    "            ax=ax\n",
    "        )\n",
    "        ax.set_title(f\"{label} (n={len(doses)})\")\n",
    "        ax.set_xticks(dose_buckets)\n",
    "        ax.set_xlim(-5, 45)\n",
    "        ax.set_xlabel(\"Dose (mEq)\")\n",
    "        ax.set_ylabel(\"Proportion\")\n",
    "\n",
    "        # mark mean\n",
    "        mean_dose = np.mean(doses)\n",
    "        ax.axvline(mean_dose, color=color, linestyle=\"--\", alpha=0.7)\n",
    "        ax.text(mean_dose + 1.5,\n",
    "                ax.get_ylim()[1] * 0.9,\n",
    "                f\"{mean_dose:.1f}\",\n",
    "                color=color,\n",
    "                fontsize=8)\n",
    "\n",
    "    plt.tight_layout()\n",
    "    plt.show()\n"
   ]
  },
  {
   "cell_type": "code",
   "execution_count": 329,
   "id": "24e4c082-b9e9-4094-beb6-7cf59618767c",
   "metadata": {},
   "outputs": [
    {
     "data": {
      "image/png": "[encoded data removed]",
      "text/plain": [
       "<Figure size 1000x700 with 4 Axes>"
      ]
     },
     "metadata": {},
     "output_type": "display_data"
    }
   ],
   "source": [
    "# ------------------------------------------------------------\n",
    "# Assume these objects already exist in your notebook session:\n",
    "#   • train_expert_trajectories   (dict with 'states' 'actions' 'rewards')\n",
    "#   • train_fqi_net               (torch nn.Module, discrete Q-network)\n",
    "#   • bc_model                    (torch nn.Module, behaviour-cloning net)\n",
    "#   • cql_model                   (d3rlpy DiscreteCQL model, already fitted)\n",
    "#   • scaler                      (sklearn StandardScaler fitted on states)\n",
    "#   • device                     = \"cuda\" or \"cpu\" — whichever you used\n",
    "# ------------------------------------------------------------\n",
    "\n",
    "plot_action_distributions(\n",
    "    expert_trajectories=train_expert_trajectories,\n",
    "    fqi_model=train_fqi_net,\n",
    "    bc_model=bc_policy_net,\n",
    "    cql_wrapper=cql_wrapper,\n",
    "    scaler=scaler,\n",
    ")\n"
   ]
  },
  {
   "cell_type": "code",
   "execution_count": null,
   "id": "13505ef3-edf8-4e50-b093-ec3d3b454f27",
   "metadata": {},
   "outputs": [],
   "source": []
  }
 ],
 "metadata": {
  "kernelspec": {
   "display_name": "Python (Miniconda3)",
   "language": "python",
   "name": "miniconda3"
  },
  "language_info": {
   "codemirror_mode": {
    "name": "ipython",
    "version": 3
   },
   "file_extension": ".py",
   "mimetype": "text/x-python",
   "name": "python",
   "nbconvert_exporter": "python",
   "pygments_lexer": "ipython3",
   "version": "3.12.9"
  }
 },
 "nbformat": 4,
 "nbformat_minor": 5
}
