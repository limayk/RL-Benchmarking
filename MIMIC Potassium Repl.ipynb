{
 "cells": [
  {
   "cell_type": "code",
   "execution_count": 1,
   "id": "4d03d150-8000-4ac4-9d28-50b815f7d94c",
   "metadata": {},
   "outputs": [],
   "source": [
    "import os, sys\n",
    "import pandas as pd\n",
    "import numpy as np\n",
    "import tqdm\n",
    "import pickle\n",
    "import seaborn as sns\n",
    "import matplotlib.pyplot as plt\n",
    "from datetime import datetime, timedelta\n",
    "import gc\n",
    "from IPython.display import display  # Helps visualize DataFrames in Jupyter"
   ]
  },
  {
   "cell_type": "markdown",
   "id": "2fa5ef22-422c-4d34-904a-c7fe7ae57355",
   "metadata": {},
   "source": [
    "### Pull data"
   ]
  },
  {
   "cell_type": "code",
   "execution_count": 2,
   "id": "462ccbb5-e029-489c-8c5c-1be1538cb006",
   "metadata": {},
   "outputs": [],
   "source": [
    "# Define the file path\n",
    "data_path = \"/Users/kalyanilimaye/Desktop/Research/mimicdata/data/\"\n",
    "\n",
    "# Read the CSV files\n",
    "admissions = pd.read_csv(data_path + \"admissions.csv.gz\")\n",
    "patients = pd.read_csv(data_path + \"patients.csv.gz\")\n",
    "diagnoses = pd.read_csv(data_path + \"diagnoses_icd.csv.gz\")\n",
    "d_diagnoses = pd.read_csv(data_path + \"d_icd_diagnoses.csv.gz\")\n",
    "input_events = pd.read_csv(data_path + \"inputevents.csv.gz\") #for subjects\n",
    "d_labitems = pd.read_csv(data_path + \"d_labitems.csv.gz\")\n",
    "d_items = pd.read_csv(data_path + \"d_items.csv.gz\") #for meds"
   ]
  },
  {
   "cell_type": "code",
   "execution_count": 3,
   "id": "cd90ce29-c532-4252-b4ec-1b62d9f3fc9b",
   "metadata": {},
   "outputs": [],
   "source": [
    "import random\n",
    "import torch\n",
    "import numpy as np\n",
    "\n",
    "def set_seed(seed=42):\n",
    "    random.seed(seed)\n",
    "    np.random.seed(seed)\n",
    "    torch.manual_seed(seed)\n",
    "    if torch.cuda.is_available():\n",
    "        torch.cuda.manual_seed(seed)\n",
    "        torch.cuda.manual_seed_all(seed)\n",
    "    torch.backends.cudnn.deterministic = True\n",
    "    torch.backends.cudnn.benchmark = False\n",
    "\n",
    "set_seed(42)  # Call before training"
   ]
  },
  {
   "cell_type": "markdown",
   "id": "f60e1663-5719-4433-88f3-cabfca4d181d",
   "metadata": {},
   "source": [
    "### Meds"
   ]
  },
  {
   "cell_type": "code",
   "execution_count": 4,
   "id": "102d182c-fa21-4c2a-8e14-2fe4911ef3d2",
   "metadata": {},
   "outputs": [
    {
     "data": {
      "text/html": [
       "<div>\n",
       "<style scoped>\n",
       "    .dataframe tbody tr th:only-of-type {\n",
       "        vertical-align: middle;\n",
       "    }\n",
       "\n",
       "    .dataframe tbody tr th {\n",
       "        vertical-align: top;\n",
       "    }\n",
       "\n",
       "    .dataframe thead th {\n",
       "        text-align: right;\n",
       "    }\n",
       "</style>\n",
       "<table border=\"1\" class=\"dataframe\">\n",
       "  <thead>\n",
       "    <tr style=\"text-align: right;\">\n",
       "      <th></th>\n",
       "      <th>itemid</th>\n",
       "      <th>label</th>\n",
       "      <th>category</th>\n",
       "    </tr>\n",
       "  </thead>\n",
       "  <tbody>\n",
       "    <tr>\n",
       "      <th>1121</th>\n",
       "      <td>225166</td>\n",
       "      <td>Potassium Chloride</td>\n",
       "      <td>Medications</td>\n",
       "    </tr>\n",
       "  </tbody>\n",
       "</table>\n",
       "</div>"
      ],
      "text/plain": [
       "      itemid               label     category\n",
       "1121  225166  Potassium Chloride  Medications"
      ]
     },
     "execution_count": 4,
     "metadata": {},
     "output_type": "execute_result"
    }
   ],
   "source": [
    "meds = [225166] #Potassium Chloride (IV)225166\n",
    "meds_map = d_items[d_items['itemid'].isin(meds)][['itemid', 'label', 'category',]].drop_duplicates()\n",
    "meds_map.head(5)"
   ]
  },
  {
   "cell_type": "code",
   "execution_count": 5,
   "id": "bcaf53a7-9761-4a11-a194-5cba1d93e0a8",
   "metadata": {},
   "outputs": [],
   "source": [
    "meds_admin = input_events[input_events['itemid'].isin(meds)] #IV med\n",
    "meds_admin = meds_admin[meds_admin['amountuom'] == 'mEq'] #there was only a single non-mEq patient, so remove"
   ]
  },
  {
   "cell_type": "code",
   "execution_count": 6,
   "id": "285f105b-b0b9-460f-b08c-c88ce36875d7",
   "metadata": {},
   "outputs": [],
   "source": [
    "#remove outliers: keep rows whose `amount` is ≤ the 99-th percentile\n",
    "p99 = (\n",
    "    meds_admin\n",
    "      .groupby('itemid')['amount']\n",
    "      .transform(lambda s: s.quantile(0.99))\n",
    ")\n",
    "\n",
    "meds_admin = meds_admin[meds_admin['amount'] <= p99]"
   ]
  },
  {
   "cell_type": "code",
   "execution_count": 7,
   "id": "4561d3bc-09fb-451e-9eae-109a70c2dd74",
   "metadata": {},
   "outputs": [
    {
     "data": {
      "text/html": [
       "<div>\n",
       "<style scoped>\n",
       "    .dataframe tbody tr th:only-of-type {\n",
       "        vertical-align: middle;\n",
       "    }\n",
       "\n",
       "    .dataframe tbody tr th {\n",
       "        vertical-align: top;\n",
       "    }\n",
       "\n",
       "    .dataframe thead th {\n",
       "        text-align: right;\n",
       "    }\n",
       "</style>\n",
       "<table border=\"1\" class=\"dataframe\">\n",
       "  <thead>\n",
       "    <tr style=\"text-align: right;\">\n",
       "      <th></th>\n",
       "      <th>min_val</th>\n",
       "      <th>max_val</th>\n",
       "      <th>range_width</th>\n",
       "    </tr>\n",
       "    <tr>\n",
       "      <th>itemid</th>\n",
       "      <th></th>\n",
       "      <th></th>\n",
       "      <th></th>\n",
       "    </tr>\n",
       "  </thead>\n",
       "  <tbody>\n",
       "    <tr>\n",
       "      <th>225166</th>\n",
       "      <td>0.0</td>\n",
       "      <td>40.000001</td>\n",
       "      <td>40.000001</td>\n",
       "    </tr>\n",
       "  </tbody>\n",
       "</table>\n",
       "</div>"
      ],
      "text/plain": [
       "        min_val    max_val  range_width\n",
       "itemid                                 \n",
       "225166      0.0  40.000001    40.000001"
      ]
     },
     "execution_count": 7,
     "metadata": {},
     "output_type": "execute_result"
    }
   ],
   "source": [
    "#check range\n",
    "med_ranges = (\n",
    "    meds_admin\n",
    "        .groupby('itemid')['amount']\n",
    "        .agg(min_val='min', max_val='max')\n",
    "        .assign(range_width=lambda df: df.max_val - df.min_val)\n",
    ")\n",
    "\n",
    "med_ranges.head()"
   ]
  },
  {
   "cell_type": "markdown",
   "id": "65bb42fa-1616-427f-99d3-61e8a3af4ba1",
   "metadata": {},
   "source": [
    "#### subjects taking K meds"
   ]
  },
  {
   "cell_type": "code",
   "execution_count": 8,
   "id": "f4083893-1f08-44c1-b1a8-26271bd72afe",
   "metadata": {},
   "outputs": [
    {
     "data": {
      "text/plain": [
       "(27182,)"
      ]
     },
     "execution_count": 8,
     "metadata": {},
     "output_type": "execute_result"
    }
   ],
   "source": [
    "#Filtered by meds - all patients who received meds listed above\n",
    "subjects_by_meds = meds_admin['subject_id']\n",
    "subjects_by_meds.unique().shape"
   ]
  },
  {
   "cell_type": "code",
   "execution_count": 9,
   "id": "5ffb7ceb-9225-498b-bc47-1c757f2bf09f",
   "metadata": {},
   "outputs": [],
   "source": [
    "subject_ids = subjects_by_meds.unique()[:2000]"
   ]
  },
  {
   "cell_type": "markdown",
   "id": "ea08406a-8e18-4273-ba6c-7bd1de19d308",
   "metadata": {},
   "source": [
    "#### discretize"
   ]
  },
  {
   "cell_type": "code",
   "execution_count": 10,
   "id": "87d5d08c-3dfb-4168-a133-d3fce4f1ca32",
   "metadata": {},
   "outputs": [],
   "source": [
    "import pandas as pd\n",
    "import matplotlib.pyplot as plt\n",
    "\n",
    "# 1) Round doses to nearest integer\n",
    "meds_admin['dose_int'] = meds_admin['amount'].round().astype('Int64')\n",
    "\n",
    "# 2) Count unique patients per rounded dose\n",
    "patient_counts = (\n",
    "    meds_admin\n",
    "    .dropna(subset=['dose_int'])\n",
    "    .groupby('dose_int')['subject_id']\n",
    "    .nunique()\n",
    "    .sort_index()\n",
    ")\n",
    "\n",
    "#print(patient_counts)"
   ]
  },
  {
   "cell_type": "code",
   "execution_count": 11,
   "id": "23bfd7de-2260-40cb-b5df-354b14f33ad9",
   "metadata": {},
   "outputs": [],
   "source": [
    "mapping = {\n",
    "    0:  0,   # keep zeros\n",
    "    10: 10,  # keep exact 10’s\n",
    "    20: 20,  # keep exact 20’s\n",
    "    40: 40   # keep exact 40’s\n",
    "}\n",
    "\n",
    "# now map neighbors into those bins:\n",
    "for d in [1,2,3, 4]:\n",
    "    mapping[d] = 0\n",
    "for d in [5, 6,7, 8, 9, 11, 12, 13,14]:\n",
    "    mapping[d] = 10\n",
    "for d in [15,16,17,18, 19, 21, 22,23,24]:\n",
    "    mapping[d] = 20\n",
    "for d in [31,32,33,34,35,36,37,38, 39]:\n",
    "    mapping[d] = 40\n",
    "\n",
    "meds_admin['dose_bucket'] = meds_admin['dose_int'].map(mapping)\n",
    "\n",
    "#Re-count unique patients per kept bucket\n",
    "collapsed_counts = (\n",
    "    meds_admin\n",
    "    .dropna(subset=['dose_bucket'])\n",
    "    .groupby('dose_bucket')['subject_id']\n",
    "    .nunique()\n",
    "    .sort_index()\n",
    ")\n",
    "\n",
    "#print(collapsed_counts)\n"
   ]
  },
  {
   "cell_type": "markdown",
   "id": "d6184ced-e151-419d-b49f-ea335f698196",
   "metadata": {},
   "source": [
    "### Labs"
   ]
  },
  {
   "cell_type": "markdown",
   "id": "a0dc79ab-15b7-42d3-b266-4b703af9358d",
   "metadata": {},
   "source": [
    "#### filter chartevents and write to csv"
   ]
  },
  {
   "cell_type": "code",
   "execution_count": 12,
   "id": "75d192ac-565e-4c1e-84b1-dab10cb86c66",
   "metadata": {},
   "outputs": [
    {
     "data": {
      "text/plain": [
       "'\\nchartevents_file = data_path + \"chartevents.csv.gz\"\\n\\n# Read in chunks and filter\\nfiltered_chunks = []\\nchunk_size = 50000  #Adjust based on RAM availability\\n\\nfor chunk in pd.read_csv(chartevents_file, compression=\\'gzip\\', chunksize=chunk_size):\\n    # Filter only for relevant subject_ids\\n    filtered_chunk = chunk[chunk[\\'subject_id\\'].isin(subject_ids)]\\n    \\n    if not filtered_chunk.empty:\\n        filtered_chunks.append(filtered_chunk)\\n\\n    # Force garbage collection to free memory\\n    del chunk\\n    gc.collect()\\n\\n# Combine filtered results\\nfiltered_by_subject = pd.concat(filtered_chunks, ignore_index=True)\\n\\n# Save the filtered dataset\\nfiltered_by_subject.to_csv(data_path + \"filtered_chartevents.csv.gz\", compression=\"gzip\", index=False)\\n\\nprint(f\"✅ Successfully saved filtered chartevents. Shape: {filtered_by_subject.shape}\")\\n'"
      ]
     },
     "execution_count": 12,
     "metadata": {},
     "output_type": "execute_result"
    }
   ],
   "source": [
    "'''\n",
    "chartevents_file = data_path + \"chartevents.csv.gz\"\n",
    "\n",
    "# Read in chunks and filter\n",
    "filtered_chunks = []\n",
    "chunk_size = 50000  #Adjust based on RAM availability\n",
    "\n",
    "for chunk in pd.read_csv(chartevents_file, compression='gzip', chunksize=chunk_size):\n",
    "    # Filter only for relevant subject_ids\n",
    "    filtered_chunk = chunk[chunk['subject_id'].isin(subject_ids)]\n",
    "    \n",
    "    if not filtered_chunk.empty:\n",
    "        filtered_chunks.append(filtered_chunk)\n",
    "\n",
    "    # Force garbage collection to free memory\n",
    "    del chunk\n",
    "    gc.collect()\n",
    "\n",
    "# Combine filtered results\n",
    "filtered_by_subject = pd.concat(filtered_chunks, ignore_index=True)\n",
    "\n",
    "# Save the filtered dataset\n",
    "filtered_by_subject.to_csv(data_path + \"filtered_chartevents.csv.gz\", compression=\"gzip\", index=False)\n",
    "\n",
    "print(f\"✅ Successfully saved filtered chartevents. Shape: {filtered_by_subject.shape}\")\n",
    "'''"
   ]
  },
  {
   "cell_type": "code",
   "execution_count": 13,
   "id": "16db7c6e-9aa5-4fce-95df-51f4b6848035",
   "metadata": {},
   "outputs": [],
   "source": [
    "#get ALL labs for subjects taking K meds. chartevents = labs, inputevents = meds administered to subjects, d_items = med names\n",
    "all_labs = pd.read_csv(data_path + \"filtered_chartevents.csv.gz\")"
   ]
  },
  {
   "cell_type": "code",
   "execution_count": 14,
   "id": "d7d12a8a-1599-4b48-8fac-9ac96e25d85a",
   "metadata": {},
   "outputs": [
    {
     "data": {
      "text/html": [
       "<div>\n",
       "<style scoped>\n",
       "    .dataframe tbody tr th:only-of-type {\n",
       "        vertical-align: middle;\n",
       "    }\n",
       "\n",
       "    .dataframe tbody tr th {\n",
       "        vertical-align: top;\n",
       "    }\n",
       "\n",
       "    .dataframe thead th {\n",
       "        text-align: right;\n",
       "    }\n",
       "</style>\n",
       "<table border=\"1\" class=\"dataframe\">\n",
       "  <thead>\n",
       "    <tr style=\"text-align: right;\">\n",
       "      <th></th>\n",
       "      <th>itemid</th>\n",
       "      <th>label</th>\n",
       "      <th>category</th>\n",
       "    </tr>\n",
       "  </thead>\n",
       "  <tbody>\n",
       "    <tr>\n",
       "      <th>2203</th>\n",
       "      <td>227442</td>\n",
       "      <td>Potassium (serum)</td>\n",
       "      <td>Labs</td>\n",
       "    </tr>\n",
       "    <tr>\n",
       "      <th>2225</th>\n",
       "      <td>227464</td>\n",
       "      <td>Potassium (whole blood)</td>\n",
       "      <td>Labs</td>\n",
       "    </tr>\n",
       "  </tbody>\n",
       "</table>\n",
       "</div>"
      ],
      "text/plain": [
       "      itemid                    label category\n",
       "2203  227442        Potassium (serum)     Labs\n",
       "2225  227464  Potassium (whole blood)     Labs"
      ]
     },
     "execution_count": 14,
     "metadata": {},
     "output_type": "execute_result"
    }
   ],
   "source": [
    "lab_values = [227442, 227464] # Potassium serum, Potassium (whole blood)\n",
    "\n",
    "#to see names\n",
    "lab_map = d_items[d_items['itemid'].isin(lab_values)][['itemid', 'label', 'category', ]].drop_duplicates()\n",
    "lab_map.head(5)"
   ]
  },
  {
   "cell_type": "markdown",
   "id": "23512ba7-a567-466d-9e11-1390ce03bb1b",
   "metadata": {},
   "source": [
    "#### subjects with atleast one specified K lab"
   ]
  },
  {
   "cell_type": "code",
   "execution_count": 15,
   "id": "b0c8d9ea-acb8-43c6-a925-6b8a6f63c6d4",
   "metadata": {},
   "outputs": [],
   "source": [
    "#filter hardcoded labs only\n",
    "relevant_labs = all_labs[all_labs['itemid'].isin(lab_values)]\n",
    "\n",
    "#remove outliers: keep rows whose `value` is ≤ the 99-th percentile\n",
    "p99_l = (\n",
    "    relevant_labs\n",
    "      .groupby('itemid')['valuenum']\n",
    "      .transform(lambda s: s.quantile(0.99))\n",
    ")\n",
    "\n",
    "relevant_labs = relevant_labs[relevant_labs['valuenum'] <= p99_l]"
   ]
  },
  {
   "cell_type": "code",
   "execution_count": 16,
   "id": "64999c54-f492-457c-8c58-0b89725d68c9",
   "metadata": {},
   "outputs": [
    {
     "data": {
      "text/html": [
       "<div>\n",
       "<style scoped>\n",
       "    .dataframe tbody tr th:only-of-type {\n",
       "        vertical-align: middle;\n",
       "    }\n",
       "\n",
       "    .dataframe tbody tr th {\n",
       "        vertical-align: top;\n",
       "    }\n",
       "\n",
       "    .dataframe thead th {\n",
       "        text-align: right;\n",
       "    }\n",
       "</style>\n",
       "<table border=\"1\" class=\"dataframe\">\n",
       "  <thead>\n",
       "    <tr style=\"text-align: right;\">\n",
       "      <th></th>\n",
       "      <th>itemid</th>\n",
       "      <th>valueuom</th>\n",
       "      <th>n_subjects</th>\n",
       "    </tr>\n",
       "  </thead>\n",
       "  <tbody>\n",
       "    <tr>\n",
       "      <th>0</th>\n",
       "      <td>227442</td>\n",
       "      <td>mEq/L</td>\n",
       "      <td>1996</td>\n",
       "    </tr>\n",
       "    <tr>\n",
       "      <th>1</th>\n",
       "      <td>227464</td>\n",
       "      <td>mEq/L</td>\n",
       "      <td>1214</td>\n",
       "    </tr>\n",
       "  </tbody>\n",
       "</table>\n",
       "</div>"
      ],
      "text/plain": [
       "   itemid valueuom  n_subjects\n",
       "0  227442    mEq/L        1996\n",
       "1  227464    mEq/L        1214"
      ]
     },
     "execution_count": 16,
     "metadata": {},
     "output_type": "execute_result"
    }
   ],
   "source": [
    "subj_counts_labs = (\n",
    "    relevant_labs          # your DataFrame\n",
    "      .groupby(['itemid','valueuom'])['subject_id']\n",
    "      .nunique()                    # distinct patients in each group\n",
    "      .reset_index(name='n_subjects')\n",
    ")\n",
    "\n",
    "subj_counts_labs.head(3)"
   ]
  },
  {
   "cell_type": "code",
   "execution_count": 17,
   "id": "aa54cfdb-86fe-41c7-a54b-195113fb23b9",
   "metadata": {},
   "outputs": [
    {
     "data": {
      "text/html": [
       "<div>\n",
       "<style scoped>\n",
       "    .dataframe tbody tr th:only-of-type {\n",
       "        vertical-align: middle;\n",
       "    }\n",
       "\n",
       "    .dataframe tbody tr th {\n",
       "        vertical-align: top;\n",
       "    }\n",
       "\n",
       "    .dataframe thead th {\n",
       "        text-align: right;\n",
       "    }\n",
       "</style>\n",
       "<table border=\"1\" class=\"dataframe\">\n",
       "  <thead>\n",
       "    <tr style=\"text-align: right;\">\n",
       "      <th></th>\n",
       "      <th>min_val</th>\n",
       "      <th>max_val</th>\n",
       "      <th>range_width</th>\n",
       "    </tr>\n",
       "    <tr>\n",
       "      <th>itemid</th>\n",
       "      <th></th>\n",
       "      <th></th>\n",
       "      <th></th>\n",
       "    </tr>\n",
       "  </thead>\n",
       "  <tbody>\n",
       "    <tr>\n",
       "      <th>227442</th>\n",
       "      <td>0.0</td>\n",
       "      <td>6.1</td>\n",
       "      <td>6.1</td>\n",
       "    </tr>\n",
       "    <tr>\n",
       "      <th>227464</th>\n",
       "      <td>1.4</td>\n",
       "      <td>6.4</td>\n",
       "      <td>5.0</td>\n",
       "    </tr>\n",
       "  </tbody>\n",
       "</table>\n",
       "</div>"
      ],
      "text/plain": [
       "        min_val  max_val  range_width\n",
       "itemid                               \n",
       "227442      0.0      6.1          6.1\n",
       "227464      1.4      6.4          5.0"
      ]
     },
     "execution_count": 17,
     "metadata": {},
     "output_type": "execute_result"
    }
   ],
   "source": [
    "# basic min & max of the potassium labs (or any lab values)\n",
    "lab_ranges = (\n",
    "    relevant_labs\n",
    "        .groupby('itemid')['valuenum']\n",
    "        .agg(min_val='min', max_val='max')\n",
    "        .assign(range_width=lambda df: df.max_val - df.min_val)\n",
    ")\n",
    "\n",
    "lab_ranges.head()"
   ]
  },
  {
   "cell_type": "code",
   "execution_count": 18,
   "id": "2b884a8c-88fb-4380-95e3-062cfe6bb17d",
   "metadata": {},
   "outputs": [
    {
     "name": "stdout",
     "output_type": "stream",
     "text": [
      "lab_int\n",
      "0       1\n",
      "1       2\n",
      "2      55\n",
      "3    1059\n",
      "4    1923\n",
      "5    1021\n",
      "6     257\n",
      "Name: subject_id, dtype: int64\n"
     ]
    }
   ],
   "source": [
    "# Count unique patients at each integer‐rounded value for itemid 227442:\n",
    "lab_counts_227442 = (\n",
    "    relevant_labs\n",
    "      .loc[relevant_labs['itemid'] == 227442]           # filter to K serum\n",
    "      .assign(lab_int=lambda df: df['valuenum']          # round to nearest int\n",
    "                                    .round()\n",
    "                                    .astype(int))\n",
    "      .dropna(subset=['lab_int'])                        # drop any NaNs\n",
    "      .groupby('lab_int')['subject_id']                  # group by the rounded value\n",
    "      .nunique()                                         # count distinct subjects\n",
    "      .sort_index()                                      # sort by lab_int\n",
    ")\n",
    "\n",
    "print(lab_counts_227442)\n"
   ]
  },
  {
   "cell_type": "code",
   "execution_count": 19,
   "id": "ea27fbd4-516c-48b8-864e-6c53a48f8b6b",
   "metadata": {},
   "outputs": [],
   "source": [
    "relevant_labs = relevant_labs.loc[relevant_labs['valuenum'] >= 1.4] #remove the 0,1 measurements they seem like outliers based on above"
   ]
  },
  {
   "cell_type": "code",
   "execution_count": 20,
   "id": "68319fe9-0f97-4ef3-88dc-3781c34c3214",
   "metadata": {},
   "outputs": [
    {
     "data": {
      "text/plain": [
       "(37900, 11)"
      ]
     },
     "execution_count": 20,
     "metadata": {},
     "output_type": "execute_result"
    }
   ],
   "source": [
    "#filter subjects to only those with atleast 1 lab\n",
    "subject_ids = relevant_labs['subject_id'].unique()\n",
    "labs_taken = relevant_labs[relevant_labs['subject_id'].isin(subject_ids)]\n",
    "labs_taken.shape"
   ]
  },
  {
   "cell_type": "code",
   "execution_count": 21,
   "id": "353f2392-b186-4cff-8d45-b8f54daf6e1c",
   "metadata": {},
   "outputs": [
    {
     "data": {
      "text/plain": [
       "1997"
      ]
     },
     "execution_count": 21,
     "metadata": {},
     "output_type": "execute_result"
    }
   ],
   "source": [
    "len(subject_ids)"
   ]
  },
  {
   "cell_type": "markdown",
   "id": "ece52f6c-4cd0-4873-a290-ca8709391f0e",
   "metadata": {},
   "source": [
    "### check stats , plot - meds + labs"
   ]
  },
  {
   "cell_type": "code",
   "execution_count": 22,
   "id": "1597d873-a460-42e5-880c-6516ef34ca7f",
   "metadata": {},
   "outputs": [
    {
     "data": {
      "text/html": [
       "<div>\n",
       "<style scoped>\n",
       "    .dataframe tbody tr th:only-of-type {\n",
       "        vertical-align: middle;\n",
       "    }\n",
       "\n",
       "    .dataframe tbody tr th {\n",
       "        vertical-align: top;\n",
       "    }\n",
       "\n",
       "    .dataframe thead th {\n",
       "        text-align: right;\n",
       "    }\n",
       "</style>\n",
       "<table border=\"1\" class=\"dataframe\">\n",
       "  <thead>\n",
       "    <tr style=\"text-align: right;\">\n",
       "      <th></th>\n",
       "      <th>count</th>\n",
       "      <th>mean</th>\n",
       "      <th>std</th>\n",
       "      <th>min</th>\n",
       "      <th>25%</th>\n",
       "      <th>50%</th>\n",
       "      <th>75%</th>\n",
       "      <th>max</th>\n",
       "    </tr>\n",
       "    <tr>\n",
       "      <th>itemid</th>\n",
       "      <th></th>\n",
       "      <th></th>\n",
       "      <th></th>\n",
       "      <th></th>\n",
       "      <th></th>\n",
       "      <th></th>\n",
       "      <th></th>\n",
       "      <th></th>\n",
       "    </tr>\n",
       "  </thead>\n",
       "  <tbody>\n",
       "    <tr>\n",
       "      <th>225166</th>\n",
       "      <td>200862.0</td>\n",
       "      <td>18.29</td>\n",
       "      <td>5.81</td>\n",
       "      <td>0.0</td>\n",
       "      <td>20.0</td>\n",
       "      <td>20.0</td>\n",
       "      <td>20.0</td>\n",
       "      <td>40.0</td>\n",
       "    </tr>\n",
       "  </tbody>\n",
       "</table>\n",
       "</div>"
      ],
      "text/plain": [
       "           count   mean   std  min   25%   50%   75%   max\n",
       "itemid                                                    \n",
       "225166  200862.0  18.29  5.81  0.0  20.0  20.0  20.0  40.0"
      ]
     },
     "metadata": {},
     "output_type": "display_data"
    },
    {
     "data": {
      "text/html": [
       "<div>\n",
       "<style scoped>\n",
       "    .dataframe tbody tr th:only-of-type {\n",
       "        vertical-align: middle;\n",
       "    }\n",
       "\n",
       "    .dataframe tbody tr th {\n",
       "        vertical-align: top;\n",
       "    }\n",
       "\n",
       "    .dataframe thead th {\n",
       "        text-align: right;\n",
       "    }\n",
       "</style>\n",
       "<table border=\"1\" class=\"dataframe\">\n",
       "  <thead>\n",
       "    <tr style=\"text-align: right;\">\n",
       "      <th></th>\n",
       "      <th>count</th>\n",
       "      <th>mean</th>\n",
       "      <th>std</th>\n",
       "      <th>min</th>\n",
       "      <th>25%</th>\n",
       "      <th>50%</th>\n",
       "      <th>75%</th>\n",
       "      <th>max</th>\n",
       "    </tr>\n",
       "    <tr>\n",
       "      <th>itemid</th>\n",
       "      <th></th>\n",
       "      <th></th>\n",
       "      <th></th>\n",
       "      <th></th>\n",
       "      <th></th>\n",
       "      <th></th>\n",
       "      <th></th>\n",
       "      <th></th>\n",
       "    </tr>\n",
       "  </thead>\n",
       "  <tbody>\n",
       "    <tr>\n",
       "      <th>227442</th>\n",
       "      <td>29087.0</td>\n",
       "      <td>4.07</td>\n",
       "      <td>0.58</td>\n",
       "      <td>1.6</td>\n",
       "      <td>3.7</td>\n",
       "      <td>4.0</td>\n",
       "      <td>4.4</td>\n",
       "      <td>6.1</td>\n",
       "    </tr>\n",
       "    <tr>\n",
       "      <th>227464</th>\n",
       "      <td>8813.0</td>\n",
       "      <td>4.14</td>\n",
       "      <td>0.67</td>\n",
       "      <td>1.4</td>\n",
       "      <td>3.7</td>\n",
       "      <td>4.1</td>\n",
       "      <td>4.5</td>\n",
       "      <td>6.4</td>\n",
       "    </tr>\n",
       "  </tbody>\n",
       "</table>\n",
       "</div>"
      ],
      "text/plain": [
       "          count  mean   std  min  25%  50%  75%  max\n",
       "itemid                                              \n",
       "227442  29087.0  4.07  0.58  1.6  3.7  4.0  4.4  6.1\n",
       "227464   8813.0  4.14  0.67  1.4  3.7  4.1  4.5  6.4"
      ]
     },
     "metadata": {},
     "output_type": "display_data"
    }
   ],
   "source": [
    "stats_meds = meds_admin.groupby('itemid')['amount'].describe().round(2)\n",
    "stats_labs = labs_taken.groupby('itemid')['valuenum'].describe().round(2)\n",
    "display(stats_meds)\n",
    "display(stats_labs)"
   ]
  },
  {
   "cell_type": "code",
   "execution_count": 23,
   "id": "e1917c0a-c501-49b2-98ed-fd49168daef8",
   "metadata": {},
   "outputs": [
    {
     "data": {
      "image/png": "[encoded data removed]",
      "text/plain": [
       "<Figure size 600x400 with 1 Axes>"
      ]
     },
     "metadata": {},
     "output_type": "display_data"
    },
    {
     "data": {
      "image/png": "[encoded data removed]",
      "text/plain": [
       "<Figure size 640x480 with 1 Axes>"
      ]
     },
     "metadata": {},
     "output_type": "display_data"
    },
    {
     "data": {
      "image/png": "[encoded data removed]",
      "text/plain": [
       "<Figure size 640x480 with 1 Axes>"
      ]
     },
     "metadata": {},
     "output_type": "display_data"
    }
   ],
   "source": [
    "import matplotlib.pyplot as plt\n",
    "\n",
    "# Histogram for medication doses (meds_admin['amount'])\n",
    "import matplotlib.pyplot as plt\n",
    "\n",
    "# 1) Get counts per bucket, sorted by bucket value\n",
    "counts = meds_admin['dose_bucket'] \\\n",
    "            .dropna() \\\n",
    "            .value_counts() \\\n",
    "            .sort_index()\n",
    "\n",
    "# 2) Plot as a bar chart\n",
    "plt.figure(figsize=(6,4))\n",
    "plt.bar(counts.index.astype(str), counts.values, width=0.6)\n",
    "plt.xlabel(\"Dose bucket\")\n",
    "plt.ylabel(\"Number of administrations\")\n",
    "plt.title(\"Counts per Discrete Potassium Dose Bucket\")\n",
    "plt.tight_layout()\n",
    "plt.show()\n",
    "\n",
    "\n",
    "# Histogram for potassium lab values (labs_taken['valuenum'])\n",
    "for iid in labs_taken['itemid'].unique():\n",
    "    labs_taken.loc[labs_taken.itemid == iid, 'valuenum'].dropna().hist(bins=50)\n",
    "    plt.title(f'Lab values – itemid {iid}')\n",
    "    plt.xlabel('Potassium (mmol/L)')\n",
    "    plt.ylabel('Count')\n",
    "    plt.show()        # shows one figure, then continues to next id\n"
   ]
  },
  {
   "cell_type": "markdown",
   "id": "c40b2fad-eaa7-4c58-b6e4-ba19fcdf3065",
   "metadata": {},
   "source": [
    "### Trajectory functions"
   ]
  },
  {
   "cell_type": "code",
   "execution_count": 24,
   "id": "78f5940b-0750-46c3-a7bc-e92a71b0f203",
   "metadata": {},
   "outputs": [
    {
     "data": {
      "text/html": [
       "<div>\n",
       "<style scoped>\n",
       "    .dataframe tbody tr th:only-of-type {\n",
       "        vertical-align: middle;\n",
       "    }\n",
       "\n",
       "    .dataframe tbody tr th {\n",
       "        vertical-align: top;\n",
       "    }\n",
       "\n",
       "    .dataframe thead th {\n",
       "        text-align: right;\n",
       "    }\n",
       "</style>\n",
       "<table border=\"1\" class=\"dataframe\">\n",
       "  <thead>\n",
       "    <tr style=\"text-align: right;\">\n",
       "      <th></th>\n",
       "      <th>itemid</th>\n",
       "      <th>feature_name</th>\n",
       "      <th>mean_value</th>\n",
       "      <th>n_rows</th>\n",
       "    </tr>\n",
       "  </thead>\n",
       "  <tbody>\n",
       "    <tr>\n",
       "      <th>5</th>\n",
       "      <td>227073</td>\n",
       "      <td>anion_gap_serum</td>\n",
       "      <td>14.125890</td>\n",
       "      <td>27373</td>\n",
       "    </tr>\n",
       "    <tr>\n",
       "      <th>4</th>\n",
       "      <td>220615</td>\n",
       "      <td>creatinine_serum</td>\n",
       "      <td>1.584772</td>\n",
       "      <td>27534</td>\n",
       "    </tr>\n",
       "    <tr>\n",
       "      <th>2</th>\n",
       "      <td>220180</td>\n",
       "      <td>diastolic_bp</td>\n",
       "      <td>66.794095</td>\n",
       "      <td>230164</td>\n",
       "    </tr>\n",
       "    <tr>\n",
       "      <th>0</th>\n",
       "      <td>220045</td>\n",
       "      <td>heart_rate</td>\n",
       "      <td>86.833304</td>\n",
       "      <td>394884</td>\n",
       "    </tr>\n",
       "    <tr>\n",
       "      <th>3</th>\n",
       "      <td>220210</td>\n",
       "      <td>resp_rate</td>\n",
       "      <td>20.239264</td>\n",
       "      <td>390958</td>\n",
       "    </tr>\n",
       "    <tr>\n",
       "      <th>1</th>\n",
       "      <td>220179</td>\n",
       "      <td>systolic_bp</td>\n",
       "      <td>118.979193</td>\n",
       "      <td>230203</td>\n",
       "    </tr>\n",
       "  </tbody>\n",
       "</table>\n",
       "</div>"
      ],
      "text/plain": [
       "   itemid      feature_name  mean_value  n_rows\n",
       "5  227073   anion_gap_serum   14.125890   27373\n",
       "4  220615  creatinine_serum    1.584772   27534\n",
       "2  220180      diastolic_bp   66.794095  230164\n",
       "0  220045        heart_rate   86.833304  394884\n",
       "3  220210         resp_rate   20.239264  390958\n",
       "1  220179       systolic_bp  118.979193  230203"
      ]
     },
     "execution_count": 24,
     "metadata": {},
     "output_type": "execute_result"
    }
   ],
   "source": [
    "# itemid → canonical feature name\n",
    "ITEMIDS = {\n",
    "    220045: \"heart_rate\",\n",
    "    220210: \"resp_rate\",\n",
    "    220179: \"systolic_bp\",\n",
    "    220180: \"diastolic_bp\",\n",
    "    220615: \"creatinine_serum\",\n",
    "    227073: \"anion_gap_serum\"\n",
    "}\n",
    "\n",
    "# all_labs is already in memory with columns: subject_id, hadm_id, itemid, charttime, valuenum …\n",
    "stats = (\n",
    "    all_labs[all_labs[\"itemid\"].isin(ITEMIDS.keys())]\n",
    "      .dropna(subset=[\"valuenum\"])\n",
    "      .groupby(\"itemid\")[\"valuenum\"]\n",
    "      .agg(mean_value=\"mean\", n_rows=\"size\")\n",
    "      .reset_index()\n",
    ")\n",
    "\n",
    "stats[\"feature_name\"] = stats[\"itemid\"].map(ITEMIDS)\n",
    "stats = stats[[\"itemid\", \"feature_name\", \"mean_value\", \"n_rows\"]].sort_values(\"feature_name\")\n",
    "stats\n"
   ]
  },
  {
   "cell_type": "code",
   "execution_count": 25,
   "id": "dfae5169-4c7a-4997-8170-eae53dd7a635",
   "metadata": {},
   "outputs": [
    {
     "name": "stdout",
     "output_type": "stream",
     "text": [
      "{'Heart Rate': 220045, 'Non Invasive Blood Pressure systolic': 220179, 'Non Invasive Blood Pressure diastolic': 220180, 'Respiratory Rate': 220210, 'Creatinine (serum)': 220615, 'Anion gap': 227073}\n"
     ]
    }
   ],
   "source": [
    "mimic_labels = [\n",
    "    'Heart Rate',\n",
    "    'Respiratory Rate',\n",
    "    'Non Invasive Blood Pressure systolic',\n",
    "    'Non Invasive Blood Pressure diastolic',\n",
    "    'Creatinine (serum)',\n",
    "    'Anion gap'\n",
    "]\n",
    "\n",
    "label_to_itemid = (\n",
    "    d_items[d_items['label'].isin(mimic_labels)]\n",
    "      .drop_duplicates(subset='label')      # just in case\n",
    "      .set_index('label')['itemid']\n",
    "      .to_dict()\n",
    ")\n",
    "\n",
    "print(label_to_itemid)"
   ]
  },
  {
   "cell_type": "code",
   "execution_count": 26,
   "id": "2a6520b4-003a-4182-8114-36df592d7996",
   "metadata": {},
   "outputs": [],
   "source": [
    "from datetime import timedelta\n",
    "import numpy as np\n",
    "import pandas as pd\n",
    "\n",
    "MIMIC_ITEM_IDS = {\n",
    "    220045: \"heart_rate\",\n",
    "    220179: \"systolic_bp\",\n",
    "    220180: \"diastolic_bp\",\n",
    "    220210: \"resp_rate\",\n",
    "    220615: \"creatinine_serum\",   # Creatinine (serum)\n",
    "    227073: \"anion_gap_serum\"     # Anion gap\n",
    "}\n",
    "\n",
    "def get_extra_measurements(meas_df, start, end, id_map=MIMIC_ITEM_IDS, dt_hours=4):\n",
    "    \"\"\"\n",
    "    Mean of each ITEMID in [start,end).  If absent, look ±1,±2,±3 windows\n",
    "    of size dt_hours.  Missing → 0.0.  Order follows id_map.\n",
    "    \n",
    "    meas_df must have ['itemid','charttime','valuenum'].\n",
    "    \"\"\"\n",
    "    if meas_df['charttime'].dtype == object:\n",
    "        meas_df = meas_df.copy()                                    \n",
    "        meas_df['charttime'] = pd.to_datetime(\n",
    "            meas_df['charttime'], errors='coerce'\n",
    "        )   \n",
    "    def window_mean(iid, st, en):\n",
    "        vals = meas_df[\n",
    "            (meas_df['itemid'] == iid) &\n",
    "            (meas_df['charttime'] >= st) &\n",
    "            (meas_df['charttime'] <  en)\n",
    "        ]['valuenum'].dropna()\n",
    "        return float(vals.mean()) if not vals.empty else None\n",
    "\n",
    "    offsets = [-1, 1, -2, 2, -3, 3]\n",
    "    out = {}\n",
    "    for iid, name in id_map.items():\n",
    "        val = window_mean(iid, start, end) #checks 0 first \n",
    "        if val is None:\n",
    "            for off in offsets:\n",
    "                st = start + timedelta(hours=off * dt_hours)\n",
    "                en = end   + timedelta(hours=off * dt_hours)\n",
    "                val = window_mean(iid, st, en)\n",
    "                if val is not None:\n",
    "                    break\n",
    "        out[name] = val if val is not None else 0.0\n",
    "    return out"
   ]
  },
  {
   "cell_type": "code",
   "execution_count": 27,
   "id": "54179e4b-1a11-4d34-808d-71b41daf804a",
   "metadata": {},
   "outputs": [
    {
     "name": "stdout",
     "output_type": "stream",
     "text": [
      "MIMIC units: {220045: 'bpm', 220179: 'mmHg', 220180: 'mmHg', 220210: 'insp/min', 220615: nan, 227073: nan}\n"
     ]
    }
   ],
   "source": [
    "mimic_units = (\n",
    "    d_items[d_items['itemid'].isin(MIMIC_ITEM_IDS.keys())]\n",
    "      .drop_duplicates(subset='itemid')[['itemid', 'unitname']]\n",
    "      .set_index('itemid')['unitname']\n",
    "      .apply(lambda u: u or '—')\n",
    "      .to_dict()\n",
    ")\n",
    "print(\"MIMIC units:\", mimic_units)"
   ]
  },
  {
   "cell_type": "code",
   "execution_count": 28,
   "id": "70d0217e-97c4-4ae4-a709-881d8e01b286",
   "metadata": {},
   "outputs": [],
   "source": [
    "# Helper function to get patient info\n",
    "def get_patient_info(subject_id):\n",
    "    patient = patients[patients['subject_id'] == subject_id]\n",
    "    meds_by_id = input_events[(input_events['subject_id']==subject_id)]\n",
    "    return {\n",
    "        'age': patient['anchor_age'].item(),\n",
    "        'gender': 1 if patient['gender'].item() == 'F' else 0,\n",
    "        'weight': meds_by_id.iloc[0]['patientweight']\n",
    "    }"
   ]
  },
  {
   "cell_type": "code",
   "execution_count": 29,
   "id": "8153284c-5eeb-40b1-ac6f-48833f79f621",
   "metadata": {},
   "outputs": [],
   "source": [
    "def potassium_reward(k, mu=4.25, sigma=0.5, clip=True): #Gaussian reward\n",
    "    k_arr = np.array(k, dtype=np.float32)\n",
    "    # Compute exponent: -(1/2)*((k-mu)/sigma)^2\n",
    "    ex = -0.5 * ((k_arr - mu) / sigma) ** 2\n",
    "    r = np.exp(ex)\n",
    "\n",
    "    if clip:\n",
    "        # any NaN inputs → reward 0\n",
    "        r = np.where(np.isnan(r), 0.0, r)\n",
    "        # just in case numerical underflow yields tiny negatives\n",
    "        r = np.clip(r, 0.0, 1.0)\n",
    "    return r"
   ]
  },
  {
   "cell_type": "code",
   "execution_count": 30,
   "id": "46d4e5df-29bc-4b12-82c5-fcf9b49ab609",
   "metadata": {},
   "outputs": [],
   "source": [
    "def interpolate_K_lab(patient_labs, start_time, end_time, lab_itemids, time_delta):\n",
    "    \"\"\"\n",
    "    Return one potassium value for [start_time, end_time):\n",
    "      1. If any serum (lab_itemids[0]) in window → its mean.\n",
    "      2. Else if any whole‐blood (lab_itemids[1]) → its mean.\n",
    "      3. Else search offsets +1, -1, +2, -2 windows in that order,\n",
    "         each time preferring serum then whole‐blood.\n",
    "      4. If still nothing → np.nan.\n",
    "    \"\"\"\n",
    "    def window_mean(iid, st, en):\n",
    "        vals = patient_labs[\n",
    "            (patient_labs['charttime'] >= st) &\n",
    "            (patient_labs['charttime'] <  en)   &\n",
    "            (patient_labs['itemid']   == iid)\n",
    "        ]['valuenum']\n",
    "        return vals.mean() if not vals.empty else None\n",
    "\n",
    "    # 1) Try current window\n",
    "    serum = window_mean(lab_itemids[0], start_time, end_time)\n",
    "    if serum is not None:\n",
    "        return serum\n",
    "    wb = window_mean(lab_itemids[1], start_time, end_time)\n",
    "    if wb is not None:\n",
    "        return wb\n",
    "\n",
    "    \n",
    "    # 2) Search neighbors in order +1, -1, +2, -2\n",
    "    for offset in (1, -1, 2, -2,3, -3):\n",
    "        st = start_time + timedelta(hours=offset * time_delta)\n",
    "        en = end_time   + timedelta(hours=offset * time_delta)\n",
    "        serum = window_mean(lab_itemids[0], st, en)\n",
    "        if serum is not None:\n",
    "            return serum\n",
    "        wb = window_mean(lab_itemids[1], st, en)\n",
    "        if wb is not None:\n",
    "            return wb\n",
    "\n",
    "    # 3) Nothing found\n",
    "    return 0.0"
   ]
  },
  {
   "cell_type": "code",
   "execution_count": 31,
   "id": "e55d62fa-ecfa-4561-94c0-f905e5d7b9a1",
   "metadata": {},
   "outputs": [],
   "source": [
    "def find_sandwich(patient_labs, patient_meds, admittime, lab_itemids, time_delta, med_itemid):\n",
    "    \"\"\"\n",
    "    For each KCl dose in patient_meds, interpolate the potassium lab\n",
    "    in the 4h window *before* the dose and the 4h window *after*.\n",
    "    Returns a list of tuples:\n",
    "        (dose_amount, K_before, K_after)\n",
    "    \"\"\"\n",
    "    sandwiches = []\n",
    "    for _, row_med in patient_meds[patient_meds['itemid']==med_itemid].iterrows():\n",
    "        t = row_med['starttime']\n",
    "        # before window = [t - time_delta, t)\n",
    "        K_before = interpolate_K_lab(\n",
    "            patient_labs, \n",
    "            t - timedelta(hours=time_delta), t,\n",
    "            lab_itemids, time_delta\n",
    "        )\n",
    "        # after  window = [t, t + time_delta)\n",
    "        K_after  = interpolate_K_lab(\n",
    "            patient_labs, \n",
    "            t, t + timedelta(hours=time_delta),\n",
    "            lab_itemids, time_delta\n",
    "        )\n",
    "        if not np.isnan(K_before) and not np.isnan(K_after):\n",
    "            sandwiches.append((row_med['dose_bucket'], K_before, K_after))\n",
    "    return sandwiches"
   ]
  },
  {
   "cell_type": "code",
   "execution_count": 32,
   "id": "1c732341-9b18-47db-955a-7b89eb567edd",
   "metadata": {},
   "outputs": [],
   "source": [
    "def interpolate_offset(labs, anchor_time, time_delta, direction='after'):\n",
    "    \"\"\"\n",
    "    Search ±1 or ±2 bins from anchor_time for a lab value.\n",
    "    direction='after' looks at [anchor+4h, anchor+8h], etc.\n",
    "    direction='before' looks at [anchor-4h, anchor), [anchor-8h, anchor-4h].\n",
    "    Returns (mean_value, offset) or (np.nan, None) if none found.\n",
    "    \"\"\"\n",
    "    for off in (1, 2, 3):\n",
    "        if direction == 'after':\n",
    "            st = anchor_time + timedelta(hours=off * time_delta)\n",
    "            en = st + timedelta(hours=time_delta)\n",
    "        else:  # 'before'\n",
    "            en = anchor_time - timedelta(hours=(off - 1) * time_delta)\n",
    "            st = en - timedelta(hours=time_delta)\n",
    "        window = labs[(labs['charttime'] >= st) & (labs['charttime'] < en)]\n",
    "        if not window.empty:\n",
    "            return window['valuenum'].max(), off\n",
    "    return 0.0, 0"
   ]
  },
  {
   "cell_type": "code",
   "execution_count": 33,
   "id": "0adb0b21-c28c-4a7d-919f-26db15ca8527",
   "metadata": {},
   "outputs": [],
   "source": [
    "def get_before_after(labs, start, end, med_time, time_delta):\n",
    "    \"\"\"\n",
    "    Returns (lab_before, lab_after, offset), or (np.nan, np.nan, None) if missing.\n",
    "    Uses interpolate_offset() for the ±1/±2‐bin searches.\n",
    "    \"\"\"\n",
    "    offset = 0\n",
    "    w = labs[(labs['charttime'] >= start) & (labs['charttime'] < end)]\n",
    "\n",
    "    bef = w[w['charttime'] < med_time]\n",
    "    if not bef.empty:\n",
    "        lab_before = bef.iloc[-1]['valuenum']\n",
    "    else:\n",
    "        lab_before, _ = interpolate_offset(labs, start, time_delta, direction='before')\n",
    "\n",
    "    aft = w[w['charttime'] >= (med_time + timedelta(minutes=30))]\n",
    "    if not aft.empty:\n",
    "        lab_after = aft.iloc[0]['valuenum']\n",
    "        offset = 0\n",
    "    else:\n",
    "        lab_after, offset = interpolate_offset(labs, end, time_delta, direction='after')\n",
    "\n",
    "    return lab_before, lab_after, offset\n"
   ]
  },
  {
   "cell_type": "code",
   "execution_count": 34,
   "id": "dd311efe-d833-4006-9949-51b06833b46b",
   "metadata": {},
   "outputs": [],
   "source": [
    "def is_sparse(stay_states,\n",
    "              stay_actions,\n",
    "              min_steps=6,\n",
    "              min_lab_ratio=0.6,    # ≥60 % bins have lab_before > 0\n",
    "              min_act_ratio=1/12):  # ≥1/12 bins have action > 0\n",
    "    \"\"\"\n",
    "    Returns True  ⇐  stay should be DROPPED.\n",
    "    Criteria (all must fail → drop):\n",
    "\n",
    "      1) T = len(stay_states)  must be ≥ min_steps\n",
    "      2) (lab_before > 0) fraction ≥ min_lab_ratio\n",
    "      3) (action  > 0)   fraction ≥ min_act_ratio\n",
    "    \"\"\"\n",
    "    T = len(stay_states)\n",
    "    if T < min_steps:\n",
    "        return True\n",
    "\n",
    "    arr = np.asarray(stay_states, dtype=float)\n",
    "    lab_before = arr[:, 3]                         # column 3\n",
    "    lab_ratio  = (lab_before > 0.0).mean()\n",
    "\n",
    "    actions = np.asarray(stay_actions, dtype=float)\n",
    "    act_ratio = (actions > 0.0).mean()             # non-zero doses\n",
    "\n",
    "    return (lab_ratio < min_lab_ratio) or (act_ratio < min_act_ratio)\n"
   ]
  },
  {
   "cell_type": "markdown",
   "id": "30325db5-c77d-440f-a062-1fbf466978aa",
   "metadata": {},
   "source": [
    "#### create fn"
   ]
  },
  {
   "cell_type": "code",
   "execution_count": 35,
   "id": "f812b6d7-91bc-46f1-8839-4a838672f705",
   "metadata": {},
   "outputs": [],
   "source": [
    "import numpy as np\n",
    "from datetime import datetime, timedelta\n",
    "\n",
    "gamma = 0.99  # discount for delayed lab rewards\n",
    "\n",
    "#Features configuration\n",
    "standard_features = ['age', 'gender', 'weight']\n",
    "lab_itemids = [227442, 227464]  # Potassium serum and whole blood item IDs\n",
    "med_itemid = 225166  # Potassium Chloride item ID\n",
    "\n",
    "time_delta = 4  # hours\n",
    "\n",
    "def construct_trajectory(subject_id):\n",
    "    # Get patient static info\n",
    "    patient_info = get_patient_info(subject_id)\n",
    "\n",
    "    # Get all labs and meds for this patient\n",
    "    patient_labs_all = labs_taken[labs_taken['subject_id']==subject_id].copy()\n",
    "    patient_meds_all = meds_admin[meds_admin['subject_id']==subject_id].copy()\n",
    "\n",
    "    # parse timestamps once\n",
    "    if not patient_labs_all.empty and isinstance(patient_labs_all['charttime'].iloc[0], str):\n",
    "        patient_labs_all['charttime'] = pd.to_datetime(patient_labs_all['charttime'])\n",
    "    if not patient_meds_all.empty and isinstance(patient_meds_all['starttime'].iloc[0], str):\n",
    "        patient_meds_all['starttime'] = pd.to_datetime(patient_meds_all['starttime'])\n",
    "\n",
    "    # trajectory accumulators\n",
    "    patient_states = []\n",
    "    patient_actions = []\n",
    "    patient_rewards = []\n",
    "\n",
    "    hadms = patient_labs_all['hadm_id'].unique()\n",
    "    print(f\"Subject {subject_id} has {len(hadms)} stays with atleast one lab\")\n",
    "\n",
    "    # loop each hospital stay\n",
    "    for hadm_id in hadms:\n",
    "        \n",
    "        stay_states = []\n",
    "        stay_actions = []\n",
    "        stay_rewards = []\n",
    "    \n",
    "        labs = patient_labs_all[patient_labs_all['hadm_id']==hadm_id].copy()\n",
    "        meds = patient_meds_all[patient_meds_all['hadm_id']==hadm_id].copy()\n",
    "\n",
    "        admission = admissions[admissions['hadm_id']==hadm_id]\n",
    "        admittime = datetime.strptime(admission['admittime'].item(), \"%Y-%m-%d %H:%M:%S\")\n",
    "        dischtime = datetime.strptime(admission['dischtime'].item(), \"%Y-%m-%d %H:%M:%S\")\n",
    "\n",
    "        #restrict to stay window\n",
    "        labs = labs[(labs['charttime'] >= admittime) & (labs['charttime'] <= dischtime)]\n",
    "        meds = meds[(meds['starttime'] >= admittime) & (meds['starttime'] <= dischtime)]\n",
    "\n",
    "        #skip if no labs or meds in the whole STAY\n",
    "        if labs.empty:\n",
    "            #print(f\"Stay {hadm_id}: no labs, skipping\")\n",
    "            continue\n",
    "        if meds.empty:\n",
    "            #print(f\"Stay {hadm_id}: no meds, skipping\")\n",
    "            continue\n",
    "\n",
    "        last_lab_time = labs['charttime'].max()\n",
    "        effective_end_time = min(last_lab_time, dischtime)\n",
    "\n",
    "        #compute how many 4h intervals fit in the stay\n",
    "        total_hours = int((effective_end_time - admittime).total_seconds() / 3600)\n",
    "        n_intervals = total_hours // time_delta\n",
    "        \n",
    "        # per-stay interval counters\n",
    "        total_intervals = 0\n",
    "        skipped_intervals = 0\n",
    "\n",
    "        for i in range(n_intervals):\n",
    "            total_intervals += 1\n",
    "\n",
    "            start = admittime + timedelta(hours=i * time_delta)\n",
    "            end   = start   + timedelta(hours=time_delta)\n",
    "\n",
    "            # 1) action & med_time\n",
    "            window_meds = meds[(meds['starttime'] >= start) & (meds['starttime'] < end)]\n",
    "            if not window_meds.empty:\n",
    "                action = int(window_meds['dose_bucket'].max()) #maybe sum is more appropriate here\n",
    "                med_time = window_meds['starttime'].iloc[0]\n",
    "            else:\n",
    "                action = 0\n",
    "                med_time = end\n",
    "\n",
    "            # 2) lab_window & skip check\n",
    "            window_labs = labs[(labs['charttime'] >= start) & (labs['charttime'] < end)]\n",
    "\n",
    "            if window_labs.empty:\n",
    "                K_interp = interpolate_K_lab(labs, start, end, lab_itemids, time_delta)\n",
    "\n",
    "            # 3) find before/after labs\n",
    "            lab_before, lab_after, offset = get_before_after(\n",
    "                labs, start, end, med_time, time_delta\n",
    "            )\n",
    "            if np.isnan(lab_before): \n",
    "                print(\"before is null for interval \", i)\n",
    "                skipped_intervals += 1\n",
    "                continue\n",
    "            if np.isnan(lab_after):\n",
    "                #print(\"after is null for interval \", i)\n",
    "                skipped_intervals += 1\n",
    "                continue\n",
    "\n",
    "            # 4) build state/action/reward\n",
    "            # after labs & meds are subset for hadm_id\n",
    "            extra_covariates = all_labs[\n",
    "                (all_labs['subject_id'] == subject_id) &\n",
    "                (all_labs['hadm_id']    == hadm_id)\n",
    "            ]\n",
    "            extra = get_extra_measurements(extra_covariates, start, end, dt_hours=time_delta)\n",
    "            stay_states.append([\n",
    "                patient_info['age'],\n",
    "                patient_info['gender'],\n",
    "                patient_info['weight'],\n",
    "                lab_before,\n",
    "                *extra.values()\n",
    "            ])\n",
    "            stay_actions.append(action)\n",
    "            reward = potassium_reward(lab_after, mu=4.25, sigma=0.5)\n",
    "            reward *= 100\n",
    "            if offset:\n",
    "                reward *= (gamma ** offset)\n",
    "            stay_rewards.append(reward)\n",
    "\n",
    "        if stay_states:\n",
    "            if is_sparse(stay_states, stay_actions):                  \n",
    "                print(f\"Stay {hadm_id}: sparse → dropped\")\n",
    "                continue \n",
    "            patient_states.append(stay_states)\n",
    "            patient_actions.append(stay_actions)\n",
    "            patient_rewards.append(stay_rewards)\n",
    "        #print(f\"Stay {hadm_id}: skipped {skipped_intervals}/{total_intervals} intervals\")\n",
    "\n",
    "    return patient_states, patient_actions, patient_rewards\n"
   ]
  },
  {
   "cell_type": "markdown",
   "id": "37a06c6c-a786-403e-a13c-bc35f161d49f",
   "metadata": {},
   "source": [
    "### Single patient testing\n",
    "now for debugging purposes"
   ]
  },
  {
   "cell_type": "code",
   "execution_count": 36,
   "id": "444622d7-11ef-46f3-a36e-31d9acd38189",
   "metadata": {},
   "outputs": [],
   "source": [
    "test_id = 10002013\n",
    "test_hadm_id = 20321825"
   ]
  },
  {
   "cell_type": "code",
   "execution_count": 37,
   "id": "190ac489-f585-4329-bcc3-4382799553bd",
   "metadata": {},
   "outputs": [
    {
     "data": {
      "text/plain": [
       "{'age': 53, 'gender': 1, 'weight': np.float64(96.0)}"
      ]
     },
     "execution_count": 37,
     "metadata": {},
     "output_type": "execute_result"
    }
   ],
   "source": [
    "patient_meds_all = meds_admin[meds_admin['subject_id'] == test_id].copy()\n",
    "patient_meds_all.shape\n",
    "patient_meds_all.head(3)\n",
    "patient_labs_check = labs_taken[labs_taken['hadm_id'] == test_hadm_id].copy()\n",
    "patient_labs_check.head(5)\n",
    "patient_labs_check.shape\n",
    "patient_info = get_patient_info(test_id)\n",
    "patient_info"
   ]
  },
  {
   "cell_type": "markdown",
   "id": "9b91028b-540e-4305-9fb9-e360fa9c7586",
   "metadata": {},
   "source": [
    "#### test traj"
   ]
  },
  {
   "cell_type": "code",
   "execution_count": 38,
   "id": "6d67ce40-0a8b-49df-8fd3-f92305bfa6ea",
   "metadata": {},
   "outputs": [
    {
     "name": "stdout",
     "output_type": "stream",
     "text": [
      "Subject 10002013 has 1 stays with atleast one lab\n",
      "Stay 23581541: sparse → dropped\n"
     ]
    }
   ],
   "source": [
    "states, actions, rewards = construct_trajectory(test_id)"
   ]
  },
  {
   "cell_type": "code",
   "execution_count": 39,
   "id": "d311c928-3e85-49c9-afd9-7c9ecf1be4c3",
   "metadata": {},
   "outputs": [
    {
     "data": {
      "text/plain": [
       "0"
      ]
     },
     "execution_count": 39,
     "metadata": {},
     "output_type": "execute_result"
    }
   ],
   "source": [
    "len(actions)"
   ]
  },
  {
   "cell_type": "code",
   "execution_count": 40,
   "id": "77d7c9dd-a99f-4da9-bbb4-293b696bf1d3",
   "metadata": {},
   "outputs": [
    {
     "data": {
      "image/png": "[encoded data removed]",
      "text/plain": [
       "<Figure size 600x400 with 1 Axes>"
      ]
     },
     "metadata": {},
     "output_type": "display_data"
    }
   ],
   "source": [
    "import matplotlib.pyplot as plt\n",
    "import numpy as np\n",
    "\n",
    "# flatten nested lists/arrays → [0, 10, 0, 20, …]\n",
    "flat_acts = [\n",
    "    int(a[0]) if isinstance(a, (list, np.ndarray)) else int(a)\n",
    "    for sub in actions          # actions = [[0,10,…], [0,0,…], …]  OR [[0], [10], …]\n",
    "    for a in (sub if isinstance(sub, (list, np.ndarray)) else [sub])\n",
    "]\n",
    "\n",
    "acts = np.array(flat_acts, dtype=int)\n",
    "\n",
    "# bucket counts\n",
    "unique_buckets, counts = np.unique(acts, return_counts=True)\n",
    "\n",
    "# bar chart\n",
    "plt.figure(figsize=(6, 4))\n",
    "plt.bar(unique_buckets, counts, width=8, edgecolor='k')\n",
    "plt.xticks([0, 10, 20, 40])\n",
    "plt.xlabel(\"Dose Bucket\")\n",
    "plt.ylabel(\"Frequency\")\n",
    "plt.title(f\"Histogram of Observed Actions for Patient {test_id}\")\n",
    "plt.tight_layout()\n",
    "plt.show()\n"
   ]
  },
  {
   "cell_type": "markdown",
   "id": "20accf95-9382-4ff9-8e3c-f6a708c8efcd",
   "metadata": {},
   "source": [
    "### Test for 10 patients"
   ]
  },
  {
   "cell_type": "code",
   "execution_count": 41,
   "id": "a270b05d-91f3-4d33-80d4-11f530454ad3",
   "metadata": {},
   "outputs": [],
   "source": [
    "train_subject_ids = subject_ids[:200]\n",
    "#test_subject_ids = subject_ids[30:60]"
   ]
  },
  {
   "cell_type": "markdown",
   "id": "732abc0a-a43f-4acb-af66-9146d97715fe",
   "metadata": {},
   "source": [
    "#### Construct trajectories"
   ]
  },
  {
   "cell_type": "code",
   "execution_count": 42,
   "id": "773cbceb-c501-47fd-a7d8-65fdff12712a",
   "metadata": {
    "scrolled": true
   },
   "outputs": [],
   "source": [
    "import tqdm\n",
    "def build_expert_trajectories(subject_ids):\n",
    "    \"\"\"\n",
    "    Collect every *stay* as an individual trajectory.\n",
    "    \"\"\"\n",
    "    trajectory_states = []\n",
    "    trajectory_actions = []\n",
    "    trajectory_rewards = []\n",
    "    trajectory_sum_rewards = []\n",
    "\n",
    "    for subject_id in tqdm.tqdm(subject_ids):\n",
    "        try:\n",
    "            # each is now  [stay1, stay2, …]\n",
    "            states_list, actions_list, rewards_list = construct_trajectory(subject_id)\n",
    "\n",
    "            # ── NEW: push every stay separately ───────────────────────────\n",
    "            for s, a, r in zip(states_list, actions_list, rewards_list):\n",
    "                if s and a and r:\n",
    "                    trajectory_states.append(s)\n",
    "                    trajectory_actions.append(a)\n",
    "                    trajectory_rewards.append(r)\n",
    "                    trajectory_sum_rewards.append(sum(r))\n",
    "            # ──────────────────────────────────────────────────────────────\n",
    "\n",
    "        except Exception as e:\n",
    "            print(f\"Error processing subject {subject_id}: {str(e)}\")\n",
    "            continue\n",
    "\n",
    "    return {\n",
    "        'states'      : trajectory_states,\n",
    "        'actions'     : trajectory_actions,\n",
    "        'rewards'     : trajectory_rewards,\n",
    "        'reward_sum'  : trajectory_sum_rewards\n",
    "    }\n"
   ]
  },
  {
   "cell_type": "code",
   "execution_count": 43,
   "id": "6f472ebb-fc0a-4f13-bfc2-c0788b67f1b5",
   "metadata": {
    "scrolled": true
   },
   "outputs": [
    {
     "name": "stderr",
     "output_type": "stream",
     "text": [
      "  0%|                                                   | 0/200 [00:00<?, ?it/s]"
     ]
    },
    {
     "name": "stdout",
     "output_type": "stream",
     "text": [
      "Subject 10002013 has 1 stays with atleast one lab\n"
     ]
    },
    {
     "name": "stderr",
     "output_type": "stream",
     "text": [
      "  0%|▏                                          | 1/200 [00:00<00:32,  6.07it/s]"
     ]
    },
    {
     "name": "stdout",
     "output_type": "stream",
     "text": [
      "Stay 23581541: sparse → dropped\n",
      "Subject 10002114 has 1 stays with atleast one lab\n"
     ]
    },
    {
     "name": "stderr",
     "output_type": "stream",
     "text": [
      "  1%|▍                                          | 2/200 [00:00<00:50,  3.92it/s]"
     ]
    },
    {
     "name": "stdout",
     "output_type": "stream",
     "text": [
      "Subject 10002428 has 3 stays with atleast one lab\n",
      "Stay 23473524: sparse → dropped\n"
     ]
    },
    {
     "name": "stderr",
     "output_type": "stream",
     "text": [
      "  2%|▋                                          | 3/200 [00:04<06:34,  2.00s/it]"
     ]
    },
    {
     "name": "stdout",
     "output_type": "stream",
     "text": [
      "Stay 28662225: sparse → dropped\n",
      "Subject 10002430 has 1 stays with atleast one lab\n"
     ]
    },
    {
     "name": "stderr",
     "output_type": "stream",
     "text": [
      "  2%|▊                                          | 4/200 [00:04<04:25,  1.35s/it]"
     ]
    },
    {
     "name": "stdout",
     "output_type": "stream",
     "text": [
      "Stay 26295318: sparse → dropped\n",
      "Subject 10002495 has 1 stays with atleast one lab\n"
     ]
    },
    {
     "name": "stderr",
     "output_type": "stream",
     "text": [
      "  2%|█                                          | 5/200 [00:05<03:35,  1.11s/it]"
     ]
    },
    {
     "name": "stdout",
     "output_type": "stream",
     "text": [
      "Stay 24982426: sparse → dropped\n",
      "Subject 10002667 has 1 stays with atleast one lab\n"
     ]
    },
    {
     "name": "stderr",
     "output_type": "stream",
     "text": [
      "  4%|█▌                                         | 7/200 [00:05<01:54,  1.68it/s]"
     ]
    },
    {
     "name": "stdout",
     "output_type": "stream",
     "text": [
      "Subject 10002760 has 1 stays with atleast one lab\n",
      "Subject 10003019 has 1 stays with atleast one lab\n",
      "Stay 22774359: sparse → dropped\n",
      "Subject 10003400 has 2 stays with atleast one lab\n",
      "Stay 20214994: sparse → dropped\n"
     ]
    },
    {
     "name": "stderr",
     "output_type": "stream",
     "text": [
      "  4%|█▉                                         | 9/200 [00:13<07:02,  2.21s/it]"
     ]
    },
    {
     "name": "stdout",
     "output_type": "stream",
     "text": [
      "Stay 23559586: sparse → dropped\n",
      "Subject 10004235 has 1 stays with atleast one lab\n"
     ]
    },
    {
     "name": "stderr",
     "output_type": "stream",
     "text": [
      "  5%|██                                        | 10/200 [00:14<05:47,  1.83s/it]"
     ]
    },
    {
     "name": "stdout",
     "output_type": "stream",
     "text": [
      "Subject 10004401 has 7 stays with atleast one lab\n",
      "Stay 23920883: sparse → dropped\n",
      "Stay 27939719: sparse → dropped\n"
     ]
    },
    {
     "name": "stderr",
     "output_type": "stream",
     "text": [
      "  6%|██▎                                       | 11/200 [00:18<07:56,  2.52s/it]"
     ]
    },
    {
     "name": "stdout",
     "output_type": "stream",
     "text": [
      "Stay 29988601: sparse → dropped\n",
      "Subject 10004422 has 1 stays with atleast one lab\n"
     ]
    },
    {
     "name": "stderr",
     "output_type": "stream",
     "text": [
      "  6%|██▌                                       | 12/200 [00:20<06:48,  2.17s/it]"
     ]
    },
    {
     "name": "stdout",
     "output_type": "stream",
     "text": [
      "Stay 21255400: sparse → dropped\n",
      "Subject 10004457 has 1 stays with atleast one lab\n",
      "Stay 23251352: sparse → dropped\n",
      "Subject 10004606 has 1 stays with atleast one lab\n"
     ]
    },
    {
     "name": "stderr",
     "output_type": "stream",
     "text": [
      "  7%|██▉                                       | 14/200 [00:21<04:16,  1.38s/it]"
     ]
    },
    {
     "name": "stdout",
     "output_type": "stream",
     "text": [
      "Stay 29242151: sparse → dropped\n",
      "Subject 10004720 has 1 stays with atleast one lab\n"
     ]
    },
    {
     "name": "stderr",
     "output_type": "stream",
     "text": [
      "  8%|███▏                                      | 15/200 [00:21<03:45,  1.22s/it]"
     ]
    },
    {
     "name": "stdout",
     "output_type": "stream",
     "text": [
      "Stay 22081550: sparse → dropped\n",
      "Subject 10004733 has 1 stays with atleast one lab\n"
     ]
    },
    {
     "name": "stderr",
     "output_type": "stream",
     "text": [
      "  8%|███▎                                      | 16/200 [00:22<03:41,  1.20s/it]"
     ]
    },
    {
     "name": "stdout",
     "output_type": "stream",
     "text": [
      "Stay 27411876: sparse → dropped\n",
      "Subject 10004764 has 1 stays with atleast one lab\n"
     ]
    },
    {
     "name": "stderr",
     "output_type": "stream",
     "text": [
      "  8%|███▌                                      | 17/200 [00:23<03:02,  1.00it/s]"
     ]
    },
    {
     "name": "stdout",
     "output_type": "stream",
     "text": [
      "Subject 10005348 has 1 stays with atleast one lab\n"
     ]
    },
    {
     "name": "stderr",
     "output_type": "stream",
     "text": [
      "  9%|███▊                                      | 18/200 [00:23<02:30,  1.21it/s]"
     ]
    },
    {
     "name": "stdout",
     "output_type": "stream",
     "text": [
      "Subject 10005817 has 2 stays with atleast one lab\n",
      "Stay 20626031: sparse → dropped\n"
     ]
    },
    {
     "name": "stderr",
     "output_type": "stream",
     "text": [
      " 10%|███▉                                      | 19/200 [00:27<04:52,  1.61s/it]"
     ]
    },
    {
     "name": "stdout",
     "output_type": "stream",
     "text": [
      "Stay 28661809: sparse → dropped\n",
      "Subject 10005866 has 1 stays with atleast one lab\n"
     ]
    },
    {
     "name": "stderr",
     "output_type": "stream",
     "text": [
      " 10%|████▏                                     | 20/200 [00:27<03:48,  1.27s/it]"
     ]
    },
    {
     "name": "stdout",
     "output_type": "stream",
     "text": [
      "Subject 10005909 has 1 stays with atleast one lab\n"
     ]
    },
    {
     "name": "stderr",
     "output_type": "stream",
     "text": [
      " 10%|████▍                                     | 21/200 [00:28<03:16,  1.10s/it]"
     ]
    },
    {
     "name": "stdout",
     "output_type": "stream",
     "text": [
      "Stay 20199380: sparse → dropped\n",
      "Subject 10006131 has 1 stays with atleast one lab\n"
     ]
    },
    {
     "name": "stderr",
     "output_type": "stream",
     "text": [
      " 11%|████▌                                     | 22/200 [00:28<02:29,  1.19it/s]"
     ]
    },
    {
     "name": "stdout",
     "output_type": "stream",
     "text": [
      "Subject 10006821 has 1 stays with atleast one lab\n",
      "Stay 23295760: sparse → dropped\n",
      "Subject 10007795 has 1 stays with atleast one lab\n",
      "Subject 10007928 has 1 stays with atleast one lab\n"
     ]
    },
    {
     "name": "stderr",
     "output_type": "stream",
     "text": [
      " 13%|█████▍                                    | 26/200 [00:29<01:09,  2.51it/s]"
     ]
    },
    {
     "name": "stdout",
     "output_type": "stream",
     "text": [
      "Stay 20338077: sparse → dropped\n",
      "Subject 10008287 has 1 stays with atleast one lab\n",
      "Stay 22168393: sparse → dropped\n"
     ]
    },
    {
     "name": "stderr",
     "output_type": "stream",
     "text": [
      " 14%|█████▋                                    | 27/200 [00:29<00:57,  3.00it/s]"
     ]
    },
    {
     "name": "stdout",
     "output_type": "stream",
     "text": [
      "Subject 10009035 has 1 stays with atleast one lab\n",
      "Stay 28324362: sparse → dropped\n",
      "Subject 10009628 has 1 stays with atleast one lab\n"
     ]
    },
    {
     "name": "stderr",
     "output_type": "stream",
     "text": [
      " 14%|█████▉                                    | 28/200 [00:29<01:08,  2.51it/s]"
     ]
    },
    {
     "name": "stdout",
     "output_type": "stream",
     "text": [
      "Stay 25926192: sparse → dropped\n",
      "Subject 10009711 has 1 stays with atleast one lab\n"
     ]
    },
    {
     "name": "stderr",
     "output_type": "stream",
     "text": [
      " 14%|██████                                    | 29/200 [00:30<01:35,  1.79it/s]"
     ]
    },
    {
     "name": "stdout",
     "output_type": "stream",
     "text": [
      "Stay 23299685: sparse → dropped\n",
      "Subject 10010867 has 1 stays with atleast one lab\n"
     ]
    },
    {
     "name": "stderr",
     "output_type": "stream",
     "text": [
      " 15%|██████▎                                   | 30/200 [00:32<02:19,  1.22it/s]"
     ]
    },
    {
     "name": "stdout",
     "output_type": "stream",
     "text": [
      "Subject 10011352 has 1 stays with atleast one lab\n"
     ]
    },
    {
     "name": "stderr",
     "output_type": "stream",
     "text": [
      " 16%|██████▌                                   | 31/200 [00:34<03:06,  1.11s/it]"
     ]
    },
    {
     "name": "stdout",
     "output_type": "stream",
     "text": [
      "Stay 29927609: sparse → dropped\n",
      "Subject 10011365 has 1 stays with atleast one lab\n"
     ]
    },
    {
     "name": "stderr",
     "output_type": "stream",
     "text": [
      " 16%|██████▉                                   | 33/200 [00:35<02:17,  1.21it/s]"
     ]
    },
    {
     "name": "stdout",
     "output_type": "stream",
     "text": [
      "Subject 10011398 has 1 stays with atleast one lab\n",
      "Stay 27505812: sparse → dropped\n",
      "Subject 10011427 has 2 stays with atleast one lab\n",
      "Stay 20219031: sparse → dropped\n"
     ]
    },
    {
     "name": "stderr",
     "output_type": "stream",
     "text": [
      " 17%|███████▏                                  | 34/200 [00:41<06:24,  2.32s/it]"
     ]
    },
    {
     "name": "stdout",
     "output_type": "stream",
     "text": [
      "Stay 22216667: sparse → dropped\n",
      "Subject 10011938 has 4 stays with atleast one lab\n"
     ]
    },
    {
     "name": "stderr",
     "output_type": "stream",
     "text": [
      " 18%|███████▎                                  | 35/200 [00:44<07:15,  2.64s/it]"
     ]
    },
    {
     "name": "stdout",
     "output_type": "stream",
     "text": [
      "Stay 23798746: sparse → dropped\n",
      "Subject 10012055 has 1 stays with atleast one lab\n"
     ]
    },
    {
     "name": "stderr",
     "output_type": "stream",
     "text": [
      " 18%|███████▌                                  | 36/200 [00:45<05:37,  2.06s/it]"
     ]
    },
    {
     "name": "stdout",
     "output_type": "stream",
     "text": [
      "Stay 26779316: sparse → dropped\n",
      "Subject 10012206 has 1 stays with atleast one lab\n",
      "Subject 10012552 has 1 stays with atleast one lab\n"
     ]
    },
    {
     "name": "stderr",
     "output_type": "stream",
     "text": [
      " 20%|████████▏                                 | 39/200 [00:46<02:46,  1.03s/it]"
     ]
    },
    {
     "name": "stdout",
     "output_type": "stream",
     "text": [
      "Stay 27089790: sparse → dropped\n",
      "Subject 10013049 has 1 stays with atleast one lab\n",
      "Stay 22675517: sparse → dropped\n",
      "Subject 10013569 has 1 stays with atleast one lab\n"
     ]
    },
    {
     "name": "stderr",
     "output_type": "stream",
     "text": [
      " 20%|████████▍                                 | 40/200 [00:52<05:50,  2.19s/it]"
     ]
    },
    {
     "name": "stdout",
     "output_type": "stream",
     "text": [
      "Stay 27993048: sparse → dropped\n",
      "Subject 10013643 has 1 stays with atleast one lab\n"
     ]
    },
    {
     "name": "stderr",
     "output_type": "stream",
     "text": [
      " 20%|████████▌                                 | 41/200 [00:53<04:55,  1.86s/it]"
     ]
    },
    {
     "name": "stdout",
     "output_type": "stream",
     "text": [
      "Subject 10014078 has 1 stays with atleast one lab\n"
     ]
    },
    {
     "name": "stderr",
     "output_type": "stream",
     "text": [
      " 21%|████████▊                                 | 42/200 [00:53<03:47,  1.44s/it]"
     ]
    },
    {
     "name": "stdout",
     "output_type": "stream",
     "text": [
      "Subject 10014610 has 2 stays with atleast one lab\n"
     ]
    },
    {
     "name": "stderr",
     "output_type": "stream",
     "text": [
      " 22%|█████████                                 | 43/200 [00:54<03:17,  1.26s/it]"
     ]
    },
    {
     "name": "stdout",
     "output_type": "stream",
     "text": [
      "Stay 23258342: sparse → dropped\n",
      "Subject 10014652 has 1 stays with atleast one lab\n"
     ]
    },
    {
     "name": "stderr",
     "output_type": "stream",
     "text": [
      " 22%|█████████▏                                | 44/200 [00:54<02:31,  1.03it/s]"
     ]
    },
    {
     "name": "stdout",
     "output_type": "stream",
     "text": [
      "Stay 25833444: sparse → dropped\n",
      "Subject 10014729 has 1 stays with atleast one lab\n"
     ]
    },
    {
     "name": "stderr",
     "output_type": "stream",
     "text": [
      " 22%|█████████▍                                | 45/200 [00:54<02:03,  1.25it/s]"
     ]
    },
    {
     "name": "stdout",
     "output_type": "stream",
     "text": [
      "Subject 10015860 has 2 stays with atleast one lab\n",
      "Stay 25085565: sparse → dropped\n",
      "Subject 10015931 has 3 stays with atleast one lab\n"
     ]
    },
    {
     "name": "stderr",
     "output_type": "stream",
     "text": [
      " 24%|█████████▊                                | 47/200 [00:55<01:31,  1.68it/s]"
     ]
    },
    {
     "name": "stdout",
     "output_type": "stream",
     "text": [
      "Stay 22130791: sparse → dropped\n",
      "Subject 10016742 has 3 stays with atleast one lab\n",
      "Stay 27568122: sparse → dropped\n"
     ]
    },
    {
     "name": "stderr",
     "output_type": "stream",
     "text": [
      " 24%|██████████                                | 48/200 [00:56<01:35,  1.60it/s]"
     ]
    },
    {
     "name": "stdout",
     "output_type": "stream",
     "text": [
      "Stay 28506150: sparse → dropped\n",
      "Subject 10016810 has 1 stays with atleast one lab\n"
     ]
    },
    {
     "name": "stderr",
     "output_type": "stream",
     "text": [
      " 24%|██████████▎                               | 49/200 [00:56<01:21,  1.85it/s]"
     ]
    },
    {
     "name": "stdout",
     "output_type": "stream",
     "text": [
      "Subject 10017285 has 1 stays with atleast one lab\n"
     ]
    },
    {
     "name": "stderr",
     "output_type": "stream",
     "text": [
      " 25%|██████████▌                               | 50/200 [00:57<01:26,  1.74it/s]"
     ]
    },
    {
     "name": "stdout",
     "output_type": "stream",
     "text": [
      "Subject 10017437 has 1 stays with atleast one lab\n"
     ]
    },
    {
     "name": "stderr",
     "output_type": "stream",
     "text": [
      " 26%|██████████▋                               | 51/200 [00:58<01:37,  1.53it/s]"
     ]
    },
    {
     "name": "stdout",
     "output_type": "stream",
     "text": [
      "Stay 28440971: sparse → dropped\n",
      "Subject 10017492 has 1 stays with atleast one lab\n",
      "Subject 10017531 has 3 stays with atleast one lab\n"
     ]
    },
    {
     "name": "stderr",
     "output_type": "stream",
     "text": [
      " 26%|███████████▏                              | 53/200 [01:12<08:25,  3.44s/it]"
     ]
    },
    {
     "name": "stdout",
     "output_type": "stream",
     "text": [
      "Stay 22580355: sparse → dropped\n",
      "Stay 27635105: sparse → dropped\n",
      "Subject 10017679 has 1 stays with atleast one lab\n"
     ]
    },
    {
     "name": "stderr",
     "output_type": "stream",
     "text": [
      " 27%|███████████▎                              | 54/200 [01:12<06:50,  2.81s/it]"
     ]
    },
    {
     "name": "stdout",
     "output_type": "stream",
     "text": [
      "Subject 10018081 has 2 stays with atleast one lab\n"
     ]
    },
    {
     "name": "stderr",
     "output_type": "stream",
     "text": [
      " 28%|███████████▌                              | 55/200 [01:16<07:03,  2.92s/it]"
     ]
    },
    {
     "name": "stdout",
     "output_type": "stream",
     "text": [
      "Stay 28861356: sparse → dropped\n",
      "Subject 10018328 has 2 stays with atleast one lab\n"
     ]
    },
    {
     "name": "stderr",
     "output_type": "stream",
     "text": [
      " 28%|███████████▊                              | 56/200 [01:17<06:06,  2.55s/it]"
     ]
    },
    {
     "name": "stdout",
     "output_type": "stream",
     "text": [
      "Subject 10018423 has 1 stays with atleast one lab\n"
     ]
    },
    {
     "name": "stderr",
     "output_type": "stream",
     "text": [
      " 28%|███████████▉                              | 57/200 [01:18<04:42,  1.97s/it]"
     ]
    },
    {
     "name": "stdout",
     "output_type": "stream",
     "text": [
      "Stay 29366372: sparse → dropped\n",
      "Subject 10019003 has 3 stays with atleast one lab\n",
      "Stay 27525946: sparse → dropped\n"
     ]
    },
    {
     "name": "stderr",
     "output_type": "stream",
     "text": [
      " 29%|████████████▏                             | 58/200 [01:19<04:02,  1.70s/it]"
     ]
    },
    {
     "name": "stdout",
     "output_type": "stream",
     "text": [
      "Subject 10019172 has 1 stays with atleast one lab\n"
     ]
    },
    {
     "name": "stderr",
     "output_type": "stream",
     "text": [
      " 30%|████████████▍                             | 59/200 [01:19<03:16,  1.39s/it]"
     ]
    },
    {
     "name": "stdout",
     "output_type": "stream",
     "text": [
      "Subject 10019777 has 1 stays with atleast one lab\n"
     ]
    },
    {
     "name": "stderr",
     "output_type": "stream",
     "text": [
      " 30%|████████████▌                             | 60/200 [01:20<02:59,  1.28s/it]"
     ]
    },
    {
     "name": "stdout",
     "output_type": "stream",
     "text": [
      "Stay 27738145: sparse → dropped\n",
      "Subject 10019957 has 1 stays with atleast one lab\n"
     ]
    },
    {
     "name": "stderr",
     "output_type": "stream",
     "text": [
      " 30%|████████████▊                             | 61/200 [01:21<02:16,  1.02it/s]"
     ]
    },
    {
     "name": "stdout",
     "output_type": "stream",
     "text": [
      "Subject 10020187 has 2 stays with atleast one lab\n"
     ]
    },
    {
     "name": "stderr",
     "output_type": "stream",
     "text": [
      " 31%|█████████████                             | 62/200 [01:21<02:10,  1.06it/s]"
     ]
    },
    {
     "name": "stdout",
     "output_type": "stream",
     "text": [
      "Subject 10020349 has 1 stays with atleast one lab\n"
     ]
    },
    {
     "name": "stderr",
     "output_type": "stream",
     "text": [
      " 32%|█████████████▏                            | 63/200 [01:23<02:29,  1.09s/it]"
     ]
    },
    {
     "name": "stdout",
     "output_type": "stream",
     "text": [
      "Stay 21891870: sparse → dropped\n",
      "Subject 10020640 has 1 stays with atleast one lab\n"
     ]
    },
    {
     "name": "stderr",
     "output_type": "stream",
     "text": [
      " 32%|█████████████▍                            | 64/200 [01:23<01:55,  1.18it/s]"
     ]
    },
    {
     "name": "stdout",
     "output_type": "stream",
     "text": [
      "Subject 10020740 has 2 stays with atleast one lab\n"
     ]
    },
    {
     "name": "stderr",
     "output_type": "stream",
     "text": [
      " 32%|█████████████▋                            | 65/200 [01:27<04:09,  1.85s/it]"
     ]
    },
    {
     "name": "stdout",
     "output_type": "stream",
     "text": [
      "Stay 23831430: sparse → dropped\n",
      "Subject 10020944 has 1 stays with atleast one lab\n"
     ]
    },
    {
     "name": "stderr",
     "output_type": "stream",
     "text": [
      " 33%|█████████████▊                            | 66/200 [01:29<03:51,  1.73s/it]"
     ]
    },
    {
     "name": "stdout",
     "output_type": "stream",
     "text": [
      "Stay 29974575: sparse → dropped\n",
      "Subject 10021179 has 1 stays with atleast one lab\n"
     ]
    },
    {
     "name": "stderr",
     "output_type": "stream",
     "text": [
      " 34%|██████████████                            | 67/200 [01:29<03:00,  1.35s/it]"
     ]
    },
    {
     "name": "stdout",
     "output_type": "stream",
     "text": [
      "Stay 27583110: sparse → dropped\n",
      "Subject 10021487 has 2 stays with atleast one lab\n",
      "Stay 27660781: sparse → dropped\n"
     ]
    },
    {
     "name": "stderr",
     "output_type": "stream",
     "text": [
      " 34%|██████████████▎                           | 68/200 [01:33<04:38,  2.11s/it]"
     ]
    },
    {
     "name": "stdout",
     "output_type": "stream",
     "text": [
      "Subject 10021666 has 1 stays with atleast one lab\n",
      "Stay 22756440: sparse → dropped\n",
      "Subject 10021927 has 3 stays with atleast one lab\n"
     ]
    },
    {
     "name": "stderr",
     "output_type": "stream",
     "text": [
      " 35%|██████████████▋                           | 70/200 [01:34<03:06,  1.43s/it]"
     ]
    },
    {
     "name": "stdout",
     "output_type": "stream",
     "text": [
      "Stay 25202388: sparse → dropped\n",
      "Subject 10022017 has 1 stays with atleast one lab\n"
     ]
    },
    {
     "name": "stderr",
     "output_type": "stream",
     "text": [
      " 36%|██████████████▉                           | 71/200 [01:35<02:42,  1.26s/it]"
     ]
    },
    {
     "name": "stdout",
     "output_type": "stream",
     "text": [
      "Subject 10022041 has 1 stays with atleast one lab\n",
      "Stay 28909879: sparse → dropped\n"
     ]
    },
    {
     "name": "stderr",
     "output_type": "stream",
     "text": [
      " 36%|███████████████                           | 72/200 [01:35<02:06,  1.02it/s]"
     ]
    },
    {
     "name": "stdout",
     "output_type": "stream",
     "text": [
      "Subject 10022537 has 1 stays with atleast one lab\n"
     ]
    },
    {
     "name": "stderr",
     "output_type": "stream",
     "text": [
      " 36%|███████████████▎                          | 73/200 [01:43<05:56,  2.81s/it]"
     ]
    },
    {
     "name": "stdout",
     "output_type": "stream",
     "text": [
      "Subject 10022620 has 2 stays with atleast one lab\n"
     ]
    },
    {
     "name": "stderr",
     "output_type": "stream",
     "text": [
      " 37%|███████████████▌                          | 74/200 [01:44<04:42,  2.24s/it]"
     ]
    },
    {
     "name": "stdout",
     "output_type": "stream",
     "text": [
      "Subject 10023117 has 3 stays with atleast one lab\n"
     ]
    },
    {
     "name": "stderr",
     "output_type": "stream",
     "text": [
      " 38%|███████████████▊                          | 75/200 [01:47<05:04,  2.44s/it]"
     ]
    },
    {
     "name": "stdout",
     "output_type": "stream",
     "text": [
      "Stay 28872262: sparse → dropped\n",
      "Subject 10023239 has 2 stays with atleast one lab\n"
     ]
    },
    {
     "name": "stderr",
     "output_type": "stream",
     "text": [
      " 38%|███████████████▉                          | 76/200 [01:47<03:57,  1.91s/it]"
     ]
    },
    {
     "name": "stdout",
     "output_type": "stream",
     "text": [
      "Stay 29295881: sparse → dropped\n",
      "Subject 10023771 has 1 stays with atleast one lab\n"
     ]
    },
    {
     "name": "stderr",
     "output_type": "stream",
     "text": [
      " 38%|████████████████▏                         | 77/200 [01:48<02:56,  1.44s/it]"
     ]
    },
    {
     "name": "stdout",
     "output_type": "stream",
     "text": [
      "Subject 10024331 has 1 stays with atleast one lab\n"
     ]
    },
    {
     "name": "stderr",
     "output_type": "stream",
     "text": [
      " 39%|████████████████▍                         | 78/200 [01:48<02:32,  1.25s/it]"
     ]
    },
    {
     "name": "stdout",
     "output_type": "stream",
     "text": [
      "Stay 22643604: sparse → dropped\n",
      "Subject 10024982 has 1 stays with atleast one lab\n"
     ]
    },
    {
     "name": "stderr",
     "output_type": "stream",
     "text": [
      " 40%|████████████████▌                         | 79/200 [01:52<04:00,  1.98s/it]"
     ]
    },
    {
     "name": "stdout",
     "output_type": "stream",
     "text": [
      "Subject 10025463 has 1 stays with atleast one lab\n",
      "Stay 24470193: sparse → dropped\n",
      "Subject 10025647 has 1 stays with atleast one lab\n"
     ]
    },
    {
     "name": "stderr",
     "output_type": "stream",
     "text": [
      " 40%|█████████████████                         | 81/200 [01:52<02:14,  1.13s/it]"
     ]
    },
    {
     "name": "stdout",
     "output_type": "stream",
     "text": [
      "Stay 28899194: sparse → dropped\n",
      "Subject 10026161 has 1 stays with atleast one lab\n"
     ]
    },
    {
     "name": "stderr",
     "output_type": "stream",
     "text": [
      " 41%|█████████████████▏                        | 82/200 [01:53<01:59,  1.01s/it]"
     ]
    },
    {
     "name": "stdout",
     "output_type": "stream",
     "text": [
      "Subject 10027445 has 2 stays with atleast one lab\n"
     ]
    },
    {
     "name": "stderr",
     "output_type": "stream",
     "text": [
      " 42%|█████████████████▍                        | 83/200 [01:54<01:42,  1.14it/s]"
     ]
    },
    {
     "name": "stdout",
     "output_type": "stream",
     "text": [
      "Subject 10027602 has 2 stays with atleast one lab\n"
     ]
    },
    {
     "name": "stderr",
     "output_type": "stream",
     "text": [
      " 42%|█████████████████▊                        | 85/200 [01:54<01:04,  1.79it/s]"
     ]
    },
    {
     "name": "stdout",
     "output_type": "stream",
     "text": [
      "Stay 21477991: sparse → dropped\n",
      "Subject 10027704 has 1 stays with atleast one lab\n",
      "Error processing subject 10027704: cannot convert float NaN to integer\n",
      "Subject 10027722 has 1 stays with atleast one lab\n"
     ]
    },
    {
     "name": "stderr",
     "output_type": "stream",
     "text": [
      " 44%|██████████████████▎                       | 87/200 [01:54<00:46,  2.45it/s]"
     ]
    },
    {
     "name": "stdout",
     "output_type": "stream",
     "text": [
      "Subject 10027730 has 1 stays with atleast one lab\n",
      "Subject 10029057 has 1 stays with atleast one lab\n"
     ]
    },
    {
     "name": "stderr",
     "output_type": "stream",
     "text": [
      " 44%|██████████████████▍                       | 88/200 [01:55<00:46,  2.41it/s]"
     ]
    },
    {
     "name": "stdout",
     "output_type": "stream",
     "text": [
      "Subject 10029291 has 1 stays with atleast one lab\n"
     ]
    },
    {
     "name": "stderr",
     "output_type": "stream",
     "text": [
      " 44%|██████████████████▋                       | 89/200 [01:57<01:42,  1.09it/s]"
     ]
    },
    {
     "name": "stdout",
     "output_type": "stream",
     "text": [
      "Stay 22205327: sparse → dropped\n",
      "Subject 10029874 has 2 stays with atleast one lab\n"
     ]
    },
    {
     "name": "stderr",
     "output_type": "stream",
     "text": [
      " 45%|██████████████████▉                       | 90/200 [01:57<01:25,  1.29it/s]"
     ]
    },
    {
     "name": "stdout",
     "output_type": "stream",
     "text": [
      "Stay 27592458: sparse → dropped\n",
      "Subject 10030579 has 1 stays with atleast one lab\n"
     ]
    },
    {
     "name": "stderr",
     "output_type": "stream",
     "text": [
      " 46%|███████████████████                       | 91/200 [01:58<01:06,  1.63it/s]"
     ]
    },
    {
     "name": "stdout",
     "output_type": "stream",
     "text": [
      "Subject 10030746 has 1 stays with atleast one lab\n"
     ]
    },
    {
     "name": "stderr",
     "output_type": "stream",
     "text": [
      " 46%|███████████████████▎                      | 92/200 [01:58<00:59,  1.81it/s]"
     ]
    },
    {
     "name": "stdout",
     "output_type": "stream",
     "text": [
      "Stay 22297761: sparse → dropped\n",
      "Subject 10030753 has 7 stays with atleast one lab\n",
      "Stay 20090856: sparse → dropped\n",
      "Stay 21257920: sparse → dropped\n",
      "Stay 27165162: sparse → dropped\n"
     ]
    },
    {
     "name": "stderr",
     "output_type": "stream",
     "text": [
      " 46%|███████████████████▌                      | 93/200 [02:01<02:19,  1.31s/it]"
     ]
    },
    {
     "name": "stdout",
     "output_type": "stream",
     "text": [
      "Stay 27218915: sparse → dropped\n",
      "Subject 10031316 has 1 stays with atleast one lab\n"
     ]
    },
    {
     "name": "stderr",
     "output_type": "stream",
     "text": [
      " 47%|███████████████████▋                      | 94/200 [02:02<01:59,  1.13s/it]"
     ]
    },
    {
     "name": "stdout",
     "output_type": "stream",
     "text": [
      "Stay 27575109: sparse → dropped\n",
      "Subject 10031757 has 1 stays with atleast one lab\n"
     ]
    },
    {
     "name": "stderr",
     "output_type": "stream",
     "text": [
      " 48%|███████████████████▉                      | 95/200 [02:03<01:43,  1.01it/s]"
     ]
    },
    {
     "name": "stdout",
     "output_type": "stream",
     "text": [
      "Stay 28477280: sparse → dropped\n",
      "Subject 10032381 has 1 stays with atleast one lab\n"
     ]
    },
    {
     "name": "stderr",
     "output_type": "stream",
     "text": [
      " 48%|████████████████████▏                     | 96/200 [02:14<06:58,  4.03s/it]"
     ]
    },
    {
     "name": "stdout",
     "output_type": "stream",
     "text": [
      "Stay 20176432: sparse → dropped\n",
      "Subject 10033740 has 1 stays with atleast one lab\n"
     ]
    },
    {
     "name": "stderr",
     "output_type": "stream",
     "text": [
      " 48%|████████████████████▎                     | 97/200 [02:16<05:53,  3.43s/it]"
     ]
    },
    {
     "name": "stdout",
     "output_type": "stream",
     "text": [
      "Subject 10033786 has 1 stays with atleast one lab\n"
     ]
    },
    {
     "name": "stderr",
     "output_type": "stream",
     "text": [
      " 49%|████████████████████▌                     | 98/200 [02:16<04:13,  2.48s/it]"
     ]
    },
    {
     "name": "stdout",
     "output_type": "stream",
     "text": [
      "Subject 10034171 has 1 stays with atleast one lab\n"
     ]
    },
    {
     "name": "stderr",
     "output_type": "stream",
     "text": [
      " 50%|████████████████████▊                     | 99/200 [02:16<03:03,  1.82s/it]"
     ]
    },
    {
     "name": "stdout",
     "output_type": "stream",
     "text": [
      "Stay 28485870: sparse → dropped\n",
      "Subject 10035168 has 2 stays with atleast one lab\n"
     ]
    },
    {
     "name": "stderr",
     "output_type": "stream",
     "text": [
      " 50%|████████████████████▌                    | 100/200 [02:20<03:48,  2.29s/it]"
     ]
    },
    {
     "name": "stdout",
     "output_type": "stream",
     "text": [
      "Stay 26166196: sparse → dropped\n",
      "Subject 10035631 has 1 stays with atleast one lab\n"
     ]
    },
    {
     "name": "stderr",
     "output_type": "stream",
     "text": [
      " 50%|████████████████████▋                    | 101/200 [02:22<03:33,  2.15s/it]"
     ]
    },
    {
     "name": "stdout",
     "output_type": "stream",
     "text": [
      "Subject 10035747 has 1 stays with atleast one lab\n"
     ]
    },
    {
     "name": "stderr",
     "output_type": "stream",
     "text": [
      " 51%|████████████████████▉                    | 102/200 [02:23<03:00,  1.84s/it]"
     ]
    },
    {
     "name": "stdout",
     "output_type": "stream",
     "text": [
      "Subject 10035787 has 1 stays with atleast one lab\n"
     ]
    },
    {
     "name": "stderr",
     "output_type": "stream",
     "text": [
      " 52%|█████████████████████                    | 103/200 [02:23<02:12,  1.37s/it]"
     ]
    },
    {
     "name": "stdout",
     "output_type": "stream",
     "text": [
      "Stay 29728342: sparse → dropped\n",
      "Subject 10035817 has 1 stays with atleast one lab\n"
     ]
    },
    {
     "name": "stderr",
     "output_type": "stream",
     "text": [
      " 52%|█████████████████████▎                   | 104/200 [02:23<01:41,  1.05s/it]"
     ]
    },
    {
     "name": "stdout",
     "output_type": "stream",
     "text": [
      "Subject 10036198 has 1 stays with atleast one lab\n"
     ]
    },
    {
     "name": "stderr",
     "output_type": "stream",
     "text": [
      " 52%|█████████████████████▌                   | 105/200 [02:38<08:20,  5.27s/it]"
     ]
    },
    {
     "name": "stdout",
     "output_type": "stream",
     "text": [
      "Stay 26151575: sparse → dropped\n",
      "Subject 10037473 has 1 stays with atleast one lab\n"
     ]
    },
    {
     "name": "stderr",
     "output_type": "stream",
     "text": [
      " 53%|█████████████████████▋                   | 106/200 [02:39<05:53,  3.76s/it]"
     ]
    },
    {
     "name": "stdout",
     "output_type": "stream",
     "text": [
      "Subject 10037483 has 1 stays with atleast one lab\n"
     ]
    },
    {
     "name": "stderr",
     "output_type": "stream",
     "text": [
      " 54%|██████████████████████▏                  | 108/200 [02:40<03:20,  2.18s/it]"
     ]
    },
    {
     "name": "stdout",
     "output_type": "stream",
     "text": [
      "Subject 10037542 has 2 stays with atleast one lab\n",
      "Error processing subject 10037542: cannot convert float NaN to integer\n",
      "Subject 10037928 has 3 stays with atleast one lab\n"
     ]
    },
    {
     "name": "stderr",
     "output_type": "stream",
     "text": [
      " 55%|██████████████████████▎                  | 109/200 [02:40<02:24,  1.59s/it]"
     ]
    },
    {
     "name": "stdout",
     "output_type": "stream",
     "text": [
      "Stay 22490490: sparse → dropped\n",
      "Stay 24656677: sparse → dropped\n",
      "Subject 10038598 has 1 stays with atleast one lab\n"
     ]
    },
    {
     "name": "stderr",
     "output_type": "stream",
     "text": [
      " 55%|██████████████████████▌                  | 110/200 [02:42<02:36,  1.74s/it]"
     ]
    },
    {
     "name": "stdout",
     "output_type": "stream",
     "text": [
      "Subject 10038688 has 1 stays with atleast one lab\n"
     ]
    },
    {
     "name": "stderr",
     "output_type": "stream",
     "text": [
      " 56%|██████████████████████▊                  | 111/200 [02:45<03:03,  2.06s/it]"
     ]
    },
    {
     "name": "stdout",
     "output_type": "stream",
     "text": [
      "Subject 10038933 has 1 stays with atleast one lab\n"
     ]
    },
    {
     "name": "stderr",
     "output_type": "stream",
     "text": [
      " 56%|██████████████████████▉                  | 112/200 [02:46<02:28,  1.69s/it]"
     ]
    },
    {
     "name": "stdout",
     "output_type": "stream",
     "text": [
      "Subject 10038992 has 1 stays with atleast one lab\n"
     ]
    },
    {
     "name": "stderr",
     "output_type": "stream",
     "text": [
      " 56%|███████████████████████▏                 | 113/200 [02:46<01:48,  1.25s/it]"
     ]
    },
    {
     "name": "stdout",
     "output_type": "stream",
     "text": [
      "Subject 10038999 has 1 stays with atleast one lab\n"
     ]
    },
    {
     "name": "stderr",
     "output_type": "stream",
     "text": [
      " 57%|███████████████████████▎                 | 114/200 [02:48<01:49,  1.28s/it]"
     ]
    },
    {
     "name": "stdout",
     "output_type": "stream",
     "text": [
      "Subject 10039688 has 2 stays with atleast one lab\n",
      "Stay 23371687: sparse → dropped\n"
     ]
    },
    {
     "name": "stderr",
     "output_type": "stream",
     "text": [
      " 57%|███████████████████████▌                 | 115/200 [02:49<01:43,  1.22s/it]"
     ]
    },
    {
     "name": "stdout",
     "output_type": "stream",
     "text": [
      "Subject 10039708 has 6 stays with atleast one lab\n"
     ]
    },
    {
     "name": "stderr",
     "output_type": "stream",
     "text": [
      " 60%|████████████████████████▍                | 119/200 [02:52<01:01,  1.32it/s]"
     ]
    },
    {
     "name": "stdout",
     "output_type": "stream",
     "text": [
      "Subject 10039831 has 1 stays with atleast one lab\n",
      "Subject 10039997 has 1 stays with atleast one lab\n",
      "Stay 24294180: sparse → dropped\n",
      "Subject 10040721 has 1 stays with atleast one lab\n",
      "Subject 10040973 has 1 stays with atleast one lab\n"
     ]
    },
    {
     "name": "stderr",
     "output_type": "stream",
     "text": [
      " 60%|████████████████████████▌                | 120/200 [02:54<01:26,  1.08s/it]"
     ]
    },
    {
     "name": "stdout",
     "output_type": "stream",
     "text": [
      "Subject 10041790 has 1 stays with atleast one lab\n"
     ]
    },
    {
     "name": "stderr",
     "output_type": "stream",
     "text": [
      " 60%|████████████████████████▊                | 121/200 [02:54<01:16,  1.03it/s]"
     ]
    },
    {
     "name": "stdout",
     "output_type": "stream",
     "text": [
      "Stay 28756967: sparse → dropped\n",
      "Subject 10042377 has 1 stays with atleast one lab\n"
     ]
    },
    {
     "name": "stderr",
     "output_type": "stream",
     "text": [
      " 61%|█████████████████████████                | 122/200 [02:55<01:06,  1.17it/s]"
     ]
    },
    {
     "name": "stdout",
     "output_type": "stream",
     "text": [
      "Stay 23081187: sparse → dropped\n",
      "Subject 10043122 has 1 stays with atleast one lab\n"
     ]
    },
    {
     "name": "stderr",
     "output_type": "stream",
     "text": [
      " 62%|█████████████████████████▏               | 123/200 [02:55<00:57,  1.34it/s]"
     ]
    },
    {
     "name": "stdout",
     "output_type": "stream",
     "text": [
      "Subject 10046234 has 2 stays with atleast one lab\n"
     ]
    },
    {
     "name": "stderr",
     "output_type": "stream",
     "text": [
      " 62%|█████████████████████████▍               | 124/200 [02:57<01:18,  1.04s/it]"
     ]
    },
    {
     "name": "stdout",
     "output_type": "stream",
     "text": [
      "Stay 24608062: sparse → dropped\n",
      "Subject 10046298 has 1 stays with atleast one lab\n"
     ]
    },
    {
     "name": "stderr",
     "output_type": "stream",
     "text": [
      " 62%|█████████████████████████▋               | 125/200 [02:58<01:05,  1.15it/s]"
     ]
    },
    {
     "name": "stdout",
     "output_type": "stream",
     "text": [
      "Subject 10046679 has 1 stays with atleast one lab\n"
     ]
    },
    {
     "name": "stderr",
     "output_type": "stream",
     "text": [
      " 64%|██████████████████████████               | 127/200 [02:59<00:58,  1.24it/s]"
     ]
    },
    {
     "name": "stdout",
     "output_type": "stream",
     "text": [
      "Subject 10047172 has 1 stays with atleast one lab\n",
      "Subject 10047599 has 1 stays with atleast one lab\n"
     ]
    },
    {
     "name": "stderr",
     "output_type": "stream",
     "text": [
      " 64%|██████████████████████████▏              | 128/200 [03:00<00:44,  1.61it/s]"
     ]
    },
    {
     "name": "stdout",
     "output_type": "stream",
     "text": [
      "Stay 28737610: sparse → dropped\n",
      "Subject 10047682 has 2 stays with atleast one lab\n"
     ]
    },
    {
     "name": "stderr",
     "output_type": "stream",
     "text": [
      " 64%|██████████████████████████▍              | 129/200 [03:10<04:18,  3.64s/it]"
     ]
    },
    {
     "name": "stdout",
     "output_type": "stream",
     "text": [
      "Stay 21592506: sparse → dropped\n",
      "Subject 10047766 has 1 stays with atleast one lab\n"
     ]
    },
    {
     "name": "stderr",
     "output_type": "stream",
     "text": [
      " 65%|██████████████████████████▋              | 130/200 [03:11<03:06,  2.67s/it]"
     ]
    },
    {
     "name": "stdout",
     "output_type": "stream",
     "text": [
      "Stay 23271313: sparse → dropped\n",
      "Subject 10047864 has 1 stays with atleast one lab\n"
     ]
    },
    {
     "name": "stderr",
     "output_type": "stream",
     "text": [
      " 66%|██████████████████████████▊              | 131/200 [03:17<04:26,  3.87s/it]"
     ]
    },
    {
     "name": "stdout",
     "output_type": "stream",
     "text": [
      "Subject 10047994 has 1 stays with atleast one lab\n"
     ]
    },
    {
     "name": "stderr",
     "output_type": "stream",
     "text": [
      " 66%|███████████████████████████              | 132/200 [03:18<03:13,  2.85s/it]"
     ]
    },
    {
     "name": "stdout",
     "output_type": "stream",
     "text": [
      "Stay 25111157: sparse → dropped\n",
      "Subject 10048001 has 6 stays with atleast one lab\n"
     ]
    },
    {
     "name": "stderr",
     "output_type": "stream",
     "text": [
      " 66%|███████████████████████████▎             | 133/200 [03:19<02:26,  2.18s/it]"
     ]
    },
    {
     "name": "stdout",
     "output_type": "stream",
     "text": [
      "Subject 10048105 has 1 stays with atleast one lab\n"
     ]
    },
    {
     "name": "stderr",
     "output_type": "stream",
     "text": [
      " 67%|███████████████████████████▍             | 134/200 [03:19<01:51,  1.70s/it]"
     ]
    },
    {
     "name": "stdout",
     "output_type": "stream",
     "text": [
      "Stay 28885740: sparse → dropped\n",
      "Subject 10049049 has 1 stays with atleast one lab\n"
     ]
    },
    {
     "name": "stderr",
     "output_type": "stream",
     "text": [
      " 68%|███████████████████████████▋             | 135/200 [03:20<01:34,  1.45s/it]"
     ]
    },
    {
     "name": "stdout",
     "output_type": "stream",
     "text": [
      "Stay 22162553: sparse → dropped\n",
      "Subject 10049334 has 1 stays with atleast one lab\n"
     ]
    },
    {
     "name": "stderr",
     "output_type": "stream",
     "text": [
      " 68%|███████████████████████████▉             | 136/200 [03:21<01:16,  1.19s/it]"
     ]
    },
    {
     "name": "stdout",
     "output_type": "stream",
     "text": [
      "Subject 10049642 has 1 stays with atleast one lab\n",
      "Subject 10051043 has 5 stays with atleast one lab\n"
     ]
    },
    {
     "name": "stderr",
     "output_type": "stream",
     "text": [
      " 69%|████████████████████████████▎            | 138/200 [03:22<01:05,  1.05s/it]"
     ]
    },
    {
     "name": "stdout",
     "output_type": "stream",
     "text": [
      "Stay 23260768: sparse → dropped\n",
      "Subject 10051074 has 2 stays with atleast one lab\n"
     ]
    },
    {
     "name": "stderr",
     "output_type": "stream",
     "text": [
      " 70%|████████████████████████████▋            | 140/200 [03:24<00:56,  1.05it/s]"
     ]
    },
    {
     "name": "stdout",
     "output_type": "stream",
     "text": [
      "Stay 27940505: sparse → dropped\n",
      "Subject 10051872 has 1 stays with atleast one lab\n",
      "Stay 21380555: sparse → dropped\n",
      "Subject 10051990 has 1 stays with atleast one lab\n"
     ]
    },
    {
     "name": "stderr",
     "output_type": "stream",
     "text": [
      " 70%|████████████████████████████▉            | 141/200 [03:24<00:42,  1.38it/s]"
     ]
    },
    {
     "name": "stdout",
     "output_type": "stream",
     "text": [
      "Stay 24801170: sparse → dropped\n",
      "Subject 10052181 has 1 stays with atleast one lab\n"
     ]
    },
    {
     "name": "stderr",
     "output_type": "stream",
     "text": [
      " 71%|█████████████████████████████            | 142/200 [03:25<00:42,  1.38it/s]"
     ]
    },
    {
     "name": "stdout",
     "output_type": "stream",
     "text": [
      "Subject 10052769 has 1 stays with atleast one lab\n"
     ]
    },
    {
     "name": "stderr",
     "output_type": "stream",
     "text": [
      " 72%|█████████████████████████████▎           | 143/200 [03:42<04:57,  5.22s/it]"
     ]
    },
    {
     "name": "stdout",
     "output_type": "stream",
     "text": [
      "Stay 22087051: sparse → dropped\n",
      "Subject 10053207 has 3 stays with atleast one lab\n"
     ]
    },
    {
     "name": "stderr",
     "output_type": "stream",
     "text": [
      " 72%|█████████████████████████████▌           | 144/200 [03:42<03:37,  3.89s/it]"
     ]
    },
    {
     "name": "stdout",
     "output_type": "stream",
     "text": [
      "Stay 29999444: sparse → dropped\n",
      "Subject 10053449 has 1 stays with atleast one lab\n"
     ]
    },
    {
     "name": "stderr",
     "output_type": "stream",
     "text": [
      " 72%|█████████████████████████████▋           | 145/200 [03:43<02:44,  2.99s/it]"
     ]
    },
    {
     "name": "stdout",
     "output_type": "stream",
     "text": [
      "Subject 10053854 has 1 stays with atleast one lab\n"
     ]
    },
    {
     "name": "stderr",
     "output_type": "stream",
     "text": [
      " 74%|██████████████████████████████▏          | 147/200 [03:44<01:24,  1.60s/it]"
     ]
    },
    {
     "name": "stdout",
     "output_type": "stream",
     "text": [
      "Stay 22192970: sparse → dropped\n",
      "Subject 10054208 has 1 stays with atleast one lab\n",
      "Stay 22369621: sparse → dropped\n",
      "Subject 10054716 has 1 stays with atleast one lab\n"
     ]
    },
    {
     "name": "stderr",
     "output_type": "stream",
     "text": [
      " 74%|██████████████████████████████▎          | 148/200 [03:44<01:11,  1.37s/it]"
     ]
    },
    {
     "name": "stdout",
     "output_type": "stream",
     "text": [
      "Stay 25339060: sparse → dropped\n",
      "Subject 10055361 has 2 stays with atleast one lab\n"
     ]
    },
    {
     "name": "stderr",
     "output_type": "stream",
     "text": [
      " 74%|██████████████████████████████▌          | 149/200 [03:48<01:36,  1.89s/it]"
     ]
    },
    {
     "name": "stdout",
     "output_type": "stream",
     "text": [
      "Subject 10055729 has 1 stays with atleast one lab\n"
     ]
    },
    {
     "name": "stderr",
     "output_type": "stream",
     "text": [
      " 76%|██████████████████████████████▉          | 151/200 [03:49<01:06,  1.35s/it]"
     ]
    },
    {
     "name": "stdout",
     "output_type": "stream",
     "text": [
      "Stay 22808877: sparse → dropped\n",
      "Subject 10055828 has 1 stays with atleast one lab\n",
      "Stay 20130009: sparse → dropped\n",
      "Subject 10055939 has 1 stays with atleast one lab\n"
     ]
    },
    {
     "name": "stderr",
     "output_type": "stream",
     "text": [
      " 76%|███████████████████████████████▎         | 153/200 [03:50<00:41,  1.12it/s]"
     ]
    },
    {
     "name": "stdout",
     "output_type": "stream",
     "text": [
      "Stay 26362706: sparse → dropped\n",
      "Subject 10056841 has 1 stays with atleast one lab\n",
      "Subject 10057482 has 2 stays with atleast one lab\n"
     ]
    },
    {
     "name": "stderr",
     "output_type": "stream",
     "text": [
      " 77%|███████████████████████████████▌         | 154/200 [03:58<02:14,  2.92s/it]"
     ]
    },
    {
     "name": "stdout",
     "output_type": "stream",
     "text": [
      "Subject 10057731 has 1 stays with atleast one lab\n"
     ]
    },
    {
     "name": "stderr",
     "output_type": "stream",
     "text": [
      " 78%|███████████████████████████████▊         | 155/200 [03:59<01:36,  2.16s/it]"
     ]
    },
    {
     "name": "stdout",
     "output_type": "stream",
     "text": [
      "Subject 10058575 has 1 stays with atleast one lab\n"
     ]
    },
    {
     "name": "stderr",
     "output_type": "stream",
     "text": [
      " 78%|███████████████████████████████▉         | 156/200 [04:02<01:53,  2.57s/it]"
     ]
    },
    {
     "name": "stdout",
     "output_type": "stream",
     "text": [
      "Subject 10058868 has 2 stays with atleast one lab\n"
     ]
    },
    {
     "name": "stderr",
     "output_type": "stream",
     "text": [
      " 78%|████████████████████████████████▏        | 157/200 [04:03<01:26,  2.00s/it]"
     ]
    },
    {
     "name": "stdout",
     "output_type": "stream",
     "text": [
      "Stay 20377504: sparse → dropped\n",
      "Stay 25385222: sparse → dropped\n",
      "Subject 10059217 has 1 stays with atleast one lab\n"
     ]
    },
    {
     "name": "stderr",
     "output_type": "stream",
     "text": [
      " 79%|████████████████████████████████▍        | 158/200 [04:03<01:06,  1.57s/it]"
     ]
    },
    {
     "name": "stdout",
     "output_type": "stream",
     "text": [
      "Stay 23938428: sparse → dropped\n",
      "Subject 10059406 has 1 stays with atleast one lab\n"
     ]
    },
    {
     "name": "stderr",
     "output_type": "stream",
     "text": [
      " 80%|████████████████████████████████▌        | 159/200 [04:07<01:28,  2.16s/it]"
     ]
    },
    {
     "name": "stdout",
     "output_type": "stream",
     "text": [
      "Stay 23005038: sparse → dropped\n",
      "Subject 10059702 has 1 stays with atleast one lab\n"
     ]
    },
    {
     "name": "stderr",
     "output_type": "stream",
     "text": [
      " 80%|████████████████████████████████▊        | 160/200 [04:08<01:13,  1.83s/it]"
     ]
    },
    {
     "name": "stdout",
     "output_type": "stream",
     "text": [
      "Subject 10060142 has 1 stays with atleast one lab\n"
     ]
    },
    {
     "name": "stderr",
     "output_type": "stream",
     "text": [
      " 80%|█████████████████████████████████        | 161/200 [04:09<00:59,  1.52s/it]"
     ]
    },
    {
     "name": "stdout",
     "output_type": "stream",
     "text": [
      "Stay 23730659: sparse → dropped\n",
      "Subject 10060531 has 2 stays with atleast one lab\n"
     ]
    },
    {
     "name": "stderr",
     "output_type": "stream",
     "text": [
      " 82%|█████████████████████████████████▍       | 163/200 [04:10<00:36,  1.02it/s]"
     ]
    },
    {
     "name": "stdout",
     "output_type": "stream",
     "text": [
      "Stay 27040798: sparse → dropped\n",
      "Subject 10061303 has 1 stays with atleast one lab\n",
      "Stay 24889301: sparse → dropped\n",
      "Subject 10061583 has 1 stays with atleast one lab\n"
     ]
    },
    {
     "name": "stderr",
     "output_type": "stream",
     "text": [
      " 82%|█████████████████████████████████▌       | 164/200 [04:12<00:45,  1.26s/it]"
     ]
    },
    {
     "name": "stdout",
     "output_type": "stream",
     "text": [
      "Stay 26842538: sparse → dropped\n",
      "Subject 10061633 has 1 stays with atleast one lab\n"
     ]
    },
    {
     "name": "stderr",
     "output_type": "stream",
     "text": [
      " 82%|█████████████████████████████████▊       | 165/200 [04:12<00:34,  1.02it/s]"
     ]
    },
    {
     "name": "stdout",
     "output_type": "stream",
     "text": [
      "Subject 10063488 has 1 stays with atleast one lab\n",
      "Stay 22295090: sparse → dropped\n",
      "Subject 10063848 has 1 stays with atleast one lab\n"
     ]
    },
    {
     "name": "stderr",
     "output_type": "stream",
     "text": [
      " 84%|██████████████████████████████████▏      | 167/200 [04:13<00:24,  1.35it/s]"
     ]
    },
    {
     "name": "stdout",
     "output_type": "stream",
     "text": [
      "Stay 21345067: sparse → dropped\n",
      "Subject 10063856 has 1 stays with atleast one lab\n"
     ]
    },
    {
     "name": "stderr",
     "output_type": "stream",
     "text": [
      " 84%|██████████████████████████████████▍      | 168/200 [04:13<00:19,  1.61it/s]"
     ]
    },
    {
     "name": "stdout",
     "output_type": "stream",
     "text": [
      "Subject 10064049 has 1 stays with atleast one lab\n",
      "Subject 10064274 has 1 stays with atleast one lab\n"
     ]
    },
    {
     "name": "stderr",
     "output_type": "stream",
     "text": [
      " 85%|██████████████████████████████████▊      | 170/200 [04:14<00:14,  2.12it/s]"
     ]
    },
    {
     "name": "stdout",
     "output_type": "stream",
     "text": [
      "Stay 25012954: sparse → dropped\n",
      "Subject 10064854 has 1 stays with atleast one lab\n"
     ]
    },
    {
     "name": "stderr",
     "output_type": "stream",
     "text": [
      " 86%|███████████████████████████████████      | 171/200 [04:16<00:27,  1.06it/s]"
     ]
    },
    {
     "name": "stdout",
     "output_type": "stream",
     "text": [
      "Stay 20184139: sparse → dropped\n",
      "Subject 10065024 has 1 stays with atleast one lab\n"
     ]
    },
    {
     "name": "stderr",
     "output_type": "stream",
     "text": [
      " 86%|███████████████████████████████████▎     | 172/200 [04:17<00:23,  1.21it/s]"
     ]
    },
    {
     "name": "stdout",
     "output_type": "stream",
     "text": [
      "Subject 10065361 has 1 stays with atleast one lab\n"
     ]
    },
    {
     "name": "stderr",
     "output_type": "stream",
     "text": [
      " 86%|███████████████████████████████████▍     | 173/200 [04:17<00:21,  1.28it/s]"
     ]
    },
    {
     "name": "stdout",
     "output_type": "stream",
     "text": [
      "Stay 27467089: sparse → dropped\n",
      "Subject 10065530 has 1 stays with atleast one lab\n"
     ]
    },
    {
     "name": "stderr",
     "output_type": "stream",
     "text": [
      " 87%|███████████████████████████████████▋     | 174/200 [04:18<00:19,  1.31it/s]"
     ]
    },
    {
     "name": "stdout",
     "output_type": "stream",
     "text": [
      "Subject 10065767 has 2 stays with atleast one lab\n"
     ]
    },
    {
     "name": "stderr",
     "output_type": "stream",
     "text": [
      " 88%|███████████████████████████████████▉     | 175/200 [04:18<00:15,  1.62it/s]"
     ]
    },
    {
     "name": "stdout",
     "output_type": "stream",
     "text": [
      "Stay 25730443: sparse → dropped\n",
      "Subject 10066193 has 1 stays with atleast one lab\n"
     ]
    },
    {
     "name": "stderr",
     "output_type": "stream",
     "text": [
      " 88%|████████████████████████████████████     | 176/200 [04:19<00:14,  1.63it/s]"
     ]
    },
    {
     "name": "stdout",
     "output_type": "stream",
     "text": [
      "Stay 24802410: sparse → dropped\n",
      "Subject 10066209 has 1 stays with atleast one lab\n"
     ]
    },
    {
     "name": "stderr",
     "output_type": "stream",
     "text": [
      " 88%|████████████████████████████████████▎    | 177/200 [04:19<00:13,  1.68it/s]"
     ]
    },
    {
     "name": "stdout",
     "output_type": "stream",
     "text": [
      "Subject 10067480 has 1 stays with atleast one lab\n"
     ]
    },
    {
     "name": "stderr",
     "output_type": "stream",
     "text": [
      " 89%|████████████████████████████████████▍    | 178/200 [04:20<00:12,  1.75it/s]"
     ]
    },
    {
     "name": "stdout",
     "output_type": "stream",
     "text": [
      "Subject 10068304 has 2 stays with atleast one lab\n"
     ]
    },
    {
     "name": "stderr",
     "output_type": "stream",
     "text": [
      " 90%|████████████████████████████████████▋    | 179/200 [04:20<00:10,  1.98it/s]"
     ]
    },
    {
     "name": "stdout",
     "output_type": "stream",
     "text": [
      "Subject 10068474 has 4 stays with atleast one lab\n",
      "Stay 20504153: sparse → dropped\n",
      "Stay 20779464: sparse → dropped\n"
     ]
    },
    {
     "name": "stderr",
     "output_type": "stream",
     "text": [
      " 90%|████████████████████████████████████▉    | 180/200 [04:27<00:44,  2.23s/it]"
     ]
    },
    {
     "name": "stdout",
     "output_type": "stream",
     "text": [
      "Stay 25255224: sparse → dropped\n",
      "Subject 10069400 has 1 stays with atleast one lab\n"
     ]
    },
    {
     "name": "stderr",
     "output_type": "stream",
     "text": [
      " 90%|█████████████████████████████████████    | 181/200 [04:27<00:32,  1.71s/it]"
     ]
    },
    {
     "name": "stdout",
     "output_type": "stream",
     "text": [
      "Subject 10069423 has 2 stays with atleast one lab\n"
     ]
    },
    {
     "name": "stderr",
     "output_type": "stream",
     "text": [
      " 91%|█████████████████████████████████████▎   | 182/200 [04:28<00:25,  1.39s/it]"
     ]
    },
    {
     "name": "stdout",
     "output_type": "stream",
     "text": [
      "Stay 23555007: sparse → dropped\n",
      "Subject 10069992 has 1 stays with atleast one lab\n"
     ]
    },
    {
     "name": "stderr",
     "output_type": "stream",
     "text": [
      " 92%|█████████████████████████████████████▌   | 183/200 [04:28<00:18,  1.11s/it]"
     ]
    },
    {
     "name": "stdout",
     "output_type": "stream",
     "text": [
      "Subject 10070201 has 1 stays with atleast one lab\n"
     ]
    },
    {
     "name": "stderr",
     "output_type": "stream",
     "text": [
      " 92%|█████████████████████████████████████▋   | 184/200 [04:30<00:19,  1.19s/it]"
     ]
    },
    {
     "name": "stdout",
     "output_type": "stream",
     "text": [
      "Subject 10070614 has 3 stays with atleast one lab\n",
      "Stay 21323771: sparse → dropped\n"
     ]
    },
    {
     "name": "stderr",
     "output_type": "stream",
     "text": [
      " 92%|█████████████████████████████████████▉   | 185/200 [04:31<00:18,  1.26s/it]"
     ]
    },
    {
     "name": "stdout",
     "output_type": "stream",
     "text": [
      "Subject 10070678 has 1 stays with atleast one lab\n"
     ]
    },
    {
     "name": "stderr",
     "output_type": "stream",
     "text": [
      " 93%|██████████████████████████████████████▏  | 186/200 [04:33<00:21,  1.56s/it]"
     ]
    },
    {
     "name": "stdout",
     "output_type": "stream",
     "text": [
      "Stay 26827807: sparse → dropped\n",
      "Subject 10070932 has 2 stays with atleast one lab\n"
     ]
    },
    {
     "name": "stderr",
     "output_type": "stream",
     "text": [
      " 94%|██████████████████████████████████████▎  | 187/200 [04:34<00:16,  1.23s/it]"
     ]
    },
    {
     "name": "stdout",
     "output_type": "stream",
     "text": [
      "Subject 10071302 has 1 stays with atleast one lab\n"
     ]
    },
    {
     "name": "stderr",
     "output_type": "stream",
     "text": [
      " 94%|██████████████████████████████████████▋  | 189/200 [04:36<00:12,  1.12s/it]"
     ]
    },
    {
     "name": "stdout",
     "output_type": "stream",
     "text": [
      "Stay 27168465: sparse → dropped\n",
      "Subject 10071332 has 1 stays with atleast one lab\n",
      "Subject 10071611 has 1 stays with atleast one lab\n",
      "Stay 27474298: sparse → dropped\n",
      "Subject 10071869 has 1 stays with atleast one lab\n"
     ]
    },
    {
     "name": "stderr",
     "output_type": "stream",
     "text": [
      " 96%|███████████████████████████████████████▏ | 191/200 [04:38<00:09,  1.01s/it]"
     ]
    },
    {
     "name": "stdout",
     "output_type": "stream",
     "text": [
      "Subject 10072153 has 1 stays with atleast one lab\n"
     ]
    },
    {
     "name": "stderr",
     "output_type": "stream",
     "text": [
      " 96%|███████████████████████████████████████▌ | 193/200 [04:39<00:05,  1.32it/s]"
     ]
    },
    {
     "name": "stdout",
     "output_type": "stream",
     "text": [
      "Stay 21253864: sparse → dropped\n",
      "Subject 10072239 has 2 stays with atleast one lab\n",
      "Stay 26051785: sparse → dropped\n",
      "Subject 10073239 has 1 stays with atleast one lab\n"
     ]
    },
    {
     "name": "stderr",
     "output_type": "stream",
     "text": [
      " 97%|███████████████████████████████████████▊ | 194/200 [04:42<00:08,  1.41s/it]"
     ]
    },
    {
     "name": "stdout",
     "output_type": "stream",
     "text": [
      "Stay 28901382: sparse → dropped\n",
      "Subject 10074189 has 1 stays with atleast one lab\n"
     ]
    },
    {
     "name": "stderr",
     "output_type": "stream",
     "text": [
      " 98%|███████████████████████████████████████▉ | 195/200 [04:43<00:06,  1.38s/it]"
     ]
    },
    {
     "name": "stdout",
     "output_type": "stream",
     "text": [
      "Stay 28245537: sparse → dropped\n",
      "Subject 10074323 has 1 stays with atleast one lab\n"
     ]
    },
    {
     "name": "stderr",
     "output_type": "stream",
     "text": [
      " 98%|████████████████████████████████████████▏| 196/200 [04:44<00:04,  1.15s/it]"
     ]
    },
    {
     "name": "stdout",
     "output_type": "stream",
     "text": [
      "Subject 10074474 has 1 stays with atleast one lab\n"
     ]
    },
    {
     "name": "stderr",
     "output_type": "stream",
     "text": [
      " 98%|████████████████████████████████████████▍| 197/200 [04:44<00:02,  1.04it/s]"
     ]
    },
    {
     "name": "stdout",
     "output_type": "stream",
     "text": [
      "Subject 10074556 has 1 stays with atleast one lab\n"
     ]
    },
    {
     "name": "stderr",
     "output_type": "stream",
     "text": [
      " 99%|████████████████████████████████████████▌| 198/200 [04:47<00:02,  1.49s/it]"
     ]
    },
    {
     "name": "stdout",
     "output_type": "stream",
     "text": [
      "Stay 20846673: sparse → dropped\n",
      "Subject 10074869 has 1 stays with atleast one lab\n"
     ]
    },
    {
     "name": "stderr",
     "output_type": "stream",
     "text": [
      "100%|████████████████████████████████████████▊| 199/200 [04:48<00:01,  1.22s/it]"
     ]
    },
    {
     "name": "stdout",
     "output_type": "stream",
     "text": [
      "Subject 10074969 has 1 stays with atleast one lab\n"
     ]
    },
    {
     "name": "stderr",
     "output_type": "stream",
     "text": [
      "100%|█████████████████████████████████████████| 200/200 [04:48<00:00,  1.44s/it]\n"
     ]
    }
   ],
   "source": [
    "train_expert_trajectories = build_expert_trajectories(train_subject_ids)\n",
    "#test_expert_trajectories = build_expert_trajectories(test_subject_ids)"
   ]
  },
  {
   "cell_type": "code",
   "execution_count": 44,
   "id": "5bc7a62c-8e2c-48cd-b23d-130dae9530ac",
   "metadata": {},
   "outputs": [
    {
     "data": {
      "image/png": "[encoded data removed]",
      "text/plain": [
       "<Figure size 600x400 with 1 Axes>"
      ]
     },
     "metadata": {},
     "output_type": "display_data"
    }
   ],
   "source": [
    "import numpy as np\n",
    "import matplotlib.pyplot as plt\n",
    "\n",
    "# Flatten all actions across all patients\n",
    "train_actions = np.concatenate([np.array(a, dtype=int) \n",
    "                              for a in train_expert_trajectories['actions']])\n",
    "\n",
    "# Unique dose buckets and their counts\n",
    "train_unique_buckets, counts = np.unique(train_actions, return_counts=True)\n",
    "\n",
    "# Plot histogram\n",
    "plt.figure(figsize=(6, 4))\n",
    "plt.bar(train_unique_buckets, counts, width=8, edgecolor='black')\n",
    "plt.xticks(train_unique_buckets)\n",
    "plt.xlabel(\"Dose Bucket\")\n",
    "plt.ylabel(\"Frequency\")\n",
    "plt.title(\"Histogram of Observed Actions Across Train Patients\")\n",
    "plt.tight_layout()\n",
    "plt.show()\n"
   ]
  },
  {
   "cell_type": "markdown",
   "id": "e0e55991-52aa-4d52-baed-71c81af9bae6",
   "metadata": {},
   "source": [
    "### Fitted Q Iteration\n",
    "\n",
    "FQI is a \"batch\" form of Q-learning. They have the same bellman backup, but Q-learning is online (ie samples transitions from env). FQI uses a fixed dataset and at each iteration -\n",
    "- builds regression targets: y = r + max Qtarget(s',a')\n",
    "- updates weights for Q and Qtar (soft update)"
   ]
  },
  {
   "cell_type": "markdown",
   "id": "377abc36-4ce1-4e33-a2be-96908a0bafe3",
   "metadata": {},
   "source": [
    "#### Build transitions in correct format"
   ]
  },
  {
   "cell_type": "code",
   "execution_count": 45,
   "id": "956ca25b-d6be-4744-bfb9-f657c2df5f80",
   "metadata": {},
   "outputs": [],
   "source": [
    "# Define consistent dose-to-index mapping for both BC and FQI\n",
    "dose_to_idx = {0: 0, 10: 1, 20: 2, 40: 3}\n",
    "idx_to_dose = {0: 0, 1: 10, 2: 20, 3: 40}\n",
    "n_actions = 4"
   ]
  },
  {
   "cell_type": "code",
   "execution_count": 46,
   "id": "6ed4bc1b-e4dc-4835-8c00-eea4b3f67d30",
   "metadata": {},
   "outputs": [],
   "source": [
    "import numpy as np\n",
    "import torch\n",
    "import torch.nn as nn\n",
    "import torch.optim as optim\n",
    "from tqdm import tqdm\n",
    "\n",
    "def build_transitions(expert_trajectories):\n",
    "    \"\"\"\n",
    "    Given expert_trajectories = {'states', 'actions', 'rewards'}, this\n",
    "    constructs a list `transitions` of (s, a, r, s2, a2, done) tuples exactly\n",
    "    as in your original block.\n",
    "    \n",
    "    Returns:\n",
    "        transitions: list of (s, a, r, s2, a2, done) tuples\n",
    "    \"\"\"\n",
    "    transitions = []\n",
    "    for states, actions, rewards in zip(\n",
    "            expert_trajectories['states'],\n",
    "            expert_trajectories['actions'],\n",
    "            expert_trajectories['rewards']):\n",
    "        T = len(states)\n",
    "        for t in range(T):\n",
    "            s  = np.array(states[t], dtype=np.float32)\n",
    "            a  = np.array([actions[t]], dtype=np.float32)\n",
    "            r  = np.array([rewards[t]], dtype=np.float32)\n",
    "            done = 1.0 if t == T-1 else 0.0\n",
    "\n",
    "            if t < T-1:\n",
    "                s2 = np.array(states[t+1], dtype=np.float32)\n",
    "                a2 = np.array([actions[t+1]], dtype=np.float32)\n",
    "            else:\n",
    "                # terminal next state/action dummy\n",
    "                s2 = s.copy()\n",
    "                a2 = np.array([0.0], dtype=np.float32)\n",
    "\n",
    "            transitions.append((s, a, r, s2, a2, done))\n",
    "\n",
    "    return transitions\n"
   ]
  },
  {
   "cell_type": "markdown",
   "id": "0cbe2668-be88-4a29-8508-2ebd0ab39354",
   "metadata": {},
   "source": [
    "#### Q networks"
   ]
  },
  {
   "cell_type": "code",
   "execution_count": 47,
   "id": "ba741af4-2a9c-4d49-948c-2307a965e00c",
   "metadata": {},
   "outputs": [],
   "source": [
    "class FQI_QNet(nn.Module):\n",
    "    \"\"\"Q-network for FQI policy\"\"\"\n",
    "    def __init__(self, state_dim, hidden=64):\n",
    "        super().__init__()\n",
    "        self.net = nn.Sequential(\n",
    "            nn.Linear(state_dim, hidden),\n",
    "            nn.ReLU(),\n",
    "            nn.Linear(hidden, hidden),\n",
    "            nn.ReLU(),\n",
    "            nn.Linear(hidden, n_actions)  # Q(s,a) for a ∈ {0,5,10,20,40}\n",
    "        )\n",
    "    def forward(self, s):\n",
    "        return self.net(s)  # Shape: [batch_size, n_actions]\n"
   ]
  },
  {
   "cell_type": "markdown",
   "id": "e1022c86-85ad-45d3-ac05-1090a8d5d681",
   "metadata": {},
   "source": [
    "#### training loop"
   ]
  },
  {
   "cell_type": "code",
   "execution_count": 107,
   "id": "288346a4-0b6c-45ca-a88a-17a18ea97591",
   "metadata": {},
   "outputs": [],
   "source": [
    "def train_fqi(transitions, num_epochs=100, lr=1e-5, batch_size=512,\n",
    "              gamma=0.99, soft_tau=0.1):\n",
    "    \"\"\"\n",
    "    Trains your FQI Q-network exactly as in the original loop, but wrapped\n",
    "    so you can call it with any list of transitions.\n",
    "    \n",
    "    Returns:\n",
    "        fqi_q_net: the trained QNet\n",
    "        fqi_q_target: the final target network (after soft updates)\n",
    "    \"\"\"\n",
    "    device = torch.device(\"cuda\" if torch.cuda.is_available() else \"cpu\")\n",
    "    \n",
    "    # Infer state_dim from the first transition tuple: (s,a,r,s2,a2,done)\n",
    "    state_dim = transitions[0][0].shape[0]\n",
    "    \n",
    "    # Initialize FQI Q-networks\n",
    "    fqi_q_net = FQI_QNet(state_dim).to(device)\n",
    "    fqi_q_target = FQI_QNet(state_dim).to(device)\n",
    "    fqi_q_target.load_state_dict(fqi_q_net.state_dict())\n",
    "    fqi_optimizer = optim.Adam(fqi_q_net.parameters(), lr=lr)\n",
    "    fqi_loss_fn = nn.MSELoss(reduction='none')  # Changed to 'none' for per-sample weighting\n",
    "    \n",
    "    # Compute class imbalance weights\n",
    "    all_a_idx = np.array([\n",
    "        dose_to_idx[t[1][0] if isinstance(t[1], (list, np.ndarray)) else t[1]]\n",
    "        for t in transitions\n",
    "    ])\n",
    "    counts = np.bincount(all_a_idx, minlength=len(dose_to_idx))\n",
    "    alpha = 0.6\n",
    "    inv_freq = 1.0 / (counts.astype(np.float32) ** alpha)\n",
    "    inv_freq = torch.tensor(inv_freq, dtype=torch.float32, device=device)\n",
    "    \n",
    "    print(\"Training FQI Q-network...\")\n",
    "    for epoch in range(num_epochs):\n",
    "        np.random.shuffle(transitions)\n",
    "        epoch_loss = 0.0\n",
    "        n_batches = 0\n",
    "        for start in range(0, len(transitions), batch_size):\n",
    "            batch = transitions[start:start + batch_size]\n",
    "            s, a, r, s2, a2, done = zip(*batch)\n",
    "            # Convert actions to indices (0-3 or 0-4, depending on buckets)\n",
    "            a_idx = np.array([\n",
    "                dose_to_idx[a_elem[0] if isinstance(a_elem, (list, np.ndarray)) else a_elem]\n",
    "                for a_elem in a\n",
    "            ])\n",
    "            a2_idx = np.array([\n",
    "                dose_to_idx[a2_elem[0] if isinstance(a2_elem, (list, np.ndarray)) else a2_elem]\n",
    "                for a2_elem in a2\n",
    "            ])\n",
    "            # Convert to tensors\n",
    "            s = torch.tensor(np.array(s),    device=device, dtype=torch.float32)\n",
    "            a_idx = torch.tensor(a_idx,       device=device, dtype=torch.long)\n",
    "            r = torch.tensor(np.array(r),     device=device, dtype=torch.float32).squeeze(-1)\n",
    "            s2 = torch.tensor(np.array(s2),   device=device, dtype=torch.float32)\n",
    "            a2_idx = torch.tensor(a2_idx,     device=device, dtype=torch.long)\n",
    "            done = torch.tensor(np.array(done), device=device, dtype=torch.float32)\n",
    "            # Compute TD‐target: r + γ (1 − done) Q_target(s2, a2)\n",
    "            with torch.no_grad():\n",
    "                q2_all = fqi_q_target(s2)  # [batch_size, n_actions]\n",
    "                q2 = q2_all.gather(1, a2_idx.unsqueeze(-1)).squeeze(-1)\n",
    "                y = r + gamma * (1 - done) * q2\n",
    "            # Current Q(s,a)\n",
    "            q_all = fqi_q_net(s)  # [batch_size, n_actions]\n",
    "            q = q_all.gather(1, a_idx.unsqueeze(-1)).squeeze(-1)\n",
    "            \n",
    "            # Weighted MSE loss for class imbalance\n",
    "            loss_per_sample = fqi_loss_fn(q, y)\n",
    "            sample_weights = inv_freq[a_idx]\n",
    "            loss = (loss_per_sample * sample_weights).mean()\n",
    "            \n",
    "            fqi_optimizer.zero_grad()\n",
    "            loss.backward()\n",
    "            fqi_optimizer.step()\n",
    "            epoch_loss += loss.item()\n",
    "            n_batches += 1\n",
    "        # Soft update target network\n",
    "        for p, pt in zip(fqi_q_net.parameters(), fqi_q_target.parameters()):\n",
    "            pt.data.mul_(1 - soft_tau)\n",
    "            pt.data.add_(soft_tau * p.data)\n",
    "        if epoch % 10 == 0:\n",
    "            avg_loss = epoch_loss / (n_batches + 1e-8)\n",
    "            print(f\"[FQI] Epoch {epoch:3d}  Loss: {avg_loss:.4f}\")\n",
    "    return fqi_q_net, fqi_q_target"
   ]
  },
  {
   "cell_type": "code",
   "execution_count": 108,
   "id": "42a16b70-b694-49d1-bebf-1e2b86ae413a",
   "metadata": {},
   "outputs": [],
   "source": [
    "train_transitions = build_transitions(train_expert_trajectories)\n",
    "#test_transitions = build_transitions(test_expert_trajectories)"
   ]
  },
  {
   "cell_type": "code",
   "execution_count": 109,
   "id": "b3f5a1cc-9281-475a-97c5-51c3dba2dd40",
   "metadata": {},
   "outputs": [
    {
     "data": {
      "text/plain": [
       "3498"
      ]
     },
     "execution_count": 109,
     "metadata": {},
     "output_type": "execute_result"
    }
   ],
   "source": [
    "len(train_transitions)"
   ]
  },
  {
   "cell_type": "code",
   "execution_count": 110,
   "id": "5e0304b3-d5c3-44d1-8d26-6ed6dda79bc3",
   "metadata": {},
   "outputs": [
    {
     "name": "stdout",
     "output_type": "stream",
     "text": [
      "Training FQI Q-network...\n",
      "[FQI] Epoch   0  Loss: 52.9671\n",
      "[FQI] Epoch  10  Loss: 52.4652\n",
      "[FQI] Epoch  20  Loss: 52.2239\n",
      "[FQI] Epoch  30  Loss: 52.3940\n",
      "[FQI] Epoch  40  Loss: 52.7011\n",
      "[FQI] Epoch  50  Loss: 52.7628\n",
      "[FQI] Epoch  60  Loss: 52.8898\n",
      "[FQI] Epoch  70  Loss: 53.0135\n",
      "[FQI] Epoch  80  Loss: 53.2262\n",
      "[FQI] Epoch  90  Loss: 53.2858\n"
     ]
    }
   ],
   "source": [
    "train_fqi_net, train_fqi_target = train_fqi(train_transitions)"
   ]
  },
  {
   "cell_type": "markdown",
   "id": "dd4040bd-7af4-4b33-a18e-c2e2b3def822",
   "metadata": {},
   "source": [
    "### BC policy"
   ]
  },
  {
   "cell_type": "markdown",
   "id": "2945a61f-6c71-4a10-bfae-aff5b7c061c8",
   "metadata": {},
   "source": [
    "#### Build transitions in correct format"
   ]
  },
  {
   "cell_type": "code",
   "execution_count": 52,
   "id": "f378bb6e-e0d1-41ff-8add-49a5941f6465",
   "metadata": {},
   "outputs": [],
   "source": [
    "def prepare_bc_dataset(transitions, dose_to_idx):\n",
    "    \"\"\"\n",
    "    Given `transitions = [(s,a,r,s2,a2,done), ...]`, extract:\n",
    "      - bc_states: N×state_dim array of all s\n",
    "      - bc_actions_idx: length‐N vector of discretized action indices\n",
    "    \n",
    "    Args:\n",
    "        transitions: list of (s,a,r,s2,a2,done) tuples\n",
    "        dose_to_idx: dict mapping raw dose → discrete index (e.g. {0:0,10:1,20:2,40:3})\n",
    "    \n",
    "    Returns:\n",
    "        bc_states:    np.ndarray of shape [N, state_dim]\n",
    "        bc_actions_idx: np.ndarray of shape [N,] with integer indices\n",
    "    \"\"\"\n",
    "    # Stack all s_t into one (N × state_dim) array\n",
    "    bc_states = np.stack([t[0] for t in transitions], axis=0)  # shape: [N, state_dim]\n",
    "    \n",
    "    # Extract raw action (dose) from each transition, then map to index\n",
    "    raw_actions = np.stack([t[1] for t in transitions], axis=0)  # shape: [N, 1]\n",
    "    bc_actions_idx = np.array([\n",
    "        dose_to_idx[int(a_elem[0] if isinstance(a_elem, (list, np.ndarray)) else a_elem)]\n",
    "        for a_elem in raw_actions\n",
    "    ], dtype=np.int64)  # shape: [N,]\n",
    "    \n",
    "    return bc_states, bc_actions_idx\n"
   ]
  },
  {
   "cell_type": "markdown",
   "id": "270a093b-70fa-4568-ac13-1f1ea1471f09",
   "metadata": {},
   "source": [
    "#### Policy network"
   ]
  },
  {
   "cell_type": "code",
   "execution_count": 53,
   "id": "1485b3cd-7a4c-47e2-857f-b40aa7b53c1f",
   "metadata": {},
   "outputs": [],
   "source": [
    "class BC_Policy(nn.Module):\n",
    "    \"\"\"Policy network for BC - outputs action probabilities\"\"\"\n",
    "    def __init__(self, state_dim, hidden=64):\n",
    "        super().__init__()\n",
    "        self.net = nn.Sequential(\n",
    "            nn.Linear(state_dim, hidden),\n",
    "            nn.ReLU(),\n",
    "            nn.Linear(hidden, hidden),\n",
    "            nn.ReLU(),\n",
    "            nn.Linear(hidden, n_actions)  # logits for each action\n",
    "        )\n",
    "    \n",
    "    def forward(self, x):\n",
    "        return self.net(x)  # Shape: [batch_size, n_actions]\n",
    "    \n",
    "    def get_action_probs(self, x):\n",
    "        \"\"\"Get action probabilities using softmax\"\"\"\n",
    "        logits = self.forward(x)\n",
    "        return torch.softmax(logits, dim=-1)\n",
    "    \n",
    "    def get_action(self, x, deterministic=False):\n",
    "        \"\"\"Sample action from policy\"\"\"\n",
    "        probs = self.get_action_probs(x)\n",
    "        if deterministic:\n",
    "            action_idx = torch.argmax(probs, dim=-1)\n",
    "        else:\n",
    "            action_idx = torch.multinomial(probs, 1).squeeze(-1)\n",
    "        return action_idx"
   ]
  },
  {
   "cell_type": "markdown",
   "id": "73e0ff18-b391-4924-9f3c-5acb6f15a180",
   "metadata": {},
   "source": [
    "#### training loop"
   ]
  },
  {
   "cell_type": "code",
   "execution_count": 54,
   "id": "5b98e32f-172c-4502-be7c-0707cdeecd86",
   "metadata": {},
   "outputs": [],
   "source": [
    "def train_bc_policy(bc_states, bc_actions_idx, state_dim,\n",
    "                    batch_size=512, n_epochs=100, lr=1e-3, device=None):\n",
    "    \"\"\"\n",
    "    Train a classification BC policy to predict the discrete action index from state.\n",
    "    Uses exactly the same loop as your original code, but wrapped in a function.\n",
    "    \n",
    "    Args:\n",
    "        bc_states:       np.ndarray [N, state_dim]\n",
    "        bc_actions_idx:  np.ndarray [N,]  (integer indices in [0, num_classes-1])\n",
    "        state_dim:       int, dimensionality of state vector\n",
    "        batch_size:      int, mini‐batch size\n",
    "        n_epochs:        int, number of epochs\n",
    "        lr:              float, Adam learning rate\n",
    "        device:          torch.device (e.g. torch.device(\"cuda\") or \"cpu\")\n",
    "    \n",
    "    Returns:\n",
    "        bc_policy_net:   the trained BCPolicy network (nn.Module)\n",
    "    \"\"\"\n",
    "    # Determine device\n",
    "    if device is None:\n",
    "        device = torch.device(\"cuda\" if torch.cuda.is_available() else \"cpu\")\n",
    "    \n",
    "    # Infer number of distinct action‐indices (classes)\n",
    "    num_classes = int(bc_actions_idx.max()) + 1\n",
    "    \n",
    "    #compute inverse-frequency weights\n",
    "    counts   = np.bincount(bc_actions_idx, minlength=n_actions)   # [n0, n1, n2, n3]\n",
    "    alpha = 0.8\n",
    "    weights  = 1.0 / (counts**alpha)                                       # inverse freq\n",
    "    weights /= weights.mean()                                     # (optional) re-scale\n",
    "    class_w  = torch.tensor(weights, dtype=torch.float32, device=device)\n",
    "    \n",
    "    # Instantiate a BCPolicy that outputs `num_classes` logits\n",
    "    bc_policy_net = BC_Policy(state_dim, num_classes).to(device)\n",
    "    bc_optimizer = optim.Adam(bc_policy_net.parameters(), lr=lr)\n",
    "    bc_loss_fn = nn.CrossEntropyLoss(weight=class_w)\n",
    "    \n",
    "    # Convert to torch tensors once\n",
    "    bc_states_tensor  = torch.tensor(bc_states, dtype=torch.float32, device=device)\n",
    "    bc_actions_tensor = torch.tensor(bc_actions_idx, dtype=torch.long,  device=device)\n",
    "    \n",
    "    print(\"\\nTraining BC Policy...\")\n",
    "    for epoch in range(n_epochs):\n",
    "        # Shuffle indices each epoch\n",
    "        perm = torch.randperm(bc_states_tensor.size(0), device=device)\n",
    "        states_shuf  = bc_states_tensor[perm]\n",
    "        actions_shuf = bc_actions_tensor[perm]\n",
    "        \n",
    "        epoch_loss = 0.0\n",
    "        n_batches = 0\n",
    "        \n",
    "        for start in range(0, states_shuf.size(0), batch_size):\n",
    "            end = start + batch_size\n",
    "            s_batch = states_shuf[start:end]\n",
    "            a_batch = actions_shuf[start:end]\n",
    "            \n",
    "            # Forward pass: get logits over discrete classes\n",
    "            action_logits = bc_policy_net(s_batch)  # shape: [batch_size, num_classes]\n",
    "            \n",
    "            # Compute cross‐entropy loss\n",
    "            loss = bc_loss_fn(action_logits, a_batch)\n",
    "            \n",
    "            bc_optimizer.zero_grad()\n",
    "            loss.backward()\n",
    "            bc_optimizer.step()\n",
    "            \n",
    "            epoch_loss += loss.item()\n",
    "            n_batches += 1\n",
    "        \n",
    "        if epoch % 10 == 0:\n",
    "            with torch.no_grad():\n",
    "                all_logits = bc_policy_net(bc_states_tensor)\n",
    "                pred_actions = torch.argmax(all_logits, dim=-1)\n",
    "                accuracy = (pred_actions == bc_actions_tensor).float().mean()\n",
    "                print(f\"[BC] Epoch {epoch:3d}  Loss: {epoch_loss/n_batches:.4f}  \"\n",
    "                      f\"Accuracy: {accuracy:.4f}\")\n",
    "    \n",
    "    print(\"BC Training completed!\\n\")\n",
    "    return bc_policy_net"
   ]
  },
  {
   "cell_type": "code",
   "execution_count": 55,
   "id": "2d1492f1-4339-4118-9fb0-f87bf5dad390",
   "metadata": {},
   "outputs": [
    {
     "name": "stdout",
     "output_type": "stream",
     "text": [
      "\n",
      "Training BC Policy...\n",
      "[BC] Epoch   0  Loss: 1.4403  Accuracy: 0.2030\n",
      "[BC] Epoch  10  Loss: 1.4026  Accuracy: 0.8153\n",
      "[BC] Epoch  20  Loss: 1.3576  Accuracy: 0.8153\n",
      "[BC] Epoch  30  Loss: 1.3085  Accuracy: 0.8153\n",
      "[BC] Epoch  40  Loss: 1.2721  Accuracy: 0.8153\n",
      "[BC] Epoch  50  Loss: 1.2451  Accuracy: 0.8059\n",
      "[BC] Epoch  60  Loss: 1.2240  Accuracy: 0.7893\n",
      "[BC] Epoch  70  Loss: 1.2053  Accuracy: 0.7716\n",
      "[BC] Epoch  80  Loss: 1.1839  Accuracy: 0.7516\n",
      "[BC] Epoch  90  Loss: 1.1554  Accuracy: 0.7376\n",
      "BC Training completed!\n",
      "\n"
     ]
    }
   ],
   "source": [
    "# 1) Extract (states, action‐indices) for BC training\n",
    "\n",
    "from sklearn.preprocessing import StandardScaler  # or MinMaxScaler, etc.\n",
    "scaler = StandardScaler()\n",
    "bc_states, bc_actions_idx = prepare_bc_dataset(train_transitions, dose_to_idx)\n",
    "bc_states = scaler.fit_transform(bc_states)\n",
    "\n",
    "state_dim = bc_states.shape[1]\n",
    "device = torch.device(\"cuda\" if torch.cuda.is_available() else \"cpu\")\n",
    "\n",
    "bc_policy_net = train_bc_policy(\n",
    "    bc_states,\n",
    "    bc_actions_idx,\n",
    "    state_dim,\n",
    "    batch_size=512,\n",
    "    n_epochs=100,\n",
    "    lr=1e-3,\n",
    "    device=device\n",
    ")"
   ]
  },
  {
   "cell_type": "markdown",
   "id": "bd0d65a7-fda4-4f1b-9d36-00d968e10194",
   "metadata": {},
   "source": [
    "### CQL"
   ]
  },
  {
   "cell_type": "markdown",
   "id": "b7878099-9b27-4448-a6dd-9bb36dc26780",
   "metadata": {},
   "source": [
    "#### Build transitions in correct format"
   ]
  },
  {
   "cell_type": "code",
   "execution_count": 56,
   "id": "4ffcfb17-c188-439b-adfc-5b11f6a476c6",
   "metadata": {},
   "outputs": [
    {
     "name": "stderr",
     "output_type": "stream",
     "text": [
      "/opt/miniconda3/lib/python3.12/site-packages/tqdm/auto.py:21: TqdmWarning: IProgress not found. Please update jupyter and ipywidgets. See https://ipywidgets.readthedocs.io/en/stable/user_install.html\n",
      "  from .autonotebook import tqdm as notebook_tqdm\n"
     ]
    }
   ],
   "source": [
    "import numpy as np\n",
    "from sklearn.preprocessing import StandardScaler\n",
    "from d3rlpy.algos import DiscreteCQLConfig\n",
    "from d3rlpy.dataset import MDPDataset\n",
    "from d3rlpy.metrics import TDErrorEvaluator\n",
    "import tqdm\n",
    "\n",
    "def prepare_dataset(expert_trajectories):\n",
    "    # Define dose to index mapping\n",
    "    dose_to_idx = {0:0, 10:1, 20:2, 40:3}\n",
    "    \n",
    "    all_states, all_actions, all_rewards, all_terminals = [], [], [], []\n",
    "    for states, actions, rewards in zip(\n",
    "        expert_trajectories['states'],\n",
    "        expert_trajectories['actions'],\n",
    "        expert_trajectories['rewards']\n",
    "    ):\n",
    "        L = min(len(states), len(actions), len(rewards))\n",
    "        if L == 0:\n",
    "            continue\n",
    "\n",
    "        s = np.array(states[:L], dtype=np.float32)\n",
    "        \n",
    "        # Handle both [a] and a formats\n",
    "        a = np.array([\n",
    "            [dose_to_idx[a[0] if isinstance(a, (list, np.ndarray)) else a]] \n",
    "            for a in actions[:L]\n",
    "        ], dtype=np.int32)\n",
    "        \n",
    "        r = np.array(rewards[:L], dtype=np.float32)\n",
    "        t = np.zeros(L, dtype=bool)\n",
    "        t[-1] = True  # mark end of episode\n",
    "\n",
    "        all_states.append(s)\n",
    "        all_actions.append(a)\n",
    "        all_rewards.append(r)\n",
    "        all_terminals.append(t)\n",
    "\n",
    "    states = np.concatenate(all_states, axis=0)\n",
    "    actions = np.concatenate(all_actions, axis=0)\n",
    "    rewards = np.concatenate(all_rewards, axis=0)\n",
    "    terminals = np.concatenate(all_terminals, axis=0)\n",
    "\n",
    "    # Normalize states\n",
    "    scaler = StandardScaler()\n",
    "    norm_states = scaler.fit_transform(states)\n",
    "    \n",
    "    # Create MDPDataset\n",
    "    dataset = MDPDataset(\n",
    "        observations=norm_states,\n",
    "        actions=actions,\n",
    "        rewards=rewards,\n",
    "        terminals=terminals\n",
    "    )\n",
    "    \n",
    "    return dataset, scaler"
   ]
  },
  {
   "cell_type": "code",
   "execution_count": 57,
   "id": "e6a7c2ee-9aac-484f-bb1c-dcfd59cf937b",
   "metadata": {},
   "outputs": [],
   "source": [
    "import numpy as np\n",
    "import torch\n",
    "\n",
    "# since we handwrote FQI_QNet it is already a torch.nn.Module, ie. has fns like forward() and params() so OPE code can consume it directly.\n",
    "# d3rlpy CQL isn’t a Module, it returns a scikit style python object\n",
    "#the wrapper turns predict_value(s,a) → torch Q-matrix and fakes .parameters().\n",
    "\n",
    "class CQLPolicyWrapper:\n",
    "    def __init__(self, cql_model, scaler):          # ← accept scaler\n",
    "        self.cql_model = cql_model\n",
    "        self.scaler    = scaler\n",
    "        cuda_ok = torch.cuda.is_available() and torch.backends.cuda.is_built()\n",
    "        self.device = torch.device(\"cuda\" if cuda_ok else \"cpu\")\n",
    "        self.n_actions = len(dose_to_idx)\n",
    "\n",
    "    def parameters(self):\n",
    "        yield torch.tensor(0.0, device=self.device)\n",
    "\n",
    "    def __call__(self, states_tensor: torch.Tensor) -> torch.Tensor:\n",
    "        states_np  = states_tensor.detach().cpu().numpy()\n",
    "        # --- NEW: match training preprocessing --------------------------\n",
    "        states_np  = self.scaler.transform(states_np)\n",
    "        # ----------------------------------------------------------------\n",
    "        batch_size = states_np.shape[0]\n",
    "\n",
    "        q_list = []\n",
    "        for action_idx in range(self.n_actions):\n",
    "            action_arr = np.full(batch_size, action_idx, dtype=np.int32)\n",
    "            q_vals = self.cql_model.predict_value(states_np, action_arr)\n",
    "            q_list.append(q_vals)\n",
    "\n",
    "        q_matrix = np.stack(q_list, axis=1)\n",
    "        return torch.tensor(q_matrix, device=self.device, dtype=torch.float32)\n"
   ]
  },
  {
   "cell_type": "markdown",
   "id": "91a6c290-8135-4226-8aff-25d66d845060",
   "metadata": {},
   "source": [
    "#### run cql fn"
   ]
  },
  {
   "cell_type": "code",
   "execution_count": 58,
   "id": "447efe0f-1983-4e70-a862-a20db22e6051",
   "metadata": {},
   "outputs": [],
   "source": [
    "from d3rlpy.models.encoders import DefaultEncoderFactory\n",
    "from d3rlpy.models.q_functions import MeanQFunctionFactory\n",
    "\n",
    "def run_discrete_cql(expert_trajectories, n_epochs=20, use_gpu=False):\n",
    "    # Prepare dataset\n",
    "    dataset, scaler = prepare_dataset(expert_trajectories)\n",
    "    \n",
    "    # Setup Discrete CQL with verified v2.x parameters\n",
    "    cql = DiscreteCQLConfig(\n",
    "        batch_size=512,\n",
    "        learning_rate=3e-4,\n",
    "        n_critics=2,                # Number of Q functions\n",
    "        target_update_interval=10000,\n",
    "        observation_scaler=None,     # We already scaled manually\n",
    "        alpha=1.0,                  # CQL regularization weight\n",
    "        q_func_factory=MeanQFunctionFactory(),  # Must be factory object\n",
    "        encoder_factory=DefaultEncoderFactory() # Must be factory object, not string\n",
    "    ).create(device=\"cuda\" if use_gpu else \"cpu\")\n",
    "    \n",
    "    # Calculate total steps\n",
    "    episodes = dataset.episodes\n",
    "    N = sum(len(ep.observations) for ep in episodes)\n",
    "    total_steps = n_epochs * N\n",
    "    \n",
    "    # Setup evaluator\n",
    "    td_error_evaluator = TDErrorEvaluator(episodes[:10])\n",
    "    \n",
    "    print(f\"Training Discrete CQL for ~{n_epochs} epochs ({total_steps} steps)...\")\n",
    "    cql.fit(\n",
    "        dataset,\n",
    "        n_steps=total_steps,\n",
    "        evaluators={\"td_error\": td_error_evaluator},\n",
    "        show_progress=True\n",
    "    )\n",
    "    \n",
    "    return cql, scaler"
   ]
  },
  {
   "cell_type": "markdown",
   "id": "ca8b789f-41af-4d22-b5cd-0afb0e7fe391",
   "metadata": {},
   "source": [
    "#### evaluate "
   ]
  },
  {
   "cell_type": "code",
   "execution_count": 59,
   "id": "fa3fb247-8264-487d-9c8b-0af3130ad8fc",
   "metadata": {},
   "outputs": [
    {
     "name": "stdout",
     "output_type": "stream",
     "text": [
      "\u001b[2m2025-06-09 14:01.08\u001b[0m [\u001b[32m\u001b[1minfo     \u001b[0m] \u001b[1mSignatures have been automatically determined.\u001b[0m \u001b[36maction_signature\u001b[0m=\u001b[35mSignature(dtype=[dtype('int32')], shape=[(1,)])\u001b[0m \u001b[36mobservation_signature\u001b[0m=\u001b[35mSignature(dtype=[dtype('float32')], shape=[(10,)])\u001b[0m \u001b[36mreward_signature\u001b[0m=\u001b[35mSignature(dtype=[dtype('float32')], shape=[(1,)])\u001b[0m\n",
      "\u001b[2m2025-06-09 14:01.08\u001b[0m [\u001b[32m\u001b[1minfo     \u001b[0m] \u001b[1mAction-space has been automatically determined.\u001b[0m \u001b[36maction_space\u001b[0m=\u001b[35m<ActionSpace.DISCRETE: 2>\u001b[0m\n",
      "\u001b[2m2025-06-09 14:01.08\u001b[0m [\u001b[32m\u001b[1minfo     \u001b[0m] \u001b[1mAction size has been automatically determined.\u001b[0m \u001b[36maction_size\u001b[0m=\u001b[35m4\u001b[0m\n",
      "Training Discrete CQL for ~10 epochs (34980 steps)...\n",
      "\u001b[2m2025-06-09 14:01.08\u001b[0m [\u001b[32m\u001b[1minfo     \u001b[0m] \u001b[1mdataset info                  \u001b[0m \u001b[36mdataset_info\u001b[0m=\u001b[35mDatasetInfo(observation_signature=Signature(dtype=[dtype('float32')], shape=[(10,)]), action_signature=Signature(dtype=[dtype('int32')], shape=[(1,)]), reward_signature=Signature(dtype=[dtype('float32')], shape=[(1,)]), action_space=<ActionSpace.DISCRETE: 2>, action_size=4)\u001b[0m\n",
      "\u001b[2m2025-06-09 14:01.08\u001b[0m [\u001b[32m\u001b[1mdebug    \u001b[0m] \u001b[1mBuilding models...            \u001b[0m\n",
      "\u001b[2m2025-06-09 14:01.08\u001b[0m [\u001b[32m\u001b[1mdebug    \u001b[0m] \u001b[1mModels have been built.       \u001b[0m\n",
      "\u001b[2m2025-06-09 14:01.08\u001b[0m [\u001b[32m\u001b[1minfo     \u001b[0m] \u001b[1mDirectory is created at d3rlpy_logs/DiscreteCQL_20250609140108\u001b[0m\n",
      "\u001b[2m2025-06-09 14:01.08\u001b[0m [\u001b[32m\u001b[1minfo     \u001b[0m] \u001b[1mParameters                    \u001b[0m \u001b[36mparams\u001b[0m=\u001b[35m{'observation_shape': [10], 'action_size': 4, 'config': {'type': 'discrete_cql', 'params': {'batch_size': 512, 'gamma': 0.99, 'observation_scaler': {'type': 'none', 'params': {}}, 'action_scaler': {'type': 'none', 'params': {}}, 'reward_scaler': {'type': 'none', 'params': {}}, 'compile_graph': False, 'learning_rate': 0.0003, 'optim_factory': {'type': 'adam', 'params': {'clip_grad_norm': None, 'lr_scheduler_factory': {'type': 'none', 'params': {}}, 'betas': [0.9, 0.999], 'eps': 1e-08, 'weight_decay': 0, 'amsgrad': False}}, 'encoder_factory': {'type': 'default', 'params': {'activation': 'relu', 'use_batch_norm': False, 'dropout_rate': None}}, 'q_func_factory': {'type': 'mean', 'params': {'share_encoder': False}}, 'n_critics': 2, 'target_update_interval': 10000, 'alpha': 1.0}}}\u001b[0m\n"
     ]
    },
    {
     "name": "stderr",
     "output_type": "stream",
     "text": [
      "Epoch 1/3: 100%|█| 10000/10000 [01:40<00:00, 99.60it/s, loss=49.2, td_loss=48.6,\n"
     ]
    },
    {
     "name": "stdout",
     "output_type": "stream",
     "text": [
      "\u001b[2m2025-06-09 14:02.48\u001b[0m [\u001b[32m\u001b[1minfo     \u001b[0m] \u001b[1mDiscreteCQL_20250609140108: epoch=1 step=10000\u001b[0m \u001b[36mepoch\u001b[0m=\u001b[35m1\u001b[0m \u001b[36mmetrics\u001b[0m=\u001b[35m{'time_sample_batch': 0.003682426357269287, 'time_algorithm_update': 0.00619704647064209, 'loss': 49.2364083694458, 'td_loss': 48.635835729599, 'conservative_loss': 0.6005726464927197, 'time_step': 0.009993711853027344, 'td_error': 3595.1241131935594}\u001b[0m \u001b[36mstep\u001b[0m=\u001b[35m10000\u001b[0m\n",
      "\u001b[2m2025-06-09 14:02.48\u001b[0m [\u001b[32m\u001b[1minfo     \u001b[0m] \u001b[1mModel parameters are saved to d3rlpy_logs/DiscreteCQL_20250609140108/model_10000.d3\u001b[0m\n"
     ]
    },
    {
     "name": "stderr",
     "output_type": "stream",
     "text": [
      "Epoch 2/3: 100%|█| 10000/10000 [01:47<00:00, 93.01it/s, loss=47.3, td_loss=46.5,"
     ]
    },
    {
     "name": "stdout",
     "output_type": "stream",
     "text": [
      "\u001b[2m2025-06-09 14:04.36\u001b[0m [\u001b[32m\u001b[1minfo     \u001b[0m] \u001b[1mDiscreteCQL_20250609140108: epoch=2 step=20000\u001b[0m \u001b[36mepoch\u001b[0m=\u001b[35m2\u001b[0m \u001b[36mmetrics\u001b[0m=\u001b[35m{'time_sample_batch': 0.003995100736618042, 'time_algorithm_update': 0.006583817672729492, 'loss': 47.2604648109436, 'td_loss': 46.52442810935974, 'conservative_loss': 0.7360366817861795, 'time_step': 0.010699047589302063, 'td_error': 4132.8938568165}\u001b[0m \u001b[36mstep\u001b[0m=\u001b[35m20000\u001b[0m\n",
      "\u001b[2m2025-06-09 14:04.36\u001b[0m [\u001b[32m\u001b[1minfo     \u001b[0m] \u001b[1mModel parameters are saved to d3rlpy_logs/DiscreteCQL_20250609140108/model_20000.d3\u001b[0m\n"
     ]
    },
    {
     "name": "stderr",
     "output_type": "stream",
     "text": [
      "\n",
      "Epoch 3/3: 100%|█| 10000/10000 [01:46<00:00, 93.65it/s, loss=52.3, td_loss=51.4,"
     ]
    },
    {
     "name": "stdout",
     "output_type": "stream",
     "text": [
      "\u001b[2m2025-06-09 14:06.22\u001b[0m [\u001b[32m\u001b[1minfo     \u001b[0m] \u001b[1mDiscreteCQL_20250609140108: epoch=3 step=30000\u001b[0m \u001b[36mepoch\u001b[0m=\u001b[35m3\u001b[0m \u001b[36mmetrics\u001b[0m=\u001b[35m{'time_sample_batch': 0.004004664993286133, 'time_algorithm_update': 0.006505310487747193, 'loss': 52.263910839462284, 'td_loss': 51.40658307228088, 'conservative_loss': 0.8573277711868286, 'time_step': 0.010627749729156494, 'td_error': 4853.054847467948}\u001b[0m \u001b[36mstep\u001b[0m=\u001b[35m30000\u001b[0m\n",
      "\u001b[2m2025-06-09 14:06.22\u001b[0m [\u001b[32m\u001b[1minfo     \u001b[0m] \u001b[1mModel parameters are saved to d3rlpy_logs/DiscreteCQL_20250609140108/model_30000.d3\u001b[0m\n"
     ]
    },
    {
     "name": "stderr",
     "output_type": "stream",
     "text": [
      "\n"
     ]
    }
   ],
   "source": [
    "cql_model, scaler = run_discrete_cql(train_expert_trajectories, n_epochs=10, use_gpu=False)"
   ]
  },
  {
   "cell_type": "code",
   "execution_count": 60,
   "id": "e9e3d57a-8efb-4a11-8d1a-d31ca83ae56b",
   "metadata": {},
   "outputs": [],
   "source": [
    "#Create wrapper for OPE compatibility\n",
    "cql_wrapper = CQLPolicyWrapper(cql_model, scaler)"
   ]
  },
  {
   "cell_type": "code",
   "execution_count": 61,
   "id": "e48715a4-5c1a-4a67-8dd9-257ae02562d9",
   "metadata": {},
   "outputs": [
    {
     "name": "stdout",
     "output_type": "stream",
     "text": [
      "Action space size: 4\n"
     ]
    }
   ],
   "source": [
    "# After running, check action space size is correct (should be 4)\n",
    "print(\"Action space size:\", cql_model.impl.action_size) "
   ]
  },
  {
   "cell_type": "markdown",
   "id": "32d9bd49-7427-4609-981d-a3b49b3c588d",
   "metadata": {},
   "source": [
    "### Plot action dist"
   ]
  },
  {
   "cell_type": "code",
   "execution_count": 111,
   "id": "c5881ad5-524b-4040-8899-d203eaf4d062",
   "metadata": {},
   "outputs": [],
   "source": [
    "import matplotlib.pyplot as plt\n",
    "import seaborn as sns\n",
    "import numpy as np\n",
    "import torch\n",
    "\n",
    "\n",
    "def plot_action_distributions(expert_trajectories,\n",
    "                              fqi_model,\n",
    "                              bc_model,\n",
    "                              cql_wrapper,\n",
    "                              scaler):\n",
    "    \"\"\"\n",
    "    Draw 4 side-by-side histograms (2×2 grid) of dose selection:\n",
    "        ▸ Clinician  ▸ BC  ▸ FQI  ▸ CQL\n",
    "    Uses a common random subset of states so the distributions are\n",
    "    directly comparable.  Colour scheme:\n",
    "        blue = clinician, orange = BC, green = FQI, red = CQL\n",
    "    \"\"\"\n",
    "    dose_buckets = [0, 10, 20, 40]\n",
    "    bins = [-5, 5, 15, 30, 50]\n",
    "\n",
    "    # ── sample identical state set ──────────────────────────────────────\n",
    "    raw_states = np.concatenate(expert_trajectories[\"states\"])\n",
    "    raw_actions = np.concatenate(expert_trajectories[\"actions\"]).flatten()\n",
    "\n",
    "    perm = np.random.permutation(len(raw_states))\n",
    "    raw_states = raw_states[perm]\n",
    "    raw_actions = raw_actions[perm]\n",
    "\n",
    "    scaled_states = scaler.transform(raw_states)\n",
    "\n",
    "    # ── clinician actions ───────────────────────────────────────────────\n",
    "    clinician_doses = raw_actions\n",
    "\n",
    "    # BC predictions  ► use argmax over logits\n",
    "    with torch.no_grad():\n",
    "        logits = bc_model(torch.tensor(scaled_states, dtype=torch.float32)).cpu().numpy()\n",
    "    bc_doses = np.array([dose_buckets[idx] for idx in np.argmax(logits, axis=1)])\n",
    "\n",
    "\n",
    "    # ── FQI predictions (arg-max Q) ─────────────────────────────────────\n",
    "    with torch.no_grad():\n",
    "        q_vals = fqi_model(torch.tensor(raw_states,\n",
    "                                        dtype=torch.float32)).cpu().numpy()\n",
    "    fqi_doses = np.array([dose_buckets[np.argmax(q)] for q in q_vals])\n",
    "\n",
    "    # ── CQL predictions (wrapper Q-matrix) ──────────────────────────────\n",
    "    with torch.no_grad():\n",
    "        q_cql = cql_wrapper(torch.tensor(raw_states,\n",
    "                                         dtype=torch.float32)).cpu().numpy()\n",
    "    cql_doses = np.array([dose_buckets[i] for i in np.argmax(q_cql, axis=1)])\n",
    "\n",
    "    # ── plotting (4 quadrants) ──────────────────────────────────────────\n",
    "    fig, axes = plt.subplots(2, 2, figsize=(10, 7))\n",
    "    plots = [\n",
    "        (axes[0, 0], clinician_doses, \"Clinician\", \"tab:blue\"),\n",
    "        (axes[0, 1], bc_doses,        \"BC\",        \"tab:orange\"),\n",
    "        (axes[1, 0], fqi_doses,       \"FQI\",       \"tab:green\"),\n",
    "        (axes[1, 1], cql_doses,       \"CQL\",       \"tab:red\"),\n",
    "    ]\n",
    "\n",
    "    for ax, doses, label, color in plots:\n",
    "        sns.histplot(\n",
    "            doses,\n",
    "            bins=bins,\n",
    "            stat=\"probability\",\n",
    "            discrete=True,\n",
    "            shrink=0.8,\n",
    "            edgecolor=\"k\",\n",
    "            color=color,\n",
    "            alpha=0.5,\n",
    "            ax=ax\n",
    "        )\n",
    "        ax.set_title(f\"{label} (n={len(doses)})\")\n",
    "        ax.set_xticks(dose_buckets)\n",
    "        ax.set_xlim(-5, 45)\n",
    "        ax.set_xlabel(\"Dose (mEq)\")\n",
    "        ax.set_ylabel(\"Proportion\")\n",
    "\n",
    "        # mark mean\n",
    "        mean_dose = np.mean(doses)\n",
    "        ax.axvline(mean_dose, color=color, linestyle=\"--\", alpha=0.7)\n",
    "        ax.text(mean_dose + 1.5,\n",
    "                ax.get_ylim()[1] * 0.9,\n",
    "                f\"{mean_dose:.1f}\",\n",
    "                color=color,\n",
    "                fontsize=8)\n",
    "\n",
    "    plt.tight_layout()\n",
    "    plt.show()\n"
   ]
  },
  {
   "cell_type": "code",
   "execution_count": 112,
   "id": "5eea6edf-bf8a-4854-baab-844515e707e6",
   "metadata": {},
   "outputs": [
    {
     "name": "stdout",
     "output_type": "stream",
     "text": [
      "Predicted buckets: [2 0 0 0 0 0 2 3 0 0 0 0 0 2 2 2 0 0 2 0 1 2 2 0 0 2 0 0 0 0]\n"
     ]
    }
   ],
   "source": [
    "test_logits = bc_policy_net(torch.tensor(bc_states[:30]).float())\n",
    "print(\"Predicted buckets:\", np.argmax(test_logits.detach().numpy(), axis=1)[:30])"
   ]
  },
  {
   "cell_type": "code",
   "execution_count": 113,
   "id": "9bf28488-d365-44dc-8fe6-dc309280df3d",
   "metadata": {},
   "outputs": [
    {
     "data": {
      "image/png": "[encoded data removed]",
      "text/plain": [
       "<Figure size 1000x700 with 4 Axes>"
      ]
     },
     "metadata": {},
     "output_type": "display_data"
    }
   ],
   "source": [
    "# ------------------------------------------------------------\n",
    "# Assume these objects already exist in your notebook session:\n",
    "#   • train_expert_trajectories   (dict with 'states' 'actions' 'rewards')\n",
    "#   • train_fqi_net               (torch nn.Module, discrete Q-network)\n",
    "#   • bc_model                    (torch nn.Module, behaviour-cloning net)\n",
    "#   • cql_model                   (d3rlpy DiscreteCQL model, already fitted)\n",
    "#   • scaler                      (sklearn StandardScaler fitted on states)\n",
    "#   • device                     = \"cuda\" or \"cpu\" — whichever you used\n",
    "# ------------------------------------------------------------\n",
    "\n",
    "plot_action_distributions(\n",
    "    expert_trajectories=train_expert_trajectories,\n",
    "    fqi_model=train_fqi_net,\n",
    "    bc_model=bc_policy_net,\n",
    "    cql_wrapper=cql_wrapper,\n",
    "    scaler=scaler,\n",
    ")\n"
   ]
  },
  {
   "cell_type": "markdown",
   "id": "38361fb6-d258-483e-8782-ff43eeced6a0",
   "metadata": {},
   "source": [
    "## Weighted Importance Sampling: OPE"
   ]
  },
  {
   "cell_type": "code",
   "execution_count": 114,
   "id": "66b68b92-7e7d-45c0-8324-47fb9bb51780",
   "metadata": {},
   "outputs": [],
   "source": [
    "import numpy as np\n",
    "import torch\n",
    "import torch.nn.functional as F\n",
    "\n",
    "def compute_policy_probabilities(policy_net, states, actions, policy_type='bc'):\n",
    "    \"\"\"\n",
    "    Compute π(a|s) for given states and actions\n",
    "    \n",
    "    Args:\n",
    "        policy_net: trained policy network (BC, FQI or CQL)\n",
    "        states: numpy array of states [N, state_dim]\n",
    "        actions: numpy array of actions [N, 1] \n",
    "        policy_type: 'bc', 'fqi' or 'cql'\n",
    "    \n",
    "    Returns:\n",
    "        probabilities: numpy array of π(a|s) values [N,]\n",
    "    \"\"\"\n",
    "    device = next(policy_net.parameters()).device\n",
    "    states_tensor = torch.tensor(states, dtype=torch.float32, device=device)\n",
    "    \n",
    "    with torch.no_grad():            \n",
    "        if policy_type == 'bc':\n",
    "            logits = policy_net(states_tensor)                 # [N, 4]\n",
    "            probs  = F.softmax(logits, dim=1)                  # [N, 4]\n",
    "            #print(probs.shape)\n",
    "            # map raw dose to its discrete index once\n",
    "            action_indices = torch.tensor(\n",
    "                [dose_to_idx[int(a[0])] for a in actions],\n",
    "                dtype=torch.long, device=device\n",
    "            )                                                  # [N,]\n",
    "            # probability assigned to the taken action\n",
    "            action_probs = probs.gather(1, action_indices.unsqueeze(1)).squeeze(1)\n",
    "            \n",
    "        elif policy_type == 'fqi':\n",
    "            # For FQI: use epsilon-greedy or softmax policy based on Q-values\n",
    "            q_values = policy_net(states_tensor)  # [N, 4]\n",
    "            #print(q_values.shape)\n",
    "            \n",
    "            # Softmax policy (more common for continuous evaluation)\n",
    "            temperature = 1.0  # adjust as needed\n",
    "            probs = F.softmax(q_values / temperature, dim=1)  # [N, 4]\n",
    "            \n",
    "            # Get probability for actual action taken\n",
    "            action_indices = torch.tensor([dose_to_idx[int(a[0])] for a in actions], \n",
    "                                        dtype=torch.long, device=device)\n",
    "            action_probs = probs.gather(1, action_indices.unsqueeze(1)).squeeze(1)\n",
    "        \n",
    "        elif policy_type == 'cql':\n",
    "            # Same logic as FQI – convert CQL Q-values to a softmax policy\n",
    "            q_values = policy_net(states_tensor)               # [N, 4]\n",
    "            temperature = 100.0\n",
    "            probs = F.softmax(q_values / temperature, dim=1)   # [N, 4]\n",
    "\n",
    "            action_indices = torch.tensor(\n",
    "                [dose_to_idx[int(a[0])] for a in actions],\n",
    "                dtype=torch.long, device=device\n",
    "            )\n",
    "            action_probs = probs.gather(1, action_indices.unsqueeze(1)).squeeze(1)\n",
    "    \n",
    "    return action_probs.cpu().numpy()\n",
    "\n",
    "def compute_importance_weights(bc_policy_net,\n",
    "                               target_q_net,                # was fqi_q_net\n",
    "                               expert_trajectories,\n",
    "                               target_type='fqi'):          # allows 'fqi' or 'cql'\n",
    "    \"\"\"\n",
    "    Importance-sampling weights for each trajectory.\n",
    "\n",
    "    Args\n",
    "    ----\n",
    "    bc_policy_net   : trained BC network (behaviour policy)\n",
    "    target_q_net    : trained Q-value network from FQI, CQL, etc. (target policy)\n",
    "    expert_trajectories : dict with keys 'states', 'actions', 'rewards'\n",
    "    target_type     : string passed to `compute_policy_probabilities`\n",
    "                      ('fqi' by default, set to 'cql' when evaluating CQL)\n",
    "\n",
    "    Returns\n",
    "    -------\n",
    "    weights          : list of raw importance weights  (one per trajectory)\n",
    "    clipped_weights  : same list after clipping\n",
    "    \"\"\"\n",
    "    trajectory_weights          = []\n",
    "    trajectory_weights_clipped  = []\n",
    "\n",
    "    for states, actions, rewards in zip(expert_trajectories['states'],\n",
    "                                        expert_trajectories['actions'],\n",
    "                                        expert_trajectories['rewards']):\n",
    "\n",
    "        if len(states) == 0:        # skip empty trajectories\n",
    "            continue\n",
    "\n",
    "        #convert to numpy arrays\n",
    "        states_np  = np.asarray(states,  dtype=np.float32)\n",
    "        actions_np = np.asarray([[a] for a in actions], dtype=np.float32)\n",
    "\n",
    "        # Compute policy probabilities\n",
    "        pi_b      = compute_policy_probabilities(bc_policy_net, states_np, actions_np, 'bc') #pi_b = behavior policy/ expert policy\n",
    "        pi_e  = compute_policy_probabilities(target_q_net, states_np, actions_np, target_type) #pi_e = evaluation policy/ target policy\n",
    "\n",
    "        # Avoid division by zero\n",
    "        pi_b     = np.maximum(pi_b, 1e-8)\n",
    "        pi_e = np.maximum(pi_e, 1e-8)\n",
    "\n",
    "        # Per-trajectory weight  ∏_t  π_t / π_b\n",
    "        weight            = np.prod(pi_e / pi_b)\n",
    "        weight_clipped    = np.clip(weight, 0.1, 10.0) # Clip weights to prevent extreme values (common in practice)\n",
    "\n",
    "        trajectory_weights.append(weight)\n",
    "        trajectory_weights_clipped.append(weight_clipped)\n",
    "\n",
    "    return trajectory_weights, trajectory_weights_clipped\n",
    "\n",
    "\n",
    "def importance_sampling_estimator(expert_trajectories, weights, use_clipped=True):\n",
    "    \"\"\"\n",
    "    Compute IS and WIS estimators of policy value\n",
    "    \n",
    "    Args:\n",
    "        expert_trajectories: dict with 'states', 'actions', 'rewards'\n",
    "        weights: list of importance weights for each trajectory\n",
    "        use_clipped: whether to use clipped weights\n",
    "    \n",
    "    Returns:\n",
    "        is_estimate: basic importance sampling estimate\n",
    "        wis_estimate: weighted importance sampling estimate\n",
    "    \"\"\"\n",
    "    trajectory_returns = []\n",
    "    valid_weights = []\n",
    "    \n",
    "    # Compute returns for each trajectory\n",
    "    for traj_idx, (states, actions, rewards) in enumerate(zip(\n",
    "        expert_trajectories['states'],\n",
    "        expert_trajectories['actions'],\n",
    "        expert_trajectories['rewards']\n",
    "    )):\n",
    "        if len(rewards) == 0:\n",
    "            continue\n",
    "            \n",
    "        # Compute discounted return\n",
    "        gamma = 0.99\n",
    "        discounted_return = 0.0\n",
    "        for t, reward in enumerate(rewards):\n",
    "            discounted_return += (gamma ** t) * reward\n",
    "        \n",
    "        trajectory_returns.append(discounted_return)\n",
    "        valid_weights.append(weights[traj_idx])\n",
    "    \n",
    "    trajectory_returns = np.array(trajectory_returns)\n",
    "    valid_weights = np.array(valid_weights)\n",
    "    \n",
    "    # Basic IS estimator: (1/N) * Σ(w_i * R_i)\n",
    "    is_estimate = np.mean(valid_weights * trajectory_returns)\n",
    "    \n",
    "    # Weighted IS estimator: Σ(w_i * R_i) / Σ(w_i)\n",
    "    wis_estimate = np.sum(valid_weights * trajectory_returns) / np.sum(valid_weights)\n",
    "    \n",
    "    return is_estimate, wis_estimate\n",
    "\n",
    "    \n",
    "def evaluate_policies_with_ope(bc_policy_net, target_q_net, expert_trajectories, target_type):\n",
    "    \"\"\"\n",
    "    Complete OPE evaluation pipeline\n",
    "    \"\"\"\n",
    "    print(\"Computing importance sampling weights...\")\n",
    "    weights, weights_clipped = compute_importance_weights(bc_policy_net, target_q_net, expert_trajectories, target_type)\n",
    "    \n",
    "    print(f\"Weight statistics:\")\n",
    "    print(f\"  Unclipped: mean={np.mean(weights):.4f}, std={np.std(weights):.4f}\")\n",
    "    print(f\"  Clipped:   mean={np.mean(weights_clipped):.4f}, std={np.std(weights_clipped):.4f}\")\n",
    "    \n",
    "    # Evaluate with unclipped weights\n",
    "    is_est, wis_est = importance_sampling_estimator(expert_trajectories, weights, use_clipped=False)\n",
    "    print(f\"\\nUnclipped weights:\")\n",
    "    print(f\"  IS estimate:  {is_est:.4f}\")\n",
    "    print(f\"  WIS estimate: {wis_est:.4f}\")\n",
    "    \n",
    "    # Evaluate with clipped weights  \n",
    "    is_est_clip, wis_est_clip = importance_sampling_estimator(expert_trajectories, weights_clipped, use_clipped=True)\n",
    "    print(f\"\\nClipped weights:\")\n",
    "    print(f\"  IS estimate:  {is_est_clip:.4f}\")\n",
    "    print(f\"  WIS estimate: {wis_est_clip:.4f}\")\n",
    "    \n",
    "    return {\n",
    "        'weights': weights,\n",
    "        'weights_clipped': weights_clipped,\n",
    "        'is_unclipped': is_est,\n",
    "        'wis_unclipped': wis_est,\n",
    "        'is_clipped': is_est_clip,\n",
    "        'wis_clipped': wis_est_clip\n",
    "    }\n"
   ]
  },
  {
   "cell_type": "code",
   "execution_count": 115,
   "id": "97db7b6b-7f65-48e5-9daf-77d8a0c312c4",
   "metadata": {},
   "outputs": [
    {
     "name": "stdout",
     "output_type": "stream",
     "text": [
      "Computing importance sampling weights...\n",
      "Weight statistics:\n",
      "  Unclipped: mean=inf, std=nan\n",
      "  Clipped:   mean=5.8902, std=4.7973\n",
      "\n",
      "Unclipped weights:\n",
      "  IS estimate:  inf\n",
      "  WIS estimate: nan\n",
      "\n",
      "Clipped weights:\n",
      "  IS estimate:  8333.0010\n",
      "  WIS estimate: 1414.7344\n"
     ]
    },
    {
     "name": "stderr",
     "output_type": "stream",
     "text": [
      "/opt/miniconda3/lib/python3.12/site-packages/numpy/_core/fromnumeric.py:86: RuntimeWarning: overflow encountered in reduce\n",
      "  return ufunc.reduce(obj, axis, dtype, out, **passkwargs)\n",
      "/opt/miniconda3/lib/python3.12/site-packages/numpy/_core/_methods.py:191: RuntimeWarning: invalid value encountered in subtract\n",
      "  x = asanyarray(arr - arrmean)\n",
      "/var/folders/67/rsds3lxj78x4092pycb6cnkh0000gn/T/ipykernel_89806/2124561527.py:155: RuntimeWarning: invalid value encountered in scalar divide\n",
      "  wis_estimate = np.sum(valid_weights * trajectory_returns) / np.sum(valid_weights)\n"
     ]
    }
   ],
   "source": [
    "results = evaluate_policies_with_ope(bc_policy_net, train_fqi_net, train_expert_trajectories, 'fqi')"
   ]
  },
  {
   "cell_type": "code",
   "execution_count": 116,
   "id": "85ff320d-fa5f-480e-9438-5bf23ea46136",
   "metadata": {},
   "outputs": [
    {
     "name": "stdout",
     "output_type": "stream",
     "text": [
      "Computing importance sampling weights...\n",
      "Weight statistics:\n",
      "  Unclipped: mean=inf, std=nan\n",
      "  Clipped:   mean=10.0000, std=0.0000\n",
      "\n",
      "Unclipped weights:\n",
      "  IS estimate:  inf\n",
      "  WIS estimate: nan\n",
      "\n",
      "Clipped weights:\n",
      "  IS estimate:  13191.7549\n",
      "  WIS estimate: 1319.1755\n"
     ]
    },
    {
     "name": "stderr",
     "output_type": "stream",
     "text": [
      "/opt/miniconda3/lib/python3.12/site-packages/numpy/_core/fromnumeric.py:86: RuntimeWarning: overflow encountered in reduce\n",
      "  return ufunc.reduce(obj, axis, dtype, out, **passkwargs)\n",
      "/opt/miniconda3/lib/python3.12/site-packages/numpy/_core/fromnumeric.py:86: RuntimeWarning: overflow encountered in reduce\n",
      "  return ufunc.reduce(obj, axis, dtype, out, **passkwargs)\n",
      "/opt/miniconda3/lib/python3.12/site-packages/numpy/_core/fromnumeric.py:86: RuntimeWarning: overflow encountered in reduce\n",
      "  return ufunc.reduce(obj, axis, dtype, out, **passkwargs)\n",
      "/opt/miniconda3/lib/python3.12/site-packages/numpy/_core/fromnumeric.py:86: RuntimeWarning: overflow encountered in reduce\n",
      "  return ufunc.reduce(obj, axis, dtype, out, **passkwargs)\n",
      "/opt/miniconda3/lib/python3.12/site-packages/numpy/_core/fromnumeric.py:86: RuntimeWarning: overflow encountered in reduce\n",
      "  return ufunc.reduce(obj, axis, dtype, out, **passkwargs)\n",
      "/opt/miniconda3/lib/python3.12/site-packages/numpy/_core/fromnumeric.py:86: RuntimeWarning: overflow encountered in reduce\n",
      "  return ufunc.reduce(obj, axis, dtype, out, **passkwargs)\n",
      "/opt/miniconda3/lib/python3.12/site-packages/numpy/_core/fromnumeric.py:86: RuntimeWarning: overflow encountered in reduce\n",
      "  return ufunc.reduce(obj, axis, dtype, out, **passkwargs)\n",
      "/opt/miniconda3/lib/python3.12/site-packages/numpy/_core/fromnumeric.py:86: RuntimeWarning: overflow encountered in reduce\n",
      "  return ufunc.reduce(obj, axis, dtype, out, **passkwargs)\n",
      "/opt/miniconda3/lib/python3.12/site-packages/numpy/_core/fromnumeric.py:86: RuntimeWarning: overflow encountered in reduce\n",
      "  return ufunc.reduce(obj, axis, dtype, out, **passkwargs)\n",
      "/opt/miniconda3/lib/python3.12/site-packages/numpy/_core/fromnumeric.py:86: RuntimeWarning: overflow encountered in reduce\n",
      "  return ufunc.reduce(obj, axis, dtype, out, **passkwargs)\n",
      "/opt/miniconda3/lib/python3.12/site-packages/numpy/_core/fromnumeric.py:86: RuntimeWarning: overflow encountered in reduce\n",
      "  return ufunc.reduce(obj, axis, dtype, out, **passkwargs)\n",
      "/opt/miniconda3/lib/python3.12/site-packages/numpy/_core/fromnumeric.py:86: RuntimeWarning: overflow encountered in reduce\n",
      "  return ufunc.reduce(obj, axis, dtype, out, **passkwargs)\n",
      "/opt/miniconda3/lib/python3.12/site-packages/numpy/_core/fromnumeric.py:86: RuntimeWarning: overflow encountered in reduce\n",
      "  return ufunc.reduce(obj, axis, dtype, out, **passkwargs)\n",
      "/opt/miniconda3/lib/python3.12/site-packages/numpy/_core/fromnumeric.py:86: RuntimeWarning: overflow encountered in reduce\n",
      "  return ufunc.reduce(obj, axis, dtype, out, **passkwargs)\n",
      "/opt/miniconda3/lib/python3.12/site-packages/numpy/_core/fromnumeric.py:86: RuntimeWarning: overflow encountered in reduce\n",
      "  return ufunc.reduce(obj, axis, dtype, out, **passkwargs)\n",
      "/opt/miniconda3/lib/python3.12/site-packages/numpy/_core/fromnumeric.py:86: RuntimeWarning: overflow encountered in reduce\n",
      "  return ufunc.reduce(obj, axis, dtype, out, **passkwargs)\n",
      "/opt/miniconda3/lib/python3.12/site-packages/numpy/_core/fromnumeric.py:86: RuntimeWarning: overflow encountered in reduce\n",
      "  return ufunc.reduce(obj, axis, dtype, out, **passkwargs)\n",
      "/opt/miniconda3/lib/python3.12/site-packages/numpy/_core/fromnumeric.py:86: RuntimeWarning: overflow encountered in reduce\n",
      "  return ufunc.reduce(obj, axis, dtype, out, **passkwargs)\n",
      "/opt/miniconda3/lib/python3.12/site-packages/numpy/_core/fromnumeric.py:86: RuntimeWarning: overflow encountered in reduce\n",
      "  return ufunc.reduce(obj, axis, dtype, out, **passkwargs)\n",
      "/opt/miniconda3/lib/python3.12/site-packages/numpy/_core/fromnumeric.py:86: RuntimeWarning: overflow encountered in reduce\n",
      "  return ufunc.reduce(obj, axis, dtype, out, **passkwargs)\n",
      "/opt/miniconda3/lib/python3.12/site-packages/numpy/_core/fromnumeric.py:86: RuntimeWarning: overflow encountered in reduce\n",
      "  return ufunc.reduce(obj, axis, dtype, out, **passkwargs)\n",
      "/opt/miniconda3/lib/python3.12/site-packages/numpy/_core/fromnumeric.py:86: RuntimeWarning: overflow encountered in reduce\n",
      "  return ufunc.reduce(obj, axis, dtype, out, **passkwargs)\n",
      "/opt/miniconda3/lib/python3.12/site-packages/numpy/_core/fromnumeric.py:86: RuntimeWarning: overflow encountered in reduce\n",
      "  return ufunc.reduce(obj, axis, dtype, out, **passkwargs)\n",
      "/opt/miniconda3/lib/python3.12/site-packages/numpy/_core/fromnumeric.py:86: RuntimeWarning: overflow encountered in reduce\n",
      "  return ufunc.reduce(obj, axis, dtype, out, **passkwargs)\n",
      "/opt/miniconda3/lib/python3.12/site-packages/numpy/_core/_methods.py:191: RuntimeWarning: invalid value encountered in subtract\n",
      "  x = asanyarray(arr - arrmean)\n",
      "/var/folders/67/rsds3lxj78x4092pycb6cnkh0000gn/T/ipykernel_89806/2124561527.py:155: RuntimeWarning: invalid value encountered in scalar divide\n",
      "  wis_estimate = np.sum(valid_weights * trajectory_returns) / np.sum(valid_weights)\n"
     ]
    }
   ],
   "source": [
    "results = evaluate_policies_with_ope(bc_policy_net, cql_wrapper, train_expert_trajectories, 'cql')"
   ]
  },
  {
   "cell_type": "code",
   "execution_count": 133,
   "id": "c62f5275-bc63-4ea5-8ad8-3d25953731f4",
   "metadata": {},
   "outputs": [
    {
     "data": {
      "image/png": "[encoded data removed]",
      "text/plain": [
       "<Figure size 800x400 with 1 Axes>"
      ]
     },
     "metadata": {},
     "output_type": "display_data"
    }
   ],
   "source": [
    "import pandas as pd, seaborn as sns, matplotlib.pyplot as plt\n",
    "\n",
    "# ---------------------------------------------------------------\n",
    "# 0.  Combine cohorts\n",
    "# ---------------------------------------------------------------\n",
    "potassium_long = pd.concat(\n",
    "    [first_k_mimic[['Hospital', 'K_initial']],\n",
    "     first_k_starr[['Hospital', 'K_initial']]],\n",
    "    ignore_index=True\n",
    ")\n",
    "\n",
    "# ---------------------------------------------------------------\n",
    "# 1.  Pastel violin colours\n",
    "# ---------------------------------------------------------------\n",
    "palette = {'MIMIC': sns.color_palette(\"pastel\")[0],   # light blue\n",
    "           'STARR': sns.color_palette(\"pastel\")[2]}   # light green\n",
    "\n",
    "fig, ax = plt.subplots(figsize=(8, 4))\n",
    "\n",
    "sns.violinplot(\n",
    "    data=potassium_long,\n",
    "    x='Hospital', y='K_initial',\n",
    "    hue='Hospital',\n",
    "    palette=palette,\n",
    "    inner=None,          # violins only\n",
    "    legend=False,\n",
    "    cut=0,\n",
    "    ax=ax\n",
    ")\n",
    "\n",
    "# ---------------------------------------------------------------\n",
    "# 2.  Grey clinical reference lines\n",
    "# ---------------------------------------------------------------\n",
    "for y in [3.5, 4.25, 5.0]:          # lower, mid, upper\n",
    "    ax.axhline(y, ls='--', lw=1.0, color='grey')\n",
    "\n",
    "# ---------------------------------------------------------------\n",
    "# 3.  Legend outside plot (only clinical lines)\n",
    "# ---------------------------------------------------------------\n",
    "ax.legend([plt.Line2D([], [], color='grey', ls='--', lw=1)],\n",
    "          [\"Reference range lower / mid / upper\"],\n",
    "          loc='center left',\n",
    "          bbox_to_anchor=(1.02, 0.5),\n",
    "          frameon=False)\n",
    "\n",
    "# ---------------------------------------------------------------\n",
    "# 4.  Final cosmetics\n",
    "# ---------------------------------------------------------------\n",
    "ax.set_ylim(2, 6.3)\n",
    "ax.set_ylabel('Initial serum-K (mmol/L)')\n",
    "ax.set_title('Baseline potassium on first measurement — MIMIC vs STARR')\n",
    "plt.tight_layout()\n",
    "plt.show()\n"
   ]
  },
  {
   "cell_type": "code",
   "execution_count": 118,
   "id": "8d4376d0-26b4-49f1-ab0f-551b930e1cc3",
   "metadata": {},
   "outputs": [
    {
     "data": {
      "image/png": "[encoded data removed]",
      "text/plain": [
       "<Figure size 600x400 with 1 Axes>"
      ]
     },
     "metadata": {},
     "output_type": "display_data"
    }
   ],
   "source": [
    "import numpy as np\n",
    "import matplotlib.pyplot as plt\n",
    "\n",
    "def flatten_actions(expert_traj):\n",
    "    \"\"\"Return 1-D numpy array of all clinician doses.\"\"\"\n",
    "    return np.concatenate([np.array(a, dtype=int) for a in expert_traj['actions']])\n",
    "\n",
    "# — MIMIC cohort —\n",
    "mimic_actions = flatten_actions(train_expert_trajectories)\n",
    "all_buckets = np.array([0, 10, 20, 40])\n",
    "\n",
    "# compute proportions\n",
    "total_mimic = len(mimic_actions)\n",
    "mimic_props = [np.sum(mimic_actions == b) / total_mimic for b in all_buckets]\n",
    "\n",
    "# plot\n",
    "plt.figure(figsize=(6, 4))\n",
    "plt.bar(all_buckets, mimic_props, width=8, edgecolor='black')\n",
    "plt.xticks(all_buckets)\n",
    "plt.xlabel(\"KCl Dose Bucket (mEq)\")\n",
    "plt.ylabel(\"Proportion\")\n",
    "plt.title(\"Proportion of Observed Actions Across MIMIC Train Patients\")\n",
    "plt.tight_layout()\n",
    "plt.show()\n"
   ]
  },
  {
   "cell_type": "code",
   "execution_count": null,
   "id": "93599105-bef4-4e8a-9bfa-77db79693619",
   "metadata": {},
   "outputs": [],
   "source": []
  }
 ],
 "metadata": {
  "kernelspec": {
   "display_name": "Python (Miniconda3)",
   "language": "python",
   "name": "miniconda3"
  },
  "language_info": {
   "codemirror_mode": {
    "name": "ipython",
    "version": 3
   },
   "file_extension": ".py",
   "mimetype": "text/x-python",
   "name": "python",
   "nbconvert_exporter": "python",
   "pygments_lexer": "ipython3",
   "version": "3.12.9"
  }
 },
 "nbformat": 4,
 "nbformat_minor": 5
}
